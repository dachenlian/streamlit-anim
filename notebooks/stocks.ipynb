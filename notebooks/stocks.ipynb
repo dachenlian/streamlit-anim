{
 "cells": [
  {
   "cell_type": "markdown",
   "metadata": {},
   "source": [
    "# 市值的時間序練動畫\n",
    "\n",
    "我們要用 Plotly 來畫出市值的時間序練動畫，它適合做出互動式或者有動畫的圖表"
   ]
  },
  {
   "cell_type": "code",
   "execution_count": 1,
   "metadata": {},
   "outputs": [],
   "source": [
    "#! pip install yfinance tqdm plotly pandas streamlit\n",
    "import warnings\n",
    "\n",
    "import matplotlib.pyplot as plt\n",
    "import pandas as pd\n",
    "import plotly.express as px\n",
    "from tqdm.auto import tqdm\n",
    "import yfinance as yf\n",
    "\n",
    "warnings.filterwarnings(\"ignore\", category=FutureWarning)"
   ]
  },
  {
   "cell_type": "markdown",
   "metadata": {},
   "source": [
    "## 選擇股票代號（ticker）"
   ]
  },
  {
   "cell_type": "code",
   "execution_count": 2,
   "metadata": {},
   "outputs": [],
   "source": [
    "# Google, Tencent, Tesla, Microsoft, Meta, AMD, Alibaba, Amazon, Apple, Baidu\n",
    "tickers = [\n",
    "    \"GOOGL\",\n",
    "    \"TCEHY\",\n",
    "    \"TSLA\",\n",
    "    \"MSFT\",\n",
    "    \"META\",\n",
    "    \"AMD\",\n",
    "    \"BABA\",\n",
    "    \"AMZN\",\n",
    "    \"AAPL\",\n",
    "    \"BIDU\",\n",
    "]"
   ]
  },
  {
   "cell_type": "markdown",
   "metadata": {},
   "source": [
    "`yfinance` 是一個可以從 Yahoo Finance 下載股票資料的套件"
   ]
  },
  {
   "cell_type": "code",
   "execution_count": 3,
   "metadata": {},
   "outputs": [],
   "source": [
    "t = yf.Tickers(\" \".join(tickers))\n",
    "msft = t.tickers[\"MSFT\"]"
   ]
  },
  {
   "cell_type": "markdown",
   "metadata": {},
   "source": [
    "如果要算一個公司的市值，我們可以用一天的收盤價（`Close`）乘以總股數（`Shares`）\n",
    "\n",
    "`history()` 可以下載歷史的股價資料"
   ]
  },
  {
   "cell_type": "code",
   "execution_count": 4,
   "metadata": {},
   "outputs": [
    {
     "data": {
      "text/html": [
       "<div>\n",
       "<style scoped>\n",
       "    .dataframe tbody tr th:only-of-type {\n",
       "        vertical-align: middle;\n",
       "    }\n",
       "\n",
       "    .dataframe tbody tr th {\n",
       "        vertical-align: top;\n",
       "    }\n",
       "\n",
       "    .dataframe thead th {\n",
       "        text-align: right;\n",
       "    }\n",
       "</style>\n",
       "<table border=\"1\" class=\"dataframe\">\n",
       "  <thead>\n",
       "    <tr style=\"text-align: right;\">\n",
       "      <th></th>\n",
       "      <th>Open</th>\n",
       "      <th>High</th>\n",
       "      <th>Low</th>\n",
       "      <th>Close</th>\n",
       "      <th>Volume</th>\n",
       "      <th>Dividends</th>\n",
       "      <th>Stock Splits</th>\n",
       "    </tr>\n",
       "    <tr>\n",
       "      <th>Date</th>\n",
       "      <th></th>\n",
       "      <th></th>\n",
       "      <th></th>\n",
       "      <th></th>\n",
       "      <th></th>\n",
       "      <th></th>\n",
       "      <th></th>\n",
       "    </tr>\n",
       "  </thead>\n",
       "  <tbody>\n",
       "    <tr>\n",
       "      <th>1986-03-13 00:00:00-05:00</th>\n",
       "      <td>0.054893</td>\n",
       "      <td>0.062965</td>\n",
       "      <td>0.054893</td>\n",
       "      <td>0.060274</td>\n",
       "      <td>1031788800</td>\n",
       "      <td>0.0</td>\n",
       "      <td>0.0</td>\n",
       "    </tr>\n",
       "    <tr>\n",
       "      <th>1986-03-14 00:00:00-05:00</th>\n",
       "      <td>0.060274</td>\n",
       "      <td>0.063504</td>\n",
       "      <td>0.060274</td>\n",
       "      <td>0.062427</td>\n",
       "      <td>308160000</td>\n",
       "      <td>0.0</td>\n",
       "      <td>0.0</td>\n",
       "    </tr>\n",
       "    <tr>\n",
       "      <th>1986-03-17 00:00:00-05:00</th>\n",
       "      <td>0.062427</td>\n",
       "      <td>0.064042</td>\n",
       "      <td>0.062427</td>\n",
       "      <td>0.063504</td>\n",
       "      <td>133171200</td>\n",
       "      <td>0.0</td>\n",
       "      <td>0.0</td>\n",
       "    </tr>\n",
       "    <tr>\n",
       "      <th>1986-03-18 00:00:00-05:00</th>\n",
       "      <td>0.063503</td>\n",
       "      <td>0.064042</td>\n",
       "      <td>0.061350</td>\n",
       "      <td>0.061888</td>\n",
       "      <td>67766400</td>\n",
       "      <td>0.0</td>\n",
       "      <td>0.0</td>\n",
       "    </tr>\n",
       "    <tr>\n",
       "      <th>1986-03-19 00:00:00-05:00</th>\n",
       "      <td>0.061888</td>\n",
       "      <td>0.062427</td>\n",
       "      <td>0.060274</td>\n",
       "      <td>0.060812</td>\n",
       "      <td>47894400</td>\n",
       "      <td>0.0</td>\n",
       "      <td>0.0</td>\n",
       "    </tr>\n",
       "    <tr>\n",
       "      <th>...</th>\n",
       "      <td>...</td>\n",
       "      <td>...</td>\n",
       "      <td>...</td>\n",
       "      <td>...</td>\n",
       "      <td>...</td>\n",
       "      <td>...</td>\n",
       "      <td>...</td>\n",
       "    </tr>\n",
       "    <tr>\n",
       "      <th>2023-12-07 00:00:00-05:00</th>\n",
       "      <td>368.230011</td>\n",
       "      <td>371.450012</td>\n",
       "      <td>366.320007</td>\n",
       "      <td>370.950012</td>\n",
       "      <td>23118900</td>\n",
       "      <td>0.0</td>\n",
       "      <td>0.0</td>\n",
       "    </tr>\n",
       "    <tr>\n",
       "      <th>2023-12-08 00:00:00-05:00</th>\n",
       "      <td>369.200012</td>\n",
       "      <td>374.459991</td>\n",
       "      <td>368.230011</td>\n",
       "      <td>374.230011</td>\n",
       "      <td>20144800</td>\n",
       "      <td>0.0</td>\n",
       "      <td>0.0</td>\n",
       "    </tr>\n",
       "    <tr>\n",
       "      <th>2023-12-11 00:00:00-05:00</th>\n",
       "      <td>368.480011</td>\n",
       "      <td>371.600006</td>\n",
       "      <td>366.100006</td>\n",
       "      <td>371.299988</td>\n",
       "      <td>27708800</td>\n",
       "      <td>0.0</td>\n",
       "      <td>0.0</td>\n",
       "    </tr>\n",
       "    <tr>\n",
       "      <th>2023-12-12 00:00:00-05:00</th>\n",
       "      <td>370.850006</td>\n",
       "      <td>374.420013</td>\n",
       "      <td>370.459991</td>\n",
       "      <td>374.380005</td>\n",
       "      <td>24838300</td>\n",
       "      <td>0.0</td>\n",
       "      <td>0.0</td>\n",
       "    </tr>\n",
       "    <tr>\n",
       "      <th>2023-12-13 00:00:00-05:00</th>\n",
       "      <td>376.019989</td>\n",
       "      <td>377.640015</td>\n",
       "      <td>370.769989</td>\n",
       "      <td>374.369995</td>\n",
       "      <td>30681800</td>\n",
       "      <td>0.0</td>\n",
       "      <td>0.0</td>\n",
       "    </tr>\n",
       "  </tbody>\n",
       "</table>\n",
       "<p>9516 rows × 7 columns</p>\n",
       "</div>"
      ],
      "text/plain": [
       "                                 Open        High         Low       Close  \\\n",
       "Date                                                                        \n",
       "1986-03-13 00:00:00-05:00    0.054893    0.062965    0.054893    0.060274   \n",
       "1986-03-14 00:00:00-05:00    0.060274    0.063504    0.060274    0.062427   \n",
       "1986-03-17 00:00:00-05:00    0.062427    0.064042    0.062427    0.063504   \n",
       "1986-03-18 00:00:00-05:00    0.063503    0.064042    0.061350    0.061888   \n",
       "1986-03-19 00:00:00-05:00    0.061888    0.062427    0.060274    0.060812   \n",
       "...                               ...         ...         ...         ...   \n",
       "2023-12-07 00:00:00-05:00  368.230011  371.450012  366.320007  370.950012   \n",
       "2023-12-08 00:00:00-05:00  369.200012  374.459991  368.230011  374.230011   \n",
       "2023-12-11 00:00:00-05:00  368.480011  371.600006  366.100006  371.299988   \n",
       "2023-12-12 00:00:00-05:00  370.850006  374.420013  370.459991  374.380005   \n",
       "2023-12-13 00:00:00-05:00  376.019989  377.640015  370.769989  374.369995   \n",
       "\n",
       "                               Volume  Dividends  Stock Splits  \n",
       "Date                                                            \n",
       "1986-03-13 00:00:00-05:00  1031788800        0.0           0.0  \n",
       "1986-03-14 00:00:00-05:00   308160000        0.0           0.0  \n",
       "1986-03-17 00:00:00-05:00   133171200        0.0           0.0  \n",
       "1986-03-18 00:00:00-05:00    67766400        0.0           0.0  \n",
       "1986-03-19 00:00:00-05:00    47894400        0.0           0.0  \n",
       "...                               ...        ...           ...  \n",
       "2023-12-07 00:00:00-05:00    23118900        0.0           0.0  \n",
       "2023-12-08 00:00:00-05:00    20144800        0.0           0.0  \n",
       "2023-12-11 00:00:00-05:00    27708800        0.0           0.0  \n",
       "2023-12-12 00:00:00-05:00    24838300        0.0           0.0  \n",
       "2023-12-13 00:00:00-05:00    30681800        0.0           0.0  \n",
       "\n",
       "[9516 rows x 7 columns]"
      ]
     },
     "execution_count": 4,
     "metadata": {},
     "output_type": "execute_result"
    }
   ],
   "source": [
    "msft.history(period=\"max\")"
   ]
  },
  {
   "cell_type": "markdown",
   "metadata": {},
   "source": [
    "`get_shares_full()` 可以下載歷史股票的總股數\n",
    "\n",
    "歷史的資料沒有到很遠"
   ]
  },
  {
   "cell_type": "code",
   "execution_count": 5,
   "metadata": {},
   "outputs": [
    {
     "data": {
      "text/plain": [
       "2015-10-23 00:00:00-04:00    7987910000\n",
       "2016-01-28 00:00:00-05:00    7909300000\n",
       "2016-04-21 00:00:00-04:00    7860470000\n",
       "2016-07-20 00:00:00-04:00    7808000000\n",
       "2016-07-28 00:00:00-04:00    7792520000\n",
       "                                ...    \n",
       "2023-12-01 00:00:00-05:00    7432260096\n",
       "2023-12-02 00:00:00-05:00    7432260096\n",
       "2023-12-06 00:00:00-05:00    7432260096\n",
       "2023-12-08 00:00:00-05:00    7432260096\n",
       "2023-12-13 00:00:00-05:00    7432260096\n",
       "Length: 349, dtype: int64"
      ]
     },
     "execution_count": 5,
     "metadata": {},
     "output_type": "execute_result"
    }
   ],
   "source": [
    "msft.get_shares_full(start=\"2000-01-01\")"
   ]
  },
  {
   "cell_type": "markdown",
   "metadata": {},
   "source": [
    "我們可以定義一個函數 `get_market_cap()` 來計算市值"
   ]
  },
  {
   "cell_type": "code",
   "execution_count": 5,
   "metadata": {},
   "outputs": [],
   "source": [
    "def get_market_cap(ticker: yf.Ticker) -> pd.DataFrame:\n",
    "    \"\"\"\n",
    "    Calculate the market capitalization for a given stock ticker.\n",
    "\n",
    "    Parameters:\n",
    "    ticker (yf.Ticker): The stock ticker object.\n",
    "\n",
    "    Returns:\n",
    "    pd.DataFrame: DataFrame containing the historical market capitalization data.\n",
    "    \"\"\"\n",
    "    keep_cols = [\"Close\"]\n",
    "    hist = ticker.history(period=\"max\")[keep_cols]\n",
    "    shares = ticker.get_shares_full(start=\"2000-01-01\")\n",
    "    shares = shares[~shares.index.duplicated(keep=\"first\")]  # shares 可能一天有多個值，只取第一個\n",
    "    shares.name = \"Shares\"\n",
    "\n",
    "    hist = hist.merge(\n",
    "        shares, left_index=True, right_index=True\n",
    "    )  # merge by index (date)\n",
    "    hist.index.name = \"Date\"\n",
    "    hist[\"MarketCap\"] = hist[\"Close\"] * hist[\"Shares\"]\n",
    "    hist = hist.reset_index()  # 將 index (Date) 轉成 column\n",
    "    return hist"
   ]
  },
  {
   "cell_type": "code",
   "execution_count": 6,
   "metadata": {},
   "outputs": [
    {
     "data": {
      "application/vnd.jupyter.widget-view+json": {
       "model_id": "3c7f4845163f4510ab1e4c1dc15a56f4",
       "version_major": 2,
       "version_minor": 0
      },
      "text/plain": [
       "  0%|          | 0/10 [00:00<?, ?it/s]"
      ]
     },
     "metadata": {},
     "output_type": "display_data"
    },
    {
     "data": {
      "text/html": [
       "<div>\n",
       "<style scoped>\n",
       "    .dataframe tbody tr th:only-of-type {\n",
       "        vertical-align: middle;\n",
       "    }\n",
       "\n",
       "    .dataframe tbody tr th {\n",
       "        vertical-align: top;\n",
       "    }\n",
       "\n",
       "    .dataframe thead th {\n",
       "        text-align: right;\n",
       "    }\n",
       "</style>\n",
       "<table border=\"1\" class=\"dataframe\">\n",
       "  <thead>\n",
       "    <tr style=\"text-align: right;\">\n",
       "      <th></th>\n",
       "      <th>Date</th>\n",
       "      <th>Close</th>\n",
       "      <th>Shares</th>\n",
       "      <th>MarketCap</th>\n",
       "      <th>Ticker</th>\n",
       "    </tr>\n",
       "  </thead>\n",
       "  <tbody>\n",
       "    <tr>\n",
       "      <th>0</th>\n",
       "      <td>2015-10-29 00:00:00-04:00</td>\n",
       "      <td>37.242500</td>\n",
       "      <td>687725000</td>\n",
       "      <td>2.561260e+10</td>\n",
       "      <td>GOOGL</td>\n",
       "    </tr>\n",
       "    <tr>\n",
       "      <th>1</th>\n",
       "      <td>2016-02-01 00:00:00-05:00</td>\n",
       "      <td>38.538502</td>\n",
       "      <td>687348000</td>\n",
       "      <td>2.648936e+10</td>\n",
       "      <td>GOOGL</td>\n",
       "    </tr>\n",
       "    <tr>\n",
       "      <th>2</th>\n",
       "      <td>2016-02-11 00:00:00-05:00</td>\n",
       "      <td>35.318001</td>\n",
       "      <td>688320000</td>\n",
       "      <td>2.431009e+10</td>\n",
       "      <td>GOOGL</td>\n",
       "    </tr>\n",
       "    <tr>\n",
       "      <th>3</th>\n",
       "      <td>2016-02-12 00:00:00-05:00</td>\n",
       "      <td>35.344501</td>\n",
       "      <td>688330000</td>\n",
       "      <td>2.432868e+10</td>\n",
       "      <td>GOOGL</td>\n",
       "    </tr>\n",
       "    <tr>\n",
       "      <th>4</th>\n",
       "      <td>2016-02-26 00:00:00-05:00</td>\n",
       "      <td>36.243000</td>\n",
       "      <td>688320000</td>\n",
       "      <td>2.494678e+10</td>\n",
       "      <td>GOOGL</td>\n",
       "    </tr>\n",
       "  </tbody>\n",
       "</table>\n",
       "</div>"
      ],
      "text/plain": [
       "                       Date      Close     Shares     MarketCap Ticker\n",
       "0 2015-10-29 00:00:00-04:00  37.242500  687725000  2.561260e+10  GOOGL\n",
       "1 2016-02-01 00:00:00-05:00  38.538502  687348000  2.648936e+10  GOOGL\n",
       "2 2016-02-11 00:00:00-05:00  35.318001  688320000  2.431009e+10  GOOGL\n",
       "3 2016-02-12 00:00:00-05:00  35.344501  688330000  2.432868e+10  GOOGL\n",
       "4 2016-02-26 00:00:00-05:00  36.243000  688320000  2.494678e+10  GOOGL"
      ]
     },
     "execution_count": 6,
     "metadata": {},
     "output_type": "execute_result"
    }
   ],
   "source": [
    "dfs = []\n",
    "for ticker in tqdm(tickers):\n",
    "    hist = get_market_cap(t.tickers[ticker])\n",
    "    hist[\"Ticker\"] = ticker\n",
    "    dfs.append(hist)\n",
    "dfs[0].head()"
   ]
  },
  {
   "cell_type": "markdown",
   "metadata": {},
   "source": [
    "## 合併所有DF"
   ]
  },
  {
   "cell_type": "code",
   "execution_count": 7,
   "metadata": {},
   "outputs": [
    {
     "data": {
      "text/html": [
       "<div>\n",
       "<style scoped>\n",
       "    .dataframe tbody tr th:only-of-type {\n",
       "        vertical-align: middle;\n",
       "    }\n",
       "\n",
       "    .dataframe tbody tr th {\n",
       "        vertical-align: top;\n",
       "    }\n",
       "\n",
       "    .dataframe thead th {\n",
       "        text-align: right;\n",
       "    }\n",
       "</style>\n",
       "<table border=\"1\" class=\"dataframe\">\n",
       "  <thead>\n",
       "    <tr style=\"text-align: right;\">\n",
       "      <th></th>\n",
       "      <th>Date</th>\n",
       "      <th>Close</th>\n",
       "      <th>Shares</th>\n",
       "      <th>MarketCap</th>\n",
       "      <th>Ticker</th>\n",
       "    </tr>\n",
       "  </thead>\n",
       "  <tbody>\n",
       "    <tr>\n",
       "      <th>0</th>\n",
       "      <td>2015-10-29 00:00:00-04:00</td>\n",
       "      <td>37.242500</td>\n",
       "      <td>687725000</td>\n",
       "      <td>2.561260e+10</td>\n",
       "      <td>GOOGL</td>\n",
       "    </tr>\n",
       "    <tr>\n",
       "      <th>1</th>\n",
       "      <td>2016-02-01 00:00:00-05:00</td>\n",
       "      <td>38.538502</td>\n",
       "      <td>687348000</td>\n",
       "      <td>2.648936e+10</td>\n",
       "      <td>GOOGL</td>\n",
       "    </tr>\n",
       "    <tr>\n",
       "      <th>2</th>\n",
       "      <td>2016-02-11 00:00:00-05:00</td>\n",
       "      <td>35.318001</td>\n",
       "      <td>688320000</td>\n",
       "      <td>2.431009e+10</td>\n",
       "      <td>GOOGL</td>\n",
       "    </tr>\n",
       "    <tr>\n",
       "      <th>3</th>\n",
       "      <td>2016-02-12 00:00:00-05:00</td>\n",
       "      <td>35.344501</td>\n",
       "      <td>688330000</td>\n",
       "      <td>2.432868e+10</td>\n",
       "      <td>GOOGL</td>\n",
       "    </tr>\n",
       "    <tr>\n",
       "      <th>4</th>\n",
       "      <td>2016-02-26 00:00:00-05:00</td>\n",
       "      <td>36.243000</td>\n",
       "      <td>688320000</td>\n",
       "      <td>2.494678e+10</td>\n",
       "      <td>GOOGL</td>\n",
       "    </tr>\n",
       "    <tr>\n",
       "      <th>...</th>\n",
       "      <td>...</td>\n",
       "      <td>...</td>\n",
       "      <td>...</td>\n",
       "      <td>...</td>\n",
       "      <td>...</td>\n",
       "    </tr>\n",
       "    <tr>\n",
       "      <th>4056</th>\n",
       "      <td>2023-12-06 00:00:00-05:00</td>\n",
       "      <td>113.379997</td>\n",
       "      <td>352214016</td>\n",
       "      <td>3.993402e+10</td>\n",
       "      <td>BIDU</td>\n",
       "    </tr>\n",
       "    <tr>\n",
       "      <th>4057</th>\n",
       "      <td>2023-12-07 00:00:00-05:00</td>\n",
       "      <td>115.779999</td>\n",
       "      <td>355302016</td>\n",
       "      <td>4.113687e+10</td>\n",
       "      <td>BIDU</td>\n",
       "    </tr>\n",
       "    <tr>\n",
       "      <th>4058</th>\n",
       "      <td>2023-12-08 00:00:00-05:00</td>\n",
       "      <td>113.449997</td>\n",
       "      <td>349596992</td>\n",
       "      <td>3.966178e+10</td>\n",
       "      <td>BIDU</td>\n",
       "    </tr>\n",
       "    <tr>\n",
       "      <th>4059</th>\n",
       "      <td>2023-12-12 00:00:00-05:00</td>\n",
       "      <td>113.150002</td>\n",
       "      <td>349596992</td>\n",
       "      <td>3.955690e+10</td>\n",
       "      <td>BIDU</td>\n",
       "    </tr>\n",
       "    <tr>\n",
       "      <th>4060</th>\n",
       "      <td>2023-12-13 00:00:00-05:00</td>\n",
       "      <td>112.360001</td>\n",
       "      <td>349880992</td>\n",
       "      <td>3.931263e+10</td>\n",
       "      <td>BIDU</td>\n",
       "    </tr>\n",
       "  </tbody>\n",
       "</table>\n",
       "<p>4061 rows × 5 columns</p>\n",
       "</div>"
      ],
      "text/plain": [
       "                          Date       Close     Shares     MarketCap Ticker\n",
       "0    2015-10-29 00:00:00-04:00   37.242500  687725000  2.561260e+10  GOOGL\n",
       "1    2016-02-01 00:00:00-05:00   38.538502  687348000  2.648936e+10  GOOGL\n",
       "2    2016-02-11 00:00:00-05:00   35.318001  688320000  2.431009e+10  GOOGL\n",
       "3    2016-02-12 00:00:00-05:00   35.344501  688330000  2.432868e+10  GOOGL\n",
       "4    2016-02-26 00:00:00-05:00   36.243000  688320000  2.494678e+10  GOOGL\n",
       "...                        ...         ...        ...           ...    ...\n",
       "4056 2023-12-06 00:00:00-05:00  113.379997  352214016  3.993402e+10   BIDU\n",
       "4057 2023-12-07 00:00:00-05:00  115.779999  355302016  4.113687e+10   BIDU\n",
       "4058 2023-12-08 00:00:00-05:00  113.449997  349596992  3.966178e+10   BIDU\n",
       "4059 2023-12-12 00:00:00-05:00  113.150002  349596992  3.955690e+10   BIDU\n",
       "4060 2023-12-13 00:00:00-05:00  112.360001  349880992  3.931263e+10   BIDU\n",
       "\n",
       "[4061 rows x 5 columns]"
      ]
     },
     "execution_count": 7,
     "metadata": {},
     "output_type": "execute_result"
    }
   ],
   "source": [
    "df_concat = pd.concat(dfs, axis=\"index\", ignore_index=True)\n",
    "df_concat"
   ]
  },
  {
   "cell_type": "markdown",
   "metadata": {},
   "source": [
    "看看幾個公司的市值\n",
    "\n",
    "看圖可以知道 `AMZN` 和 `AAPL` 的資料不完整"
   ]
  },
  {
   "cell_type": "code",
   "execution_count": 8,
   "metadata": {},
   "outputs": [
    {
     "data": {
      "text/plain": [
       "<matplotlib.legend.Legend at 0x7fc2a4bd28f0>"
      ]
     },
     "execution_count": 8,
     "metadata": {},
     "output_type": "execute_result"
    },
    {
     "data": {
      "image/png": "[encoded data removed]",
      "text/plain": [
       "<Figure size 640x480 with 1 Axes>"
      ]
     },
     "metadata": {},
     "output_type": "display_data"
    }
   ],
   "source": [
    "aapl_mc = df_concat.query('Ticker == \"AAPL\"')\n",
    "amzn_mc = df_concat.query('Ticker == \"AMZN\"')\n",
    "msft_mc = df_concat.query('Ticker == \"MSFT\"')\n",
    "\n",
    "plt.plot(aapl_mc[\"Date\"], aapl_mc[\"MarketCap\"], label=\"AAPL\")\n",
    "plt.plot(amzn_mc[\"Date\"], amzn_mc[\"MarketCap\"], label=\"AMZN\")\n",
    "plt.plot(msft_mc[\"Date\"], msft_mc[\"MarketCap\"], label=\"MSFT\")\n",
    "plt.legend()"
   ]
  },
  {
   "cell_type": "markdown",
   "metadata": {},
   "source": [
    "## 視覺化前處理"
   ]
  },
  {
   "cell_type": "markdown",
   "metadata": {},
   "source": [
    "為了做視覺化，每個日期需要每個公司的資料（就算根本沒資料），因此我們用 `Date` 和 `Ticker` 建立一個笛卡兒積（cartesian product）的多層索引\n",
    "\n",
    "<img src=\"https://www.cs.mtsu.edu/~xyang/3080/images/cartesian.png\" width=\"300\">"
   ]
  },
  {
   "cell_type": "code",
   "execution_count": 9,
   "metadata": {},
   "outputs": [
    {
     "data": {
      "text/plain": [
       "MultiIndex([('2015-10-29 00:00:00-04:00', 'GOOGL'),\n",
       "            ('2015-10-29 00:00:00-04:00', 'TCEHY'),\n",
       "            ('2015-10-29 00:00:00-04:00',  'TSLA'),\n",
       "            ('2015-10-29 00:00:00-04:00',  'MSFT'),\n",
       "            ('2015-10-29 00:00:00-04:00',  'META'),\n",
       "            ('2015-10-29 00:00:00-04:00',   'AMD'),\n",
       "            ('2015-10-29 00:00:00-04:00',  'BABA'),\n",
       "            ('2015-10-29 00:00:00-04:00',  'AMZN'),\n",
       "            ('2015-10-29 00:00:00-04:00',  'AAPL'),\n",
       "            ('2015-10-29 00:00:00-04:00',  'BIDU'),\n",
       "            ...\n",
       "            ('2023-01-25 00:00:00-05:00', 'GOOGL'),\n",
       "            ('2023-01-25 00:00:00-05:00', 'TCEHY'),\n",
       "            ('2023-01-25 00:00:00-05:00',  'TSLA'),\n",
       "            ('2023-01-25 00:00:00-05:00',  'MSFT'),\n",
       "            ('2023-01-25 00:00:00-05:00',  'META'),\n",
       "            ('2023-01-25 00:00:00-05:00',   'AMD'),\n",
       "            ('2023-01-25 00:00:00-05:00',  'BABA'),\n",
       "            ('2023-01-25 00:00:00-05:00',  'AMZN'),\n",
       "            ('2023-01-25 00:00:00-05:00',  'AAPL'),\n",
       "            ('2023-01-25 00:00:00-05:00',  'BIDU')],\n",
       "           names=['Date', 'Ticker'], length=12150)"
      ]
     },
     "execution_count": 9,
     "metadata": {},
     "output_type": "execute_result"
    }
   ],
   "source": [
    "key_cols = [\"Date\", \"Ticker\"]\n",
    "multi_index = pd.MultiIndex.from_product(\n",
    "    [df_concat[col].unique() for col in key_cols], names=key_cols\n",
    ")\n",
    "multi_index"
   ]
  },
  {
   "cell_type": "markdown",
   "metadata": {},
   "source": [
    "我們再把目前的資料搬到使用 `MultiIndex` 的新 DataFrame"
   ]
  },
  {
   "cell_type": "code",
   "execution_count": 10,
   "metadata": {},
   "outputs": [
    {
     "data": {
      "text/html": [
       "<div>\n",
       "<style scoped>\n",
       "    .dataframe tbody tr th:only-of-type {\n",
       "        vertical-align: middle;\n",
       "    }\n",
       "\n",
       "    .dataframe tbody tr th {\n",
       "        vertical-align: top;\n",
       "    }\n",
       "\n",
       "    .dataframe thead th {\n",
       "        text-align: right;\n",
       "    }\n",
       "</style>\n",
       "<table border=\"1\" class=\"dataframe\">\n",
       "  <thead>\n",
       "    <tr style=\"text-align: right;\">\n",
       "      <th></th>\n",
       "      <th>Date</th>\n",
       "      <th>Ticker</th>\n",
       "      <th>Close</th>\n",
       "      <th>Shares</th>\n",
       "      <th>MarketCap</th>\n",
       "    </tr>\n",
       "  </thead>\n",
       "  <tbody>\n",
       "    <tr>\n",
       "      <th>0</th>\n",
       "      <td>2015-10-29 00:00:00-04:00</td>\n",
       "      <td>GOOGL</td>\n",
       "      <td>37.242500</td>\n",
       "      <td>687725000.0</td>\n",
       "      <td>2.561260e+10</td>\n",
       "    </tr>\n",
       "    <tr>\n",
       "      <th>1</th>\n",
       "      <td>2015-10-29 00:00:00-04:00</td>\n",
       "      <td>TCEHY</td>\n",
       "      <td>NaN</td>\n",
       "      <td>NaN</td>\n",
       "      <td>NaN</td>\n",
       "    </tr>\n",
       "    <tr>\n",
       "      <th>2</th>\n",
       "      <td>2015-10-29 00:00:00-04:00</td>\n",
       "      <td>TSLA</td>\n",
       "      <td>NaN</td>\n",
       "      <td>NaN</td>\n",
       "      <td>NaN</td>\n",
       "    </tr>\n",
       "    <tr>\n",
       "      <th>3</th>\n",
       "      <td>2015-10-29 00:00:00-04:00</td>\n",
       "      <td>MSFT</td>\n",
       "      <td>NaN</td>\n",
       "      <td>NaN</td>\n",
       "      <td>NaN</td>\n",
       "    </tr>\n",
       "    <tr>\n",
       "      <th>4</th>\n",
       "      <td>2015-10-29 00:00:00-04:00</td>\n",
       "      <td>META</td>\n",
       "      <td>NaN</td>\n",
       "      <td>NaN</td>\n",
       "      <td>NaN</td>\n",
       "    </tr>\n",
       "    <tr>\n",
       "      <th>...</th>\n",
       "      <td>...</td>\n",
       "      <td>...</td>\n",
       "      <td>...</td>\n",
       "      <td>...</td>\n",
       "      <td>...</td>\n",
       "    </tr>\n",
       "    <tr>\n",
       "      <th>12145</th>\n",
       "      <td>2023-01-25 00:00:00-05:00</td>\n",
       "      <td>AMD</td>\n",
       "      <td>NaN</td>\n",
       "      <td>NaN</td>\n",
       "      <td>NaN</td>\n",
       "    </tr>\n",
       "    <tr>\n",
       "      <th>12146</th>\n",
       "      <td>2023-01-25 00:00:00-05:00</td>\n",
       "      <td>BABA</td>\n",
       "      <td>NaN</td>\n",
       "      <td>NaN</td>\n",
       "      <td>NaN</td>\n",
       "    </tr>\n",
       "    <tr>\n",
       "      <th>12147</th>\n",
       "      <td>2023-01-25 00:00:00-05:00</td>\n",
       "      <td>AMZN</td>\n",
       "      <td>NaN</td>\n",
       "      <td>NaN</td>\n",
       "      <td>NaN</td>\n",
       "    </tr>\n",
       "    <tr>\n",
       "      <th>12148</th>\n",
       "      <td>2023-01-25 00:00:00-05:00</td>\n",
       "      <td>AAPL</td>\n",
       "      <td>NaN</td>\n",
       "      <td>NaN</td>\n",
       "      <td>NaN</td>\n",
       "    </tr>\n",
       "    <tr>\n",
       "      <th>12149</th>\n",
       "      <td>2023-01-25 00:00:00-05:00</td>\n",
       "      <td>BIDU</td>\n",
       "      <td>134.229996</td>\n",
       "      <td>348752000.0</td>\n",
       "      <td>4.681298e+10</td>\n",
       "    </tr>\n",
       "  </tbody>\n",
       "</table>\n",
       "<p>12150 rows × 5 columns</p>\n",
       "</div>"
      ],
      "text/plain": [
       "                           Date Ticker       Close       Shares     MarketCap\n",
       "0     2015-10-29 00:00:00-04:00  GOOGL   37.242500  687725000.0  2.561260e+10\n",
       "1     2015-10-29 00:00:00-04:00  TCEHY         NaN          NaN           NaN\n",
       "2     2015-10-29 00:00:00-04:00   TSLA         NaN          NaN           NaN\n",
       "3     2015-10-29 00:00:00-04:00   MSFT         NaN          NaN           NaN\n",
       "4     2015-10-29 00:00:00-04:00   META         NaN          NaN           NaN\n",
       "...                         ...    ...         ...          ...           ...\n",
       "12145 2023-01-25 00:00:00-05:00    AMD         NaN          NaN           NaN\n",
       "12146 2023-01-25 00:00:00-05:00   BABA         NaN          NaN           NaN\n",
       "12147 2023-01-25 00:00:00-05:00   AMZN         NaN          NaN           NaN\n",
       "12148 2023-01-25 00:00:00-05:00   AAPL         NaN          NaN           NaN\n",
       "12149 2023-01-25 00:00:00-05:00   BIDU  134.229996  348752000.0  4.681298e+10\n",
       "\n",
       "[12150 rows x 5 columns]"
      ]
     },
     "execution_count": 10,
     "metadata": {},
     "output_type": "execute_result"
    }
   ],
   "source": [
    "df = pd.DataFrame(index=multi_index).merge(df_concat, on=key_cols, how=\"left\")\n",
    "df"
   ]
  },
  {
   "cell_type": "markdown",
   "metadata": {},
   "source": [
    "### 儲存"
   ]
  },
  {
   "cell_type": "code",
   "execution_count": 11,
   "metadata": {},
   "outputs": [],
   "source": [
    "df.to_csv('../data/market_cap.csv', index=False)"
   ]
  },
  {
   "cell_type": "markdown",
   "metadata": {},
   "source": [
    "### 載入\n",
    "\n",
    "因為 `Date` 有特殊的格式，所以我們要用 `pd.to_datetime()` 讓 Pandas 知道怎麼解析"
   ]
  },
  {
   "cell_type": "code",
   "execution_count": 13,
   "metadata": {},
   "outputs": [
    {
     "data": {
      "text/plain": [
       "Date         datetime64[ns, UTC]\n",
       "Ticker                    object\n",
       "Close                    float64\n",
       "Shares                   float64\n",
       "MarketCap                float64\n",
       "dtype: object"
      ]
     },
     "execution_count": 13,
     "metadata": {},
     "output_type": "execute_result"
    }
   ],
   "source": [
    "df = pd.read_csv('../data/market_cap.csv')\n",
    "df['Date'] = pd.to_datetime(df['Date'], format=\"ISO8601\", utc=True)\n",
    "df.dtypes"
   ]
  },
  {
   "cell_type": "markdown",
   "metadata": {},
   "source": [
    "### 資料要粗粒一點\n",
    "\n",
    "因為資料太細，動畫會很慢，所以我們把資料粗粒一點\n",
    "\n",
    "我們這邊用一年四季（`Q`）的中位數（`median`）"
   ]
  },
  {
   "cell_type": "code",
   "execution_count": 14,
   "metadata": {},
   "outputs": [
    {
     "data": {
      "text/plain": [
       "PeriodIndex(['2015Q4', '2015Q4', '2015Q4', '2015Q4', '2015Q4', '2015Q4',\n",
       "             '2015Q4', '2015Q4', '2015Q4', '2015Q4', '2016Q1', '2016Q1',\n",
       "             '2016Q1', '2016Q1', '2016Q1', '2016Q1', '2016Q1', '2016Q1',\n",
       "             '2016Q1', '2016Q1'],\n",
       "            dtype='period[Q-DEC]', name='Date')"
      ]
     },
     "execution_count": 14,
     "metadata": {},
     "output_type": "execute_result"
    }
   ],
   "source": [
    "pd.PeriodIndex(df['Date'], freq=\"Q\")[:20]"
   ]
  },
  {
   "cell_type": "code",
   "execution_count": 16,
   "metadata": {},
   "outputs": [
    {
     "data": {
      "text/html": [
       "<div>\n",
       "<style scoped>\n",
       "    .dataframe tbody tr th:only-of-type {\n",
       "        vertical-align: middle;\n",
       "    }\n",
       "\n",
       "    .dataframe tbody tr th {\n",
       "        vertical-align: top;\n",
       "    }\n",
       "\n",
       "    .dataframe thead th {\n",
       "        text-align: right;\n",
       "    }\n",
       "</style>\n",
       "<table border=\"1\" class=\"dataframe\">\n",
       "  <thead>\n",
       "    <tr style=\"text-align: right;\">\n",
       "      <th></th>\n",
       "      <th>Ticker</th>\n",
       "      <th>Date</th>\n",
       "      <th>Close</th>\n",
       "      <th>Shares</th>\n",
       "      <th>MarketCap</th>\n",
       "    </tr>\n",
       "  </thead>\n",
       "  <tbody>\n",
       "    <tr>\n",
       "      <th>0</th>\n",
       "      <td>AAPL</td>\n",
       "      <td>2015-10-31 16:30:00+00:00</td>\n",
       "      <td>27.029940</td>\n",
       "      <td>5.575330e+09</td>\n",
       "      <td>1.507008e+11</td>\n",
       "    </tr>\n",
       "    <tr>\n",
       "      <th>1</th>\n",
       "      <td>META</td>\n",
       "      <td>2015-10-31 16:30:00+00:00</td>\n",
       "      <td>NaN</td>\n",
       "      <td>NaN</td>\n",
       "      <td>NaN</td>\n",
       "    </tr>\n",
       "    <tr>\n",
       "      <th>2</th>\n",
       "      <td>GOOGL</td>\n",
       "      <td>2015-10-31 16:30:00+00:00</td>\n",
       "      <td>37.242500</td>\n",
       "      <td>6.877250e+08</td>\n",
       "      <td>2.561260e+10</td>\n",
       "    </tr>\n",
       "    <tr>\n",
       "      <th>3</th>\n",
       "      <td>BIDU</td>\n",
       "      <td>2015-10-31 16:30:00+00:00</td>\n",
       "      <td>NaN</td>\n",
       "      <td>NaN</td>\n",
       "      <td>NaN</td>\n",
       "    </tr>\n",
       "    <tr>\n",
       "      <th>4</th>\n",
       "      <td>TCEHY</td>\n",
       "      <td>2015-10-31 16:30:00+00:00</td>\n",
       "      <td>NaN</td>\n",
       "      <td>NaN</td>\n",
       "      <td>NaN</td>\n",
       "    </tr>\n",
       "    <tr>\n",
       "      <th>...</th>\n",
       "      <td>...</td>\n",
       "      <td>...</td>\n",
       "      <td>...</td>\n",
       "      <td>...</td>\n",
       "      <td>...</td>\n",
       "    </tr>\n",
       "    <tr>\n",
       "      <th>325</th>\n",
       "      <td>AMZN</td>\n",
       "      <td>2023-11-07 17:00:00+00:00</td>\n",
       "      <td>132.330002</td>\n",
       "      <td>1.033400e+10</td>\n",
       "      <td>1.367617e+12</td>\n",
       "    </tr>\n",
       "    <tr>\n",
       "      <th>326</th>\n",
       "      <td>AMD</td>\n",
       "      <td>2023-11-07 17:00:00+00:00</td>\n",
       "      <td>116.820000</td>\n",
       "      <td>1.615500e+09</td>\n",
       "      <td>1.887227e+11</td>\n",
       "    </tr>\n",
       "    <tr>\n",
       "      <th>327</th>\n",
       "      <td>AAPL</td>\n",
       "      <td>2023-11-07 17:00:00+00:00</td>\n",
       "      <td>178.155289</td>\n",
       "      <td>1.563420e+10</td>\n",
       "      <td>2.790475e+12</td>\n",
       "    </tr>\n",
       "    <tr>\n",
       "      <th>328</th>\n",
       "      <td>TCEHY</td>\n",
       "      <td>2023-11-07 17:00:00+00:00</td>\n",
       "      <td>39.599998</td>\n",
       "      <td>9.551180e+09</td>\n",
       "      <td>3.779605e+11</td>\n",
       "    </tr>\n",
       "    <tr>\n",
       "      <th>329</th>\n",
       "      <td>TSLA</td>\n",
       "      <td>2023-11-07 17:00:00+00:00</td>\n",
       "      <td>238.830002</td>\n",
       "      <td>3.178920e+09</td>\n",
       "      <td>7.592215e+11</td>\n",
       "    </tr>\n",
       "  </tbody>\n",
       "</table>\n",
       "<p>330 rows × 5 columns</p>\n",
       "</div>"
      ],
      "text/plain": [
       "    Ticker                      Date       Close        Shares     MarketCap\n",
       "0     AAPL 2015-10-31 16:30:00+00:00   27.029940  5.575330e+09  1.507008e+11\n",
       "1     META 2015-10-31 16:30:00+00:00         NaN           NaN           NaN\n",
       "2    GOOGL 2015-10-31 16:30:00+00:00   37.242500  6.877250e+08  2.561260e+10\n",
       "3     BIDU 2015-10-31 16:30:00+00:00         NaN           NaN           NaN\n",
       "4    TCEHY 2015-10-31 16:30:00+00:00         NaN           NaN           NaN\n",
       "..     ...                       ...         ...           ...           ...\n",
       "325   AMZN 2023-11-07 17:00:00+00:00  132.330002  1.033400e+10  1.367617e+12\n",
       "326    AMD 2023-11-07 17:00:00+00:00  116.820000  1.615500e+09  1.887227e+11\n",
       "327   AAPL 2023-11-07 17:00:00+00:00  178.155289  1.563420e+10  2.790475e+12\n",
       "328  TCEHY 2023-11-07 17:00:00+00:00   39.599998  9.551180e+09  3.779605e+11\n",
       "329   TSLA 2023-11-07 17:00:00+00:00  238.830002  3.178920e+09  7.592215e+11\n",
       "\n",
       "[330 rows x 5 columns]"
      ]
     },
     "execution_count": 16,
     "metadata": {},
     "output_type": "execute_result"
    }
   ],
   "source": [
    "periodic = df.groupby(['Ticker', pd.PeriodIndex(df['Date'], freq=\"Q\")], as_index=False).median()\n",
    "periodic = periodic.sort_values(['Date'], ascending=True, ignore_index=True)\n",
    "periodic"
   ]
  },
  {
   "cell_type": "markdown",
   "metadata": {},
   "source": [
    "### 因為有很多空值，所以要補值\n",
    "\n",
    "我們用內插法（`interpolate()`）來補值"
   ]
  },
  {
   "cell_type": "code",
   "execution_count": 17,
   "metadata": {},
   "outputs": [
    {
     "name": "stdout",
     "output_type": "stream",
     "text": [
      "76\n",
      "42\n"
     ]
    }
   ],
   "source": [
    "print(periodic['MarketCap'].isna().sum())\n",
    "periodic['MarketCap'] = periodic.groupby('Ticker')['MarketCap'].transform(lambda x: x.interpolate())\n",
    "print(periodic['MarketCap'].isna().sum())"
   ]
  },
  {
   "cell_type": "markdown",
   "metadata": {},
   "source": [
    "## 視覺化"
   ]
  },
  {
   "cell_type": "markdown",
   "metadata": {},
   "source": [
    "### 直方圖"
   ]
  },
  {
   "cell_type": "code",
   "execution_count": 20,
   "metadata": {},
   "outputs": [
    {
     "data": {
      "application/vnd.plotly.v1+json": {
       "config": {
        "plotlyServerURL": "https://plot.ly"
       },
       "data": [
        {
         "alignmentgroup": "True",
         "hovertemplate": "Ticker=%{x}<br>MarketCap=%{y}<extra></extra>",
         "legendgroup": "AAPL",
         "marker": {
          "color": "#636efa",
          "pattern": {
           "shape": ""
          }
         },
         "name": "AAPL",
         "offsetgroup": "AAPL",
         "orientation": "v",
         "showlegend": true,
         "textposition": "auto",
         "type": "bar",
         "x": [
          "AAPL",
          "AAPL",
          "AAPL",
          "AAPL",
          "AAPL",
          "AAPL",
          "AAPL",
          "AAPL",
          "AAPL",
          "AAPL",
          "AAPL",
          "AAPL",
          "AAPL",
          "AAPL",
          "AAPL",
          "AAPL",
          "AAPL",
          "AAPL",
          "AAPL",
          "AAPL",
          "AAPL",
          "AAPL",
          "AAPL",
          "AAPL",
          "AAPL",
          "AAPL",
          "AAPL",
          "AAPL",
          "AAPL",
          "AAPL",
          "AAPL",
          "AAPL",
          "AAPL"
         ],
         "xaxis": "x",
         "y": [
          150700833437.1376,
          118735662911.83472,
          124087925214.57672,
          129440187517.31873,
          142671512879.02832,
          157427408808.403,
          179166495611.5254,
          187081786272.375,
          188872164295.06583,
          190662542317.75665,
          192452920340.44745,
          194243298363.13828,
          196033676385.8291,
          183296618395.3506,
          217069010593.10742,
          228478945594.7324,
          277181267619.2617,
          329839612630.52734,
          314867906932.0625,
          497082225956.9922,
          1891911955980,
          2164283313145.1875,
          2200816149707.3516,
          2376822296279.9844,
          2446237664501.953,
          2724480690041.6875,
          2660096680680.922,
          2485949482190.4688,
          2254302862298.6094,
          2130255719537.2031,
          2699231808103.1875,
          3006708878170.6562,
          2790475131005.8594
         ],
         "yaxis": "y"
        },
        {
         "alignmentgroup": "True",
         "hovertemplate": "Ticker=%{x}<br>MarketCap=%{y}<extra></extra>",
         "legendgroup": "META",
         "marker": {
          "color": "#EF553B",
          "pattern": {
           "shape": ""
          }
         },
         "name": "META",
         "offsetgroup": "META",
         "orientation": "v",
         "showlegend": true,
         "textposition": "auto",
         "type": "bar",
         "x": [
          "META",
          "META",
          "META",
          "META",
          "META",
          "META",
          "META",
          "META",
          "META",
          "META",
          "META",
          "META",
          "META",
          "META",
          "META",
          "META",
          "META",
          "META",
          "META",
          "META",
          "META",
          "META",
          "META",
          "META",
          "META",
          "META",
          "META",
          "META",
          "META",
          "META",
          "META",
          "META",
          "META"
         ],
         "xaxis": "x",
         "y": [
          null,
          null,
          null,
          null,
          null,
          null,
          null,
          null,
          null,
          null,
          null,
          null,
          null,
          null,
          null,
          null,
          null,
          null,
          null,
          null,
          null,
          null,
          null,
          null,
          null,
          null,
          497962856448,
          444517269785.8887,
          317468834454.7383,
          503257351982.4219,
          605018259572.7539,
          759907991092.625,
          819322814628.9375
         ],
         "yaxis": "y"
        },
        {
         "alignmentgroup": "True",
         "hovertemplate": "Ticker=%{x}<br>MarketCap=%{y}<extra></extra>",
         "legendgroup": "GOOGL",
         "marker": {
          "color": "#00cc96",
          "pattern": {
           "shape": ""
          }
         },
         "name": "GOOGL",
         "offsetgroup": "GOOGL",
         "orientation": "v",
         "showlegend": true,
         "textposition": "auto",
         "type": "bar",
         "x": [
          "GOOGL",
          "GOOGL",
          "GOOGL",
          "GOOGL",
          "GOOGL",
          "GOOGL",
          "GOOGL",
          "GOOGL",
          "GOOGL",
          "GOOGL",
          "GOOGL",
          "GOOGL",
          "GOOGL",
          "GOOGL",
          "GOOGL",
          "GOOGL",
          "GOOGL",
          "GOOGL",
          "GOOGL",
          "GOOGL",
          "GOOGL",
          "GOOGL",
          "GOOGL",
          "GOOGL",
          "GOOGL",
          "GOOGL",
          "GOOGL",
          "GOOGL",
          "GOOGL",
          "GOOGL",
          "GOOGL",
          "GOOGL",
          "GOOGL"
         ],
         "xaxis": "x",
         "y": [
          25612598522.37701,
          24637731247.65396,
          24674363574.51439,
          27126370607.852936,
          26580651380.58853,
          28380581661.195312,
          32406260637.08496,
          33625874311.75293,
          34189027273.228127,
          34752180234.70332,
          35315333196.17851,
          35878486157.65371,
          36441639119.12891,
          38526577144.53833,
          39559082783.188354,
          41247407687.003784,
          44749072643.73779,
          48827249315.08887,
          46851482936.02246,
          51647173338.28369,
          58797667375.72363,
          68713005182.7832,
          78662204565.73486,
          91929445452.03906,
          96987045682.61914,
          90280412740.06982,
          75615044400.14648,
          1411702572283.0078,
          1257203557738.0312,
          1260492309032.5664,
          1421750542848,
          1649531264440.5,
          1691258011832.6875
         ],
         "yaxis": "y"
        },
        {
         "alignmentgroup": "True",
         "hovertemplate": "Ticker=%{x}<br>MarketCap=%{y}<extra></extra>",
         "legendgroup": "BIDU",
         "marker": {
          "color": "#ab63fa",
          "pattern": {
           "shape": ""
          }
         },
         "name": "BIDU",
         "offsetgroup": "BIDU",
         "orientation": "v",
         "showlegend": true,
         "textposition": "auto",
         "type": "bar",
         "x": [
          "BIDU",
          "BIDU",
          "BIDU",
          "BIDU",
          "BIDU",
          "BIDU",
          "BIDU",
          "BIDU",
          "BIDU",
          "BIDU",
          "BIDU",
          "BIDU",
          "BIDU",
          "BIDU",
          "BIDU",
          "BIDU",
          "BIDU",
          "BIDU",
          "BIDU",
          "BIDU",
          "BIDU",
          "BIDU",
          "BIDU",
          "BIDU",
          "BIDU",
          "BIDU",
          "BIDU",
          "BIDU",
          "BIDU",
          "BIDU",
          "BIDU",
          "BIDU",
          "BIDU"
         ],
         "xaxis": "x",
         "y": [
          null,
          null,
          null,
          null,
          62301745219.573975,
          61981132254.86499,
          65163746845.95508,
          69699364608,
          68424803912.98647,
          67150243217.972946,
          65875682522.95943,
          64601121827.9459,
          63326561132.93237,
          58355638104.90137,
          41231769010.56104,
          36870467206.27832,
          36655747435.302734,
          48523718753.97168,
          37047930987.3667,
          43696776340.36133,
          43231383000,
          43496420145.46051,
          66098549484.76904,
          54705774557.006836,
          55665077255.65918,
          53199818700.71387,
          46918760176.78418,
          47998734851.07422,
          38359321086.62695,
          49712666534.42163,
          45723788236.53223,
          47811974679.760254,
          39312628474.67041
         ],
         "yaxis": "y"
        },
        {
         "alignmentgroup": "True",
         "hovertemplate": "Ticker=%{x}<br>MarketCap=%{y}<extra></extra>",
         "legendgroup": "TCEHY",
         "marker": {
          "color": "#FFA15A",
          "pattern": {
           "shape": ""
          }
         },
         "name": "TCEHY",
         "offsetgroup": "TCEHY",
         "orientation": "v",
         "showlegend": true,
         "textposition": "auto",
         "type": "bar",
         "x": [
          "TCEHY",
          "TCEHY",
          "TCEHY",
          "TCEHY",
          "TCEHY",
          "TCEHY",
          "TCEHY",
          "TCEHY",
          "TCEHY",
          "TCEHY",
          "TCEHY",
          "TCEHY",
          "TCEHY",
          "TCEHY",
          "TCEHY",
          "TCEHY",
          "TCEHY",
          "TCEHY",
          "TCEHY",
          "TCEHY",
          "TCEHY",
          "TCEHY",
          "TCEHY",
          "TCEHY",
          "TCEHY",
          "TCEHY",
          "TCEHY",
          "TCEHY",
          "TCEHY",
          "TCEHY",
          "TCEHY",
          "TCEHY",
          "TCEHY"
         ],
         "xaxis": "x",
         "y": [
          null,
          null,
          null,
          null,
          null,
          null,
          306670822201.1914,
          359695473435.03125,
          425772699747.09766,
          498924550985.7149,
          450537519290.15234,
          390561391813.96484,
          336954292910.15625,
          382675209302.72656,
          400538950327.7988,
          391933775750.0078,
          375937786353.2285,
          449698275098.64453,
          484418398450.8926,
          606702746016.5625,
          665571345823.8281,
          789433927808.1797,
          703773835020.2812,
          553505012471.668,
          540393821766.84375,
          517343731469.3672,
          425728157328.9844,
          366046218081.7383,
          320458595700.6211,
          453094649335.9688,
          417969867151.40234,
          394481874112.77344,
          377960451997.1875
         ],
         "yaxis": "y"
        },
        {
         "alignmentgroup": "True",
         "hovertemplate": "Ticker=%{x}<br>MarketCap=%{y}<extra></extra>",
         "legendgroup": "BABA",
         "marker": {
          "color": "#19d3f3",
          "pattern": {
           "shape": ""
          }
         },
         "name": "BABA",
         "offsetgroup": "BABA",
         "orientation": "v",
         "showlegend": true,
         "textposition": "auto",
         "type": "bar",
         "x": [
          "BABA",
          "BABA",
          "BABA",
          "BABA",
          "BABA",
          "BABA",
          "BABA",
          "BABA",
          "BABA",
          "BABA",
          "BABA",
          "BABA",
          "BABA",
          "BABA",
          "BABA",
          "BABA",
          "BABA",
          "BABA",
          "BABA",
          "BABA",
          "BABA",
          "BABA",
          "BABA",
          "BABA",
          "BABA",
          "BABA",
          "BABA",
          "BABA",
          "BABA",
          "BABA",
          "BABA",
          "BABA",
          "BABA"
         ],
         "xaxis": "x",
         "y": [
          null,
          null,
          null,
          null,
          null,
          null,
          331188170244.1992,
          341072834139.2168,
          350957498034.2344,
          360842161929.25195,
          370726825824.26953,
          380611489719.2871,
          390496153614.3047,
          412700990108.832,
          430786696443.22266,
          450361886650.05273,
          532072737505.7656,
          573106967007.4102,
          561654603451.6758,
          705829169532.5938,
          747791665817.4375,
          657300633821.6602,
          606377529606.0938,
          466276511744,
          424476565368.91406,
          318533430122.97656,
          257931849774.0625,
          249449231865.2344,
          213382378696.6797,
          256504047881.03903,
          224680210582.00195,
          227103742739.68945,
          210924310872.06445
         ],
         "yaxis": "y"
        },
        {
         "alignmentgroup": "True",
         "hovertemplate": "Ticker=%{x}<br>MarketCap=%{y}<extra></extra>",
         "legendgroup": "AMZN",
         "marker": {
          "color": "#FF6692",
          "pattern": {
           "shape": ""
          }
         },
         "name": "AMZN",
         "offsetgroup": "AMZN",
         "orientation": "v",
         "showlegend": true,
         "textposition": "auto",
         "type": "bar",
         "x": [
          "AMZN",
          "AMZN",
          "AMZN",
          "AMZN",
          "AMZN",
          "AMZN",
          "AMZN",
          "AMZN",
          "AMZN",
          "AMZN",
          "AMZN",
          "AMZN",
          "AMZN",
          "AMZN",
          "AMZN",
          "AMZN",
          "AMZN",
          "AMZN",
          "AMZN",
          "AMZN",
          "AMZN",
          "AMZN",
          "AMZN",
          "AMZN",
          "AMZN",
          "AMZN",
          "AMZN",
          "AMZN",
          "AMZN",
          "AMZN",
          "AMZN",
          "AMZN",
          "AMZN"
         ],
         "xaxis": "x",
         "y": [
          14040125014.389038,
          13819212879.611967,
          14878713473.39058,
          17986603815.750122,
          18444083171.05865,
          19532632753.303528,
          21679921571.940186,
          24576435214.59961,
          27603398032.07197,
          30630360849.544334,
          33657323667.0167,
          36684286484.48906,
          39711249301.961426,
          40274471850.16113,
          45802385329.437256,
          45874715001.98193,
          43671446460.9375,
          48878138726.31543,
          57948068116.370605,
          78363984250.04297,
          77150682911.3086,
          80359232981.3164,
          85557935523.19336,
          84747127271.73193,
          85492110345.81201,
          77954266453.15552,
          79146104790.34424,
          1366717487254.7344,
          1188171892716.3906,
          1030980868913.0156,
          1074354360215.9688,
          1381568239323.3281,
          1367616633006.8438
         ],
         "yaxis": "y"
        },
        {
         "alignmentgroup": "True",
         "hovertemplate": "Ticker=%{x}<br>MarketCap=%{y}<extra></extra>",
         "legendgroup": "TSLA",
         "marker": {
          "color": "#B6E880",
          "pattern": {
           "shape": ""
          }
         },
         "name": "TSLA",
         "offsetgroup": "TSLA",
         "orientation": "v",
         "showlegend": true,
         "textposition": "auto",
         "type": "bar",
         "x": [
          "TSLA",
          "TSLA",
          "TSLA",
          "TSLA",
          "TSLA",
          "TSLA",
          "TSLA",
          "TSLA",
          "TSLA",
          "TSLA",
          "TSLA",
          "TSLA",
          "TSLA",
          "TSLA",
          "TSLA",
          "TSLA",
          "TSLA",
          "TSLA",
          "TSLA",
          "TSLA",
          "TSLA",
          "TSLA",
          "TSLA",
          "TSLA",
          "TSLA",
          "TSLA",
          "TSLA",
          "TSLA",
          "TSLA",
          "TSLA",
          "TSLA",
          "TSLA",
          "TSLA"
         ],
         "xaxis": "x",
         "y": [
          2028518379.25148,
          1575868275.062561,
          2139738556.0264587,
          2270152643.7835693,
          2162593188.5967255,
          2755086779.3340683,
          3561375847.587585,
          4018330825.653076,
          4018272034.0310545,
          4018213242.4090333,
          4018154450.7870116,
          4018095659.1649904,
          4018036867.5429688,
          3480859887.1229553,
          2689837404.975891,
          2826428644.363404,
          3962364145.516235,
          7932783095.654785,
          10153663497.566406,
          22990175212.631226,
          133341091467.04883,
          250960283157.76855,
          224065515209.7749,
          233798397183.73828,
          340922813735.7461,
          308442560502.25,
          379328126403.6816,
          846694888954.6641,
          635925187719.1445,
          582605766126.1875,
          557394500442.0293,
          833261505416.5078,
          759221454135.6562
         ],
         "yaxis": "y"
        },
        {
         "alignmentgroup": "True",
         "hovertemplate": "Ticker=%{x}<br>MarketCap=%{y}<extra></extra>",
         "legendgroup": "AMD",
         "marker": {
          "color": "#FF97FF",
          "pattern": {
           "shape": ""
          }
         },
         "name": "AMD",
         "offsetgroup": "AMD",
         "orientation": "v",
         "showlegend": true,
         "textposition": "auto",
         "type": "bar",
         "x": [
          "AMD",
          "AMD",
          "AMD",
          "AMD",
          "AMD",
          "AMD",
          "AMD",
          "AMD",
          "AMD",
          "AMD",
          "AMD",
          "AMD",
          "AMD",
          "AMD",
          "AMD",
          "AMD",
          "AMD",
          "AMD",
          "AMD",
          "AMD",
          "AMD",
          "AMD",
          "AMD",
          "AMD",
          "AMD",
          "AMD",
          "AMD",
          "AMD",
          "AMD",
          "AMD",
          "AMD",
          "AMD",
          "AMD"
         ],
         "xaxis": "x",
         "y": [
          1998286671.13936,
          1860508475.410223,
          2864607116.756439,
          5345147325.162411,
          6756874974.642754,
          12888324603.9505,
          9487960603.9505,
          12834114338.134766,
          14271915192.840332,
          15709716047.545898,
          17147516902.251465,
          18585317756.95703,
          20023118611.662598,
          22958743953.133545,
          30251234247.43164,
          33597771842.608887,
          39776234957.01318,
          56890606912,
          62961173757.93457,
          92354408715.88672,
          93763648020.71094,
          103801675430.45116,
          102774226616.83301,
          128805285562.3125,
          145190952430.18652,
          181469218688.51956,
          165129966581.50195,
          129533033351.44044,
          113090924926.9336,
          117548422875.2168,
          155473906280.5327,
          173127117628.03613,
          188722713245.2285
         ],
         "yaxis": "y"
        },
        {
         "alignmentgroup": "True",
         "hovertemplate": "Ticker=%{x}<br>MarketCap=%{y}<extra></extra>",
         "legendgroup": "MSFT",
         "marker": {
          "color": "#FECB52",
          "pattern": {
           "shape": ""
          }
         },
         "name": "MSFT",
         "offsetgroup": "MSFT",
         "orientation": "v",
         "showlegend": true,
         "textposition": "auto",
         "type": "bar",
         "x": [
          "MSFT",
          "MSFT",
          "MSFT",
          "MSFT",
          "MSFT",
          "MSFT",
          "MSFT",
          "MSFT",
          "MSFT",
          "MSFT",
          "MSFT",
          "MSFT",
          "MSFT",
          "MSFT",
          "MSFT",
          "MSFT",
          "MSFT",
          "MSFT",
          "MSFT",
          "MSFT",
          "MSFT",
          "MSFT",
          "MSFT",
          "MSFT",
          "MSFT",
          "MSFT",
          "MSFT",
          "MSFT",
          "MSFT",
          "MSFT",
          "MSFT",
          "MSFT",
          "MSFT"
         ],
         "xaxis": "x",
         "y": [
          372789376538.887,
          365915432315.0635,
          392439296138.7253,
          394124687557.52563,
          404124106238.9756,
          460132840887.67145,
          484167868274.2754,
          519822331296.1211,
          552599170366.75,
          608472772862.2705,
          664346375357.791,
          720219977853.3115,
          776093580348.832,
          780074191932.3457,
          925421421401.1914,
          1011253663272.8124,
          1068707390000.7812,
          1250669554183.6719,
          1333116245839.2188,
          1524637553749,
          1540623760165.125,
          1754932158539.2188,
          1901316026636.3047,
          2094940794927.461,
          2385785951947.328,
          2203858847865.578,
          2042453915816.25,
          1965628499383.172,
          1900264936038.7734,
          1834901372694.375,
          2258153015410.1406,
          2520614474828.7344,
          2708164701925.0312
         ],
         "yaxis": "y"
        }
       ],
       "layout": {
        "barmode": "relative",
        "legend": {
         "title": {
          "text": "Ticker"
         },
         "tracegroupgap": 0
        },
        "margin": {
         "t": 60
        },
        "template": {
         "data": {
          "bar": [
           {
            "error_x": {
             "color": "#2a3f5f"
            },
            "error_y": {
             "color": "#2a3f5f"
            },
            "marker": {
             "line": {
              "color": "#E5ECF6",
              "width": 0.5
             },
             "pattern": {
              "fillmode": "overlay",
              "size": 10,
              "solidity": 0.2
             }
            },
            "type": "bar"
           }
          ],
          "barpolar": [
           {
            "marker": {
             "line": {
              "color": "#E5ECF6",
              "width": 0.5
             },
             "pattern": {
              "fillmode": "overlay",
              "size": 10,
              "solidity": 0.2
             }
            },
            "type": "barpolar"
           }
          ],
          "carpet": [
           {
            "aaxis": {
             "endlinecolor": "#2a3f5f",
             "gridcolor": "white",
             "linecolor": "white",
             "minorgridcolor": "white",
             "startlinecolor": "#2a3f5f"
            },
            "baxis": {
             "endlinecolor": "#2a3f5f",
             "gridcolor": "white",
             "linecolor": "white",
             "minorgridcolor": "white",
             "startlinecolor": "#2a3f5f"
            },
            "type": "carpet"
           }
          ],
          "choropleth": [
           {
            "colorbar": {
             "outlinewidth": 0,
             "ticks": ""
            },
            "type": "choropleth"
           }
          ],
          "contour": [
           {
            "colorbar": {
             "outlinewidth": 0,
             "ticks": ""
            },
            "colorscale": [
             [
              0,
              "#0d0887"
             ],
             [
              0.1111111111111111,
              "#46039f"
             ],
             [
              0.2222222222222222,
              "#7201a8"
             ],
             [
              0.3333333333333333,
              "#9c179e"
             ],
             [
              0.4444444444444444,
              "#bd3786"
             ],
             [
              0.5555555555555556,
              "#d8576b"
             ],
             [
              0.6666666666666666,
              "#ed7953"
             ],
             [
              0.7777777777777778,
              "#fb9f3a"
             ],
             [
              0.8888888888888888,
              "#fdca26"
             ],
             [
              1,
              "#f0f921"
             ]
            ],
            "type": "contour"
           }
          ],
          "contourcarpet": [
           {
            "colorbar": {
             "outlinewidth": 0,
             "ticks": ""
            },
            "type": "contourcarpet"
           }
          ],
          "heatmap": [
           {
            "colorbar": {
             "outlinewidth": 0,
             "ticks": ""
            },
            "colorscale": [
             [
              0,
              "#0d0887"
             ],
             [
              0.1111111111111111,
              "#46039f"
             ],
             [
              0.2222222222222222,
              "#7201a8"
             ],
             [
              0.3333333333333333,
              "#9c179e"
             ],
             [
              0.4444444444444444,
              "#bd3786"
             ],
             [
              0.5555555555555556,
              "#d8576b"
             ],
             [
              0.6666666666666666,
              "#ed7953"
             ],
             [
              0.7777777777777778,
              "#fb9f3a"
             ],
             [
              0.8888888888888888,
              "#fdca26"
             ],
             [
              1,
              "#f0f921"
             ]
            ],
            "type": "heatmap"
           }
          ],
          "heatmapgl": [
           {
            "colorbar": {
             "outlinewidth": 0,
             "ticks": ""
            },
            "colorscale": [
             [
              0,
              "#0d0887"
             ],
             [
              0.1111111111111111,
              "#46039f"
             ],
             [
              0.2222222222222222,
              "#7201a8"
             ],
             [
              0.3333333333333333,
              "#9c179e"
             ],
             [
              0.4444444444444444,
              "#bd3786"
             ],
             [
              0.5555555555555556,
              "#d8576b"
             ],
             [
              0.6666666666666666,
              "#ed7953"
             ],
             [
              0.7777777777777778,
              "#fb9f3a"
             ],
             [
              0.8888888888888888,
              "#fdca26"
             ],
             [
              1,
              "#f0f921"
             ]
            ],
            "type": "heatmapgl"
           }
          ],
          "histogram": [
           {
            "marker": {
             "pattern": {
              "fillmode": "overlay",
              "size": 10,
              "solidity": 0.2
             }
            },
            "type": "histogram"
           }
          ],
          "histogram2d": [
           {
            "colorbar": {
             "outlinewidth": 0,
             "ticks": ""
            },
            "colorscale": [
             [
              0,
              "#0d0887"
             ],
             [
              0.1111111111111111,
              "#46039f"
             ],
             [
              0.2222222222222222,
              "#7201a8"
             ],
             [
              0.3333333333333333,
              "#9c179e"
             ],
             [
              0.4444444444444444,
              "#bd3786"
             ],
             [
              0.5555555555555556,
              "#d8576b"
             ],
             [
              0.6666666666666666,
              "#ed7953"
             ],
             [
              0.7777777777777778,
              "#fb9f3a"
             ],
             [
              0.8888888888888888,
              "#fdca26"
             ],
             [
              1,
              "#f0f921"
             ]
            ],
            "type": "histogram2d"
           }
          ],
          "histogram2dcontour": [
           {
            "colorbar": {
             "outlinewidth": 0,
             "ticks": ""
            },
            "colorscale": [
             [
              0,
              "#0d0887"
             ],
             [
              0.1111111111111111,
              "#46039f"
             ],
             [
              0.2222222222222222,
              "#7201a8"
             ],
             [
              0.3333333333333333,
              "#9c179e"
             ],
             [
              0.4444444444444444,
              "#bd3786"
             ],
             [
              0.5555555555555556,
              "#d8576b"
             ],
             [
              0.6666666666666666,
              "#ed7953"
             ],
             [
              0.7777777777777778,
              "#fb9f3a"
             ],
             [
              0.8888888888888888,
              "#fdca26"
             ],
             [
              1,
              "#f0f921"
             ]
            ],
            "type": "histogram2dcontour"
           }
          ],
          "mesh3d": [
           {
            "colorbar": {
             "outlinewidth": 0,
             "ticks": ""
            },
            "type": "mesh3d"
           }
          ],
          "parcoords": [
           {
            "line": {
             "colorbar": {
              "outlinewidth": 0,
              "ticks": ""
             }
            },
            "type": "parcoords"
           }
          ],
          "pie": [
           {
            "automargin": true,
            "type": "pie"
           }
          ],
          "scatter": [
           {
            "fillpattern": {
             "fillmode": "overlay",
             "size": 10,
             "solidity": 0.2
            },
            "type": "scatter"
           }
          ],
          "scatter3d": [
           {
            "line": {
             "colorbar": {
              "outlinewidth": 0,
              "ticks": ""
             }
            },
            "marker": {
             "colorbar": {
              "outlinewidth": 0,
              "ticks": ""
             }
            },
            "type": "scatter3d"
           }
          ],
          "scattercarpet": [
           {
            "marker": {
             "colorbar": {
              "outlinewidth": 0,
              "ticks": ""
             }
            },
            "type": "scattercarpet"
           }
          ],
          "scattergeo": [
           {
            "marker": {
             "colorbar": {
              "outlinewidth": 0,
              "ticks": ""
             }
            },
            "type": "scattergeo"
           }
          ],
          "scattergl": [
           {
            "marker": {
             "colorbar": {
              "outlinewidth": 0,
              "ticks": ""
             }
            },
            "type": "scattergl"
           }
          ],
          "scattermapbox": [
           {
            "marker": {
             "colorbar": {
              "outlinewidth": 0,
              "ticks": ""
             }
            },
            "type": "scattermapbox"
           }
          ],
          "scatterpolar": [
           {
            "marker": {
             "colorbar": {
              "outlinewidth": 0,
              "ticks": ""
             }
            },
            "type": "scatterpolar"
           }
          ],
          "scatterpolargl": [
           {
            "marker": {
             "colorbar": {
              "outlinewidth": 0,
              "ticks": ""
             }
            },
            "type": "scatterpolargl"
           }
          ],
          "scatterternary": [
           {
            "marker": {
             "colorbar": {
              "outlinewidth": 0,
              "ticks": ""
             }
            },
            "type": "scatterternary"
           }
          ],
          "surface": [
           {
            "colorbar": {
             "outlinewidth": 0,
             "ticks": ""
            },
            "colorscale": [
             [
              0,
              "#0d0887"
             ],
             [
              0.1111111111111111,
              "#46039f"
             ],
             [
              0.2222222222222222,
              "#7201a8"
             ],
             [
              0.3333333333333333,
              "#9c179e"
             ],
             [
              0.4444444444444444,
              "#bd3786"
             ],
             [
              0.5555555555555556,
              "#d8576b"
             ],
             [
              0.6666666666666666,
              "#ed7953"
             ],
             [
              0.7777777777777778,
              "#fb9f3a"
             ],
             [
              0.8888888888888888,
              "#fdca26"
             ],
             [
              1,
              "#f0f921"
             ]
            ],
            "type": "surface"
           }
          ],
          "table": [
           {
            "cells": {
             "fill": {
              "color": "#EBF0F8"
             },
             "line": {
              "color": "white"
             }
            },
            "header": {
             "fill": {
              "color": "#C8D4E3"
             },
             "line": {
              "color": "white"
             }
            },
            "type": "table"
           }
          ]
         },
         "layout": {
          "annotationdefaults": {
           "arrowcolor": "#2a3f5f",
           "arrowhead": 0,
           "arrowwidth": 1
          },
          "autotypenumbers": "strict",
          "coloraxis": {
           "colorbar": {
            "outlinewidth": 0,
            "ticks": ""
           }
          },
          "colorscale": {
           "diverging": [
            [
             0,
             "#8e0152"
            ],
            [
             0.1,
             "#c51b7d"
            ],
            [
             0.2,
             "#de77ae"
            ],
            [
             0.3,
             "#f1b6da"
            ],
            [
             0.4,
             "#fde0ef"
            ],
            [
             0.5,
             "#f7f7f7"
            ],
            [
             0.6,
             "#e6f5d0"
            ],
            [
             0.7,
             "#b8e186"
            ],
            [
             0.8,
             "#7fbc41"
            ],
            [
             0.9,
             "#4d9221"
            ],
            [
             1,
             "#276419"
            ]
           ],
           "sequential": [
            [
             0,
             "#0d0887"
            ],
            [
             0.1111111111111111,
             "#46039f"
            ],
            [
             0.2222222222222222,
             "#7201a8"
            ],
            [
             0.3333333333333333,
             "#9c179e"
            ],
            [
             0.4444444444444444,
             "#bd3786"
            ],
            [
             0.5555555555555556,
             "#d8576b"
            ],
            [
             0.6666666666666666,
             "#ed7953"
            ],
            [
             0.7777777777777778,
             "#fb9f3a"
            ],
            [
             0.8888888888888888,
             "#fdca26"
            ],
            [
             1,
             "#f0f921"
            ]
           ],
           "sequentialminus": [
            [
             0,
             "#0d0887"
            ],
            [
             0.1111111111111111,
             "#46039f"
            ],
            [
             0.2222222222222222,
             "#7201a8"
            ],
            [
             0.3333333333333333,
             "#9c179e"
            ],
            [
             0.4444444444444444,
             "#bd3786"
            ],
            [
             0.5555555555555556,
             "#d8576b"
            ],
            [
             0.6666666666666666,
             "#ed7953"
            ],
            [
             0.7777777777777778,
             "#fb9f3a"
            ],
            [
             0.8888888888888888,
             "#fdca26"
            ],
            [
             1,
             "#f0f921"
            ]
           ]
          },
          "colorway": [
           "#636efa",
           "#EF553B",
           "#00cc96",
           "#ab63fa",
           "#FFA15A",
           "#19d3f3",
           "#FF6692",
           "#B6E880",
           "#FF97FF",
           "#FECB52"
          ],
          "font": {
           "color": "#2a3f5f"
          },
          "geo": {
           "bgcolor": "white",
           "lakecolor": "white",
           "landcolor": "#E5ECF6",
           "showlakes": true,
           "showland": true,
           "subunitcolor": "white"
          },
          "hoverlabel": {
           "align": "left"
          },
          "hovermode": "closest",
          "mapbox": {
           "style": "light"
          },
          "paper_bgcolor": "white",
          "plot_bgcolor": "#E5ECF6",
          "polar": {
           "angularaxis": {
            "gridcolor": "white",
            "linecolor": "white",
            "ticks": ""
           },
           "bgcolor": "#E5ECF6",
           "radialaxis": {
            "gridcolor": "white",
            "linecolor": "white",
            "ticks": ""
           }
          },
          "scene": {
           "xaxis": {
            "backgroundcolor": "#E5ECF6",
            "gridcolor": "white",
            "gridwidth": 2,
            "linecolor": "white",
            "showbackground": true,
            "ticks": "",
            "zerolinecolor": "white"
           },
           "yaxis": {
            "backgroundcolor": "#E5ECF6",
            "gridcolor": "white",
            "gridwidth": 2,
            "linecolor": "white",
            "showbackground": true,
            "ticks": "",
            "zerolinecolor": "white"
           },
           "zaxis": {
            "backgroundcolor": "#E5ECF6",
            "gridcolor": "white",
            "gridwidth": 2,
            "linecolor": "white",
            "showbackground": true,
            "ticks": "",
            "zerolinecolor": "white"
           }
          },
          "shapedefaults": {
           "line": {
            "color": "#2a3f5f"
           }
          },
          "ternary": {
           "aaxis": {
            "gridcolor": "white",
            "linecolor": "white",
            "ticks": ""
           },
           "baxis": {
            "gridcolor": "white",
            "linecolor": "white",
            "ticks": ""
           },
           "bgcolor": "#E5ECF6",
           "caxis": {
            "gridcolor": "white",
            "linecolor": "white",
            "ticks": ""
           }
          },
          "title": {
           "x": 0.05
          },
          "xaxis": {
           "automargin": true,
           "gridcolor": "white",
           "linecolor": "white",
           "ticks": "",
           "title": {
            "standoff": 15
           },
           "zerolinecolor": "white",
           "zerolinewidth": 2
          },
          "yaxis": {
           "automargin": true,
           "gridcolor": "white",
           "linecolor": "white",
           "ticks": "",
           "title": {
            "standoff": 15
           },
           "zerolinecolor": "white",
           "zerolinewidth": 2
          }
         }
        },
        "xaxis": {
         "anchor": "y",
         "categoryarray": [
          "AAPL",
          "META",
          "GOOGL",
          "BIDU",
          "TCEHY",
          "BABA",
          "AMZN",
          "TSLA",
          "AMD",
          "MSFT"
         ],
         "categoryorder": "array",
         "domain": [
          0,
          1
         ],
         "title": {
          "text": "Ticker"
         }
        },
        "yaxis": {
         "anchor": "x",
         "domain": [
          0,
          1
         ],
         "title": {
          "text": "MarketCap"
         }
        }
       }
      },
      "text/html": [
       "<div>                            <div id=\"9745ef26-f74a-4321-a7e2-269016418d57\" class=\"plotly-graph-div\" style=\"height:525px; width:100%;\"></div>            <script type=\"text/javascript\">                require([\"plotly\"], function(Plotly) {                    window.PLOTLYENV=window.PLOTLYENV || {};                                    if (document.getElementById(\"9745ef26-f74a-4321-a7e2-269016418d57\")) {                    Plotly.newPlot(                        \"9745ef26-f74a-4321-a7e2-269016418d57\",                        [{\"alignmentgroup\":\"True\",\"hovertemplate\":\"Ticker=%{x}\\u003cbr\\u003eMarketCap=%{y}\\u003cextra\\u003e\\u003c\\u002fextra\\u003e\",\"legendgroup\":\"AAPL\",\"marker\":{\"color\":\"#636efa\",\"pattern\":{\"shape\":\"\"}},\"name\":\"AAPL\",\"offsetgroup\":\"AAPL\",\"orientation\":\"v\",\"showlegend\":true,\"textposition\":\"auto\",\"x\":[\"AAPL\",\"AAPL\",\"AAPL\",\"AAPL\",\"AAPL\",\"AAPL\",\"AAPL\",\"AAPL\",\"AAPL\",\"AAPL\",\"AAPL\",\"AAPL\",\"AAPL\",\"AAPL\",\"AAPL\",\"AAPL\",\"AAPL\",\"AAPL\",\"AAPL\",\"AAPL\",\"AAPL\",\"AAPL\",\"AAPL\",\"AAPL\",\"AAPL\",\"AAPL\",\"AAPL\",\"AAPL\",\"AAPL\",\"AAPL\",\"AAPL\",\"AAPL\",\"AAPL\"],\"xaxis\":\"x\",\"y\":[150700833437.1376,118735662911.83472,124087925214.57672,129440187517.31873,142671512879.02832,157427408808.403,179166495611.5254,187081786272.375,188872164295.06583,190662542317.75665,192452920340.44745,194243298363.13828,196033676385.8291,183296618395.3506,217069010593.10742,228478945594.7324,277181267619.2617,329839612630.52734,314867906932.0625,497082225956.9922,1891911955980.0,2164283313145.1875,2200816149707.3516,2376822296279.9844,2446237664501.953,2724480690041.6875,2660096680680.922,2485949482190.4688,2254302862298.6094,2130255719537.2031,2699231808103.1875,3006708878170.6562,2790475131005.8594],\"yaxis\":\"y\",\"type\":\"bar\"},{\"alignmentgroup\":\"True\",\"hovertemplate\":\"Ticker=%{x}\\u003cbr\\u003eMarketCap=%{y}\\u003cextra\\u003e\\u003c\\u002fextra\\u003e\",\"legendgroup\":\"META\",\"marker\":{\"color\":\"#EF553B\",\"pattern\":{\"shape\":\"\"}},\"name\":\"META\",\"offsetgroup\":\"META\",\"orientation\":\"v\",\"showlegend\":true,\"textposition\":\"auto\",\"x\":[\"META\",\"META\",\"META\",\"META\",\"META\",\"META\",\"META\",\"META\",\"META\",\"META\",\"META\",\"META\",\"META\",\"META\",\"META\",\"META\",\"META\",\"META\",\"META\",\"META\",\"META\",\"META\",\"META\",\"META\",\"META\",\"META\",\"META\",\"META\",\"META\",\"META\",\"META\",\"META\",\"META\"],\"xaxis\":\"x\",\"y\":[null,null,null,null,null,null,null,null,null,null,null,null,null,null,null,null,null,null,null,null,null,null,null,null,null,null,497962856448.0,444517269785.8887,317468834454.7383,503257351982.4219,605018259572.7539,759907991092.625,819322814628.9375],\"yaxis\":\"y\",\"type\":\"bar\"},{\"alignmentgroup\":\"True\",\"hovertemplate\":\"Ticker=%{x}\\u003cbr\\u003eMarketCap=%{y}\\u003cextra\\u003e\\u003c\\u002fextra\\u003e\",\"legendgroup\":\"GOOGL\",\"marker\":{\"color\":\"#00cc96\",\"pattern\":{\"shape\":\"\"}},\"name\":\"GOOGL\",\"offsetgroup\":\"GOOGL\",\"orientation\":\"v\",\"showlegend\":true,\"textposition\":\"auto\",\"x\":[\"GOOGL\",\"GOOGL\",\"GOOGL\",\"GOOGL\",\"GOOGL\",\"GOOGL\",\"GOOGL\",\"GOOGL\",\"GOOGL\",\"GOOGL\",\"GOOGL\",\"GOOGL\",\"GOOGL\",\"GOOGL\",\"GOOGL\",\"GOOGL\",\"GOOGL\",\"GOOGL\",\"GOOGL\",\"GOOGL\",\"GOOGL\",\"GOOGL\",\"GOOGL\",\"GOOGL\",\"GOOGL\",\"GOOGL\",\"GOOGL\",\"GOOGL\",\"GOOGL\",\"GOOGL\",\"GOOGL\",\"GOOGL\",\"GOOGL\"],\"xaxis\":\"x\",\"y\":[25612598522.37701,24637731247.65396,24674363574.51439,27126370607.852936,26580651380.58853,28380581661.195312,32406260637.08496,33625874311.75293,34189027273.228127,34752180234.70332,35315333196.17851,35878486157.65371,36441639119.12891,38526577144.53833,39559082783.188354,41247407687.003784,44749072643.73779,48827249315.08887,46851482936.02246,51647173338.28369,58797667375.72363,68713005182.7832,78662204565.73486,91929445452.03906,96987045682.61914,90280412740.06982,75615044400.14648,1411702572283.0078,1257203557738.0312,1260492309032.5664,1421750542848.0,1649531264440.5,1691258011832.6875],\"yaxis\":\"y\",\"type\":\"bar\"},{\"alignmentgroup\":\"True\",\"hovertemplate\":\"Ticker=%{x}\\u003cbr\\u003eMarketCap=%{y}\\u003cextra\\u003e\\u003c\\u002fextra\\u003e\",\"legendgroup\":\"BIDU\",\"marker\":{\"color\":\"#ab63fa\",\"pattern\":{\"shape\":\"\"}},\"name\":\"BIDU\",\"offsetgroup\":\"BIDU\",\"orientation\":\"v\",\"showlegend\":true,\"textposition\":\"auto\",\"x\":[\"BIDU\",\"BIDU\",\"BIDU\",\"BIDU\",\"BIDU\",\"BIDU\",\"BIDU\",\"BIDU\",\"BIDU\",\"BIDU\",\"BIDU\",\"BIDU\",\"BIDU\",\"BIDU\",\"BIDU\",\"BIDU\",\"BIDU\",\"BIDU\",\"BIDU\",\"BIDU\",\"BIDU\",\"BIDU\",\"BIDU\",\"BIDU\",\"BIDU\",\"BIDU\",\"BIDU\",\"BIDU\",\"BIDU\",\"BIDU\",\"BIDU\",\"BIDU\",\"BIDU\"],\"xaxis\":\"x\",\"y\":[null,null,null,null,62301745219.573975,61981132254.86499,65163746845.95508,69699364608.0,68424803912.98647,67150243217.972946,65875682522.95943,64601121827.9459,63326561132.93237,58355638104.90137,41231769010.56104,36870467206.27832,36655747435.302734,48523718753.97168,37047930987.3667,43696776340.36133,43231383000.0,43496420145.46051,66098549484.76904,54705774557.006836,55665077255.65918,53199818700.71387,46918760176.78418,47998734851.07422,38359321086.62695,49712666534.42163,45723788236.53223,47811974679.760254,39312628474.67041],\"yaxis\":\"y\",\"type\":\"bar\"},{\"alignmentgroup\":\"True\",\"hovertemplate\":\"Ticker=%{x}\\u003cbr\\u003eMarketCap=%{y}\\u003cextra\\u003e\\u003c\\u002fextra\\u003e\",\"legendgroup\":\"TCEHY\",\"marker\":{\"color\":\"#FFA15A\",\"pattern\":{\"shape\":\"\"}},\"name\":\"TCEHY\",\"offsetgroup\":\"TCEHY\",\"orientation\":\"v\",\"showlegend\":true,\"textposition\":\"auto\",\"x\":[\"TCEHY\",\"TCEHY\",\"TCEHY\",\"TCEHY\",\"TCEHY\",\"TCEHY\",\"TCEHY\",\"TCEHY\",\"TCEHY\",\"TCEHY\",\"TCEHY\",\"TCEHY\",\"TCEHY\",\"TCEHY\",\"TCEHY\",\"TCEHY\",\"TCEHY\",\"TCEHY\",\"TCEHY\",\"TCEHY\",\"TCEHY\",\"TCEHY\",\"TCEHY\",\"TCEHY\",\"TCEHY\",\"TCEHY\",\"TCEHY\",\"TCEHY\",\"TCEHY\",\"TCEHY\",\"TCEHY\",\"TCEHY\",\"TCEHY\"],\"xaxis\":\"x\",\"y\":[null,null,null,null,null,null,306670822201.1914,359695473435.03125,425772699747.09766,498924550985.7149,450537519290.15234,390561391813.96484,336954292910.15625,382675209302.72656,400538950327.7988,391933775750.0078,375937786353.2285,449698275098.64453,484418398450.8926,606702746016.5625,665571345823.8281,789433927808.1797,703773835020.2812,553505012471.668,540393821766.84375,517343731469.3672,425728157328.9844,366046218081.7383,320458595700.6211,453094649335.9688,417969867151.40234,394481874112.77344,377960451997.1875],\"yaxis\":\"y\",\"type\":\"bar\"},{\"alignmentgroup\":\"True\",\"hovertemplate\":\"Ticker=%{x}\\u003cbr\\u003eMarketCap=%{y}\\u003cextra\\u003e\\u003c\\u002fextra\\u003e\",\"legendgroup\":\"BABA\",\"marker\":{\"color\":\"#19d3f3\",\"pattern\":{\"shape\":\"\"}},\"name\":\"BABA\",\"offsetgroup\":\"BABA\",\"orientation\":\"v\",\"showlegend\":true,\"textposition\":\"auto\",\"x\":[\"BABA\",\"BABA\",\"BABA\",\"BABA\",\"BABA\",\"BABA\",\"BABA\",\"BABA\",\"BABA\",\"BABA\",\"BABA\",\"BABA\",\"BABA\",\"BABA\",\"BABA\",\"BABA\",\"BABA\",\"BABA\",\"BABA\",\"BABA\",\"BABA\",\"BABA\",\"BABA\",\"BABA\",\"BABA\",\"BABA\",\"BABA\",\"BABA\",\"BABA\",\"BABA\",\"BABA\",\"BABA\",\"BABA\"],\"xaxis\":\"x\",\"y\":[null,null,null,null,null,null,331188170244.1992,341072834139.2168,350957498034.2344,360842161929.25195,370726825824.26953,380611489719.2871,390496153614.3047,412700990108.832,430786696443.22266,450361886650.05273,532072737505.7656,573106967007.4102,561654603451.6758,705829169532.5938,747791665817.4375,657300633821.6602,606377529606.0938,466276511744.0,424476565368.91406,318533430122.97656,257931849774.0625,249449231865.2344,213382378696.6797,256504047881.03903,224680210582.00195,227103742739.68945,210924310872.06445],\"yaxis\":\"y\",\"type\":\"bar\"},{\"alignmentgroup\":\"True\",\"hovertemplate\":\"Ticker=%{x}\\u003cbr\\u003eMarketCap=%{y}\\u003cextra\\u003e\\u003c\\u002fextra\\u003e\",\"legendgroup\":\"AMZN\",\"marker\":{\"color\":\"#FF6692\",\"pattern\":{\"shape\":\"\"}},\"name\":\"AMZN\",\"offsetgroup\":\"AMZN\",\"orientation\":\"v\",\"showlegend\":true,\"textposition\":\"auto\",\"x\":[\"AMZN\",\"AMZN\",\"AMZN\",\"AMZN\",\"AMZN\",\"AMZN\",\"AMZN\",\"AMZN\",\"AMZN\",\"AMZN\",\"AMZN\",\"AMZN\",\"AMZN\",\"AMZN\",\"AMZN\",\"AMZN\",\"AMZN\",\"AMZN\",\"AMZN\",\"AMZN\",\"AMZN\",\"AMZN\",\"AMZN\",\"AMZN\",\"AMZN\",\"AMZN\",\"AMZN\",\"AMZN\",\"AMZN\",\"AMZN\",\"AMZN\",\"AMZN\",\"AMZN\"],\"xaxis\":\"x\",\"y\":[14040125014.389038,13819212879.611967,14878713473.39058,17986603815.750122,18444083171.05865,19532632753.303528,21679921571.940186,24576435214.59961,27603398032.07197,30630360849.544334,33657323667.0167,36684286484.48906,39711249301.961426,40274471850.16113,45802385329.437256,45874715001.98193,43671446460.9375,48878138726.31543,57948068116.370605,78363984250.04297,77150682911.3086,80359232981.3164,85557935523.19336,84747127271.73193,85492110345.81201,77954266453.15552,79146104790.34424,1366717487254.7344,1188171892716.3906,1030980868913.0156,1074354360215.9688,1381568239323.3281,1367616633006.8438],\"yaxis\":\"y\",\"type\":\"bar\"},{\"alignmentgroup\":\"True\",\"hovertemplate\":\"Ticker=%{x}\\u003cbr\\u003eMarketCap=%{y}\\u003cextra\\u003e\\u003c\\u002fextra\\u003e\",\"legendgroup\":\"TSLA\",\"marker\":{\"color\":\"#B6E880\",\"pattern\":{\"shape\":\"\"}},\"name\":\"TSLA\",\"offsetgroup\":\"TSLA\",\"orientation\":\"v\",\"showlegend\":true,\"textposition\":\"auto\",\"x\":[\"TSLA\",\"TSLA\",\"TSLA\",\"TSLA\",\"TSLA\",\"TSLA\",\"TSLA\",\"TSLA\",\"TSLA\",\"TSLA\",\"TSLA\",\"TSLA\",\"TSLA\",\"TSLA\",\"TSLA\",\"TSLA\",\"TSLA\",\"TSLA\",\"TSLA\",\"TSLA\",\"TSLA\",\"TSLA\",\"TSLA\",\"TSLA\",\"TSLA\",\"TSLA\",\"TSLA\",\"TSLA\",\"TSLA\",\"TSLA\",\"TSLA\",\"TSLA\",\"TSLA\"],\"xaxis\":\"x\",\"y\":[2028518379.25148,1575868275.062561,2139738556.0264587,2270152643.7835693,2162593188.5967255,2755086779.3340683,3561375847.587585,4018330825.653076,4018272034.0310545,4018213242.4090333,4018154450.7870116,4018095659.1649904,4018036867.5429688,3480859887.1229553,2689837404.975891,2826428644.363404,3962364145.516235,7932783095.654785,10153663497.566406,22990175212.631226,133341091467.04883,250960283157.76855,224065515209.7749,233798397183.73828,340922813735.7461,308442560502.25,379328126403.6816,846694888954.6641,635925187719.1445,582605766126.1875,557394500442.0293,833261505416.5078,759221454135.6562],\"yaxis\":\"y\",\"type\":\"bar\"},{\"alignmentgroup\":\"True\",\"hovertemplate\":\"Ticker=%{x}\\u003cbr\\u003eMarketCap=%{y}\\u003cextra\\u003e\\u003c\\u002fextra\\u003e\",\"legendgroup\":\"AMD\",\"marker\":{\"color\":\"#FF97FF\",\"pattern\":{\"shape\":\"\"}},\"name\":\"AMD\",\"offsetgroup\":\"AMD\",\"orientation\":\"v\",\"showlegend\":true,\"textposition\":\"auto\",\"x\":[\"AMD\",\"AMD\",\"AMD\",\"AMD\",\"AMD\",\"AMD\",\"AMD\",\"AMD\",\"AMD\",\"AMD\",\"AMD\",\"AMD\",\"AMD\",\"AMD\",\"AMD\",\"AMD\",\"AMD\",\"AMD\",\"AMD\",\"AMD\",\"AMD\",\"AMD\",\"AMD\",\"AMD\",\"AMD\",\"AMD\",\"AMD\",\"AMD\",\"AMD\",\"AMD\",\"AMD\",\"AMD\",\"AMD\"],\"xaxis\":\"x\",\"y\":[1998286671.13936,1860508475.410223,2864607116.756439,5345147325.162411,6756874974.642754,12888324603.9505,9487960603.9505,12834114338.134766,14271915192.840332,15709716047.545898,17147516902.251465,18585317756.95703,20023118611.662598,22958743953.133545,30251234247.43164,33597771842.608887,39776234957.01318,56890606912.0,62961173757.93457,92354408715.88672,93763648020.71094,103801675430.45116,102774226616.83301,128805285562.3125,145190952430.18652,181469218688.51956,165129966581.50195,129533033351.44044,113090924926.9336,117548422875.2168,155473906280.5327,173127117628.03613,188722713245.2285],\"yaxis\":\"y\",\"type\":\"bar\"},{\"alignmentgroup\":\"True\",\"hovertemplate\":\"Ticker=%{x}\\u003cbr\\u003eMarketCap=%{y}\\u003cextra\\u003e\\u003c\\u002fextra\\u003e\",\"legendgroup\":\"MSFT\",\"marker\":{\"color\":\"#FECB52\",\"pattern\":{\"shape\":\"\"}},\"name\":\"MSFT\",\"offsetgroup\":\"MSFT\",\"orientation\":\"v\",\"showlegend\":true,\"textposition\":\"auto\",\"x\":[\"MSFT\",\"MSFT\",\"MSFT\",\"MSFT\",\"MSFT\",\"MSFT\",\"MSFT\",\"MSFT\",\"MSFT\",\"MSFT\",\"MSFT\",\"MSFT\",\"MSFT\",\"MSFT\",\"MSFT\",\"MSFT\",\"MSFT\",\"MSFT\",\"MSFT\",\"MSFT\",\"MSFT\",\"MSFT\",\"MSFT\",\"MSFT\",\"MSFT\",\"MSFT\",\"MSFT\",\"MSFT\",\"MSFT\",\"MSFT\",\"MSFT\",\"MSFT\",\"MSFT\"],\"xaxis\":\"x\",\"y\":[372789376538.887,365915432315.0635,392439296138.7253,394124687557.52563,404124106238.9756,460132840887.67145,484167868274.2754,519822331296.1211,552599170366.75,608472772862.2705,664346375357.791,720219977853.3115,776093580348.832,780074191932.3457,925421421401.1914,1011253663272.8124,1068707390000.7812,1250669554183.6719,1333116245839.2188,1524637553749.0,1540623760165.125,1754932158539.2188,1901316026636.3047,2094940794927.461,2385785951947.328,2203858847865.578,2042453915816.25,1965628499383.172,1900264936038.7734,1834901372694.375,2258153015410.1406,2520614474828.7344,2708164701925.0312],\"yaxis\":\"y\",\"type\":\"bar\"}],                        {\"template\":{\"data\":{\"histogram2dcontour\":[{\"type\":\"histogram2dcontour\",\"colorbar\":{\"outlinewidth\":0,\"ticks\":\"\"},\"colorscale\":[[0.0,\"#0d0887\"],[0.1111111111111111,\"#46039f\"],[0.2222222222222222,\"#7201a8\"],[0.3333333333333333,\"#9c179e\"],[0.4444444444444444,\"#bd3786\"],[0.5555555555555556,\"#d8576b\"],[0.6666666666666666,\"#ed7953\"],[0.7777777777777778,\"#fb9f3a\"],[0.8888888888888888,\"#fdca26\"],[1.0,\"#f0f921\"]]}],\"choropleth\":[{\"type\":\"choropleth\",\"colorbar\":{\"outlinewidth\":0,\"ticks\":\"\"}}],\"histogram2d\":[{\"type\":\"histogram2d\",\"colorbar\":{\"outlinewidth\":0,\"ticks\":\"\"},\"colorscale\":[[0.0,\"#0d0887\"],[0.1111111111111111,\"#46039f\"],[0.2222222222222222,\"#7201a8\"],[0.3333333333333333,\"#9c179e\"],[0.4444444444444444,\"#bd3786\"],[0.5555555555555556,\"#d8576b\"],[0.6666666666666666,\"#ed7953\"],[0.7777777777777778,\"#fb9f3a\"],[0.8888888888888888,\"#fdca26\"],[1.0,\"#f0f921\"]]}],\"heatmap\":[{\"type\":\"heatmap\",\"colorbar\":{\"outlinewidth\":0,\"ticks\":\"\"},\"colorscale\":[[0.0,\"#0d0887\"],[0.1111111111111111,\"#46039f\"],[0.2222222222222222,\"#7201a8\"],[0.3333333333333333,\"#9c179e\"],[0.4444444444444444,\"#bd3786\"],[0.5555555555555556,\"#d8576b\"],[0.6666666666666666,\"#ed7953\"],[0.7777777777777778,\"#fb9f3a\"],[0.8888888888888888,\"#fdca26\"],[1.0,\"#f0f921\"]]}],\"heatmapgl\":[{\"type\":\"heatmapgl\",\"colorbar\":{\"outlinewidth\":0,\"ticks\":\"\"},\"colorscale\":[[0.0,\"#0d0887\"],[0.1111111111111111,\"#46039f\"],[0.2222222222222222,\"#7201a8\"],[0.3333333333333333,\"#9c179e\"],[0.4444444444444444,\"#bd3786\"],[0.5555555555555556,\"#d8576b\"],[0.6666666666666666,\"#ed7953\"],[0.7777777777777778,\"#fb9f3a\"],[0.8888888888888888,\"#fdca26\"],[1.0,\"#f0f921\"]]}],\"contourcarpet\":[{\"type\":\"contourcarpet\",\"colorbar\":{\"outlinewidth\":0,\"ticks\":\"\"}}],\"contour\":[{\"type\":\"contour\",\"colorbar\":{\"outlinewidth\":0,\"ticks\":\"\"},\"colorscale\":[[0.0,\"#0d0887\"],[0.1111111111111111,\"#46039f\"],[0.2222222222222222,\"#7201a8\"],[0.3333333333333333,\"#9c179e\"],[0.4444444444444444,\"#bd3786\"],[0.5555555555555556,\"#d8576b\"],[0.6666666666666666,\"#ed7953\"],[0.7777777777777778,\"#fb9f3a\"],[0.8888888888888888,\"#fdca26\"],[1.0,\"#f0f921\"]]}],\"surface\":[{\"type\":\"surface\",\"colorbar\":{\"outlinewidth\":0,\"ticks\":\"\"},\"colorscale\":[[0.0,\"#0d0887\"],[0.1111111111111111,\"#46039f\"],[0.2222222222222222,\"#7201a8\"],[0.3333333333333333,\"#9c179e\"],[0.4444444444444444,\"#bd3786\"],[0.5555555555555556,\"#d8576b\"],[0.6666666666666666,\"#ed7953\"],[0.7777777777777778,\"#fb9f3a\"],[0.8888888888888888,\"#fdca26\"],[1.0,\"#f0f921\"]]}],\"mesh3d\":[{\"type\":\"mesh3d\",\"colorbar\":{\"outlinewidth\":0,\"ticks\":\"\"}}],\"scatter\":[{\"fillpattern\":{\"fillmode\":\"overlay\",\"size\":10,\"solidity\":0.2},\"type\":\"scatter\"}],\"parcoords\":[{\"type\":\"parcoords\",\"line\":{\"colorbar\":{\"outlinewidth\":0,\"ticks\":\"\"}}}],\"scatterpolargl\":[{\"type\":\"scatterpolargl\",\"marker\":{\"colorbar\":{\"outlinewidth\":0,\"ticks\":\"\"}}}],\"bar\":[{\"error_x\":{\"color\":\"#2a3f5f\"},\"error_y\":{\"color\":\"#2a3f5f\"},\"marker\":{\"line\":{\"color\":\"#E5ECF6\",\"width\":0.5},\"pattern\":{\"fillmode\":\"overlay\",\"size\":10,\"solidity\":0.2}},\"type\":\"bar\"}],\"scattergeo\":[{\"type\":\"scattergeo\",\"marker\":{\"colorbar\":{\"outlinewidth\":0,\"ticks\":\"\"}}}],\"scatterpolar\":[{\"type\":\"scatterpolar\",\"marker\":{\"colorbar\":{\"outlinewidth\":0,\"ticks\":\"\"}}}],\"histogram\":[{\"marker\":{\"pattern\":{\"fillmode\":\"overlay\",\"size\":10,\"solidity\":0.2}},\"type\":\"histogram\"}],\"scattergl\":[{\"type\":\"scattergl\",\"marker\":{\"colorbar\":{\"outlinewidth\":0,\"ticks\":\"\"}}}],\"scatter3d\":[{\"type\":\"scatter3d\",\"line\":{\"colorbar\":{\"outlinewidth\":0,\"ticks\":\"\"}},\"marker\":{\"colorbar\":{\"outlinewidth\":0,\"ticks\":\"\"}}}],\"scattermapbox\":[{\"type\":\"scattermapbox\",\"marker\":{\"colorbar\":{\"outlinewidth\":0,\"ticks\":\"\"}}}],\"scatterternary\":[{\"type\":\"scatterternary\",\"marker\":{\"colorbar\":{\"outlinewidth\":0,\"ticks\":\"\"}}}],\"scattercarpet\":[{\"type\":\"scattercarpet\",\"marker\":{\"colorbar\":{\"outlinewidth\":0,\"ticks\":\"\"}}}],\"carpet\":[{\"aaxis\":{\"endlinecolor\":\"#2a3f5f\",\"gridcolor\":\"white\",\"linecolor\":\"white\",\"minorgridcolor\":\"white\",\"startlinecolor\":\"#2a3f5f\"},\"baxis\":{\"endlinecolor\":\"#2a3f5f\",\"gridcolor\":\"white\",\"linecolor\":\"white\",\"minorgridcolor\":\"white\",\"startlinecolor\":\"#2a3f5f\"},\"type\":\"carpet\"}],\"table\":[{\"cells\":{\"fill\":{\"color\":\"#EBF0F8\"},\"line\":{\"color\":\"white\"}},\"header\":{\"fill\":{\"color\":\"#C8D4E3\"},\"line\":{\"color\":\"white\"}},\"type\":\"table\"}],\"barpolar\":[{\"marker\":{\"line\":{\"color\":\"#E5ECF6\",\"width\":0.5},\"pattern\":{\"fillmode\":\"overlay\",\"size\":10,\"solidity\":0.2}},\"type\":\"barpolar\"}],\"pie\":[{\"automargin\":true,\"type\":\"pie\"}]},\"layout\":{\"autotypenumbers\":\"strict\",\"colorway\":[\"#636efa\",\"#EF553B\",\"#00cc96\",\"#ab63fa\",\"#FFA15A\",\"#19d3f3\",\"#FF6692\",\"#B6E880\",\"#FF97FF\",\"#FECB52\"],\"font\":{\"color\":\"#2a3f5f\"},\"hovermode\":\"closest\",\"hoverlabel\":{\"align\":\"left\"},\"paper_bgcolor\":\"white\",\"plot_bgcolor\":\"#E5ECF6\",\"polar\":{\"bgcolor\":\"#E5ECF6\",\"angularaxis\":{\"gridcolor\":\"white\",\"linecolor\":\"white\",\"ticks\":\"\"},\"radialaxis\":{\"gridcolor\":\"white\",\"linecolor\":\"white\",\"ticks\":\"\"}},\"ternary\":{\"bgcolor\":\"#E5ECF6\",\"aaxis\":{\"gridcolor\":\"white\",\"linecolor\":\"white\",\"ticks\":\"\"},\"baxis\":{\"gridcolor\":\"white\",\"linecolor\":\"white\",\"ticks\":\"\"},\"caxis\":{\"gridcolor\":\"white\",\"linecolor\":\"white\",\"ticks\":\"\"}},\"coloraxis\":{\"colorbar\":{\"outlinewidth\":0,\"ticks\":\"\"}},\"colorscale\":{\"sequential\":[[0.0,\"#0d0887\"],[0.1111111111111111,\"#46039f\"],[0.2222222222222222,\"#7201a8\"],[0.3333333333333333,\"#9c179e\"],[0.4444444444444444,\"#bd3786\"],[0.5555555555555556,\"#d8576b\"],[0.6666666666666666,\"#ed7953\"],[0.7777777777777778,\"#fb9f3a\"],[0.8888888888888888,\"#fdca26\"],[1.0,\"#f0f921\"]],\"sequentialminus\":[[0.0,\"#0d0887\"],[0.1111111111111111,\"#46039f\"],[0.2222222222222222,\"#7201a8\"],[0.3333333333333333,\"#9c179e\"],[0.4444444444444444,\"#bd3786\"],[0.5555555555555556,\"#d8576b\"],[0.6666666666666666,\"#ed7953\"],[0.7777777777777778,\"#fb9f3a\"],[0.8888888888888888,\"#fdca26\"],[1.0,\"#f0f921\"]],\"diverging\":[[0,\"#8e0152\"],[0.1,\"#c51b7d\"],[0.2,\"#de77ae\"],[0.3,\"#f1b6da\"],[0.4,\"#fde0ef\"],[0.5,\"#f7f7f7\"],[0.6,\"#e6f5d0\"],[0.7,\"#b8e186\"],[0.8,\"#7fbc41\"],[0.9,\"#4d9221\"],[1,\"#276419\"]]},\"xaxis\":{\"gridcolor\":\"white\",\"linecolor\":\"white\",\"ticks\":\"\",\"title\":{\"standoff\":15},\"zerolinecolor\":\"white\",\"automargin\":true,\"zerolinewidth\":2},\"yaxis\":{\"gridcolor\":\"white\",\"linecolor\":\"white\",\"ticks\":\"\",\"title\":{\"standoff\":15},\"zerolinecolor\":\"white\",\"automargin\":true,\"zerolinewidth\":2},\"scene\":{\"xaxis\":{\"backgroundcolor\":\"#E5ECF6\",\"gridcolor\":\"white\",\"linecolor\":\"white\",\"showbackground\":true,\"ticks\":\"\",\"zerolinecolor\":\"white\",\"gridwidth\":2},\"yaxis\":{\"backgroundcolor\":\"#E5ECF6\",\"gridcolor\":\"white\",\"linecolor\":\"white\",\"showbackground\":true,\"ticks\":\"\",\"zerolinecolor\":\"white\",\"gridwidth\":2},\"zaxis\":{\"backgroundcolor\":\"#E5ECF6\",\"gridcolor\":\"white\",\"linecolor\":\"white\",\"showbackground\":true,\"ticks\":\"\",\"zerolinecolor\":\"white\",\"gridwidth\":2}},\"shapedefaults\":{\"line\":{\"color\":\"#2a3f5f\"}},\"annotationdefaults\":{\"arrowcolor\":\"#2a3f5f\",\"arrowhead\":0,\"arrowwidth\":1},\"geo\":{\"bgcolor\":\"white\",\"landcolor\":\"#E5ECF6\",\"subunitcolor\":\"white\",\"showland\":true,\"showlakes\":true,\"lakecolor\":\"white\"},\"title\":{\"x\":0.05},\"mapbox\":{\"style\":\"light\"}}},\"xaxis\":{\"anchor\":\"y\",\"domain\":[0.0,1.0],\"title\":{\"text\":\"Ticker\"},\"categoryorder\":\"array\",\"categoryarray\":[\"AAPL\",\"META\",\"GOOGL\",\"BIDU\",\"TCEHY\",\"BABA\",\"AMZN\",\"TSLA\",\"AMD\",\"MSFT\"]},\"yaxis\":{\"anchor\":\"x\",\"domain\":[0.0,1.0],\"title\":{\"text\":\"MarketCap\"}},\"legend\":{\"title\":{\"text\":\"Ticker\"},\"tracegroupgap\":0},\"margin\":{\"t\":60},\"barmode\":\"relative\"},                        {\"responsive\": true}                    ).then(function(){\n",
       "                            \n",
       "var gd = document.getElementById('9745ef26-f74a-4321-a7e2-269016418d57');\n",
       "var x = new MutationObserver(function (mutations, observer) {{\n",
       "        var display = window.getComputedStyle(gd).display;\n",
       "        if (!display || display === 'none') {{\n",
       "            console.log([gd, 'removed!']);\n",
       "            Plotly.purge(gd);\n",
       "            observer.disconnect();\n",
       "        }}\n",
       "}});\n",
       "\n",
       "// Listen for the removal of the full notebook cells\n",
       "var notebookContainer = gd.closest('#notebook-container');\n",
       "if (notebookContainer) {{\n",
       "    x.observe(notebookContainer, {childList: true});\n",
       "}}\n",
       "\n",
       "// Listen for the clearing of the current output cell\n",
       "var outputEl = gd.closest('.output');\n",
       "if (outputEl) {{\n",
       "    x.observe(outputEl, {childList: true});\n",
       "}}\n",
       "\n",
       "                        })                };                });            </script>        </div>"
      ]
     },
     "metadata": {},
     "output_type": "display_data"
    }
   ],
   "source": [
    "fig = px.bar(periodic, x='Ticker', y='MarketCap', color='Ticker')\n",
    "fig.show()"
   ]
  },
  {
   "cell_type": "markdown",
   "metadata": {},
   "source": [
    "### 動畫"
   ]
  },
  {
   "cell_type": "code",
   "execution_count": 21,
   "metadata": {},
   "outputs": [
    {
     "data": {
      "application/vnd.plotly.v1+json": {
       "config": {
        "plotlyServerURL": "https://plot.ly"
       },
       "data": [
        {
         "alignmentgroup": "True",
         "hovertemplate": "Ticker=%{x}<br>Date=2015-10-31 16:30:00+00:00<br>MarketCap=%{y}<extra></extra>",
         "legendgroup": "AAPL",
         "marker": {
          "color": "#636efa",
          "pattern": {
           "shape": ""
          }
         },
         "name": "AAPL",
         "offsetgroup": "AAPL",
         "orientation": "v",
         "showlegend": true,
         "textposition": "auto",
         "type": "bar",
         "width": 1,
         "x": [
          "AAPL"
         ],
         "xaxis": "x",
         "y": [
          150700833437.1376
         ],
         "yaxis": "y"
        },
        {
         "alignmentgroup": "True",
         "hovertemplate": "Ticker=%{x}<br>Date=2015-10-31 16:30:00+00:00<br>MarketCap=%{y}<extra></extra>",
         "legendgroup": "AMD",
         "marker": {
          "color": "#EF553B",
          "pattern": {
           "shape": ""
          }
         },
         "name": "AMD",
         "offsetgroup": "AMD",
         "orientation": "v",
         "showlegend": true,
         "textposition": "auto",
         "type": "bar",
         "width": 1,
         "x": [
          "AMD"
         ],
         "xaxis": "x",
         "y": [
          1998286671.13936
         ],
         "yaxis": "y"
        },
        {
         "alignmentgroup": "True",
         "hovertemplate": "Ticker=%{x}<br>Date=2015-10-31 16:30:00+00:00<br>MarketCap=%{y}<extra></extra>",
         "legendgroup": "AMZN",
         "marker": {
          "color": "#00cc96",
          "pattern": {
           "shape": ""
          }
         },
         "name": "AMZN",
         "offsetgroup": "AMZN",
         "orientation": "v",
         "showlegend": true,
         "textposition": "auto",
         "type": "bar",
         "width": 1,
         "x": [
          "AMZN"
         ],
         "xaxis": "x",
         "y": [
          14040125014.389038
         ],
         "yaxis": "y"
        },
        {
         "alignmentgroup": "True",
         "hovertemplate": "Ticker=%{x}<br>Date=2015-10-31 16:30:00+00:00<br>MarketCap=%{y}<extra></extra>",
         "legendgroup": "BABA",
         "marker": {
          "color": "#ab63fa",
          "pattern": {
           "shape": ""
          }
         },
         "name": "BABA",
         "offsetgroup": "BABA",
         "orientation": "v",
         "showlegend": true,
         "textposition": "auto",
         "type": "bar",
         "width": 1,
         "x": [
          "BABA"
         ],
         "xaxis": "x",
         "y": [
          null
         ],
         "yaxis": "y"
        },
        {
         "alignmentgroup": "True",
         "hovertemplate": "Ticker=%{x}<br>Date=2015-10-31 16:30:00+00:00<br>MarketCap=%{y}<extra></extra>",
         "legendgroup": "BIDU",
         "marker": {
          "color": "#FFA15A",
          "pattern": {
           "shape": ""
          }
         },
         "name": "BIDU",
         "offsetgroup": "BIDU",
         "orientation": "v",
         "showlegend": true,
         "textposition": "auto",
         "type": "bar",
         "width": 1,
         "x": [
          "BIDU"
         ],
         "xaxis": "x",
         "y": [
          null
         ],
         "yaxis": "y"
        },
        {
         "alignmentgroup": "True",
         "hovertemplate": "Ticker=%{x}<br>Date=2015-10-31 16:30:00+00:00<br>MarketCap=%{y}<extra></extra>",
         "legendgroup": "GOOGL",
         "marker": {
          "color": "#19d3f3",
          "pattern": {
           "shape": ""
          }
         },
         "name": "GOOGL",
         "offsetgroup": "GOOGL",
         "orientation": "v",
         "showlegend": true,
         "textposition": "auto",
         "type": "bar",
         "width": 1,
         "x": [
          "GOOGL"
         ],
         "xaxis": "x",
         "y": [
          25612598522.37701
         ],
         "yaxis": "y"
        },
        {
         "alignmentgroup": "True",
         "hovertemplate": "Ticker=%{x}<br>Date=2015-10-31 16:30:00+00:00<br>MarketCap=%{y}<extra></extra>",
         "legendgroup": "META",
         "marker": {
          "color": "#FF6692",
          "pattern": {
           "shape": ""
          }
         },
         "name": "META",
         "offsetgroup": "META",
         "orientation": "v",
         "showlegend": true,
         "textposition": "auto",
         "type": "bar",
         "width": 1,
         "x": [
          "META"
         ],
         "xaxis": "x",
         "y": [
          null
         ],
         "yaxis": "y"
        },
        {
         "alignmentgroup": "True",
         "hovertemplate": "Ticker=%{x}<br>Date=2015-10-31 16:30:00+00:00<br>MarketCap=%{y}<extra></extra>",
         "legendgroup": "MSFT",
         "marker": {
          "color": "#B6E880",
          "pattern": {
           "shape": ""
          }
         },
         "name": "MSFT",
         "offsetgroup": "MSFT",
         "orientation": "v",
         "showlegend": true,
         "textposition": "auto",
         "type": "bar",
         "width": 1,
         "x": [
          "MSFT"
         ],
         "xaxis": "x",
         "y": [
          372789376538.887
         ],
         "yaxis": "y"
        },
        {
         "alignmentgroup": "True",
         "hovertemplate": "Ticker=%{x}<br>Date=2015-10-31 16:30:00+00:00<br>MarketCap=%{y}<extra></extra>",
         "legendgroup": "TCEHY",
         "marker": {
          "color": "#FF97FF",
          "pattern": {
           "shape": ""
          }
         },
         "name": "TCEHY",
         "offsetgroup": "TCEHY",
         "orientation": "v",
         "showlegend": true,
         "textposition": "auto",
         "type": "bar",
         "width": 1,
         "x": [
          "TCEHY"
         ],
         "xaxis": "x",
         "y": [
          null
         ],
         "yaxis": "y"
        },
        {
         "alignmentgroup": "True",
         "hovertemplate": "Ticker=%{x}<br>Date=2015-10-31 16:30:00+00:00<br>MarketCap=%{y}<extra></extra>",
         "legendgroup": "TSLA",
         "marker": {
          "color": "#FECB52",
          "pattern": {
           "shape": ""
          }
         },
         "name": "TSLA",
         "offsetgroup": "TSLA",
         "orientation": "v",
         "showlegend": true,
         "textposition": "auto",
         "type": "bar",
         "width": 1,
         "x": [
          "TSLA"
         ],
         "xaxis": "x",
         "y": [
          2028518379.25148
         ],
         "yaxis": "y"
        }
       ],
       "frames": [
        {
         "data": [
          {
           "alignmentgroup": "True",
           "hovertemplate": "Ticker=%{x}<br>Date=2015-10-31 16:30:00+00:00<br>MarketCap=%{y}<extra></extra>",
           "legendgroup": "AAPL",
           "marker": {
            "color": "#636efa",
            "pattern": {
             "shape": ""
            }
           },
           "name": "AAPL",
           "offsetgroup": "AAPL",
           "orientation": "v",
           "showlegend": true,
           "textposition": "auto",
           "type": "bar",
           "x": [
            "AAPL"
           ],
           "xaxis": "x",
           "y": [
            150700833437.1376
           ],
           "yaxis": "y"
          },
          {
           "alignmentgroup": "True",
           "hovertemplate": "Ticker=%{x}<br>Date=2015-10-31 16:30:00+00:00<br>MarketCap=%{y}<extra></extra>",
           "legendgroup": "AMD",
           "marker": {
            "color": "#EF553B",
            "pattern": {
             "shape": ""
            }
           },
           "name": "AMD",
           "offsetgroup": "AMD",
           "orientation": "v",
           "showlegend": true,
           "textposition": "auto",
           "type": "bar",
           "x": [
            "AMD"
           ],
           "xaxis": "x",
           "y": [
            1998286671.13936
           ],
           "yaxis": "y"
          },
          {
           "alignmentgroup": "True",
           "hovertemplate": "Ticker=%{x}<br>Date=2015-10-31 16:30:00+00:00<br>MarketCap=%{y}<extra></extra>",
           "legendgroup": "AMZN",
           "marker": {
            "color": "#00cc96",
            "pattern": {
             "shape": ""
            }
           },
           "name": "AMZN",
           "offsetgroup": "AMZN",
           "orientation": "v",
           "showlegend": true,
           "textposition": "auto",
           "type": "bar",
           "x": [
            "AMZN"
           ],
           "xaxis": "x",
           "y": [
            14040125014.389038
           ],
           "yaxis": "y"
          },
          {
           "alignmentgroup": "True",
           "hovertemplate": "Ticker=%{x}<br>Date=2015-10-31 16:30:00+00:00<br>MarketCap=%{y}<extra></extra>",
           "legendgroup": "BABA",
           "marker": {
            "color": "#ab63fa",
            "pattern": {
             "shape": ""
            }
           },
           "name": "BABA",
           "offsetgroup": "BABA",
           "orientation": "v",
           "showlegend": true,
           "textposition": "auto",
           "type": "bar",
           "x": [
            "BABA"
           ],
           "xaxis": "x",
           "y": [
            null
           ],
           "yaxis": "y"
          },
          {
           "alignmentgroup": "True",
           "hovertemplate": "Ticker=%{x}<br>Date=2015-10-31 16:30:00+00:00<br>MarketCap=%{y}<extra></extra>",
           "legendgroup": "BIDU",
           "marker": {
            "color": "#FFA15A",
            "pattern": {
             "shape": ""
            }
           },
           "name": "BIDU",
           "offsetgroup": "BIDU",
           "orientation": "v",
           "showlegend": true,
           "textposition": "auto",
           "type": "bar",
           "x": [
            "BIDU"
           ],
           "xaxis": "x",
           "y": [
            null
           ],
           "yaxis": "y"
          },
          {
           "alignmentgroup": "True",
           "hovertemplate": "Ticker=%{x}<br>Date=2015-10-31 16:30:00+00:00<br>MarketCap=%{y}<extra></extra>",
           "legendgroup": "GOOGL",
           "marker": {
            "color": "#19d3f3",
            "pattern": {
             "shape": ""
            }
           },
           "name": "GOOGL",
           "offsetgroup": "GOOGL",
           "orientation": "v",
           "showlegend": true,
           "textposition": "auto",
           "type": "bar",
           "x": [
            "GOOGL"
           ],
           "xaxis": "x",
           "y": [
            25612598522.37701
           ],
           "yaxis": "y"
          },
          {
           "alignmentgroup": "True",
           "hovertemplate": "Ticker=%{x}<br>Date=2015-10-31 16:30:00+00:00<br>MarketCap=%{y}<extra></extra>",
           "legendgroup": "META",
           "marker": {
            "color": "#FF6692",
            "pattern": {
             "shape": ""
            }
           },
           "name": "META",
           "offsetgroup": "META",
           "orientation": "v",
           "showlegend": true,
           "textposition": "auto",
           "type": "bar",
           "x": [
            "META"
           ],
           "xaxis": "x",
           "y": [
            null
           ],
           "yaxis": "y"
          },
          {
           "alignmentgroup": "True",
           "hovertemplate": "Ticker=%{x}<br>Date=2015-10-31 16:30:00+00:00<br>MarketCap=%{y}<extra></extra>",
           "legendgroup": "MSFT",
           "marker": {
            "color": "#B6E880",
            "pattern": {
             "shape": ""
            }
           },
           "name": "MSFT",
           "offsetgroup": "MSFT",
           "orientation": "v",
           "showlegend": true,
           "textposition": "auto",
           "type": "bar",
           "x": [
            "MSFT"
           ],
           "xaxis": "x",
           "y": [
            372789376538.887
           ],
           "yaxis": "y"
          },
          {
           "alignmentgroup": "True",
           "hovertemplate": "Ticker=%{x}<br>Date=2015-10-31 16:30:00+00:00<br>MarketCap=%{y}<extra></extra>",
           "legendgroup": "TCEHY",
           "marker": {
            "color": "#FF97FF",
            "pattern": {
             "shape": ""
            }
           },
           "name": "TCEHY",
           "offsetgroup": "TCEHY",
           "orientation": "v",
           "showlegend": true,
           "textposition": "auto",
           "type": "bar",
           "x": [
            "TCEHY"
           ],
           "xaxis": "x",
           "y": [
            null
           ],
           "yaxis": "y"
          },
          {
           "alignmentgroup": "True",
           "hovertemplate": "Ticker=%{x}<br>Date=2015-10-31 16:30:00+00:00<br>MarketCap=%{y}<extra></extra>",
           "legendgroup": "TSLA",
           "marker": {
            "color": "#FECB52",
            "pattern": {
             "shape": ""
            }
           },
           "name": "TSLA",
           "offsetgroup": "TSLA",
           "orientation": "v",
           "showlegend": true,
           "textposition": "auto",
           "type": "bar",
           "x": [
            "TSLA"
           ],
           "xaxis": "x",
           "y": [
            2028518379.25148
           ],
           "yaxis": "y"
          }
         ],
         "name": "2015-10-31 16:30:00+00:00"
        },
        {
         "data": [
          {
           "alignmentgroup": "True",
           "hovertemplate": "Ticker=%{x}<br>Date=2016-02-12 05:00:00+00:00<br>MarketCap=%{y}<extra></extra>",
           "legendgroup": "AAPL",
           "marker": {
            "color": "#636efa",
            "pattern": {
             "shape": ""
            }
           },
           "name": "AAPL",
           "offsetgroup": "AAPL",
           "orientation": "v",
           "showlegend": true,
           "textposition": "auto",
           "type": "bar",
           "x": [
            "AAPL"
           ],
           "xaxis": "x",
           "y": [
            118735662911.83472
           ],
           "yaxis": "y"
          },
          {
           "alignmentgroup": "True",
           "hovertemplate": "Ticker=%{x}<br>Date=2016-02-12 05:00:00+00:00<br>MarketCap=%{y}<extra></extra>",
           "legendgroup": "AMD",
           "marker": {
            "color": "#EF553B",
            "pattern": {
             "shape": ""
            }
           },
           "name": "AMD",
           "offsetgroup": "AMD",
           "orientation": "v",
           "showlegend": true,
           "textposition": "auto",
           "type": "bar",
           "x": [
            "AMD"
           ],
           "xaxis": "x",
           "y": [
            1860508475.410223
           ],
           "yaxis": "y"
          },
          {
           "alignmentgroup": "True",
           "hovertemplate": "Ticker=%{x}<br>Date=2016-02-12 05:00:00+00:00<br>MarketCap=%{y}<extra></extra>",
           "legendgroup": "AMZN",
           "marker": {
            "color": "#00cc96",
            "pattern": {
             "shape": ""
            }
           },
           "name": "AMZN",
           "offsetgroup": "AMZN",
           "orientation": "v",
           "showlegend": true,
           "textposition": "auto",
           "type": "bar",
           "x": [
            "AMZN"
           ],
           "xaxis": "x",
           "y": [
            13819212879.611967
           ],
           "yaxis": "y"
          },
          {
           "alignmentgroup": "True",
           "hovertemplate": "Ticker=%{x}<br>Date=2016-02-12 05:00:00+00:00<br>MarketCap=%{y}<extra></extra>",
           "legendgroup": "BABA",
           "marker": {
            "color": "#ab63fa",
            "pattern": {
             "shape": ""
            }
           },
           "name": "BABA",
           "offsetgroup": "BABA",
           "orientation": "v",
           "showlegend": true,
           "textposition": "auto",
           "type": "bar",
           "x": [
            "BABA"
           ],
           "xaxis": "x",
           "y": [
            null
           ],
           "yaxis": "y"
          },
          {
           "alignmentgroup": "True",
           "hovertemplate": "Ticker=%{x}<br>Date=2016-02-12 05:00:00+00:00<br>MarketCap=%{y}<extra></extra>",
           "legendgroup": "BIDU",
           "marker": {
            "color": "#FFA15A",
            "pattern": {
             "shape": ""
            }
           },
           "name": "BIDU",
           "offsetgroup": "BIDU",
           "orientation": "v",
           "showlegend": true,
           "textposition": "auto",
           "type": "bar",
           "x": [
            "BIDU"
           ],
           "xaxis": "x",
           "y": [
            null
           ],
           "yaxis": "y"
          },
          {
           "alignmentgroup": "True",
           "hovertemplate": "Ticker=%{x}<br>Date=2016-02-12 05:00:00+00:00<br>MarketCap=%{y}<extra></extra>",
           "legendgroup": "GOOGL",
           "marker": {
            "color": "#19d3f3",
            "pattern": {
             "shape": ""
            }
           },
           "name": "GOOGL",
           "offsetgroup": "GOOGL",
           "orientation": "v",
           "showlegend": true,
           "textposition": "auto",
           "type": "bar",
           "x": [
            "GOOGL"
           ],
           "xaxis": "x",
           "y": [
            24637731247.65396
           ],
           "yaxis": "y"
          },
          {
           "alignmentgroup": "True",
           "hovertemplate": "Ticker=%{x}<br>Date=2016-02-12 05:00:00+00:00<br>MarketCap=%{y}<extra></extra>",
           "legendgroup": "META",
           "marker": {
            "color": "#FF6692",
            "pattern": {
             "shape": ""
            }
           },
           "name": "META",
           "offsetgroup": "META",
           "orientation": "v",
           "showlegend": true,
           "textposition": "auto",
           "type": "bar",
           "x": [
            "META"
           ],
           "xaxis": "x",
           "y": [
            null
           ],
           "yaxis": "y"
          },
          {
           "alignmentgroup": "True",
           "hovertemplate": "Ticker=%{x}<br>Date=2016-02-12 05:00:00+00:00<br>MarketCap=%{y}<extra></extra>",
           "legendgroup": "MSFT",
           "marker": {
            "color": "#B6E880",
            "pattern": {
             "shape": ""
            }
           },
           "name": "MSFT",
           "offsetgroup": "MSFT",
           "orientation": "v",
           "showlegend": true,
           "textposition": "auto",
           "type": "bar",
           "x": [
            "MSFT"
           ],
           "xaxis": "x",
           "y": [
            365915432315.0635
           ],
           "yaxis": "y"
          },
          {
           "alignmentgroup": "True",
           "hovertemplate": "Ticker=%{x}<br>Date=2016-02-12 05:00:00+00:00<br>MarketCap=%{y}<extra></extra>",
           "legendgroup": "TCEHY",
           "marker": {
            "color": "#FF97FF",
            "pattern": {
             "shape": ""
            }
           },
           "name": "TCEHY",
           "offsetgroup": "TCEHY",
           "orientation": "v",
           "showlegend": true,
           "textposition": "auto",
           "type": "bar",
           "x": [
            "TCEHY"
           ],
           "xaxis": "x",
           "y": [
            null
           ],
           "yaxis": "y"
          },
          {
           "alignmentgroup": "True",
           "hovertemplate": "Ticker=%{x}<br>Date=2016-02-12 05:00:00+00:00<br>MarketCap=%{y}<extra></extra>",
           "legendgroup": "TSLA",
           "marker": {
            "color": "#FECB52",
            "pattern": {
             "shape": ""
            }
           },
           "name": "TSLA",
           "offsetgroup": "TSLA",
           "orientation": "v",
           "showlegend": true,
           "textposition": "auto",
           "type": "bar",
           "x": [
            "TSLA"
           ],
           "xaxis": "x",
           "y": [
            1575868275.062561
           ],
           "yaxis": "y"
          }
         ],
         "name": "2016-02-12 05:00:00+00:00"
        },
        {
         "data": [
          {
           "alignmentgroup": "True",
           "hovertemplate": "Ticker=%{x}<br>Date=2016-05-03 04:00:00+00:00<br>MarketCap=%{y}<extra></extra>",
           "legendgroup": "AAPL",
           "marker": {
            "color": "#636efa",
            "pattern": {
             "shape": ""
            }
           },
           "name": "AAPL",
           "offsetgroup": "AAPL",
           "orientation": "v",
           "showlegend": true,
           "textposition": "auto",
           "type": "bar",
           "x": [
            "AAPL"
           ],
           "xaxis": "x",
           "y": [
            124087925214.57672
           ],
           "yaxis": "y"
          },
          {
           "alignmentgroup": "True",
           "hovertemplate": "Ticker=%{x}<br>Date=2016-05-03 04:00:00+00:00<br>MarketCap=%{y}<extra></extra>",
           "legendgroup": "AMD",
           "marker": {
            "color": "#EF553B",
            "pattern": {
             "shape": ""
            }
           },
           "name": "AMD",
           "offsetgroup": "AMD",
           "orientation": "v",
           "showlegend": true,
           "textposition": "auto",
           "type": "bar",
           "x": [
            "AMD"
           ],
           "xaxis": "x",
           "y": [
            2864607116.756439
           ],
           "yaxis": "y"
          },
          {
           "alignmentgroup": "True",
           "hovertemplate": "Ticker=%{x}<br>Date=2016-05-03 04:00:00+00:00<br>MarketCap=%{y}<extra></extra>",
           "legendgroup": "AMZN",
           "marker": {
            "color": "#00cc96",
            "pattern": {
             "shape": ""
            }
           },
           "name": "AMZN",
           "offsetgroup": "AMZN",
           "orientation": "v",
           "showlegend": true,
           "textposition": "auto",
           "type": "bar",
           "x": [
            "AMZN"
           ],
           "xaxis": "x",
           "y": [
            14878713473.39058
           ],
           "yaxis": "y"
          },
          {
           "alignmentgroup": "True",
           "hovertemplate": "Ticker=%{x}<br>Date=2016-05-03 04:00:00+00:00<br>MarketCap=%{y}<extra></extra>",
           "legendgroup": "BABA",
           "marker": {
            "color": "#ab63fa",
            "pattern": {
             "shape": ""
            }
           },
           "name": "BABA",
           "offsetgroup": "BABA",
           "orientation": "v",
           "showlegend": true,
           "textposition": "auto",
           "type": "bar",
           "x": [
            "BABA"
           ],
           "xaxis": "x",
           "y": [
            null
           ],
           "yaxis": "y"
          },
          {
           "alignmentgroup": "True",
           "hovertemplate": "Ticker=%{x}<br>Date=2016-05-03 04:00:00+00:00<br>MarketCap=%{y}<extra></extra>",
           "legendgroup": "BIDU",
           "marker": {
            "color": "#FFA15A",
            "pattern": {
             "shape": ""
            }
           },
           "name": "BIDU",
           "offsetgroup": "BIDU",
           "orientation": "v",
           "showlegend": true,
           "textposition": "auto",
           "type": "bar",
           "x": [
            "BIDU"
           ],
           "xaxis": "x",
           "y": [
            null
           ],
           "yaxis": "y"
          },
          {
           "alignmentgroup": "True",
           "hovertemplate": "Ticker=%{x}<br>Date=2016-05-03 04:00:00+00:00<br>MarketCap=%{y}<extra></extra>",
           "legendgroup": "GOOGL",
           "marker": {
            "color": "#19d3f3",
            "pattern": {
             "shape": ""
            }
           },
           "name": "GOOGL",
           "offsetgroup": "GOOGL",
           "orientation": "v",
           "showlegend": true,
           "textposition": "auto",
           "type": "bar",
           "x": [
            "GOOGL"
           ],
           "xaxis": "x",
           "y": [
            24674363574.51439
           ],
           "yaxis": "y"
          },
          {
           "alignmentgroup": "True",
           "hovertemplate": "Ticker=%{x}<br>Date=2016-05-03 04:00:00+00:00<br>MarketCap=%{y}<extra></extra>",
           "legendgroup": "META",
           "marker": {
            "color": "#FF6692",
            "pattern": {
             "shape": ""
            }
           },
           "name": "META",
           "offsetgroup": "META",
           "orientation": "v",
           "showlegend": true,
           "textposition": "auto",
           "type": "bar",
           "x": [
            "META"
           ],
           "xaxis": "x",
           "y": [
            null
           ],
           "yaxis": "y"
          },
          {
           "alignmentgroup": "True",
           "hovertemplate": "Ticker=%{x}<br>Date=2016-05-03 04:00:00+00:00<br>MarketCap=%{y}<extra></extra>",
           "legendgroup": "MSFT",
           "marker": {
            "color": "#B6E880",
            "pattern": {
             "shape": ""
            }
           },
           "name": "MSFT",
           "offsetgroup": "MSFT",
           "orientation": "v",
           "showlegend": true,
           "textposition": "auto",
           "type": "bar",
           "x": [
            "MSFT"
           ],
           "xaxis": "x",
           "y": [
            392439296138.7253
           ],
           "yaxis": "y"
          },
          {
           "alignmentgroup": "True",
           "hovertemplate": "Ticker=%{x}<br>Date=2016-05-03 04:00:00+00:00<br>MarketCap=%{y}<extra></extra>",
           "legendgroup": "TCEHY",
           "marker": {
            "color": "#FF97FF",
            "pattern": {
             "shape": ""
            }
           },
           "name": "TCEHY",
           "offsetgroup": "TCEHY",
           "orientation": "v",
           "showlegend": true,
           "textposition": "auto",
           "type": "bar",
           "x": [
            "TCEHY"
           ],
           "xaxis": "x",
           "y": [
            null
           ],
           "yaxis": "y"
          },
          {
           "alignmentgroup": "True",
           "hovertemplate": "Ticker=%{x}<br>Date=2016-05-03 04:00:00+00:00<br>MarketCap=%{y}<extra></extra>",
           "legendgroup": "TSLA",
           "marker": {
            "color": "#FECB52",
            "pattern": {
             "shape": ""
            }
           },
           "name": "TSLA",
           "offsetgroup": "TSLA",
           "orientation": "v",
           "showlegend": true,
           "textposition": "auto",
           "type": "bar",
           "x": [
            "TSLA"
           ],
           "xaxis": "x",
           "y": [
            2139738556.0264587
           ],
           "yaxis": "y"
          }
         ],
         "name": "2016-05-03 04:00:00+00:00"
        },
        {
         "data": [
          {
           "alignmentgroup": "True",
           "hovertemplate": "Ticker=%{x}<br>Date=2016-07-30 16:00:00+00:00<br>MarketCap=%{y}<extra></extra>",
           "legendgroup": "AAPL",
           "marker": {
            "color": "#636efa",
            "pattern": {
             "shape": ""
            }
           },
           "name": "AAPL",
           "offsetgroup": "AAPL",
           "orientation": "v",
           "showlegend": true,
           "textposition": "auto",
           "type": "bar",
           "x": [
            "AAPL"
           ],
           "xaxis": "x",
           "y": [
            129440187517.31873
           ],
           "yaxis": "y"
          },
          {
           "alignmentgroup": "True",
           "hovertemplate": "Ticker=%{x}<br>Date=2016-07-30 16:00:00+00:00<br>MarketCap=%{y}<extra></extra>",
           "legendgroup": "AMD",
           "marker": {
            "color": "#EF553B",
            "pattern": {
             "shape": ""
            }
           },
           "name": "AMD",
           "offsetgroup": "AMD",
           "orientation": "v",
           "showlegend": true,
           "textposition": "auto",
           "type": "bar",
           "x": [
            "AMD"
           ],
           "xaxis": "x",
           "y": [
            5345147325.162411
           ],
           "yaxis": "y"
          },
          {
           "alignmentgroup": "True",
           "hovertemplate": "Ticker=%{x}<br>Date=2016-07-30 16:00:00+00:00<br>MarketCap=%{y}<extra></extra>",
           "legendgroup": "AMZN",
           "marker": {
            "color": "#00cc96",
            "pattern": {
             "shape": ""
            }
           },
           "name": "AMZN",
           "offsetgroup": "AMZN",
           "orientation": "v",
           "showlegend": true,
           "textposition": "auto",
           "type": "bar",
           "x": [
            "AMZN"
           ],
           "xaxis": "x",
           "y": [
            17986603815.750122
           ],
           "yaxis": "y"
          },
          {
           "alignmentgroup": "True",
           "hovertemplate": "Ticker=%{x}<br>Date=2016-07-30 16:00:00+00:00<br>MarketCap=%{y}<extra></extra>",
           "legendgroup": "BABA",
           "marker": {
            "color": "#ab63fa",
            "pattern": {
             "shape": ""
            }
           },
           "name": "BABA",
           "offsetgroup": "BABA",
           "orientation": "v",
           "showlegend": true,
           "textposition": "auto",
           "type": "bar",
           "x": [
            "BABA"
           ],
           "xaxis": "x",
           "y": [
            null
           ],
           "yaxis": "y"
          },
          {
           "alignmentgroup": "True",
           "hovertemplate": "Ticker=%{x}<br>Date=2016-07-30 16:00:00+00:00<br>MarketCap=%{y}<extra></extra>",
           "legendgroup": "BIDU",
           "marker": {
            "color": "#FFA15A",
            "pattern": {
             "shape": ""
            }
           },
           "name": "BIDU",
           "offsetgroup": "BIDU",
           "orientation": "v",
           "showlegend": true,
           "textposition": "auto",
           "type": "bar",
           "x": [
            "BIDU"
           ],
           "xaxis": "x",
           "y": [
            null
           ],
           "yaxis": "y"
          },
          {
           "alignmentgroup": "True",
           "hovertemplate": "Ticker=%{x}<br>Date=2016-07-30 16:00:00+00:00<br>MarketCap=%{y}<extra></extra>",
           "legendgroup": "GOOGL",
           "marker": {
            "color": "#19d3f3",
            "pattern": {
             "shape": ""
            }
           },
           "name": "GOOGL",
           "offsetgroup": "GOOGL",
           "orientation": "v",
           "showlegend": true,
           "textposition": "auto",
           "type": "bar",
           "x": [
            "GOOGL"
           ],
           "xaxis": "x",
           "y": [
            27126370607.852936
           ],
           "yaxis": "y"
          },
          {
           "alignmentgroup": "True",
           "hovertemplate": "Ticker=%{x}<br>Date=2016-07-30 16:00:00+00:00<br>MarketCap=%{y}<extra></extra>",
           "legendgroup": "META",
           "marker": {
            "color": "#FF6692",
            "pattern": {
             "shape": ""
            }
           },
           "name": "META",
           "offsetgroup": "META",
           "orientation": "v",
           "showlegend": true,
           "textposition": "auto",
           "type": "bar",
           "x": [
            "META"
           ],
           "xaxis": "x",
           "y": [
            null
           ],
           "yaxis": "y"
          },
          {
           "alignmentgroup": "True",
           "hovertemplate": "Ticker=%{x}<br>Date=2016-07-30 16:00:00+00:00<br>MarketCap=%{y}<extra></extra>",
           "legendgroup": "MSFT",
           "marker": {
            "color": "#B6E880",
            "pattern": {
             "shape": ""
            }
           },
           "name": "MSFT",
           "offsetgroup": "MSFT",
           "orientation": "v",
           "showlegend": true,
           "textposition": "auto",
           "type": "bar",
           "x": [
            "MSFT"
           ],
           "xaxis": "x",
           "y": [
            394124687557.52563
           ],
           "yaxis": "y"
          },
          {
           "alignmentgroup": "True",
           "hovertemplate": "Ticker=%{x}<br>Date=2016-07-30 16:00:00+00:00<br>MarketCap=%{y}<extra></extra>",
           "legendgroup": "TCEHY",
           "marker": {
            "color": "#FF97FF",
            "pattern": {
             "shape": ""
            }
           },
           "name": "TCEHY",
           "offsetgroup": "TCEHY",
           "orientation": "v",
           "showlegend": true,
           "textposition": "auto",
           "type": "bar",
           "x": [
            "TCEHY"
           ],
           "xaxis": "x",
           "y": [
            null
           ],
           "yaxis": "y"
          },
          {
           "alignmentgroup": "True",
           "hovertemplate": "Ticker=%{x}<br>Date=2016-07-30 16:00:00+00:00<br>MarketCap=%{y}<extra></extra>",
           "legendgroup": "TSLA",
           "marker": {
            "color": "#FECB52",
            "pattern": {
             "shape": ""
            }
           },
           "name": "TSLA",
           "offsetgroup": "TSLA",
           "orientation": "v",
           "showlegend": true,
           "textposition": "auto",
           "type": "bar",
           "x": [
            "TSLA"
           ],
           "xaxis": "x",
           "y": [
            2270152643.7835693
           ],
           "yaxis": "y"
          }
         ],
         "name": "2016-07-30 16:00:00+00:00"
        },
        {
         "data": [
          {
           "alignmentgroup": "True",
           "hovertemplate": "Ticker=%{x}<br>Date=2016-10-31 04:00:00+00:00<br>MarketCap=%{y}<extra></extra>",
           "legendgroup": "AAPL",
           "marker": {
            "color": "#636efa",
            "pattern": {
             "shape": ""
            }
           },
           "name": "AAPL",
           "offsetgroup": "AAPL",
           "orientation": "v",
           "showlegend": true,
           "textposition": "auto",
           "type": "bar",
           "x": [
            "AAPL"
           ],
           "xaxis": "x",
           "y": [
            142671512879.02832
           ],
           "yaxis": "y"
          },
          {
           "alignmentgroup": "True",
           "hovertemplate": "Ticker=%{x}<br>Date=2016-10-31 04:00:00+00:00<br>MarketCap=%{y}<extra></extra>",
           "legendgroup": "AMD",
           "marker": {
            "color": "#EF553B",
            "pattern": {
             "shape": ""
            }
           },
           "name": "AMD",
           "offsetgroup": "AMD",
           "orientation": "v",
           "showlegend": true,
           "textposition": "auto",
           "type": "bar",
           "x": [
            "AMD"
           ],
           "xaxis": "x",
           "y": [
            6756874974.642754
           ],
           "yaxis": "y"
          },
          {
           "alignmentgroup": "True",
           "hovertemplate": "Ticker=%{x}<br>Date=2016-10-31 04:00:00+00:00<br>MarketCap=%{y}<extra></extra>",
           "legendgroup": "AMZN",
           "marker": {
            "color": "#00cc96",
            "pattern": {
             "shape": ""
            }
           },
           "name": "AMZN",
           "offsetgroup": "AMZN",
           "orientation": "v",
           "showlegend": true,
           "textposition": "auto",
           "type": "bar",
           "x": [
            "AMZN"
           ],
           "xaxis": "x",
           "y": [
            18444083171.05865
           ],
           "yaxis": "y"
          },
          {
           "alignmentgroup": "True",
           "hovertemplate": "Ticker=%{x}<br>Date=2016-10-31 04:00:00+00:00<br>MarketCap=%{y}<extra></extra>",
           "legendgroup": "BABA",
           "marker": {
            "color": "#ab63fa",
            "pattern": {
             "shape": ""
            }
           },
           "name": "BABA",
           "offsetgroup": "BABA",
           "orientation": "v",
           "showlegend": true,
           "textposition": "auto",
           "type": "bar",
           "x": [
            "BABA"
           ],
           "xaxis": "x",
           "y": [
            null
           ],
           "yaxis": "y"
          },
          {
           "alignmentgroup": "True",
           "hovertemplate": "Ticker=%{x}<br>Date=2016-10-31 04:00:00+00:00<br>MarketCap=%{y}<extra></extra>",
           "legendgroup": "BIDU",
           "marker": {
            "color": "#FFA15A",
            "pattern": {
             "shape": ""
            }
           },
           "name": "BIDU",
           "offsetgroup": "BIDU",
           "orientation": "v",
           "showlegend": true,
           "textposition": "auto",
           "type": "bar",
           "x": [
            "BIDU"
           ],
           "xaxis": "x",
           "y": [
            62301745219.573975
           ],
           "yaxis": "y"
          },
          {
           "alignmentgroup": "True",
           "hovertemplate": "Ticker=%{x}<br>Date=2016-10-31 04:00:00+00:00<br>MarketCap=%{y}<extra></extra>",
           "legendgroup": "GOOGL",
           "marker": {
            "color": "#19d3f3",
            "pattern": {
             "shape": ""
            }
           },
           "name": "GOOGL",
           "offsetgroup": "GOOGL",
           "orientation": "v",
           "showlegend": true,
           "textposition": "auto",
           "type": "bar",
           "x": [
            "GOOGL"
           ],
           "xaxis": "x",
           "y": [
            26580651380.58853
           ],
           "yaxis": "y"
          },
          {
           "alignmentgroup": "True",
           "hovertemplate": "Ticker=%{x}<br>Date=2016-10-31 04:00:00+00:00<br>MarketCap=%{y}<extra></extra>",
           "legendgroup": "META",
           "marker": {
            "color": "#FF6692",
            "pattern": {
             "shape": ""
            }
           },
           "name": "META",
           "offsetgroup": "META",
           "orientation": "v",
           "showlegend": true,
           "textposition": "auto",
           "type": "bar",
           "x": [
            "META"
           ],
           "xaxis": "x",
           "y": [
            null
           ],
           "yaxis": "y"
          },
          {
           "alignmentgroup": "True",
           "hovertemplate": "Ticker=%{x}<br>Date=2016-10-31 04:00:00+00:00<br>MarketCap=%{y}<extra></extra>",
           "legendgroup": "MSFT",
           "marker": {
            "color": "#B6E880",
            "pattern": {
             "shape": ""
            }
           },
           "name": "MSFT",
           "offsetgroup": "MSFT",
           "orientation": "v",
           "showlegend": true,
           "textposition": "auto",
           "type": "bar",
           "x": [
            "MSFT"
           ],
           "xaxis": "x",
           "y": [
            404124106238.9756
           ],
           "yaxis": "y"
          },
          {
           "alignmentgroup": "True",
           "hovertemplate": "Ticker=%{x}<br>Date=2016-10-31 04:00:00+00:00<br>MarketCap=%{y}<extra></extra>",
           "legendgroup": "TCEHY",
           "marker": {
            "color": "#FF97FF",
            "pattern": {
             "shape": ""
            }
           },
           "name": "TCEHY",
           "offsetgroup": "TCEHY",
           "orientation": "v",
           "showlegend": true,
           "textposition": "auto",
           "type": "bar",
           "x": [
            "TCEHY"
           ],
           "xaxis": "x",
           "y": [
            null
           ],
           "yaxis": "y"
          },
          {
           "alignmentgroup": "True",
           "hovertemplate": "Ticker=%{x}<br>Date=2016-10-31 04:00:00+00:00<br>MarketCap=%{y}<extra></extra>",
           "legendgroup": "TSLA",
           "marker": {
            "color": "#FECB52",
            "pattern": {
             "shape": ""
            }
           },
           "name": "TSLA",
           "offsetgroup": "TSLA",
           "orientation": "v",
           "showlegend": true,
           "textposition": "auto",
           "type": "bar",
           "x": [
            "TSLA"
           ],
           "xaxis": "x",
           "y": [
            2162593188.5967255
           ],
           "yaxis": "y"
          }
         ],
         "name": "2016-10-31 04:00:00+00:00"
        },
        {
         "data": [
          {
           "alignmentgroup": "True",
           "hovertemplate": "Ticker=%{x}<br>Date=2017-02-09 05:00:00+00:00<br>MarketCap=%{y}<extra></extra>",
           "legendgroup": "AAPL",
           "marker": {
            "color": "#636efa",
            "pattern": {
             "shape": ""
            }
           },
           "name": "AAPL",
           "offsetgroup": "AAPL",
           "orientation": "v",
           "showlegend": true,
           "textposition": "auto",
           "type": "bar",
           "x": [
            "AAPL"
           ],
           "xaxis": "x",
           "y": [
            157427408808.403
           ],
           "yaxis": "y"
          },
          {
           "alignmentgroup": "True",
           "hovertemplate": "Ticker=%{x}<br>Date=2017-02-09 05:00:00+00:00<br>MarketCap=%{y}<extra></extra>",
           "legendgroup": "AMD",
           "marker": {
            "color": "#EF553B",
            "pattern": {
             "shape": ""
            }
           },
           "name": "AMD",
           "offsetgroup": "AMD",
           "orientation": "v",
           "showlegend": true,
           "textposition": "auto",
           "type": "bar",
           "x": [
            "AMD"
           ],
           "xaxis": "x",
           "y": [
            12888324603.9505
           ],
           "yaxis": "y"
          },
          {
           "alignmentgroup": "True",
           "hovertemplate": "Ticker=%{x}<br>Date=2017-02-09 05:00:00+00:00<br>MarketCap=%{y}<extra></extra>",
           "legendgroup": "AMZN",
           "marker": {
            "color": "#00cc96",
            "pattern": {
             "shape": ""
            }
           },
           "name": "AMZN",
           "offsetgroup": "AMZN",
           "orientation": "v",
           "showlegend": true,
           "textposition": "auto",
           "type": "bar",
           "x": [
            "AMZN"
           ],
           "xaxis": "x",
           "y": [
            19532632753.303528
           ],
           "yaxis": "y"
          },
          {
           "alignmentgroup": "True",
           "hovertemplate": "Ticker=%{x}<br>Date=2017-02-09 05:00:00+00:00<br>MarketCap=%{y}<extra></extra>",
           "legendgroup": "BABA",
           "marker": {
            "color": "#ab63fa",
            "pattern": {
             "shape": ""
            }
           },
           "name": "BABA",
           "offsetgroup": "BABA",
           "orientation": "v",
           "showlegend": true,
           "textposition": "auto",
           "type": "bar",
           "x": [
            "BABA"
           ],
           "xaxis": "x",
           "y": [
            null
           ],
           "yaxis": "y"
          },
          {
           "alignmentgroup": "True",
           "hovertemplate": "Ticker=%{x}<br>Date=2017-02-09 05:00:00+00:00<br>MarketCap=%{y}<extra></extra>",
           "legendgroup": "BIDU",
           "marker": {
            "color": "#FFA15A",
            "pattern": {
             "shape": ""
            }
           },
           "name": "BIDU",
           "offsetgroup": "BIDU",
           "orientation": "v",
           "showlegend": true,
           "textposition": "auto",
           "type": "bar",
           "x": [
            "BIDU"
           ],
           "xaxis": "x",
           "y": [
            61981132254.86499
           ],
           "yaxis": "y"
          },
          {
           "alignmentgroup": "True",
           "hovertemplate": "Ticker=%{x}<br>Date=2017-02-09 05:00:00+00:00<br>MarketCap=%{y}<extra></extra>",
           "legendgroup": "GOOGL",
           "marker": {
            "color": "#19d3f3",
            "pattern": {
             "shape": ""
            }
           },
           "name": "GOOGL",
           "offsetgroup": "GOOGL",
           "orientation": "v",
           "showlegend": true,
           "textposition": "auto",
           "type": "bar",
           "x": [
            "GOOGL"
           ],
           "xaxis": "x",
           "y": [
            28380581661.195312
           ],
           "yaxis": "y"
          },
          {
           "alignmentgroup": "True",
           "hovertemplate": "Ticker=%{x}<br>Date=2017-02-09 05:00:00+00:00<br>MarketCap=%{y}<extra></extra>",
           "legendgroup": "META",
           "marker": {
            "color": "#FF6692",
            "pattern": {
             "shape": ""
            }
           },
           "name": "META",
           "offsetgroup": "META",
           "orientation": "v",
           "showlegend": true,
           "textposition": "auto",
           "type": "bar",
           "x": [
            "META"
           ],
           "xaxis": "x",
           "y": [
            null
           ],
           "yaxis": "y"
          },
          {
           "alignmentgroup": "True",
           "hovertemplate": "Ticker=%{x}<br>Date=2017-02-09 05:00:00+00:00<br>MarketCap=%{y}<extra></extra>",
           "legendgroup": "MSFT",
           "marker": {
            "color": "#B6E880",
            "pattern": {
             "shape": ""
            }
           },
           "name": "MSFT",
           "offsetgroup": "MSFT",
           "orientation": "v",
           "showlegend": true,
           "textposition": "auto",
           "type": "bar",
           "x": [
            "MSFT"
           ],
           "xaxis": "x",
           "y": [
            460132840887.67145
           ],
           "yaxis": "y"
          },
          {
           "alignmentgroup": "True",
           "hovertemplate": "Ticker=%{x}<br>Date=2017-02-09 05:00:00+00:00<br>MarketCap=%{y}<extra></extra>",
           "legendgroup": "TCEHY",
           "marker": {
            "color": "#FF97FF",
            "pattern": {
             "shape": ""
            }
           },
           "name": "TCEHY",
           "offsetgroup": "TCEHY",
           "orientation": "v",
           "showlegend": true,
           "textposition": "auto",
           "type": "bar",
           "x": [
            "TCEHY"
           ],
           "xaxis": "x",
           "y": [
            null
           ],
           "yaxis": "y"
          },
          {
           "alignmentgroup": "True",
           "hovertemplate": "Ticker=%{x}<br>Date=2017-02-09 05:00:00+00:00<br>MarketCap=%{y}<extra></extra>",
           "legendgroup": "TSLA",
           "marker": {
            "color": "#FECB52",
            "pattern": {
             "shape": ""
            }
           },
           "name": "TSLA",
           "offsetgroup": "TSLA",
           "orientation": "v",
           "showlegend": true,
           "textposition": "auto",
           "type": "bar",
           "x": [
            "TSLA"
           ],
           "xaxis": "x",
           "y": [
            2755086779.3340683
           ],
           "yaxis": "y"
          }
         ],
         "name": "2017-02-09 05:00:00+00:00"
        },
        {
         "data": [
          {
           "alignmentgroup": "True",
           "hovertemplate": "Ticker=%{x}<br>Date=2017-05-22 16:00:00+00:00<br>MarketCap=%{y}<extra></extra>",
           "legendgroup": "AAPL",
           "marker": {
            "color": "#636efa",
            "pattern": {
             "shape": ""
            }
           },
           "name": "AAPL",
           "offsetgroup": "AAPL",
           "orientation": "v",
           "showlegend": true,
           "textposition": "auto",
           "type": "bar",
           "x": [
            "AAPL"
           ],
           "xaxis": "x",
           "y": [
            179166495611.5254
           ],
           "yaxis": "y"
          },
          {
           "alignmentgroup": "True",
           "hovertemplate": "Ticker=%{x}<br>Date=2017-05-22 16:00:00+00:00<br>MarketCap=%{y}<extra></extra>",
           "legendgroup": "AMD",
           "marker": {
            "color": "#EF553B",
            "pattern": {
             "shape": ""
            }
           },
           "name": "AMD",
           "offsetgroup": "AMD",
           "orientation": "v",
           "showlegend": true,
           "textposition": "auto",
           "type": "bar",
           "x": [
            "AMD"
           ],
           "xaxis": "x",
           "y": [
            9487960603.9505
           ],
           "yaxis": "y"
          },
          {
           "alignmentgroup": "True",
           "hovertemplate": "Ticker=%{x}<br>Date=2017-05-22 16:00:00+00:00<br>MarketCap=%{y}<extra></extra>",
           "legendgroup": "AMZN",
           "marker": {
            "color": "#00cc96",
            "pattern": {
             "shape": ""
            }
           },
           "name": "AMZN",
           "offsetgroup": "AMZN",
           "orientation": "v",
           "showlegend": true,
           "textposition": "auto",
           "type": "bar",
           "x": [
            "AMZN"
           ],
           "xaxis": "x",
           "y": [
            21679921571.940186
           ],
           "yaxis": "y"
          },
          {
           "alignmentgroup": "True",
           "hovertemplate": "Ticker=%{x}<br>Date=2017-05-22 16:00:00+00:00<br>MarketCap=%{y}<extra></extra>",
           "legendgroup": "BABA",
           "marker": {
            "color": "#ab63fa",
            "pattern": {
             "shape": ""
            }
           },
           "name": "BABA",
           "offsetgroup": "BABA",
           "orientation": "v",
           "showlegend": true,
           "textposition": "auto",
           "type": "bar",
           "x": [
            "BABA"
           ],
           "xaxis": "x",
           "y": [
            331188170244.1992
           ],
           "yaxis": "y"
          },
          {
           "alignmentgroup": "True",
           "hovertemplate": "Ticker=%{x}<br>Date=2017-05-22 16:00:00+00:00<br>MarketCap=%{y}<extra></extra>",
           "legendgroup": "BIDU",
           "marker": {
            "color": "#FFA15A",
            "pattern": {
             "shape": ""
            }
           },
           "name": "BIDU",
           "offsetgroup": "BIDU",
           "orientation": "v",
           "showlegend": true,
           "textposition": "auto",
           "type": "bar",
           "x": [
            "BIDU"
           ],
           "xaxis": "x",
           "y": [
            65163746845.95508
           ],
           "yaxis": "y"
          },
          {
           "alignmentgroup": "True",
           "hovertemplate": "Ticker=%{x}<br>Date=2017-05-22 16:00:00+00:00<br>MarketCap=%{y}<extra></extra>",
           "legendgroup": "GOOGL",
           "marker": {
            "color": "#19d3f3",
            "pattern": {
             "shape": ""
            }
           },
           "name": "GOOGL",
           "offsetgroup": "GOOGL",
           "orientation": "v",
           "showlegend": true,
           "textposition": "auto",
           "type": "bar",
           "x": [
            "GOOGL"
           ],
           "xaxis": "x",
           "y": [
            32406260637.08496
           ],
           "yaxis": "y"
          },
          {
           "alignmentgroup": "True",
           "hovertemplate": "Ticker=%{x}<br>Date=2017-05-22 16:00:00+00:00<br>MarketCap=%{y}<extra></extra>",
           "legendgroup": "META",
           "marker": {
            "color": "#FF6692",
            "pattern": {
             "shape": ""
            }
           },
           "name": "META",
           "offsetgroup": "META",
           "orientation": "v",
           "showlegend": true,
           "textposition": "auto",
           "type": "bar",
           "x": [
            "META"
           ],
           "xaxis": "x",
           "y": [
            null
           ],
           "yaxis": "y"
          },
          {
           "alignmentgroup": "True",
           "hovertemplate": "Ticker=%{x}<br>Date=2017-05-22 16:00:00+00:00<br>MarketCap=%{y}<extra></extra>",
           "legendgroup": "MSFT",
           "marker": {
            "color": "#B6E880",
            "pattern": {
             "shape": ""
            }
           },
           "name": "MSFT",
           "offsetgroup": "MSFT",
           "orientation": "v",
           "showlegend": true,
           "textposition": "auto",
           "type": "bar",
           "x": [
            "MSFT"
           ],
           "xaxis": "x",
           "y": [
            484167868274.2754
           ],
           "yaxis": "y"
          },
          {
           "alignmentgroup": "True",
           "hovertemplate": "Ticker=%{x}<br>Date=2017-05-22 16:00:00+00:00<br>MarketCap=%{y}<extra></extra>",
           "legendgroup": "TCEHY",
           "marker": {
            "color": "#FF97FF",
            "pattern": {
             "shape": ""
            }
           },
           "name": "TCEHY",
           "offsetgroup": "TCEHY",
           "orientation": "v",
           "showlegend": true,
           "textposition": "auto",
           "type": "bar",
           "x": [
            "TCEHY"
           ],
           "xaxis": "x",
           "y": [
            306670822201.1914
           ],
           "yaxis": "y"
          },
          {
           "alignmentgroup": "True",
           "hovertemplate": "Ticker=%{x}<br>Date=2017-05-22 16:00:00+00:00<br>MarketCap=%{y}<extra></extra>",
           "legendgroup": "TSLA",
           "marker": {
            "color": "#FECB52",
            "pattern": {
             "shape": ""
            }
           },
           "name": "TSLA",
           "offsetgroup": "TSLA",
           "orientation": "v",
           "showlegend": true,
           "textposition": "auto",
           "type": "bar",
           "x": [
            "TSLA"
           ],
           "xaxis": "x",
           "y": [
            3561375847.587585
           ],
           "yaxis": "y"
          }
         ],
         "name": "2017-05-22 16:00:00+00:00"
        },
        {
         "data": [
          {
           "alignmentgroup": "True",
           "hovertemplate": "Ticker=%{x}<br>Date=2017-08-11 16:00:00+00:00<br>MarketCap=%{y}<extra></extra>",
           "legendgroup": "AAPL",
           "marker": {
            "color": "#636efa",
            "pattern": {
             "shape": ""
            }
           },
           "name": "AAPL",
           "offsetgroup": "AAPL",
           "orientation": "v",
           "showlegend": true,
           "textposition": "auto",
           "type": "bar",
           "x": [
            "AAPL"
           ],
           "xaxis": "x",
           "y": [
            187081786272.375
           ],
           "yaxis": "y"
          },
          {
           "alignmentgroup": "True",
           "hovertemplate": "Ticker=%{x}<br>Date=2017-08-11 16:00:00+00:00<br>MarketCap=%{y}<extra></extra>",
           "legendgroup": "AMD",
           "marker": {
            "color": "#EF553B",
            "pattern": {
             "shape": ""
            }
           },
           "name": "AMD",
           "offsetgroup": "AMD",
           "orientation": "v",
           "showlegend": true,
           "textposition": "auto",
           "type": "bar",
           "x": [
            "AMD"
           ],
           "xaxis": "x",
           "y": [
            12834114338.134766
           ],
           "yaxis": "y"
          },
          {
           "alignmentgroup": "True",
           "hovertemplate": "Ticker=%{x}<br>Date=2017-08-11 16:00:00+00:00<br>MarketCap=%{y}<extra></extra>",
           "legendgroup": "AMZN",
           "marker": {
            "color": "#00cc96",
            "pattern": {
             "shape": ""
            }
           },
           "name": "AMZN",
           "offsetgroup": "AMZN",
           "orientation": "v",
           "showlegend": true,
           "textposition": "auto",
           "type": "bar",
           "x": [
            "AMZN"
           ],
           "xaxis": "x",
           "y": [
            24576435214.59961
           ],
           "yaxis": "y"
          },
          {
           "alignmentgroup": "True",
           "hovertemplate": "Ticker=%{x}<br>Date=2017-08-11 16:00:00+00:00<br>MarketCap=%{y}<extra></extra>",
           "legendgroup": "BABA",
           "marker": {
            "color": "#ab63fa",
            "pattern": {
             "shape": ""
            }
           },
           "name": "BABA",
           "offsetgroup": "BABA",
           "orientation": "v",
           "showlegend": true,
           "textposition": "auto",
           "type": "bar",
           "x": [
            "BABA"
           ],
           "xaxis": "x",
           "y": [
            341072834139.2168
           ],
           "yaxis": "y"
          },
          {
           "alignmentgroup": "True",
           "hovertemplate": "Ticker=%{x}<br>Date=2017-08-11 16:00:00+00:00<br>MarketCap=%{y}<extra></extra>",
           "legendgroup": "BIDU",
           "marker": {
            "color": "#FFA15A",
            "pattern": {
             "shape": ""
            }
           },
           "name": "BIDU",
           "offsetgroup": "BIDU",
           "orientation": "v",
           "showlegend": true,
           "textposition": "auto",
           "type": "bar",
           "x": [
            "BIDU"
           ],
           "xaxis": "x",
           "y": [
            69699364608
           ],
           "yaxis": "y"
          },
          {
           "alignmentgroup": "True",
           "hovertemplate": "Ticker=%{x}<br>Date=2017-08-11 16:00:00+00:00<br>MarketCap=%{y}<extra></extra>",
           "legendgroup": "GOOGL",
           "marker": {
            "color": "#19d3f3",
            "pattern": {
             "shape": ""
            }
           },
           "name": "GOOGL",
           "offsetgroup": "GOOGL",
           "orientation": "v",
           "showlegend": true,
           "textposition": "auto",
           "type": "bar",
           "x": [
            "GOOGL"
           ],
           "xaxis": "x",
           "y": [
            33625874311.75293
           ],
           "yaxis": "y"
          },
          {
           "alignmentgroup": "True",
           "hovertemplate": "Ticker=%{x}<br>Date=2017-08-11 16:00:00+00:00<br>MarketCap=%{y}<extra></extra>",
           "legendgroup": "META",
           "marker": {
            "color": "#FF6692",
            "pattern": {
             "shape": ""
            }
           },
           "name": "META",
           "offsetgroup": "META",
           "orientation": "v",
           "showlegend": true,
           "textposition": "auto",
           "type": "bar",
           "x": [
            "META"
           ],
           "xaxis": "x",
           "y": [
            null
           ],
           "yaxis": "y"
          },
          {
           "alignmentgroup": "True",
           "hovertemplate": "Ticker=%{x}<br>Date=2017-08-11 16:00:00+00:00<br>MarketCap=%{y}<extra></extra>",
           "legendgroup": "MSFT",
           "marker": {
            "color": "#B6E880",
            "pattern": {
             "shape": ""
            }
           },
           "name": "MSFT",
           "offsetgroup": "MSFT",
           "orientation": "v",
           "showlegend": true,
           "textposition": "auto",
           "type": "bar",
           "x": [
            "MSFT"
           ],
           "xaxis": "x",
           "y": [
            519822331296.1211
           ],
           "yaxis": "y"
          },
          {
           "alignmentgroup": "True",
           "hovertemplate": "Ticker=%{x}<br>Date=2017-08-11 16:00:00+00:00<br>MarketCap=%{y}<extra></extra>",
           "legendgroup": "TCEHY",
           "marker": {
            "color": "#FF97FF",
            "pattern": {
             "shape": ""
            }
           },
           "name": "TCEHY",
           "offsetgroup": "TCEHY",
           "orientation": "v",
           "showlegend": true,
           "textposition": "auto",
           "type": "bar",
           "x": [
            "TCEHY"
           ],
           "xaxis": "x",
           "y": [
            359695473435.03125
           ],
           "yaxis": "y"
          },
          {
           "alignmentgroup": "True",
           "hovertemplate": "Ticker=%{x}<br>Date=2017-08-11 16:00:00+00:00<br>MarketCap=%{y}<extra></extra>",
           "legendgroup": "TSLA",
           "marker": {
            "color": "#FECB52",
            "pattern": {
             "shape": ""
            }
           },
           "name": "TSLA",
           "offsetgroup": "TSLA",
           "orientation": "v",
           "showlegend": true,
           "textposition": "auto",
           "type": "bar",
           "x": [
            "TSLA"
           ],
           "xaxis": "x",
           "y": [
            4018330825.653076
           ],
           "yaxis": "y"
          }
         ],
         "name": "2017-08-11 16:00:00+00:00"
        },
        {
         "data": [
          {
           "alignmentgroup": "True",
           "hovertemplate": "Ticker=%{x}<br>Date=2017-11-12 17:00:00+00:00<br>MarketCap=%{y}<extra></extra>",
           "legendgroup": "AAPL",
           "marker": {
            "color": "#636efa",
            "pattern": {
             "shape": ""
            }
           },
           "name": "AAPL",
           "offsetgroup": "AAPL",
           "orientation": "v",
           "showlegend": true,
           "textposition": "auto",
           "type": "bar",
           "x": [
            "AAPL"
           ],
           "xaxis": "x",
           "y": [
            188872164295.06583
           ],
           "yaxis": "y"
          },
          {
           "alignmentgroup": "True",
           "hovertemplate": "Ticker=%{x}<br>Date=2017-11-12 17:00:00+00:00<br>MarketCap=%{y}<extra></extra>",
           "legendgroup": "AMD",
           "marker": {
            "color": "#EF553B",
            "pattern": {
             "shape": ""
            }
           },
           "name": "AMD",
           "offsetgroup": "AMD",
           "orientation": "v",
           "showlegend": true,
           "textposition": "auto",
           "type": "bar",
           "x": [
            "AMD"
           ],
           "xaxis": "x",
           "y": [
            14271915192.840332
           ],
           "yaxis": "y"
          },
          {
           "alignmentgroup": "True",
           "hovertemplate": "Ticker=%{x}<br>Date=2017-11-12 17:00:00+00:00<br>MarketCap=%{y}<extra></extra>",
           "legendgroup": "AMZN",
           "marker": {
            "color": "#00cc96",
            "pattern": {
             "shape": ""
            }
           },
           "name": "AMZN",
           "offsetgroup": "AMZN",
           "orientation": "v",
           "showlegend": true,
           "textposition": "auto",
           "type": "bar",
           "x": [
            "AMZN"
           ],
           "xaxis": "x",
           "y": [
            27603398032.07197
           ],
           "yaxis": "y"
          },
          {
           "alignmentgroup": "True",
           "hovertemplate": "Ticker=%{x}<br>Date=2017-11-12 17:00:00+00:00<br>MarketCap=%{y}<extra></extra>",
           "legendgroup": "BABA",
           "marker": {
            "color": "#ab63fa",
            "pattern": {
             "shape": ""
            }
           },
           "name": "BABA",
           "offsetgroup": "BABA",
           "orientation": "v",
           "showlegend": true,
           "textposition": "auto",
           "type": "bar",
           "x": [
            "BABA"
           ],
           "xaxis": "x",
           "y": [
            350957498034.2344
           ],
           "yaxis": "y"
          },
          {
           "alignmentgroup": "True",
           "hovertemplate": "Ticker=%{x}<br>Date=2017-11-12 17:00:00+00:00<br>MarketCap=%{y}<extra></extra>",
           "legendgroup": "BIDU",
           "marker": {
            "color": "#FFA15A",
            "pattern": {
             "shape": ""
            }
           },
           "name": "BIDU",
           "offsetgroup": "BIDU",
           "orientation": "v",
           "showlegend": true,
           "textposition": "auto",
           "type": "bar",
           "x": [
            "BIDU"
           ],
           "xaxis": "x",
           "y": [
            68424803912.98647
           ],
           "yaxis": "y"
          },
          {
           "alignmentgroup": "True",
           "hovertemplate": "Ticker=%{x}<br>Date=2017-11-12 17:00:00+00:00<br>MarketCap=%{y}<extra></extra>",
           "legendgroup": "GOOGL",
           "marker": {
            "color": "#19d3f3",
            "pattern": {
             "shape": ""
            }
           },
           "name": "GOOGL",
           "offsetgroup": "GOOGL",
           "orientation": "v",
           "showlegend": true,
           "textposition": "auto",
           "type": "bar",
           "x": [
            "GOOGL"
           ],
           "xaxis": "x",
           "y": [
            34189027273.228127
           ],
           "yaxis": "y"
          },
          {
           "alignmentgroup": "True",
           "hovertemplate": "Ticker=%{x}<br>Date=2017-11-12 17:00:00+00:00<br>MarketCap=%{y}<extra></extra>",
           "legendgroup": "META",
           "marker": {
            "color": "#FF6692",
            "pattern": {
             "shape": ""
            }
           },
           "name": "META",
           "offsetgroup": "META",
           "orientation": "v",
           "showlegend": true,
           "textposition": "auto",
           "type": "bar",
           "x": [
            "META"
           ],
           "xaxis": "x",
           "y": [
            null
           ],
           "yaxis": "y"
          },
          {
           "alignmentgroup": "True",
           "hovertemplate": "Ticker=%{x}<br>Date=2017-11-12 17:00:00+00:00<br>MarketCap=%{y}<extra></extra>",
           "legendgroup": "MSFT",
           "marker": {
            "color": "#B6E880",
            "pattern": {
             "shape": ""
            }
           },
           "name": "MSFT",
           "offsetgroup": "MSFT",
           "orientation": "v",
           "showlegend": true,
           "textposition": "auto",
           "type": "bar",
           "x": [
            "MSFT"
           ],
           "xaxis": "x",
           "y": [
            552599170366.75
           ],
           "yaxis": "y"
          },
          {
           "alignmentgroup": "True",
           "hovertemplate": "Ticker=%{x}<br>Date=2017-11-12 17:00:00+00:00<br>MarketCap=%{y}<extra></extra>",
           "legendgroup": "TCEHY",
           "marker": {
            "color": "#FF97FF",
            "pattern": {
             "shape": ""
            }
           },
           "name": "TCEHY",
           "offsetgroup": "TCEHY",
           "orientation": "v",
           "showlegend": true,
           "textposition": "auto",
           "type": "bar",
           "x": [
            "TCEHY"
           ],
           "xaxis": "x",
           "y": [
            425772699747.09766
           ],
           "yaxis": "y"
          },
          {
           "alignmentgroup": "True",
           "hovertemplate": "Ticker=%{x}<br>Date=2017-11-12 17:00:00+00:00<br>MarketCap=%{y}<extra></extra>",
           "legendgroup": "TSLA",
           "marker": {
            "color": "#FECB52",
            "pattern": {
             "shape": ""
            }
           },
           "name": "TSLA",
           "offsetgroup": "TSLA",
           "orientation": "v",
           "showlegend": true,
           "textposition": "auto",
           "type": "bar",
           "x": [
            "TSLA"
           ],
           "xaxis": "x",
           "y": [
            4018272034.0310545
           ],
           "yaxis": "y"
          }
         ],
         "name": "2017-11-12 17:00:00+00:00"
        },
        {
         "data": [
          {
           "alignmentgroup": "True",
           "hovertemplate": "Ticker=%{x}<br>Date=2018-02-15 05:00:00+00:00<br>MarketCap=%{y}<extra></extra>",
           "legendgroup": "AAPL",
           "marker": {
            "color": "#636efa",
            "pattern": {
             "shape": ""
            }
           },
           "name": "AAPL",
           "offsetgroup": "AAPL",
           "orientation": "v",
           "showlegend": true,
           "textposition": "auto",
           "type": "bar",
           "x": [
            "AAPL"
           ],
           "xaxis": "x",
           "y": [
            190662542317.75665
           ],
           "yaxis": "y"
          },
          {
           "alignmentgroup": "True",
           "hovertemplate": "Ticker=%{x}<br>Date=2018-02-15 05:00:00+00:00<br>MarketCap=%{y}<extra></extra>",
           "legendgroup": "AMD",
           "marker": {
            "color": "#EF553B",
            "pattern": {
             "shape": ""
            }
           },
           "name": "AMD",
           "offsetgroup": "AMD",
           "orientation": "v",
           "showlegend": true,
           "textposition": "auto",
           "type": "bar",
           "x": [
            "AMD"
           ],
           "xaxis": "x",
           "y": [
            15709716047.545898
           ],
           "yaxis": "y"
          },
          {
           "alignmentgroup": "True",
           "hovertemplate": "Ticker=%{x}<br>Date=2018-02-15 05:00:00+00:00<br>MarketCap=%{y}<extra></extra>",
           "legendgroup": "AMZN",
           "marker": {
            "color": "#00cc96",
            "pattern": {
             "shape": ""
            }
           },
           "name": "AMZN",
           "offsetgroup": "AMZN",
           "orientation": "v",
           "showlegend": true,
           "textposition": "auto",
           "type": "bar",
           "x": [
            "AMZN"
           ],
           "xaxis": "x",
           "y": [
            30630360849.544334
           ],
           "yaxis": "y"
          },
          {
           "alignmentgroup": "True",
           "hovertemplate": "Ticker=%{x}<br>Date=2018-02-15 05:00:00+00:00<br>MarketCap=%{y}<extra></extra>",
           "legendgroup": "BABA",
           "marker": {
            "color": "#ab63fa",
            "pattern": {
             "shape": ""
            }
           },
           "name": "BABA",
           "offsetgroup": "BABA",
           "orientation": "v",
           "showlegend": true,
           "textposition": "auto",
           "type": "bar",
           "x": [
            "BABA"
           ],
           "xaxis": "x",
           "y": [
            360842161929.25195
           ],
           "yaxis": "y"
          },
          {
           "alignmentgroup": "True",
           "hovertemplate": "Ticker=%{x}<br>Date=2018-02-15 05:00:00+00:00<br>MarketCap=%{y}<extra></extra>",
           "legendgroup": "BIDU",
           "marker": {
            "color": "#FFA15A",
            "pattern": {
             "shape": ""
            }
           },
           "name": "BIDU",
           "offsetgroup": "BIDU",
           "orientation": "v",
           "showlegend": true,
           "textposition": "auto",
           "type": "bar",
           "x": [
            "BIDU"
           ],
           "xaxis": "x",
           "y": [
            67150243217.972946
           ],
           "yaxis": "y"
          },
          {
           "alignmentgroup": "True",
           "hovertemplate": "Ticker=%{x}<br>Date=2018-02-15 05:00:00+00:00<br>MarketCap=%{y}<extra></extra>",
           "legendgroup": "GOOGL",
           "marker": {
            "color": "#19d3f3",
            "pattern": {
             "shape": ""
            }
           },
           "name": "GOOGL",
           "offsetgroup": "GOOGL",
           "orientation": "v",
           "showlegend": true,
           "textposition": "auto",
           "type": "bar",
           "x": [
            "GOOGL"
           ],
           "xaxis": "x",
           "y": [
            34752180234.70332
           ],
           "yaxis": "y"
          },
          {
           "alignmentgroup": "True",
           "hovertemplate": "Ticker=%{x}<br>Date=2018-02-15 05:00:00+00:00<br>MarketCap=%{y}<extra></extra>",
           "legendgroup": "META",
           "marker": {
            "color": "#FF6692",
            "pattern": {
             "shape": ""
            }
           },
           "name": "META",
           "offsetgroup": "META",
           "orientation": "v",
           "showlegend": true,
           "textposition": "auto",
           "type": "bar",
           "x": [
            "META"
           ],
           "xaxis": "x",
           "y": [
            null
           ],
           "yaxis": "y"
          },
          {
           "alignmentgroup": "True",
           "hovertemplate": "Ticker=%{x}<br>Date=2018-02-15 05:00:00+00:00<br>MarketCap=%{y}<extra></extra>",
           "legendgroup": "MSFT",
           "marker": {
            "color": "#B6E880",
            "pattern": {
             "shape": ""
            }
           },
           "name": "MSFT",
           "offsetgroup": "MSFT",
           "orientation": "v",
           "showlegend": true,
           "textposition": "auto",
           "type": "bar",
           "x": [
            "MSFT"
           ],
           "xaxis": "x",
           "y": [
            608472772862.2705
           ],
           "yaxis": "y"
          },
          {
           "alignmentgroup": "True",
           "hovertemplate": "Ticker=%{x}<br>Date=2018-02-15 05:00:00+00:00<br>MarketCap=%{y}<extra></extra>",
           "legendgroup": "TCEHY",
           "marker": {
            "color": "#FF97FF",
            "pattern": {
             "shape": ""
            }
           },
           "name": "TCEHY",
           "offsetgroup": "TCEHY",
           "orientation": "v",
           "showlegend": true,
           "textposition": "auto",
           "type": "bar",
           "x": [
            "TCEHY"
           ],
           "xaxis": "x",
           "y": [
            498924550985.7149
           ],
           "yaxis": "y"
          },
          {
           "alignmentgroup": "True",
           "hovertemplate": "Ticker=%{x}<br>Date=2018-02-15 05:00:00+00:00<br>MarketCap=%{y}<extra></extra>",
           "legendgroup": "TSLA",
           "marker": {
            "color": "#FECB52",
            "pattern": {
             "shape": ""
            }
           },
           "name": "TSLA",
           "offsetgroup": "TSLA",
           "orientation": "v",
           "showlegend": true,
           "textposition": "auto",
           "type": "bar",
           "x": [
            "TSLA"
           ],
           "xaxis": "x",
           "y": [
            4018213242.4090333
           ],
           "yaxis": "y"
          }
         ],
         "name": "2018-02-15 05:00:00+00:00"
        },
        {
         "data": [
          {
           "alignmentgroup": "True",
           "hovertemplate": "Ticker=%{x}<br>Date=2018-05-22 16:00:00+00:00<br>MarketCap=%{y}<extra></extra>",
           "legendgroup": "AAPL",
           "marker": {
            "color": "#636efa",
            "pattern": {
             "shape": ""
            }
           },
           "name": "AAPL",
           "offsetgroup": "AAPL",
           "orientation": "v",
           "showlegend": true,
           "textposition": "auto",
           "type": "bar",
           "x": [
            "AAPL"
           ],
           "xaxis": "x",
           "y": [
            192452920340.44745
           ],
           "yaxis": "y"
          },
          {
           "alignmentgroup": "True",
           "hovertemplate": "Ticker=%{x}<br>Date=2018-05-22 16:00:00+00:00<br>MarketCap=%{y}<extra></extra>",
           "legendgroup": "AMD",
           "marker": {
            "color": "#EF553B",
            "pattern": {
             "shape": ""
            }
           },
           "name": "AMD",
           "offsetgroup": "AMD",
           "orientation": "v",
           "showlegend": true,
           "textposition": "auto",
           "type": "bar",
           "x": [
            "AMD"
           ],
           "xaxis": "x",
           "y": [
            17147516902.251465
           ],
           "yaxis": "y"
          },
          {
           "alignmentgroup": "True",
           "hovertemplate": "Ticker=%{x}<br>Date=2018-05-22 16:00:00+00:00<br>MarketCap=%{y}<extra></extra>",
           "legendgroup": "AMZN",
           "marker": {
            "color": "#00cc96",
            "pattern": {
             "shape": ""
            }
           },
           "name": "AMZN",
           "offsetgroup": "AMZN",
           "orientation": "v",
           "showlegend": true,
           "textposition": "auto",
           "type": "bar",
           "x": [
            "AMZN"
           ],
           "xaxis": "x",
           "y": [
            33657323667.0167
           ],
           "yaxis": "y"
          },
          {
           "alignmentgroup": "True",
           "hovertemplate": "Ticker=%{x}<br>Date=2018-05-22 16:00:00+00:00<br>MarketCap=%{y}<extra></extra>",
           "legendgroup": "BABA",
           "marker": {
            "color": "#ab63fa",
            "pattern": {
             "shape": ""
            }
           },
           "name": "BABA",
           "offsetgroup": "BABA",
           "orientation": "v",
           "showlegend": true,
           "textposition": "auto",
           "type": "bar",
           "x": [
            "BABA"
           ],
           "xaxis": "x",
           "y": [
            370726825824.26953
           ],
           "yaxis": "y"
          },
          {
           "alignmentgroup": "True",
           "hovertemplate": "Ticker=%{x}<br>Date=2018-05-22 16:00:00+00:00<br>MarketCap=%{y}<extra></extra>",
           "legendgroup": "BIDU",
           "marker": {
            "color": "#FFA15A",
            "pattern": {
             "shape": ""
            }
           },
           "name": "BIDU",
           "offsetgroup": "BIDU",
           "orientation": "v",
           "showlegend": true,
           "textposition": "auto",
           "type": "bar",
           "x": [
            "BIDU"
           ],
           "xaxis": "x",
           "y": [
            65875682522.95943
           ],
           "yaxis": "y"
          },
          {
           "alignmentgroup": "True",
           "hovertemplate": "Ticker=%{x}<br>Date=2018-05-22 16:00:00+00:00<br>MarketCap=%{y}<extra></extra>",
           "legendgroup": "GOOGL",
           "marker": {
            "color": "#19d3f3",
            "pattern": {
             "shape": ""
            }
           },
           "name": "GOOGL",
           "offsetgroup": "GOOGL",
           "orientation": "v",
           "showlegend": true,
           "textposition": "auto",
           "type": "bar",
           "x": [
            "GOOGL"
           ],
           "xaxis": "x",
           "y": [
            35315333196.17851
           ],
           "yaxis": "y"
          },
          {
           "alignmentgroup": "True",
           "hovertemplate": "Ticker=%{x}<br>Date=2018-05-22 16:00:00+00:00<br>MarketCap=%{y}<extra></extra>",
           "legendgroup": "META",
           "marker": {
            "color": "#FF6692",
            "pattern": {
             "shape": ""
            }
           },
           "name": "META",
           "offsetgroup": "META",
           "orientation": "v",
           "showlegend": true,
           "textposition": "auto",
           "type": "bar",
           "x": [
            "META"
           ],
           "xaxis": "x",
           "y": [
            null
           ],
           "yaxis": "y"
          },
          {
           "alignmentgroup": "True",
           "hovertemplate": "Ticker=%{x}<br>Date=2018-05-22 16:00:00+00:00<br>MarketCap=%{y}<extra></extra>",
           "legendgroup": "MSFT",
           "marker": {
            "color": "#B6E880",
            "pattern": {
             "shape": ""
            }
           },
           "name": "MSFT",
           "offsetgroup": "MSFT",
           "orientation": "v",
           "showlegend": true,
           "textposition": "auto",
           "type": "bar",
           "x": [
            "MSFT"
           ],
           "xaxis": "x",
           "y": [
            664346375357.791
           ],
           "yaxis": "y"
          },
          {
           "alignmentgroup": "True",
           "hovertemplate": "Ticker=%{x}<br>Date=2018-05-22 16:00:00+00:00<br>MarketCap=%{y}<extra></extra>",
           "legendgroup": "TCEHY",
           "marker": {
            "color": "#FF97FF",
            "pattern": {
             "shape": ""
            }
           },
           "name": "TCEHY",
           "offsetgroup": "TCEHY",
           "orientation": "v",
           "showlegend": true,
           "textposition": "auto",
           "type": "bar",
           "x": [
            "TCEHY"
           ],
           "xaxis": "x",
           "y": [
            450537519290.15234
           ],
           "yaxis": "y"
          },
          {
           "alignmentgroup": "True",
           "hovertemplate": "Ticker=%{x}<br>Date=2018-05-22 16:00:00+00:00<br>MarketCap=%{y}<extra></extra>",
           "legendgroup": "TSLA",
           "marker": {
            "color": "#FECB52",
            "pattern": {
             "shape": ""
            }
           },
           "name": "TSLA",
           "offsetgroup": "TSLA",
           "orientation": "v",
           "showlegend": true,
           "textposition": "auto",
           "type": "bar",
           "x": [
            "TSLA"
           ],
           "xaxis": "x",
           "y": [
            4018154450.7870116
           ],
           "yaxis": "y"
          }
         ],
         "name": "2018-05-22 16:00:00+00:00"
        },
        {
         "data": [
          {
           "alignmentgroup": "True",
           "hovertemplate": "Ticker=%{x}<br>Date=2018-08-18 16:00:00+00:00<br>MarketCap=%{y}<extra></extra>",
           "legendgroup": "AAPL",
           "marker": {
            "color": "#636efa",
            "pattern": {
             "shape": ""
            }
           },
           "name": "AAPL",
           "offsetgroup": "AAPL",
           "orientation": "v",
           "showlegend": true,
           "textposition": "auto",
           "type": "bar",
           "x": [
            "AAPL"
           ],
           "xaxis": "x",
           "y": [
            194243298363.13828
           ],
           "yaxis": "y"
          },
          {
           "alignmentgroup": "True",
           "hovertemplate": "Ticker=%{x}<br>Date=2018-08-18 16:00:00+00:00<br>MarketCap=%{y}<extra></extra>",
           "legendgroup": "AMD",
           "marker": {
            "color": "#EF553B",
            "pattern": {
             "shape": ""
            }
           },
           "name": "AMD",
           "offsetgroup": "AMD",
           "orientation": "v",
           "showlegend": true,
           "textposition": "auto",
           "type": "bar",
           "x": [
            "AMD"
           ],
           "xaxis": "x",
           "y": [
            18585317756.95703
           ],
           "yaxis": "y"
          },
          {
           "alignmentgroup": "True",
           "hovertemplate": "Ticker=%{x}<br>Date=2018-08-18 16:00:00+00:00<br>MarketCap=%{y}<extra></extra>",
           "legendgroup": "AMZN",
           "marker": {
            "color": "#00cc96",
            "pattern": {
             "shape": ""
            }
           },
           "name": "AMZN",
           "offsetgroup": "AMZN",
           "orientation": "v",
           "showlegend": true,
           "textposition": "auto",
           "type": "bar",
           "x": [
            "AMZN"
           ],
           "xaxis": "x",
           "y": [
            36684286484.48906
           ],
           "yaxis": "y"
          },
          {
           "alignmentgroup": "True",
           "hovertemplate": "Ticker=%{x}<br>Date=2018-08-18 16:00:00+00:00<br>MarketCap=%{y}<extra></extra>",
           "legendgroup": "BABA",
           "marker": {
            "color": "#ab63fa",
            "pattern": {
             "shape": ""
            }
           },
           "name": "BABA",
           "offsetgroup": "BABA",
           "orientation": "v",
           "showlegend": true,
           "textposition": "auto",
           "type": "bar",
           "x": [
            "BABA"
           ],
           "xaxis": "x",
           "y": [
            380611489719.2871
           ],
           "yaxis": "y"
          },
          {
           "alignmentgroup": "True",
           "hovertemplate": "Ticker=%{x}<br>Date=2018-08-18 16:00:00+00:00<br>MarketCap=%{y}<extra></extra>",
           "legendgroup": "BIDU",
           "marker": {
            "color": "#FFA15A",
            "pattern": {
             "shape": ""
            }
           },
           "name": "BIDU",
           "offsetgroup": "BIDU",
           "orientation": "v",
           "showlegend": true,
           "textposition": "auto",
           "type": "bar",
           "x": [
            "BIDU"
           ],
           "xaxis": "x",
           "y": [
            64601121827.9459
           ],
           "yaxis": "y"
          },
          {
           "alignmentgroup": "True",
           "hovertemplate": "Ticker=%{x}<br>Date=2018-08-18 16:00:00+00:00<br>MarketCap=%{y}<extra></extra>",
           "legendgroup": "GOOGL",
           "marker": {
            "color": "#19d3f3",
            "pattern": {
             "shape": ""
            }
           },
           "name": "GOOGL",
           "offsetgroup": "GOOGL",
           "orientation": "v",
           "showlegend": true,
           "textposition": "auto",
           "type": "bar",
           "x": [
            "GOOGL"
           ],
           "xaxis": "x",
           "y": [
            35878486157.65371
           ],
           "yaxis": "y"
          },
          {
           "alignmentgroup": "True",
           "hovertemplate": "Ticker=%{x}<br>Date=2018-08-18 16:00:00+00:00<br>MarketCap=%{y}<extra></extra>",
           "legendgroup": "META",
           "marker": {
            "color": "#FF6692",
            "pattern": {
             "shape": ""
            }
           },
           "name": "META",
           "offsetgroup": "META",
           "orientation": "v",
           "showlegend": true,
           "textposition": "auto",
           "type": "bar",
           "x": [
            "META"
           ],
           "xaxis": "x",
           "y": [
            null
           ],
           "yaxis": "y"
          },
          {
           "alignmentgroup": "True",
           "hovertemplate": "Ticker=%{x}<br>Date=2018-08-18 16:00:00+00:00<br>MarketCap=%{y}<extra></extra>",
           "legendgroup": "MSFT",
           "marker": {
            "color": "#B6E880",
            "pattern": {
             "shape": ""
            }
           },
           "name": "MSFT",
           "offsetgroup": "MSFT",
           "orientation": "v",
           "showlegend": true,
           "textposition": "auto",
           "type": "bar",
           "x": [
            "MSFT"
           ],
           "xaxis": "x",
           "y": [
            720219977853.3115
           ],
           "yaxis": "y"
          },
          {
           "alignmentgroup": "True",
           "hovertemplate": "Ticker=%{x}<br>Date=2018-08-18 16:00:00+00:00<br>MarketCap=%{y}<extra></extra>",
           "legendgroup": "TCEHY",
           "marker": {
            "color": "#FF97FF",
            "pattern": {
             "shape": ""
            }
           },
           "name": "TCEHY",
           "offsetgroup": "TCEHY",
           "orientation": "v",
           "showlegend": true,
           "textposition": "auto",
           "type": "bar",
           "x": [
            "TCEHY"
           ],
           "xaxis": "x",
           "y": [
            390561391813.96484
           ],
           "yaxis": "y"
          },
          {
           "alignmentgroup": "True",
           "hovertemplate": "Ticker=%{x}<br>Date=2018-08-18 16:00:00+00:00<br>MarketCap=%{y}<extra></extra>",
           "legendgroup": "TSLA",
           "marker": {
            "color": "#FECB52",
            "pattern": {
             "shape": ""
            }
           },
           "name": "TSLA",
           "offsetgroup": "TSLA",
           "orientation": "v",
           "showlegend": true,
           "textposition": "auto",
           "type": "bar",
           "x": [
            "TSLA"
           ],
           "xaxis": "x",
           "y": [
            4018095659.1649904
           ],
           "yaxis": "y"
          }
         ],
         "name": "2018-08-18 16:00:00+00:00"
        },
        {
         "data": [
          {
           "alignmentgroup": "True",
           "hovertemplate": "Ticker=%{x}<br>Date=2018-11-13 17:00:00+00:00<br>MarketCap=%{y}<extra></extra>",
           "legendgroup": "AAPL",
           "marker": {
            "color": "#636efa",
            "pattern": {
             "shape": ""
            }
           },
           "name": "AAPL",
           "offsetgroup": "AAPL",
           "orientation": "v",
           "showlegend": true,
           "textposition": "auto",
           "type": "bar",
           "x": [
            "AAPL"
           ],
           "xaxis": "x",
           "y": [
            196033676385.8291
           ],
           "yaxis": "y"
          },
          {
           "alignmentgroup": "True",
           "hovertemplate": "Ticker=%{x}<br>Date=2018-11-13 17:00:00+00:00<br>MarketCap=%{y}<extra></extra>",
           "legendgroup": "AMD",
           "marker": {
            "color": "#EF553B",
            "pattern": {
             "shape": ""
            }
           },
           "name": "AMD",
           "offsetgroup": "AMD",
           "orientation": "v",
           "showlegend": true,
           "textposition": "auto",
           "type": "bar",
           "x": [
            "AMD"
           ],
           "xaxis": "x",
           "y": [
            20023118611.662598
           ],
           "yaxis": "y"
          },
          {
           "alignmentgroup": "True",
           "hovertemplate": "Ticker=%{x}<br>Date=2018-11-13 17:00:00+00:00<br>MarketCap=%{y}<extra></extra>",
           "legendgroup": "AMZN",
           "marker": {
            "color": "#00cc96",
            "pattern": {
             "shape": ""
            }
           },
           "name": "AMZN",
           "offsetgroup": "AMZN",
           "orientation": "v",
           "showlegend": true,
           "textposition": "auto",
           "type": "bar",
           "x": [
            "AMZN"
           ],
           "xaxis": "x",
           "y": [
            39711249301.961426
           ],
           "yaxis": "y"
          },
          {
           "alignmentgroup": "True",
           "hovertemplate": "Ticker=%{x}<br>Date=2018-11-13 17:00:00+00:00<br>MarketCap=%{y}<extra></extra>",
           "legendgroup": "BABA",
           "marker": {
            "color": "#ab63fa",
            "pattern": {
             "shape": ""
            }
           },
           "name": "BABA",
           "offsetgroup": "BABA",
           "orientation": "v",
           "showlegend": true,
           "textposition": "auto",
           "type": "bar",
           "x": [
            "BABA"
           ],
           "xaxis": "x",
           "y": [
            390496153614.3047
           ],
           "yaxis": "y"
          },
          {
           "alignmentgroup": "True",
           "hovertemplate": "Ticker=%{x}<br>Date=2018-11-13 17:00:00+00:00<br>MarketCap=%{y}<extra></extra>",
           "legendgroup": "BIDU",
           "marker": {
            "color": "#FFA15A",
            "pattern": {
             "shape": ""
            }
           },
           "name": "BIDU",
           "offsetgroup": "BIDU",
           "orientation": "v",
           "showlegend": true,
           "textposition": "auto",
           "type": "bar",
           "x": [
            "BIDU"
           ],
           "xaxis": "x",
           "y": [
            63326561132.93237
           ],
           "yaxis": "y"
          },
          {
           "alignmentgroup": "True",
           "hovertemplate": "Ticker=%{x}<br>Date=2018-11-13 17:00:00+00:00<br>MarketCap=%{y}<extra></extra>",
           "legendgroup": "GOOGL",
           "marker": {
            "color": "#19d3f3",
            "pattern": {
             "shape": ""
            }
           },
           "name": "GOOGL",
           "offsetgroup": "GOOGL",
           "orientation": "v",
           "showlegend": true,
           "textposition": "auto",
           "type": "bar",
           "x": [
            "GOOGL"
           ],
           "xaxis": "x",
           "y": [
            36441639119.12891
           ],
           "yaxis": "y"
          },
          {
           "alignmentgroup": "True",
           "hovertemplate": "Ticker=%{x}<br>Date=2018-11-13 17:00:00+00:00<br>MarketCap=%{y}<extra></extra>",
           "legendgroup": "META",
           "marker": {
            "color": "#FF6692",
            "pattern": {
             "shape": ""
            }
           },
           "name": "META",
           "offsetgroup": "META",
           "orientation": "v",
           "showlegend": true,
           "textposition": "auto",
           "type": "bar",
           "x": [
            "META"
           ],
           "xaxis": "x",
           "y": [
            null
           ],
           "yaxis": "y"
          },
          {
           "alignmentgroup": "True",
           "hovertemplate": "Ticker=%{x}<br>Date=2018-11-13 17:00:00+00:00<br>MarketCap=%{y}<extra></extra>",
           "legendgroup": "MSFT",
           "marker": {
            "color": "#B6E880",
            "pattern": {
             "shape": ""
            }
           },
           "name": "MSFT",
           "offsetgroup": "MSFT",
           "orientation": "v",
           "showlegend": true,
           "textposition": "auto",
           "type": "bar",
           "x": [
            "MSFT"
           ],
           "xaxis": "x",
           "y": [
            776093580348.832
           ],
           "yaxis": "y"
          },
          {
           "alignmentgroup": "True",
           "hovertemplate": "Ticker=%{x}<br>Date=2018-11-13 17:00:00+00:00<br>MarketCap=%{y}<extra></extra>",
           "legendgroup": "TCEHY",
           "marker": {
            "color": "#FF97FF",
            "pattern": {
             "shape": ""
            }
           },
           "name": "TCEHY",
           "offsetgroup": "TCEHY",
           "orientation": "v",
           "showlegend": true,
           "textposition": "auto",
           "type": "bar",
           "x": [
            "TCEHY"
           ],
           "xaxis": "x",
           "y": [
            336954292910.15625
           ],
           "yaxis": "y"
          },
          {
           "alignmentgroup": "True",
           "hovertemplate": "Ticker=%{x}<br>Date=2018-11-13 17:00:00+00:00<br>MarketCap=%{y}<extra></extra>",
           "legendgroup": "TSLA",
           "marker": {
            "color": "#FECB52",
            "pattern": {
             "shape": ""
            }
           },
           "name": "TSLA",
           "offsetgroup": "TSLA",
           "orientation": "v",
           "showlegend": true,
           "textposition": "auto",
           "type": "bar",
           "x": [
            "TSLA"
           ],
           "xaxis": "x",
           "y": [
            4018036867.5429688
           ],
           "yaxis": "y"
          }
         ],
         "name": "2018-11-13 17:00:00+00:00"
        },
        {
         "data": [
          {
           "alignmentgroup": "True",
           "hovertemplate": "Ticker=%{x}<br>Date=2019-02-12 05:00:00+00:00<br>MarketCap=%{y}<extra></extra>",
           "legendgroup": "AAPL",
           "marker": {
            "color": "#636efa",
            "pattern": {
             "shape": ""
            }
           },
           "name": "AAPL",
           "offsetgroup": "AAPL",
           "orientation": "v",
           "showlegend": true,
           "textposition": "auto",
           "type": "bar",
           "x": [
            "AAPL"
           ],
           "xaxis": "x",
           "y": [
            183296618395.3506
           ],
           "yaxis": "y"
          },
          {
           "alignmentgroup": "True",
           "hovertemplate": "Ticker=%{x}<br>Date=2019-02-12 05:00:00+00:00<br>MarketCap=%{y}<extra></extra>",
           "legendgroup": "AMD",
           "marker": {
            "color": "#EF553B",
            "pattern": {
             "shape": ""
            }
           },
           "name": "AMD",
           "offsetgroup": "AMD",
           "orientation": "v",
           "showlegend": true,
           "textposition": "auto",
           "type": "bar",
           "x": [
            "AMD"
           ],
           "xaxis": "x",
           "y": [
            22958743953.133545
           ],
           "yaxis": "y"
          },
          {
           "alignmentgroup": "True",
           "hovertemplate": "Ticker=%{x}<br>Date=2019-02-12 05:00:00+00:00<br>MarketCap=%{y}<extra></extra>",
           "legendgroup": "AMZN",
           "marker": {
            "color": "#00cc96",
            "pattern": {
             "shape": ""
            }
           },
           "name": "AMZN",
           "offsetgroup": "AMZN",
           "orientation": "v",
           "showlegend": true,
           "textposition": "auto",
           "type": "bar",
           "x": [
            "AMZN"
           ],
           "xaxis": "x",
           "y": [
            40274471850.16113
           ],
           "yaxis": "y"
          },
          {
           "alignmentgroup": "True",
           "hovertemplate": "Ticker=%{x}<br>Date=2019-02-12 05:00:00+00:00<br>MarketCap=%{y}<extra></extra>",
           "legendgroup": "BABA",
           "marker": {
            "color": "#ab63fa",
            "pattern": {
             "shape": ""
            }
           },
           "name": "BABA",
           "offsetgroup": "BABA",
           "orientation": "v",
           "showlegend": true,
           "textposition": "auto",
           "type": "bar",
           "x": [
            "BABA"
           ],
           "xaxis": "x",
           "y": [
            412700990108.832
           ],
           "yaxis": "y"
          },
          {
           "alignmentgroup": "True",
           "hovertemplate": "Ticker=%{x}<br>Date=2019-02-12 05:00:00+00:00<br>MarketCap=%{y}<extra></extra>",
           "legendgroup": "BIDU",
           "marker": {
            "color": "#FFA15A",
            "pattern": {
             "shape": ""
            }
           },
           "name": "BIDU",
           "offsetgroup": "BIDU",
           "orientation": "v",
           "showlegend": true,
           "textposition": "auto",
           "type": "bar",
           "x": [
            "BIDU"
           ],
           "xaxis": "x",
           "y": [
            58355638104.90137
           ],
           "yaxis": "y"
          },
          {
           "alignmentgroup": "True",
           "hovertemplate": "Ticker=%{x}<br>Date=2019-02-12 05:00:00+00:00<br>MarketCap=%{y}<extra></extra>",
           "legendgroup": "GOOGL",
           "marker": {
            "color": "#19d3f3",
            "pattern": {
             "shape": ""
            }
           },
           "name": "GOOGL",
           "offsetgroup": "GOOGL",
           "orientation": "v",
           "showlegend": true,
           "textposition": "auto",
           "type": "bar",
           "x": [
            "GOOGL"
           ],
           "xaxis": "x",
           "y": [
            38526577144.53833
           ],
           "yaxis": "y"
          },
          {
           "alignmentgroup": "True",
           "hovertemplate": "Ticker=%{x}<br>Date=2019-02-12 05:00:00+00:00<br>MarketCap=%{y}<extra></extra>",
           "legendgroup": "META",
           "marker": {
            "color": "#FF6692",
            "pattern": {
             "shape": ""
            }
           },
           "name": "META",
           "offsetgroup": "META",
           "orientation": "v",
           "showlegend": true,
           "textposition": "auto",
           "type": "bar",
           "x": [
            "META"
           ],
           "xaxis": "x",
           "y": [
            null
           ],
           "yaxis": "y"
          },
          {
           "alignmentgroup": "True",
           "hovertemplate": "Ticker=%{x}<br>Date=2019-02-12 05:00:00+00:00<br>MarketCap=%{y}<extra></extra>",
           "legendgroup": "MSFT",
           "marker": {
            "color": "#B6E880",
            "pattern": {
             "shape": ""
            }
           },
           "name": "MSFT",
           "offsetgroup": "MSFT",
           "orientation": "v",
           "showlegend": true,
           "textposition": "auto",
           "type": "bar",
           "x": [
            "MSFT"
           ],
           "xaxis": "x",
           "y": [
            780074191932.3457
           ],
           "yaxis": "y"
          },
          {
           "alignmentgroup": "True",
           "hovertemplate": "Ticker=%{x}<br>Date=2019-02-12 05:00:00+00:00<br>MarketCap=%{y}<extra></extra>",
           "legendgroup": "TCEHY",
           "marker": {
            "color": "#FF97FF",
            "pattern": {
             "shape": ""
            }
           },
           "name": "TCEHY",
           "offsetgroup": "TCEHY",
           "orientation": "v",
           "showlegend": true,
           "textposition": "auto",
           "type": "bar",
           "x": [
            "TCEHY"
           ],
           "xaxis": "x",
           "y": [
            382675209302.72656
           ],
           "yaxis": "y"
          },
          {
           "alignmentgroup": "True",
           "hovertemplate": "Ticker=%{x}<br>Date=2019-02-12 05:00:00+00:00<br>MarketCap=%{y}<extra></extra>",
           "legendgroup": "TSLA",
           "marker": {
            "color": "#FECB52",
            "pattern": {
             "shape": ""
            }
           },
           "name": "TSLA",
           "offsetgroup": "TSLA",
           "orientation": "v",
           "showlegend": true,
           "textposition": "auto",
           "type": "bar",
           "x": [
            "TSLA"
           ],
           "xaxis": "x",
           "y": [
            3480859887.1229553
           ],
           "yaxis": "y"
          }
         ],
         "name": "2019-02-12 05:00:00+00:00"
        },
        {
         "data": [
          {
           "alignmentgroup": "True",
           "hovertemplate": "Ticker=%{x}<br>Date=2019-05-20 04:00:00+00:00<br>MarketCap=%{y}<extra></extra>",
           "legendgroup": "AAPL",
           "marker": {
            "color": "#636efa",
            "pattern": {
             "shape": ""
            }
           },
           "name": "AAPL",
           "offsetgroup": "AAPL",
           "orientation": "v",
           "showlegend": true,
           "textposition": "auto",
           "type": "bar",
           "x": [
            "AAPL"
           ],
           "xaxis": "x",
           "y": [
            217069010593.10742
           ],
           "yaxis": "y"
          },
          {
           "alignmentgroup": "True",
           "hovertemplate": "Ticker=%{x}<br>Date=2019-05-20 04:00:00+00:00<br>MarketCap=%{y}<extra></extra>",
           "legendgroup": "AMD",
           "marker": {
            "color": "#EF553B",
            "pattern": {
             "shape": ""
            }
           },
           "name": "AMD",
           "offsetgroup": "AMD",
           "orientation": "v",
           "showlegend": true,
           "textposition": "auto",
           "type": "bar",
           "x": [
            "AMD"
           ],
           "xaxis": "x",
           "y": [
            30251234247.43164
           ],
           "yaxis": "y"
          },
          {
           "alignmentgroup": "True",
           "hovertemplate": "Ticker=%{x}<br>Date=2019-05-20 04:00:00+00:00<br>MarketCap=%{y}<extra></extra>",
           "legendgroup": "AMZN",
           "marker": {
            "color": "#00cc96",
            "pattern": {
             "shape": ""
            }
           },
           "name": "AMZN",
           "offsetgroup": "AMZN",
           "orientation": "v",
           "showlegend": true,
           "textposition": "auto",
           "type": "bar",
           "x": [
            "AMZN"
           ],
           "xaxis": "x",
           "y": [
            45802385329.437256
           ],
           "yaxis": "y"
          },
          {
           "alignmentgroup": "True",
           "hovertemplate": "Ticker=%{x}<br>Date=2019-05-20 04:00:00+00:00<br>MarketCap=%{y}<extra></extra>",
           "legendgroup": "BABA",
           "marker": {
            "color": "#ab63fa",
            "pattern": {
             "shape": ""
            }
           },
           "name": "BABA",
           "offsetgroup": "BABA",
           "orientation": "v",
           "showlegend": true,
           "textposition": "auto",
           "type": "bar",
           "x": [
            "BABA"
           ],
           "xaxis": "x",
           "y": [
            430786696443.22266
           ],
           "yaxis": "y"
          },
          {
           "alignmentgroup": "True",
           "hovertemplate": "Ticker=%{x}<br>Date=2019-05-20 04:00:00+00:00<br>MarketCap=%{y}<extra></extra>",
           "legendgroup": "BIDU",
           "marker": {
            "color": "#FFA15A",
            "pattern": {
             "shape": ""
            }
           },
           "name": "BIDU",
           "offsetgroup": "BIDU",
           "orientation": "v",
           "showlegend": true,
           "textposition": "auto",
           "type": "bar",
           "x": [
            "BIDU"
           ],
           "xaxis": "x",
           "y": [
            41231769010.56104
           ],
           "yaxis": "y"
          },
          {
           "alignmentgroup": "True",
           "hovertemplate": "Ticker=%{x}<br>Date=2019-05-20 04:00:00+00:00<br>MarketCap=%{y}<extra></extra>",
           "legendgroup": "GOOGL",
           "marker": {
            "color": "#19d3f3",
            "pattern": {
             "shape": ""
            }
           },
           "name": "GOOGL",
           "offsetgroup": "GOOGL",
           "orientation": "v",
           "showlegend": true,
           "textposition": "auto",
           "type": "bar",
           "x": [
            "GOOGL"
           ],
           "xaxis": "x",
           "y": [
            39559082783.188354
           ],
           "yaxis": "y"
          },
          {
           "alignmentgroup": "True",
           "hovertemplate": "Ticker=%{x}<br>Date=2019-05-20 04:00:00+00:00<br>MarketCap=%{y}<extra></extra>",
           "legendgroup": "META",
           "marker": {
            "color": "#FF6692",
            "pattern": {
             "shape": ""
            }
           },
           "name": "META",
           "offsetgroup": "META",
           "orientation": "v",
           "showlegend": true,
           "textposition": "auto",
           "type": "bar",
           "x": [
            "META"
           ],
           "xaxis": "x",
           "y": [
            null
           ],
           "yaxis": "y"
          },
          {
           "alignmentgroup": "True",
           "hovertemplate": "Ticker=%{x}<br>Date=2019-05-20 04:00:00+00:00<br>MarketCap=%{y}<extra></extra>",
           "legendgroup": "MSFT",
           "marker": {
            "color": "#B6E880",
            "pattern": {
             "shape": ""
            }
           },
           "name": "MSFT",
           "offsetgroup": "MSFT",
           "orientation": "v",
           "showlegend": true,
           "textposition": "auto",
           "type": "bar",
           "x": [
            "MSFT"
           ],
           "xaxis": "x",
           "y": [
            925421421401.1914
           ],
           "yaxis": "y"
          },
          {
           "alignmentgroup": "True",
           "hovertemplate": "Ticker=%{x}<br>Date=2019-05-20 04:00:00+00:00<br>MarketCap=%{y}<extra></extra>",
           "legendgroup": "TCEHY",
           "marker": {
            "color": "#FF97FF",
            "pattern": {
             "shape": ""
            }
           },
           "name": "TCEHY",
           "offsetgroup": "TCEHY",
           "orientation": "v",
           "showlegend": true,
           "textposition": "auto",
           "type": "bar",
           "x": [
            "TCEHY"
           ],
           "xaxis": "x",
           "y": [
            400538950327.7988
           ],
           "yaxis": "y"
          },
          {
           "alignmentgroup": "True",
           "hovertemplate": "Ticker=%{x}<br>Date=2019-05-20 04:00:00+00:00<br>MarketCap=%{y}<extra></extra>",
           "legendgroup": "TSLA",
           "marker": {
            "color": "#FECB52",
            "pattern": {
             "shape": ""
            }
           },
           "name": "TSLA",
           "offsetgroup": "TSLA",
           "orientation": "v",
           "showlegend": true,
           "textposition": "auto",
           "type": "bar",
           "x": [
            "TSLA"
           ],
           "xaxis": "x",
           "y": [
            2689837404.975891
           ],
           "yaxis": "y"
          }
         ],
         "name": "2019-05-20 04:00:00+00:00"
        },
        {
         "data": [
          {
           "alignmentgroup": "True",
           "hovertemplate": "Ticker=%{x}<br>Date=2019-08-14 16:00:00+00:00<br>MarketCap=%{y}<extra></extra>",
           "legendgroup": "AAPL",
           "marker": {
            "color": "#636efa",
            "pattern": {
             "shape": ""
            }
           },
           "name": "AAPL",
           "offsetgroup": "AAPL",
           "orientation": "v",
           "showlegend": true,
           "textposition": "auto",
           "type": "bar",
           "x": [
            "AAPL"
           ],
           "xaxis": "x",
           "y": [
            228478945594.7324
           ],
           "yaxis": "y"
          },
          {
           "alignmentgroup": "True",
           "hovertemplate": "Ticker=%{x}<br>Date=2019-08-14 16:00:00+00:00<br>MarketCap=%{y}<extra></extra>",
           "legendgroup": "AMD",
           "marker": {
            "color": "#EF553B",
            "pattern": {
             "shape": ""
            }
           },
           "name": "AMD",
           "offsetgroup": "AMD",
           "orientation": "v",
           "showlegend": true,
           "textposition": "auto",
           "type": "bar",
           "x": [
            "AMD"
           ],
           "xaxis": "x",
           "y": [
            33597771842.608887
           ],
           "yaxis": "y"
          },
          {
           "alignmentgroup": "True",
           "hovertemplate": "Ticker=%{x}<br>Date=2019-08-14 16:00:00+00:00<br>MarketCap=%{y}<extra></extra>",
           "legendgroup": "AMZN",
           "marker": {
            "color": "#00cc96",
            "pattern": {
             "shape": ""
            }
           },
           "name": "AMZN",
           "offsetgroup": "AMZN",
           "orientation": "v",
           "showlegend": true,
           "textposition": "auto",
           "type": "bar",
           "x": [
            "AMZN"
           ],
           "xaxis": "x",
           "y": [
            45874715001.98193
           ],
           "yaxis": "y"
          },
          {
           "alignmentgroup": "True",
           "hovertemplate": "Ticker=%{x}<br>Date=2019-08-14 16:00:00+00:00<br>MarketCap=%{y}<extra></extra>",
           "legendgroup": "BABA",
           "marker": {
            "color": "#ab63fa",
            "pattern": {
             "shape": ""
            }
           },
           "name": "BABA",
           "offsetgroup": "BABA",
           "orientation": "v",
           "showlegend": true,
           "textposition": "auto",
           "type": "bar",
           "x": [
            "BABA"
           ],
           "xaxis": "x",
           "y": [
            450361886650.05273
           ],
           "yaxis": "y"
          },
          {
           "alignmentgroup": "True",
           "hovertemplate": "Ticker=%{x}<br>Date=2019-08-14 16:00:00+00:00<br>MarketCap=%{y}<extra></extra>",
           "legendgroup": "BIDU",
           "marker": {
            "color": "#FFA15A",
            "pattern": {
             "shape": ""
            }
           },
           "name": "BIDU",
           "offsetgroup": "BIDU",
           "orientation": "v",
           "showlegend": true,
           "textposition": "auto",
           "type": "bar",
           "x": [
            "BIDU"
           ],
           "xaxis": "x",
           "y": [
            36870467206.27832
           ],
           "yaxis": "y"
          },
          {
           "alignmentgroup": "True",
           "hovertemplate": "Ticker=%{x}<br>Date=2019-08-14 16:00:00+00:00<br>MarketCap=%{y}<extra></extra>",
           "legendgroup": "GOOGL",
           "marker": {
            "color": "#19d3f3",
            "pattern": {
             "shape": ""
            }
           },
           "name": "GOOGL",
           "offsetgroup": "GOOGL",
           "orientation": "v",
           "showlegend": true,
           "textposition": "auto",
           "type": "bar",
           "x": [
            "GOOGL"
           ],
           "xaxis": "x",
           "y": [
            41247407687.003784
           ],
           "yaxis": "y"
          },
          {
           "alignmentgroup": "True",
           "hovertemplate": "Ticker=%{x}<br>Date=2019-08-14 16:00:00+00:00<br>MarketCap=%{y}<extra></extra>",
           "legendgroup": "META",
           "marker": {
            "color": "#FF6692",
            "pattern": {
             "shape": ""
            }
           },
           "name": "META",
           "offsetgroup": "META",
           "orientation": "v",
           "showlegend": true,
           "textposition": "auto",
           "type": "bar",
           "x": [
            "META"
           ],
           "xaxis": "x",
           "y": [
            null
           ],
           "yaxis": "y"
          },
          {
           "alignmentgroup": "True",
           "hovertemplate": "Ticker=%{x}<br>Date=2019-08-14 16:00:00+00:00<br>MarketCap=%{y}<extra></extra>",
           "legendgroup": "MSFT",
           "marker": {
            "color": "#B6E880",
            "pattern": {
             "shape": ""
            }
           },
           "name": "MSFT",
           "offsetgroup": "MSFT",
           "orientation": "v",
           "showlegend": true,
           "textposition": "auto",
           "type": "bar",
           "x": [
            "MSFT"
           ],
           "xaxis": "x",
           "y": [
            1011253663272.8124
           ],
           "yaxis": "y"
          },
          {
           "alignmentgroup": "True",
           "hovertemplate": "Ticker=%{x}<br>Date=2019-08-14 16:00:00+00:00<br>MarketCap=%{y}<extra></extra>",
           "legendgroup": "TCEHY",
           "marker": {
            "color": "#FF97FF",
            "pattern": {
             "shape": ""
            }
           },
           "name": "TCEHY",
           "offsetgroup": "TCEHY",
           "orientation": "v",
           "showlegend": true,
           "textposition": "auto",
           "type": "bar",
           "x": [
            "TCEHY"
           ],
           "xaxis": "x",
           "y": [
            391933775750.0078
           ],
           "yaxis": "y"
          },
          {
           "alignmentgroup": "True",
           "hovertemplate": "Ticker=%{x}<br>Date=2019-08-14 16:00:00+00:00<br>MarketCap=%{y}<extra></extra>",
           "legendgroup": "TSLA",
           "marker": {
            "color": "#FECB52",
            "pattern": {
             "shape": ""
            }
           },
           "name": "TSLA",
           "offsetgroup": "TSLA",
           "orientation": "v",
           "showlegend": true,
           "textposition": "auto",
           "type": "bar",
           "x": [
            "TSLA"
           ],
           "xaxis": "x",
           "y": [
            2826428644.363404
           ],
           "yaxis": "y"
          }
         ],
         "name": "2019-08-14 16:00:00+00:00"
        },
        {
         "data": [
          {
           "alignmentgroup": "True",
           "hovertemplate": "Ticker=%{x}<br>Date=2019-11-14 05:00:00+00:00<br>MarketCap=%{y}<extra></extra>",
           "legendgroup": "AAPL",
           "marker": {
            "color": "#636efa",
            "pattern": {
             "shape": ""
            }
           },
           "name": "AAPL",
           "offsetgroup": "AAPL",
           "orientation": "v",
           "showlegend": true,
           "textposition": "auto",
           "type": "bar",
           "x": [
            "AAPL"
           ],
           "xaxis": "x",
           "y": [
            277181267619.2617
           ],
           "yaxis": "y"
          },
          {
           "alignmentgroup": "True",
           "hovertemplate": "Ticker=%{x}<br>Date=2019-11-14 05:00:00+00:00<br>MarketCap=%{y}<extra></extra>",
           "legendgroup": "AMD",
           "marker": {
            "color": "#EF553B",
            "pattern": {
             "shape": ""
            }
           },
           "name": "AMD",
           "offsetgroup": "AMD",
           "orientation": "v",
           "showlegend": true,
           "textposition": "auto",
           "type": "bar",
           "x": [
            "AMD"
           ],
           "xaxis": "x",
           "y": [
            39776234957.01318
           ],
           "yaxis": "y"
          },
          {
           "alignmentgroup": "True",
           "hovertemplate": "Ticker=%{x}<br>Date=2019-11-14 05:00:00+00:00<br>MarketCap=%{y}<extra></extra>",
           "legendgroup": "AMZN",
           "marker": {
            "color": "#00cc96",
            "pattern": {
             "shape": ""
            }
           },
           "name": "AMZN",
           "offsetgroup": "AMZN",
           "orientation": "v",
           "showlegend": true,
           "textposition": "auto",
           "type": "bar",
           "x": [
            "AMZN"
           ],
           "xaxis": "x",
           "y": [
            43671446460.9375
           ],
           "yaxis": "y"
          },
          {
           "alignmentgroup": "True",
           "hovertemplate": "Ticker=%{x}<br>Date=2019-11-14 05:00:00+00:00<br>MarketCap=%{y}<extra></extra>",
           "legendgroup": "BABA",
           "marker": {
            "color": "#ab63fa",
            "pattern": {
             "shape": ""
            }
           },
           "name": "BABA",
           "offsetgroup": "BABA",
           "orientation": "v",
           "showlegend": true,
           "textposition": "auto",
           "type": "bar",
           "x": [
            "BABA"
           ],
           "xaxis": "x",
           "y": [
            532072737505.7656
           ],
           "yaxis": "y"
          },
          {
           "alignmentgroup": "True",
           "hovertemplate": "Ticker=%{x}<br>Date=2019-11-14 05:00:00+00:00<br>MarketCap=%{y}<extra></extra>",
           "legendgroup": "BIDU",
           "marker": {
            "color": "#FFA15A",
            "pattern": {
             "shape": ""
            }
           },
           "name": "BIDU",
           "offsetgroup": "BIDU",
           "orientation": "v",
           "showlegend": true,
           "textposition": "auto",
           "type": "bar",
           "x": [
            "BIDU"
           ],
           "xaxis": "x",
           "y": [
            36655747435.302734
           ],
           "yaxis": "y"
          },
          {
           "alignmentgroup": "True",
           "hovertemplate": "Ticker=%{x}<br>Date=2019-11-14 05:00:00+00:00<br>MarketCap=%{y}<extra></extra>",
           "legendgroup": "GOOGL",
           "marker": {
            "color": "#19d3f3",
            "pattern": {
             "shape": ""
            }
           },
           "name": "GOOGL",
           "offsetgroup": "GOOGL",
           "orientation": "v",
           "showlegend": true,
           "textposition": "auto",
           "type": "bar",
           "x": [
            "GOOGL"
           ],
           "xaxis": "x",
           "y": [
            44749072643.73779
           ],
           "yaxis": "y"
          },
          {
           "alignmentgroup": "True",
           "hovertemplate": "Ticker=%{x}<br>Date=2019-11-14 05:00:00+00:00<br>MarketCap=%{y}<extra></extra>",
           "legendgroup": "META",
           "marker": {
            "color": "#FF6692",
            "pattern": {
             "shape": ""
            }
           },
           "name": "META",
           "offsetgroup": "META",
           "orientation": "v",
           "showlegend": true,
           "textposition": "auto",
           "type": "bar",
           "x": [
            "META"
           ],
           "xaxis": "x",
           "y": [
            null
           ],
           "yaxis": "y"
          },
          {
           "alignmentgroup": "True",
           "hovertemplate": "Ticker=%{x}<br>Date=2019-11-14 05:00:00+00:00<br>MarketCap=%{y}<extra></extra>",
           "legendgroup": "MSFT",
           "marker": {
            "color": "#B6E880",
            "pattern": {
             "shape": ""
            }
           },
           "name": "MSFT",
           "offsetgroup": "MSFT",
           "orientation": "v",
           "showlegend": true,
           "textposition": "auto",
           "type": "bar",
           "x": [
            "MSFT"
           ],
           "xaxis": "x",
           "y": [
            1068707390000.7812
           ],
           "yaxis": "y"
          },
          {
           "alignmentgroup": "True",
           "hovertemplate": "Ticker=%{x}<br>Date=2019-11-14 05:00:00+00:00<br>MarketCap=%{y}<extra></extra>",
           "legendgroup": "TCEHY",
           "marker": {
            "color": "#FF97FF",
            "pattern": {
             "shape": ""
            }
           },
           "name": "TCEHY",
           "offsetgroup": "TCEHY",
           "orientation": "v",
           "showlegend": true,
           "textposition": "auto",
           "type": "bar",
           "x": [
            "TCEHY"
           ],
           "xaxis": "x",
           "y": [
            375937786353.2285
           ],
           "yaxis": "y"
          },
          {
           "alignmentgroup": "True",
           "hovertemplate": "Ticker=%{x}<br>Date=2019-11-14 05:00:00+00:00<br>MarketCap=%{y}<extra></extra>",
           "legendgroup": "TSLA",
           "marker": {
            "color": "#FECB52",
            "pattern": {
             "shape": ""
            }
           },
           "name": "TSLA",
           "offsetgroup": "TSLA",
           "orientation": "v",
           "showlegend": true,
           "textposition": "auto",
           "type": "bar",
           "x": [
            "TSLA"
           ],
           "xaxis": "x",
           "y": [
            3962364145.516235
           ],
           "yaxis": "y"
          }
         ],
         "name": "2019-11-14 05:00:00+00:00"
        },
        {
         "data": [
          {
           "alignmentgroup": "True",
           "hovertemplate": "Ticker=%{x}<br>Date=2020-02-19 17:00:00+00:00<br>MarketCap=%{y}<extra></extra>",
           "legendgroup": "AAPL",
           "marker": {
            "color": "#636efa",
            "pattern": {
             "shape": ""
            }
           },
           "name": "AAPL",
           "offsetgroup": "AAPL",
           "orientation": "v",
           "showlegend": true,
           "textposition": "auto",
           "type": "bar",
           "x": [
            "AAPL"
           ],
           "xaxis": "x",
           "y": [
            329839612630.52734
           ],
           "yaxis": "y"
          },
          {
           "alignmentgroup": "True",
           "hovertemplate": "Ticker=%{x}<br>Date=2020-02-19 17:00:00+00:00<br>MarketCap=%{y}<extra></extra>",
           "legendgroup": "AMD",
           "marker": {
            "color": "#EF553B",
            "pattern": {
             "shape": ""
            }
           },
           "name": "AMD",
           "offsetgroup": "AMD",
           "orientation": "v",
           "showlegend": true,
           "textposition": "auto",
           "type": "bar",
           "x": [
            "AMD"
           ],
           "xaxis": "x",
           "y": [
            56890606912
           ],
           "yaxis": "y"
          },
          {
           "alignmentgroup": "True",
           "hovertemplate": "Ticker=%{x}<br>Date=2020-02-19 17:00:00+00:00<br>MarketCap=%{y}<extra></extra>",
           "legendgroup": "AMZN",
           "marker": {
            "color": "#00cc96",
            "pattern": {
             "shape": ""
            }
           },
           "name": "AMZN",
           "offsetgroup": "AMZN",
           "orientation": "v",
           "showlegend": true,
           "textposition": "auto",
           "type": "bar",
           "x": [
            "AMZN"
           ],
           "xaxis": "x",
           "y": [
            48878138726.31543
           ],
           "yaxis": "y"
          },
          {
           "alignmentgroup": "True",
           "hovertemplate": "Ticker=%{x}<br>Date=2020-02-19 17:00:00+00:00<br>MarketCap=%{y}<extra></extra>",
           "legendgroup": "BABA",
           "marker": {
            "color": "#ab63fa",
            "pattern": {
             "shape": ""
            }
           },
           "name": "BABA",
           "offsetgroup": "BABA",
           "orientation": "v",
           "showlegend": true,
           "textposition": "auto",
           "type": "bar",
           "x": [
            "BABA"
           ],
           "xaxis": "x",
           "y": [
            573106967007.4102
           ],
           "yaxis": "y"
          },
          {
           "alignmentgroup": "True",
           "hovertemplate": "Ticker=%{x}<br>Date=2020-02-19 17:00:00+00:00<br>MarketCap=%{y}<extra></extra>",
           "legendgroup": "BIDU",
           "marker": {
            "color": "#FFA15A",
            "pattern": {
             "shape": ""
            }
           },
           "name": "BIDU",
           "offsetgroup": "BIDU",
           "orientation": "v",
           "showlegend": true,
           "textposition": "auto",
           "type": "bar",
           "x": [
            "BIDU"
           ],
           "xaxis": "x",
           "y": [
            48523718753.97168
           ],
           "yaxis": "y"
          },
          {
           "alignmentgroup": "True",
           "hovertemplate": "Ticker=%{x}<br>Date=2020-02-19 17:00:00+00:00<br>MarketCap=%{y}<extra></extra>",
           "legendgroup": "GOOGL",
           "marker": {
            "color": "#19d3f3",
            "pattern": {
             "shape": ""
            }
           },
           "name": "GOOGL",
           "offsetgroup": "GOOGL",
           "orientation": "v",
           "showlegend": true,
           "textposition": "auto",
           "type": "bar",
           "x": [
            "GOOGL"
           ],
           "xaxis": "x",
           "y": [
            48827249315.08887
           ],
           "yaxis": "y"
          },
          {
           "alignmentgroup": "True",
           "hovertemplate": "Ticker=%{x}<br>Date=2020-02-19 17:00:00+00:00<br>MarketCap=%{y}<extra></extra>",
           "legendgroup": "META",
           "marker": {
            "color": "#FF6692",
            "pattern": {
             "shape": ""
            }
           },
           "name": "META",
           "offsetgroup": "META",
           "orientation": "v",
           "showlegend": true,
           "textposition": "auto",
           "type": "bar",
           "x": [
            "META"
           ],
           "xaxis": "x",
           "y": [
            null
           ],
           "yaxis": "y"
          },
          {
           "alignmentgroup": "True",
           "hovertemplate": "Ticker=%{x}<br>Date=2020-02-19 17:00:00+00:00<br>MarketCap=%{y}<extra></extra>",
           "legendgroup": "MSFT",
           "marker": {
            "color": "#B6E880",
            "pattern": {
             "shape": ""
            }
           },
           "name": "MSFT",
           "offsetgroup": "MSFT",
           "orientation": "v",
           "showlegend": true,
           "textposition": "auto",
           "type": "bar",
           "x": [
            "MSFT"
           ],
           "xaxis": "x",
           "y": [
            1250669554183.6719
           ],
           "yaxis": "y"
          },
          {
           "alignmentgroup": "True",
           "hovertemplate": "Ticker=%{x}<br>Date=2020-02-19 17:00:00+00:00<br>MarketCap=%{y}<extra></extra>",
           "legendgroup": "TCEHY",
           "marker": {
            "color": "#FF97FF",
            "pattern": {
             "shape": ""
            }
           },
           "name": "TCEHY",
           "offsetgroup": "TCEHY",
           "orientation": "v",
           "showlegend": true,
           "textposition": "auto",
           "type": "bar",
           "x": [
            "TCEHY"
           ],
           "xaxis": "x",
           "y": [
            449698275098.64453
           ],
           "yaxis": "y"
          },
          {
           "alignmentgroup": "True",
           "hovertemplate": "Ticker=%{x}<br>Date=2020-02-19 17:00:00+00:00<br>MarketCap=%{y}<extra></extra>",
           "legendgroup": "TSLA",
           "marker": {
            "color": "#FECB52",
            "pattern": {
             "shape": ""
            }
           },
           "name": "TSLA",
           "offsetgroup": "TSLA",
           "orientation": "v",
           "showlegend": true,
           "textposition": "auto",
           "type": "bar",
           "x": [
            "TSLA"
           ],
           "xaxis": "x",
           "y": [
            7932783095.654785
           ],
           "yaxis": "y"
          }
         ],
         "name": "2020-02-19 17:00:00+00:00"
        },
        {
         "data": [
          {
           "alignmentgroup": "True",
           "hovertemplate": "Ticker=%{x}<br>Date=2020-05-16 16:00:00+00:00<br>MarketCap=%{y}<extra></extra>",
           "legendgroup": "AAPL",
           "marker": {
            "color": "#636efa",
            "pattern": {
             "shape": ""
            }
           },
           "name": "AAPL",
           "offsetgroup": "AAPL",
           "orientation": "v",
           "showlegend": true,
           "textposition": "auto",
           "type": "bar",
           "x": [
            "AAPL"
           ],
           "xaxis": "x",
           "y": [
            314867906932.0625
           ],
           "yaxis": "y"
          },
          {
           "alignmentgroup": "True",
           "hovertemplate": "Ticker=%{x}<br>Date=2020-05-16 16:00:00+00:00<br>MarketCap=%{y}<extra></extra>",
           "legendgroup": "AMD",
           "marker": {
            "color": "#EF553B",
            "pattern": {
             "shape": ""
            }
           },
           "name": "AMD",
           "offsetgroup": "AMD",
           "orientation": "v",
           "showlegend": true,
           "textposition": "auto",
           "type": "bar",
           "x": [
            "AMD"
           ],
           "xaxis": "x",
           "y": [
            62961173757.93457
           ],
           "yaxis": "y"
          },
          {
           "alignmentgroup": "True",
           "hovertemplate": "Ticker=%{x}<br>Date=2020-05-16 16:00:00+00:00<br>MarketCap=%{y}<extra></extra>",
           "legendgroup": "AMZN",
           "marker": {
            "color": "#00cc96",
            "pattern": {
             "shape": ""
            }
           },
           "name": "AMZN",
           "offsetgroup": "AMZN",
           "orientation": "v",
           "showlegend": true,
           "textposition": "auto",
           "type": "bar",
           "x": [
            "AMZN"
           ],
           "xaxis": "x",
           "y": [
            57948068116.370605
           ],
           "yaxis": "y"
          },
          {
           "alignmentgroup": "True",
           "hovertemplate": "Ticker=%{x}<br>Date=2020-05-16 16:00:00+00:00<br>MarketCap=%{y}<extra></extra>",
           "legendgroup": "BABA",
           "marker": {
            "color": "#ab63fa",
            "pattern": {
             "shape": ""
            }
           },
           "name": "BABA",
           "offsetgroup": "BABA",
           "orientation": "v",
           "showlegend": true,
           "textposition": "auto",
           "type": "bar",
           "x": [
            "BABA"
           ],
           "xaxis": "x",
           "y": [
            561654603451.6758
           ],
           "yaxis": "y"
          },
          {
           "alignmentgroup": "True",
           "hovertemplate": "Ticker=%{x}<br>Date=2020-05-16 16:00:00+00:00<br>MarketCap=%{y}<extra></extra>",
           "legendgroup": "BIDU",
           "marker": {
            "color": "#FFA15A",
            "pattern": {
             "shape": ""
            }
           },
           "name": "BIDU",
           "offsetgroup": "BIDU",
           "orientation": "v",
           "showlegend": true,
           "textposition": "auto",
           "type": "bar",
           "x": [
            "BIDU"
           ],
           "xaxis": "x",
           "y": [
            37047930987.3667
           ],
           "yaxis": "y"
          },
          {
           "alignmentgroup": "True",
           "hovertemplate": "Ticker=%{x}<br>Date=2020-05-16 16:00:00+00:00<br>MarketCap=%{y}<extra></extra>",
           "legendgroup": "GOOGL",
           "marker": {
            "color": "#19d3f3",
            "pattern": {
             "shape": ""
            }
           },
           "name": "GOOGL",
           "offsetgroup": "GOOGL",
           "orientation": "v",
           "showlegend": true,
           "textposition": "auto",
           "type": "bar",
           "x": [
            "GOOGL"
           ],
           "xaxis": "x",
           "y": [
            46851482936.02246
           ],
           "yaxis": "y"
          },
          {
           "alignmentgroup": "True",
           "hovertemplate": "Ticker=%{x}<br>Date=2020-05-16 16:00:00+00:00<br>MarketCap=%{y}<extra></extra>",
           "legendgroup": "META",
           "marker": {
            "color": "#FF6692",
            "pattern": {
             "shape": ""
            }
           },
           "name": "META",
           "offsetgroup": "META",
           "orientation": "v",
           "showlegend": true,
           "textposition": "auto",
           "type": "bar",
           "x": [
            "META"
           ],
           "xaxis": "x",
           "y": [
            null
           ],
           "yaxis": "y"
          },
          {
           "alignmentgroup": "True",
           "hovertemplate": "Ticker=%{x}<br>Date=2020-05-16 16:00:00+00:00<br>MarketCap=%{y}<extra></extra>",
           "legendgroup": "MSFT",
           "marker": {
            "color": "#B6E880",
            "pattern": {
             "shape": ""
            }
           },
           "name": "MSFT",
           "offsetgroup": "MSFT",
           "orientation": "v",
           "showlegend": true,
           "textposition": "auto",
           "type": "bar",
           "x": [
            "MSFT"
           ],
           "xaxis": "x",
           "y": [
            1333116245839.2188
           ],
           "yaxis": "y"
          },
          {
           "alignmentgroup": "True",
           "hovertemplate": "Ticker=%{x}<br>Date=2020-05-16 16:00:00+00:00<br>MarketCap=%{y}<extra></extra>",
           "legendgroup": "TCEHY",
           "marker": {
            "color": "#FF97FF",
            "pattern": {
             "shape": ""
            }
           },
           "name": "TCEHY",
           "offsetgroup": "TCEHY",
           "orientation": "v",
           "showlegend": true,
           "textposition": "auto",
           "type": "bar",
           "x": [
            "TCEHY"
           ],
           "xaxis": "x",
           "y": [
            484418398450.8926
           ],
           "yaxis": "y"
          },
          {
           "alignmentgroup": "True",
           "hovertemplate": "Ticker=%{x}<br>Date=2020-05-16 16:00:00+00:00<br>MarketCap=%{y}<extra></extra>",
           "legendgroup": "TSLA",
           "marker": {
            "color": "#FECB52",
            "pattern": {
             "shape": ""
            }
           },
           "name": "TSLA",
           "offsetgroup": "TSLA",
           "orientation": "v",
           "showlegend": true,
           "textposition": "auto",
           "type": "bar",
           "x": [
            "TSLA"
           ],
           "xaxis": "x",
           "y": [
            10153663497.566406
           ],
           "yaxis": "y"
          }
         ],
         "name": "2020-05-16 16:00:00+00:00"
        },
        {
         "data": [
          {
           "alignmentgroup": "True",
           "hovertemplate": "Ticker=%{x}<br>Date=2020-08-14 04:00:00+00:00<br>MarketCap=%{y}<extra></extra>",
           "legendgroup": "AAPL",
           "marker": {
            "color": "#636efa",
            "pattern": {
             "shape": ""
            }
           },
           "name": "AAPL",
           "offsetgroup": "AAPL",
           "orientation": "v",
           "showlegend": true,
           "textposition": "auto",
           "type": "bar",
           "x": [
            "AAPL"
           ],
           "xaxis": "x",
           "y": [
            497082225956.9922
           ],
           "yaxis": "y"
          },
          {
           "alignmentgroup": "True",
           "hovertemplate": "Ticker=%{x}<br>Date=2020-08-14 04:00:00+00:00<br>MarketCap=%{y}<extra></extra>",
           "legendgroup": "AMD",
           "marker": {
            "color": "#EF553B",
            "pattern": {
             "shape": ""
            }
           },
           "name": "AMD",
           "offsetgroup": "AMD",
           "orientation": "v",
           "showlegend": true,
           "textposition": "auto",
           "type": "bar",
           "x": [
            "AMD"
           ],
           "xaxis": "x",
           "y": [
            92354408715.88672
           ],
           "yaxis": "y"
          },
          {
           "alignmentgroup": "True",
           "hovertemplate": "Ticker=%{x}<br>Date=2020-08-14 04:00:00+00:00<br>MarketCap=%{y}<extra></extra>",
           "legendgroup": "AMZN",
           "marker": {
            "color": "#00cc96",
            "pattern": {
             "shape": ""
            }
           },
           "name": "AMZN",
           "offsetgroup": "AMZN",
           "orientation": "v",
           "showlegend": true,
           "textposition": "auto",
           "type": "bar",
           "x": [
            "AMZN"
           ],
           "xaxis": "x",
           "y": [
            78363984250.04297
           ],
           "yaxis": "y"
          },
          {
           "alignmentgroup": "True",
           "hovertemplate": "Ticker=%{x}<br>Date=2020-08-14 04:00:00+00:00<br>MarketCap=%{y}<extra></extra>",
           "legendgroup": "BABA",
           "marker": {
            "color": "#ab63fa",
            "pattern": {
             "shape": ""
            }
           },
           "name": "BABA",
           "offsetgroup": "BABA",
           "orientation": "v",
           "showlegend": true,
           "textposition": "auto",
           "type": "bar",
           "x": [
            "BABA"
           ],
           "xaxis": "x",
           "y": [
            705829169532.5938
           ],
           "yaxis": "y"
          },
          {
           "alignmentgroup": "True",
           "hovertemplate": "Ticker=%{x}<br>Date=2020-08-14 04:00:00+00:00<br>MarketCap=%{y}<extra></extra>",
           "legendgroup": "BIDU",
           "marker": {
            "color": "#FFA15A",
            "pattern": {
             "shape": ""
            }
           },
           "name": "BIDU",
           "offsetgroup": "BIDU",
           "orientation": "v",
           "showlegend": true,
           "textposition": "auto",
           "type": "bar",
           "x": [
            "BIDU"
           ],
           "xaxis": "x",
           "y": [
            43696776340.36133
           ],
           "yaxis": "y"
          },
          {
           "alignmentgroup": "True",
           "hovertemplate": "Ticker=%{x}<br>Date=2020-08-14 04:00:00+00:00<br>MarketCap=%{y}<extra></extra>",
           "legendgroup": "GOOGL",
           "marker": {
            "color": "#19d3f3",
            "pattern": {
             "shape": ""
            }
           },
           "name": "GOOGL",
           "offsetgroup": "GOOGL",
           "orientation": "v",
           "showlegend": true,
           "textposition": "auto",
           "type": "bar",
           "x": [
            "GOOGL"
           ],
           "xaxis": "x",
           "y": [
            51647173338.28369
           ],
           "yaxis": "y"
          },
          {
           "alignmentgroup": "True",
           "hovertemplate": "Ticker=%{x}<br>Date=2020-08-14 04:00:00+00:00<br>MarketCap=%{y}<extra></extra>",
           "legendgroup": "META",
           "marker": {
            "color": "#FF6692",
            "pattern": {
             "shape": ""
            }
           },
           "name": "META",
           "offsetgroup": "META",
           "orientation": "v",
           "showlegend": true,
           "textposition": "auto",
           "type": "bar",
           "x": [
            "META"
           ],
           "xaxis": "x",
           "y": [
            null
           ],
           "yaxis": "y"
          },
          {
           "alignmentgroup": "True",
           "hovertemplate": "Ticker=%{x}<br>Date=2020-08-14 04:00:00+00:00<br>MarketCap=%{y}<extra></extra>",
           "legendgroup": "MSFT",
           "marker": {
            "color": "#B6E880",
            "pattern": {
             "shape": ""
            }
           },
           "name": "MSFT",
           "offsetgroup": "MSFT",
           "orientation": "v",
           "showlegend": true,
           "textposition": "auto",
           "type": "bar",
           "x": [
            "MSFT"
           ],
           "xaxis": "x",
           "y": [
            1524637553749
           ],
           "yaxis": "y"
          },
          {
           "alignmentgroup": "True",
           "hovertemplate": "Ticker=%{x}<br>Date=2020-08-14 04:00:00+00:00<br>MarketCap=%{y}<extra></extra>",
           "legendgroup": "TCEHY",
           "marker": {
            "color": "#FF97FF",
            "pattern": {
             "shape": ""
            }
           },
           "name": "TCEHY",
           "offsetgroup": "TCEHY",
           "orientation": "v",
           "showlegend": true,
           "textposition": "auto",
           "type": "bar",
           "x": [
            "TCEHY"
           ],
           "xaxis": "x",
           "y": [
            606702746016.5625
           ],
           "yaxis": "y"
          },
          {
           "alignmentgroup": "True",
           "hovertemplate": "Ticker=%{x}<br>Date=2020-08-14 04:00:00+00:00<br>MarketCap=%{y}<extra></extra>",
           "legendgroup": "TSLA",
           "marker": {
            "color": "#FECB52",
            "pattern": {
             "shape": ""
            }
           },
           "name": "TSLA",
           "offsetgroup": "TSLA",
           "orientation": "v",
           "showlegend": true,
           "textposition": "auto",
           "type": "bar",
           "x": [
            "TSLA"
           ],
           "xaxis": "x",
           "y": [
            22990175212.631226
           ],
           "yaxis": "y"
          }
         ],
         "name": "2020-08-14 04:00:00+00:00"
        },
        {
         "data": [
          {
           "alignmentgroup": "True",
           "hovertemplate": "Ticker=%{x}<br>Date=2020-11-12 05:00:00+00:00<br>MarketCap=%{y}<extra></extra>",
           "legendgroup": "AAPL",
           "marker": {
            "color": "#636efa",
            "pattern": {
             "shape": ""
            }
           },
           "name": "AAPL",
           "offsetgroup": "AAPL",
           "orientation": "v",
           "showlegend": true,
           "textposition": "auto",
           "type": "bar",
           "x": [
            "AAPL"
           ],
           "xaxis": "x",
           "y": [
            1891911955980
           ],
           "yaxis": "y"
          },
          {
           "alignmentgroup": "True",
           "hovertemplate": "Ticker=%{x}<br>Date=2020-11-12 05:00:00+00:00<br>MarketCap=%{y}<extra></extra>",
           "legendgroup": "AMD",
           "marker": {
            "color": "#EF553B",
            "pattern": {
             "shape": ""
            }
           },
           "name": "AMD",
           "offsetgroup": "AMD",
           "orientation": "v",
           "showlegend": true,
           "textposition": "auto",
           "type": "bar",
           "x": [
            "AMD"
           ],
           "xaxis": "x",
           "y": [
            93763648020.71094
           ],
           "yaxis": "y"
          },
          {
           "alignmentgroup": "True",
           "hovertemplate": "Ticker=%{x}<br>Date=2020-11-12 05:00:00+00:00<br>MarketCap=%{y}<extra></extra>",
           "legendgroup": "AMZN",
           "marker": {
            "color": "#00cc96",
            "pattern": {
             "shape": ""
            }
           },
           "name": "AMZN",
           "offsetgroup": "AMZN",
           "orientation": "v",
           "showlegend": true,
           "textposition": "auto",
           "type": "bar",
           "x": [
            "AMZN"
           ],
           "xaxis": "x",
           "y": [
            77150682911.3086
           ],
           "yaxis": "y"
          },
          {
           "alignmentgroup": "True",
           "hovertemplate": "Ticker=%{x}<br>Date=2020-11-12 05:00:00+00:00<br>MarketCap=%{y}<extra></extra>",
           "legendgroup": "BABA",
           "marker": {
            "color": "#ab63fa",
            "pattern": {
             "shape": ""
            }
           },
           "name": "BABA",
           "offsetgroup": "BABA",
           "orientation": "v",
           "showlegend": true,
           "textposition": "auto",
           "type": "bar",
           "x": [
            "BABA"
           ],
           "xaxis": "x",
           "y": [
            747791665817.4375
           ],
           "yaxis": "y"
          },
          {
           "alignmentgroup": "True",
           "hovertemplate": "Ticker=%{x}<br>Date=2020-11-12 05:00:00+00:00<br>MarketCap=%{y}<extra></extra>",
           "legendgroup": "BIDU",
           "marker": {
            "color": "#FFA15A",
            "pattern": {
             "shape": ""
            }
           },
           "name": "BIDU",
           "offsetgroup": "BIDU",
           "orientation": "v",
           "showlegend": true,
           "textposition": "auto",
           "type": "bar",
           "x": [
            "BIDU"
           ],
           "xaxis": "x",
           "y": [
            43231383000
           ],
           "yaxis": "y"
          },
          {
           "alignmentgroup": "True",
           "hovertemplate": "Ticker=%{x}<br>Date=2020-11-12 05:00:00+00:00<br>MarketCap=%{y}<extra></extra>",
           "legendgroup": "GOOGL",
           "marker": {
            "color": "#19d3f3",
            "pattern": {
             "shape": ""
            }
           },
           "name": "GOOGL",
           "offsetgroup": "GOOGL",
           "orientation": "v",
           "showlegend": true,
           "textposition": "auto",
           "type": "bar",
           "x": [
            "GOOGL"
           ],
           "xaxis": "x",
           "y": [
            58797667375.72363
           ],
           "yaxis": "y"
          },
          {
           "alignmentgroup": "True",
           "hovertemplate": "Ticker=%{x}<br>Date=2020-11-12 05:00:00+00:00<br>MarketCap=%{y}<extra></extra>",
           "legendgroup": "META",
           "marker": {
            "color": "#FF6692",
            "pattern": {
             "shape": ""
            }
           },
           "name": "META",
           "offsetgroup": "META",
           "orientation": "v",
           "showlegend": true,
           "textposition": "auto",
           "type": "bar",
           "x": [
            "META"
           ],
           "xaxis": "x",
           "y": [
            null
           ],
           "yaxis": "y"
          },
          {
           "alignmentgroup": "True",
           "hovertemplate": "Ticker=%{x}<br>Date=2020-11-12 05:00:00+00:00<br>MarketCap=%{y}<extra></extra>",
           "legendgroup": "MSFT",
           "marker": {
            "color": "#B6E880",
            "pattern": {
             "shape": ""
            }
           },
           "name": "MSFT",
           "offsetgroup": "MSFT",
           "orientation": "v",
           "showlegend": true,
           "textposition": "auto",
           "type": "bar",
           "x": [
            "MSFT"
           ],
           "xaxis": "x",
           "y": [
            1540623760165.125
           ],
           "yaxis": "y"
          },
          {
           "alignmentgroup": "True",
           "hovertemplate": "Ticker=%{x}<br>Date=2020-11-12 05:00:00+00:00<br>MarketCap=%{y}<extra></extra>",
           "legendgroup": "TCEHY",
           "marker": {
            "color": "#FF97FF",
            "pattern": {
             "shape": ""
            }
           },
           "name": "TCEHY",
           "offsetgroup": "TCEHY",
           "orientation": "v",
           "showlegend": true,
           "textposition": "auto",
           "type": "bar",
           "x": [
            "TCEHY"
           ],
           "xaxis": "x",
           "y": [
            665571345823.8281
           ],
           "yaxis": "y"
          },
          {
           "alignmentgroup": "True",
           "hovertemplate": "Ticker=%{x}<br>Date=2020-11-12 05:00:00+00:00<br>MarketCap=%{y}<extra></extra>",
           "legendgroup": "TSLA",
           "marker": {
            "color": "#FECB52",
            "pattern": {
             "shape": ""
            }
           },
           "name": "TSLA",
           "offsetgroup": "TSLA",
           "orientation": "v",
           "showlegend": true,
           "textposition": "auto",
           "type": "bar",
           "x": [
            "TSLA"
           ],
           "xaxis": "x",
           "y": [
            133341091467.04883
           ],
           "yaxis": "y"
          }
         ],
         "name": "2020-11-12 05:00:00+00:00"
        },
        {
         "data": [
          {
           "alignmentgroup": "True",
           "hovertemplate": "Ticker=%{x}<br>Date=2021-02-17 05:00:00+00:00<br>MarketCap=%{y}<extra></extra>",
           "legendgroup": "AAPL",
           "marker": {
            "color": "#636efa",
            "pattern": {
             "shape": ""
            }
           },
           "name": "AAPL",
           "offsetgroup": "AAPL",
           "orientation": "v",
           "showlegend": true,
           "textposition": "auto",
           "type": "bar",
           "x": [
            "AAPL"
           ],
           "xaxis": "x",
           "y": [
            2164283313145.1875
           ],
           "yaxis": "y"
          },
          {
           "alignmentgroup": "True",
           "hovertemplate": "Ticker=%{x}<br>Date=2021-02-17 05:00:00+00:00<br>MarketCap=%{y}<extra></extra>",
           "legendgroup": "AMD",
           "marker": {
            "color": "#EF553B",
            "pattern": {
             "shape": ""
            }
           },
           "name": "AMD",
           "offsetgroup": "AMD",
           "orientation": "v",
           "showlegend": true,
           "textposition": "auto",
           "type": "bar",
           "x": [
            "AMD"
           ],
           "xaxis": "x",
           "y": [
            103801675430.45116
           ],
           "yaxis": "y"
          },
          {
           "alignmentgroup": "True",
           "hovertemplate": "Ticker=%{x}<br>Date=2021-02-17 05:00:00+00:00<br>MarketCap=%{y}<extra></extra>",
           "legendgroup": "AMZN",
           "marker": {
            "color": "#00cc96",
            "pattern": {
             "shape": ""
            }
           },
           "name": "AMZN",
           "offsetgroup": "AMZN",
           "orientation": "v",
           "showlegend": true,
           "textposition": "auto",
           "type": "bar",
           "x": [
            "AMZN"
           ],
           "xaxis": "x",
           "y": [
            80359232981.3164
           ],
           "yaxis": "y"
          },
          {
           "alignmentgroup": "True",
           "hovertemplate": "Ticker=%{x}<br>Date=2021-02-17 05:00:00+00:00<br>MarketCap=%{y}<extra></extra>",
           "legendgroup": "BABA",
           "marker": {
            "color": "#ab63fa",
            "pattern": {
             "shape": ""
            }
           },
           "name": "BABA",
           "offsetgroup": "BABA",
           "orientation": "v",
           "showlegend": true,
           "textposition": "auto",
           "type": "bar",
           "x": [
            "BABA"
           ],
           "xaxis": "x",
           "y": [
            657300633821.6602
           ],
           "yaxis": "y"
          },
          {
           "alignmentgroup": "True",
           "hovertemplate": "Ticker=%{x}<br>Date=2021-02-17 05:00:00+00:00<br>MarketCap=%{y}<extra></extra>",
           "legendgroup": "BIDU",
           "marker": {
            "color": "#FFA15A",
            "pattern": {
             "shape": ""
            }
           },
           "name": "BIDU",
           "offsetgroup": "BIDU",
           "orientation": "v",
           "showlegend": true,
           "textposition": "auto",
           "type": "bar",
           "x": [
            "BIDU"
           ],
           "xaxis": "x",
           "y": [
            43496420145.46051
           ],
           "yaxis": "y"
          },
          {
           "alignmentgroup": "True",
           "hovertemplate": "Ticker=%{x}<br>Date=2021-02-17 05:00:00+00:00<br>MarketCap=%{y}<extra></extra>",
           "legendgroup": "GOOGL",
           "marker": {
            "color": "#19d3f3",
            "pattern": {
             "shape": ""
            }
           },
           "name": "GOOGL",
           "offsetgroup": "GOOGL",
           "orientation": "v",
           "showlegend": true,
           "textposition": "auto",
           "type": "bar",
           "x": [
            "GOOGL"
           ],
           "xaxis": "x",
           "y": [
            68713005182.7832
           ],
           "yaxis": "y"
          },
          {
           "alignmentgroup": "True",
           "hovertemplate": "Ticker=%{x}<br>Date=2021-02-17 05:00:00+00:00<br>MarketCap=%{y}<extra></extra>",
           "legendgroup": "META",
           "marker": {
            "color": "#FF6692",
            "pattern": {
             "shape": ""
            }
           },
           "name": "META",
           "offsetgroup": "META",
           "orientation": "v",
           "showlegend": true,
           "textposition": "auto",
           "type": "bar",
           "x": [
            "META"
           ],
           "xaxis": "x",
           "y": [
            null
           ],
           "yaxis": "y"
          },
          {
           "alignmentgroup": "True",
           "hovertemplate": "Ticker=%{x}<br>Date=2021-02-17 05:00:00+00:00<br>MarketCap=%{y}<extra></extra>",
           "legendgroup": "MSFT",
           "marker": {
            "color": "#B6E880",
            "pattern": {
             "shape": ""
            }
           },
           "name": "MSFT",
           "offsetgroup": "MSFT",
           "orientation": "v",
           "showlegend": true,
           "textposition": "auto",
           "type": "bar",
           "x": [
            "MSFT"
           ],
           "xaxis": "x",
           "y": [
            1754932158539.2188
           ],
           "yaxis": "y"
          },
          {
           "alignmentgroup": "True",
           "hovertemplate": "Ticker=%{x}<br>Date=2021-02-17 05:00:00+00:00<br>MarketCap=%{y}<extra></extra>",
           "legendgroup": "TCEHY",
           "marker": {
            "color": "#FF97FF",
            "pattern": {
             "shape": ""
            }
           },
           "name": "TCEHY",
           "offsetgroup": "TCEHY",
           "orientation": "v",
           "showlegend": true,
           "textposition": "auto",
           "type": "bar",
           "x": [
            "TCEHY"
           ],
           "xaxis": "x",
           "y": [
            789433927808.1797
           ],
           "yaxis": "y"
          },
          {
           "alignmentgroup": "True",
           "hovertemplate": "Ticker=%{x}<br>Date=2021-02-17 05:00:00+00:00<br>MarketCap=%{y}<extra></extra>",
           "legendgroup": "TSLA",
           "marker": {
            "color": "#FECB52",
            "pattern": {
             "shape": ""
            }
           },
           "name": "TSLA",
           "offsetgroup": "TSLA",
           "orientation": "v",
           "showlegend": true,
           "textposition": "auto",
           "type": "bar",
           "x": [
            "TSLA"
           ],
           "xaxis": "x",
           "y": [
            250960283157.76855
           ],
           "yaxis": "y"
          }
         ],
         "name": "2021-02-17 05:00:00+00:00"
        },
        {
         "data": [
          {
           "alignmentgroup": "True",
           "hovertemplate": "Ticker=%{x}<br>Date=2021-05-13 04:00:00+00:00<br>MarketCap=%{y}<extra></extra>",
           "legendgroup": "AAPL",
           "marker": {
            "color": "#636efa",
            "pattern": {
             "shape": ""
            }
           },
           "name": "AAPL",
           "offsetgroup": "AAPL",
           "orientation": "v",
           "showlegend": true,
           "textposition": "auto",
           "type": "bar",
           "x": [
            "AAPL"
           ],
           "xaxis": "x",
           "y": [
            2200816149707.3516
           ],
           "yaxis": "y"
          },
          {
           "alignmentgroup": "True",
           "hovertemplate": "Ticker=%{x}<br>Date=2021-05-13 04:00:00+00:00<br>MarketCap=%{y}<extra></extra>",
           "legendgroup": "AMD",
           "marker": {
            "color": "#EF553B",
            "pattern": {
             "shape": ""
            }
           },
           "name": "AMD",
           "offsetgroup": "AMD",
           "orientation": "v",
           "showlegend": true,
           "textposition": "auto",
           "type": "bar",
           "x": [
            "AMD"
           ],
           "xaxis": "x",
           "y": [
            102774226616.83301
           ],
           "yaxis": "y"
          },
          {
           "alignmentgroup": "True",
           "hovertemplate": "Ticker=%{x}<br>Date=2021-05-13 04:00:00+00:00<br>MarketCap=%{y}<extra></extra>",
           "legendgroup": "AMZN",
           "marker": {
            "color": "#00cc96",
            "pattern": {
             "shape": ""
            }
           },
           "name": "AMZN",
           "offsetgroup": "AMZN",
           "orientation": "v",
           "showlegend": true,
           "textposition": "auto",
           "type": "bar",
           "x": [
            "AMZN"
           ],
           "xaxis": "x",
           "y": [
            85557935523.19336
           ],
           "yaxis": "y"
          },
          {
           "alignmentgroup": "True",
           "hovertemplate": "Ticker=%{x}<br>Date=2021-05-13 04:00:00+00:00<br>MarketCap=%{y}<extra></extra>",
           "legendgroup": "BABA",
           "marker": {
            "color": "#ab63fa",
            "pattern": {
             "shape": ""
            }
           },
           "name": "BABA",
           "offsetgroup": "BABA",
           "orientation": "v",
           "showlegend": true,
           "textposition": "auto",
           "type": "bar",
           "x": [
            "BABA"
           ],
           "xaxis": "x",
           "y": [
            606377529606.0938
           ],
           "yaxis": "y"
          },
          {
           "alignmentgroup": "True",
           "hovertemplate": "Ticker=%{x}<br>Date=2021-05-13 04:00:00+00:00<br>MarketCap=%{y}<extra></extra>",
           "legendgroup": "BIDU",
           "marker": {
            "color": "#FFA15A",
            "pattern": {
             "shape": ""
            }
           },
           "name": "BIDU",
           "offsetgroup": "BIDU",
           "orientation": "v",
           "showlegend": true,
           "textposition": "auto",
           "type": "bar",
           "x": [
            "BIDU"
           ],
           "xaxis": "x",
           "y": [
            66098549484.76904
           ],
           "yaxis": "y"
          },
          {
           "alignmentgroup": "True",
           "hovertemplate": "Ticker=%{x}<br>Date=2021-05-13 04:00:00+00:00<br>MarketCap=%{y}<extra></extra>",
           "legendgroup": "GOOGL",
           "marker": {
            "color": "#19d3f3",
            "pattern": {
             "shape": ""
            }
           },
           "name": "GOOGL",
           "offsetgroup": "GOOGL",
           "orientation": "v",
           "showlegend": true,
           "textposition": "auto",
           "type": "bar",
           "x": [
            "GOOGL"
           ],
           "xaxis": "x",
           "y": [
            78662204565.73486
           ],
           "yaxis": "y"
          },
          {
           "alignmentgroup": "True",
           "hovertemplate": "Ticker=%{x}<br>Date=2021-05-13 04:00:00+00:00<br>MarketCap=%{y}<extra></extra>",
           "legendgroup": "META",
           "marker": {
            "color": "#FF6692",
            "pattern": {
             "shape": ""
            }
           },
           "name": "META",
           "offsetgroup": "META",
           "orientation": "v",
           "showlegend": true,
           "textposition": "auto",
           "type": "bar",
           "x": [
            "META"
           ],
           "xaxis": "x",
           "y": [
            null
           ],
           "yaxis": "y"
          },
          {
           "alignmentgroup": "True",
           "hovertemplate": "Ticker=%{x}<br>Date=2021-05-13 04:00:00+00:00<br>MarketCap=%{y}<extra></extra>",
           "legendgroup": "MSFT",
           "marker": {
            "color": "#B6E880",
            "pattern": {
             "shape": ""
            }
           },
           "name": "MSFT",
           "offsetgroup": "MSFT",
           "orientation": "v",
           "showlegend": true,
           "textposition": "auto",
           "type": "bar",
           "x": [
            "MSFT"
           ],
           "xaxis": "x",
           "y": [
            1901316026636.3047
           ],
           "yaxis": "y"
          },
          {
           "alignmentgroup": "True",
           "hovertemplate": "Ticker=%{x}<br>Date=2021-05-13 04:00:00+00:00<br>MarketCap=%{y}<extra></extra>",
           "legendgroup": "TCEHY",
           "marker": {
            "color": "#FF97FF",
            "pattern": {
             "shape": ""
            }
           },
           "name": "TCEHY",
           "offsetgroup": "TCEHY",
           "orientation": "v",
           "showlegend": true,
           "textposition": "auto",
           "type": "bar",
           "x": [
            "TCEHY"
           ],
           "xaxis": "x",
           "y": [
            703773835020.2812
           ],
           "yaxis": "y"
          },
          {
           "alignmentgroup": "True",
           "hovertemplate": "Ticker=%{x}<br>Date=2021-05-13 04:00:00+00:00<br>MarketCap=%{y}<extra></extra>",
           "legendgroup": "TSLA",
           "marker": {
            "color": "#FECB52",
            "pattern": {
             "shape": ""
            }
           },
           "name": "TSLA",
           "offsetgroup": "TSLA",
           "orientation": "v",
           "showlegend": true,
           "textposition": "auto",
           "type": "bar",
           "x": [
            "TSLA"
           ],
           "xaxis": "x",
           "y": [
            224065515209.7749
           ],
           "yaxis": "y"
          }
         ],
         "name": "2021-05-13 04:00:00+00:00"
        },
        {
         "data": [
          {
           "alignmentgroup": "True",
           "hovertemplate": "Ticker=%{x}<br>Date=2021-08-25 04:00:00+00:00<br>MarketCap=%{y}<extra></extra>",
           "legendgroup": "AAPL",
           "marker": {
            "color": "#636efa",
            "pattern": {
             "shape": ""
            }
           },
           "name": "AAPL",
           "offsetgroup": "AAPL",
           "orientation": "v",
           "showlegend": true,
           "textposition": "auto",
           "type": "bar",
           "x": [
            "AAPL"
           ],
           "xaxis": "x",
           "y": [
            2376822296279.9844
           ],
           "yaxis": "y"
          },
          {
           "alignmentgroup": "True",
           "hovertemplate": "Ticker=%{x}<br>Date=2021-08-25 04:00:00+00:00<br>MarketCap=%{y}<extra></extra>",
           "legendgroup": "AMD",
           "marker": {
            "color": "#EF553B",
            "pattern": {
             "shape": ""
            }
           },
           "name": "AMD",
           "offsetgroup": "AMD",
           "orientation": "v",
           "showlegend": true,
           "textposition": "auto",
           "type": "bar",
           "x": [
            "AMD"
           ],
           "xaxis": "x",
           "y": [
            128805285562.3125
           ],
           "yaxis": "y"
          },
          {
           "alignmentgroup": "True",
           "hovertemplate": "Ticker=%{x}<br>Date=2021-08-25 04:00:00+00:00<br>MarketCap=%{y}<extra></extra>",
           "legendgroup": "AMZN",
           "marker": {
            "color": "#00cc96",
            "pattern": {
             "shape": ""
            }
           },
           "name": "AMZN",
           "offsetgroup": "AMZN",
           "orientation": "v",
           "showlegend": true,
           "textposition": "auto",
           "type": "bar",
           "x": [
            "AMZN"
           ],
           "xaxis": "x",
           "y": [
            84747127271.73193
           ],
           "yaxis": "y"
          },
          {
           "alignmentgroup": "True",
           "hovertemplate": "Ticker=%{x}<br>Date=2021-08-25 04:00:00+00:00<br>MarketCap=%{y}<extra></extra>",
           "legendgroup": "BABA",
           "marker": {
            "color": "#ab63fa",
            "pattern": {
             "shape": ""
            }
           },
           "name": "BABA",
           "offsetgroup": "BABA",
           "orientation": "v",
           "showlegend": true,
           "textposition": "auto",
           "type": "bar",
           "x": [
            "BABA"
           ],
           "xaxis": "x",
           "y": [
            466276511744
           ],
           "yaxis": "y"
          },
          {
           "alignmentgroup": "True",
           "hovertemplate": "Ticker=%{x}<br>Date=2021-08-25 04:00:00+00:00<br>MarketCap=%{y}<extra></extra>",
           "legendgroup": "BIDU",
           "marker": {
            "color": "#FFA15A",
            "pattern": {
             "shape": ""
            }
           },
           "name": "BIDU",
           "offsetgroup": "BIDU",
           "orientation": "v",
           "showlegend": true,
           "textposition": "auto",
           "type": "bar",
           "x": [
            "BIDU"
           ],
           "xaxis": "x",
           "y": [
            54705774557.006836
           ],
           "yaxis": "y"
          },
          {
           "alignmentgroup": "True",
           "hovertemplate": "Ticker=%{x}<br>Date=2021-08-25 04:00:00+00:00<br>MarketCap=%{y}<extra></extra>",
           "legendgroup": "GOOGL",
           "marker": {
            "color": "#19d3f3",
            "pattern": {
             "shape": ""
            }
           },
           "name": "GOOGL",
           "offsetgroup": "GOOGL",
           "orientation": "v",
           "showlegend": true,
           "textposition": "auto",
           "type": "bar",
           "x": [
            "GOOGL"
           ],
           "xaxis": "x",
           "y": [
            91929445452.03906
           ],
           "yaxis": "y"
          },
          {
           "alignmentgroup": "True",
           "hovertemplate": "Ticker=%{x}<br>Date=2021-08-25 04:00:00+00:00<br>MarketCap=%{y}<extra></extra>",
           "legendgroup": "META",
           "marker": {
            "color": "#FF6692",
            "pattern": {
             "shape": ""
            }
           },
           "name": "META",
           "offsetgroup": "META",
           "orientation": "v",
           "showlegend": true,
           "textposition": "auto",
           "type": "bar",
           "x": [
            "META"
           ],
           "xaxis": "x",
           "y": [
            null
           ],
           "yaxis": "y"
          },
          {
           "alignmentgroup": "True",
           "hovertemplate": "Ticker=%{x}<br>Date=2021-08-25 04:00:00+00:00<br>MarketCap=%{y}<extra></extra>",
           "legendgroup": "MSFT",
           "marker": {
            "color": "#B6E880",
            "pattern": {
             "shape": ""
            }
           },
           "name": "MSFT",
           "offsetgroup": "MSFT",
           "orientation": "v",
           "showlegend": true,
           "textposition": "auto",
           "type": "bar",
           "x": [
            "MSFT"
           ],
           "xaxis": "x",
           "y": [
            2094940794927.461
           ],
           "yaxis": "y"
          },
          {
           "alignmentgroup": "True",
           "hovertemplate": "Ticker=%{x}<br>Date=2021-08-25 04:00:00+00:00<br>MarketCap=%{y}<extra></extra>",
           "legendgroup": "TCEHY",
           "marker": {
            "color": "#FF97FF",
            "pattern": {
             "shape": ""
            }
           },
           "name": "TCEHY",
           "offsetgroup": "TCEHY",
           "orientation": "v",
           "showlegend": true,
           "textposition": "auto",
           "type": "bar",
           "x": [
            "TCEHY"
           ],
           "xaxis": "x",
           "y": [
            553505012471.668
           ],
           "yaxis": "y"
          },
          {
           "alignmentgroup": "True",
           "hovertemplate": "Ticker=%{x}<br>Date=2021-08-25 04:00:00+00:00<br>MarketCap=%{y}<extra></extra>",
           "legendgroup": "TSLA",
           "marker": {
            "color": "#FECB52",
            "pattern": {
             "shape": ""
            }
           },
           "name": "TSLA",
           "offsetgroup": "TSLA",
           "orientation": "v",
           "showlegend": true,
           "textposition": "auto",
           "type": "bar",
           "x": [
            "TSLA"
           ],
           "xaxis": "x",
           "y": [
            233798397183.73828
           ],
           "yaxis": "y"
          }
         ],
         "name": "2021-08-25 04:00:00+00:00"
        },
        {
         "data": [
          {
           "alignmentgroup": "True",
           "hovertemplate": "Ticker=%{x}<br>Date=2021-11-12 05:00:00+00:00<br>MarketCap=%{y}<extra></extra>",
           "legendgroup": "AAPL",
           "marker": {
            "color": "#636efa",
            "pattern": {
             "shape": ""
            }
           },
           "name": "AAPL",
           "offsetgroup": "AAPL",
           "orientation": "v",
           "showlegend": true,
           "textposition": "auto",
           "type": "bar",
           "x": [
            "AAPL"
           ],
           "xaxis": "x",
           "y": [
            2446237664501.953
           ],
           "yaxis": "y"
          },
          {
           "alignmentgroup": "True",
           "hovertemplate": "Ticker=%{x}<br>Date=2021-11-12 05:00:00+00:00<br>MarketCap=%{y}<extra></extra>",
           "legendgroup": "AMD",
           "marker": {
            "color": "#EF553B",
            "pattern": {
             "shape": ""
            }
           },
           "name": "AMD",
           "offsetgroup": "AMD",
           "orientation": "v",
           "showlegend": true,
           "textposition": "auto",
           "type": "bar",
           "x": [
            "AMD"
           ],
           "xaxis": "x",
           "y": [
            145190952430.18652
           ],
           "yaxis": "y"
          },
          {
           "alignmentgroup": "True",
           "hovertemplate": "Ticker=%{x}<br>Date=2021-11-12 05:00:00+00:00<br>MarketCap=%{y}<extra></extra>",
           "legendgroup": "AMZN",
           "marker": {
            "color": "#00cc96",
            "pattern": {
             "shape": ""
            }
           },
           "name": "AMZN",
           "offsetgroup": "AMZN",
           "orientation": "v",
           "showlegend": true,
           "textposition": "auto",
           "type": "bar",
           "x": [
            "AMZN"
           ],
           "xaxis": "x",
           "y": [
            85492110345.81201
           ],
           "yaxis": "y"
          },
          {
           "alignmentgroup": "True",
           "hovertemplate": "Ticker=%{x}<br>Date=2021-11-12 05:00:00+00:00<br>MarketCap=%{y}<extra></extra>",
           "legendgroup": "BABA",
           "marker": {
            "color": "#ab63fa",
            "pattern": {
             "shape": ""
            }
           },
           "name": "BABA",
           "offsetgroup": "BABA",
           "orientation": "v",
           "showlegend": true,
           "textposition": "auto",
           "type": "bar",
           "x": [
            "BABA"
           ],
           "xaxis": "x",
           "y": [
            424476565368.91406
           ],
           "yaxis": "y"
          },
          {
           "alignmentgroup": "True",
           "hovertemplate": "Ticker=%{x}<br>Date=2021-11-12 05:00:00+00:00<br>MarketCap=%{y}<extra></extra>",
           "legendgroup": "BIDU",
           "marker": {
            "color": "#FFA15A",
            "pattern": {
             "shape": ""
            }
           },
           "name": "BIDU",
           "offsetgroup": "BIDU",
           "orientation": "v",
           "showlegend": true,
           "textposition": "auto",
           "type": "bar",
           "x": [
            "BIDU"
           ],
           "xaxis": "x",
           "y": [
            55665077255.65918
           ],
           "yaxis": "y"
          },
          {
           "alignmentgroup": "True",
           "hovertemplate": "Ticker=%{x}<br>Date=2021-11-12 05:00:00+00:00<br>MarketCap=%{y}<extra></extra>",
           "legendgroup": "GOOGL",
           "marker": {
            "color": "#19d3f3",
            "pattern": {
             "shape": ""
            }
           },
           "name": "GOOGL",
           "offsetgroup": "GOOGL",
           "orientation": "v",
           "showlegend": true,
           "textposition": "auto",
           "type": "bar",
           "x": [
            "GOOGL"
           ],
           "xaxis": "x",
           "y": [
            96987045682.61914
           ],
           "yaxis": "y"
          },
          {
           "alignmentgroup": "True",
           "hovertemplate": "Ticker=%{x}<br>Date=2021-11-12 05:00:00+00:00<br>MarketCap=%{y}<extra></extra>",
           "legendgroup": "META",
           "marker": {
            "color": "#FF6692",
            "pattern": {
             "shape": ""
            }
           },
           "name": "META",
           "offsetgroup": "META",
           "orientation": "v",
           "showlegend": true,
           "textposition": "auto",
           "type": "bar",
           "x": [
            "META"
           ],
           "xaxis": "x",
           "y": [
            null
           ],
           "yaxis": "y"
          },
          {
           "alignmentgroup": "True",
           "hovertemplate": "Ticker=%{x}<br>Date=2021-11-12 05:00:00+00:00<br>MarketCap=%{y}<extra></extra>",
           "legendgroup": "MSFT",
           "marker": {
            "color": "#B6E880",
            "pattern": {
             "shape": ""
            }
           },
           "name": "MSFT",
           "offsetgroup": "MSFT",
           "orientation": "v",
           "showlegend": true,
           "textposition": "auto",
           "type": "bar",
           "x": [
            "MSFT"
           ],
           "xaxis": "x",
           "y": [
            2385785951947.328
           ],
           "yaxis": "y"
          },
          {
           "alignmentgroup": "True",
           "hovertemplate": "Ticker=%{x}<br>Date=2021-11-12 05:00:00+00:00<br>MarketCap=%{y}<extra></extra>",
           "legendgroup": "TCEHY",
           "marker": {
            "color": "#FF97FF",
            "pattern": {
             "shape": ""
            }
           },
           "name": "TCEHY",
           "offsetgroup": "TCEHY",
           "orientation": "v",
           "showlegend": true,
           "textposition": "auto",
           "type": "bar",
           "x": [
            "TCEHY"
           ],
           "xaxis": "x",
           "y": [
            540393821766.84375
           ],
           "yaxis": "y"
          },
          {
           "alignmentgroup": "True",
           "hovertemplate": "Ticker=%{x}<br>Date=2021-11-12 05:00:00+00:00<br>MarketCap=%{y}<extra></extra>",
           "legendgroup": "TSLA",
           "marker": {
            "color": "#FECB52",
            "pattern": {
             "shape": ""
            }
           },
           "name": "TSLA",
           "offsetgroup": "TSLA",
           "orientation": "v",
           "showlegend": true,
           "textposition": "auto",
           "type": "bar",
           "x": [
            "TSLA"
           ],
           "xaxis": "x",
           "y": [
            340922813735.7461
           ],
           "yaxis": "y"
          }
         ],
         "name": "2021-11-12 05:00:00+00:00"
        },
        {
         "data": [
          {
           "alignmentgroup": "True",
           "hovertemplate": "Ticker=%{x}<br>Date=2022-02-15 17:00:00+00:00<br>MarketCap=%{y}<extra></extra>",
           "legendgroup": "AAPL",
           "marker": {
            "color": "#636efa",
            "pattern": {
             "shape": ""
            }
           },
           "name": "AAPL",
           "offsetgroup": "AAPL",
           "orientation": "v",
           "showlegend": true,
           "textposition": "auto",
           "type": "bar",
           "x": [
            "AAPL"
           ],
           "xaxis": "x",
           "y": [
            2724480690041.6875
           ],
           "yaxis": "y"
          },
          {
           "alignmentgroup": "True",
           "hovertemplate": "Ticker=%{x}<br>Date=2022-02-15 17:00:00+00:00<br>MarketCap=%{y}<extra></extra>",
           "legendgroup": "AMD",
           "marker": {
            "color": "#EF553B",
            "pattern": {
             "shape": ""
            }
           },
           "name": "AMD",
           "offsetgroup": "AMD",
           "orientation": "v",
           "showlegend": true,
           "textposition": "auto",
           "type": "bar",
           "x": [
            "AMD"
           ],
           "xaxis": "x",
           "y": [
            181469218688.51956
           ],
           "yaxis": "y"
          },
          {
           "alignmentgroup": "True",
           "hovertemplate": "Ticker=%{x}<br>Date=2022-02-15 17:00:00+00:00<br>MarketCap=%{y}<extra></extra>",
           "legendgroup": "AMZN",
           "marker": {
            "color": "#00cc96",
            "pattern": {
             "shape": ""
            }
           },
           "name": "AMZN",
           "offsetgroup": "AMZN",
           "orientation": "v",
           "showlegend": true,
           "textposition": "auto",
           "type": "bar",
           "x": [
            "AMZN"
           ],
           "xaxis": "x",
           "y": [
            77954266453.15552
           ],
           "yaxis": "y"
          },
          {
           "alignmentgroup": "True",
           "hovertemplate": "Ticker=%{x}<br>Date=2022-02-15 17:00:00+00:00<br>MarketCap=%{y}<extra></extra>",
           "legendgroup": "BABA",
           "marker": {
            "color": "#ab63fa",
            "pattern": {
             "shape": ""
            }
           },
           "name": "BABA",
           "offsetgroup": "BABA",
           "orientation": "v",
           "showlegend": true,
           "textposition": "auto",
           "type": "bar",
           "x": [
            "BABA"
           ],
           "xaxis": "x",
           "y": [
            318533430122.97656
           ],
           "yaxis": "y"
          },
          {
           "alignmentgroup": "True",
           "hovertemplate": "Ticker=%{x}<br>Date=2022-02-15 17:00:00+00:00<br>MarketCap=%{y}<extra></extra>",
           "legendgroup": "BIDU",
           "marker": {
            "color": "#FFA15A",
            "pattern": {
             "shape": ""
            }
           },
           "name": "BIDU",
           "offsetgroup": "BIDU",
           "orientation": "v",
           "showlegend": true,
           "textposition": "auto",
           "type": "bar",
           "x": [
            "BIDU"
           ],
           "xaxis": "x",
           "y": [
            53199818700.71387
           ],
           "yaxis": "y"
          },
          {
           "alignmentgroup": "True",
           "hovertemplate": "Ticker=%{x}<br>Date=2022-02-15 17:00:00+00:00<br>MarketCap=%{y}<extra></extra>",
           "legendgroup": "GOOGL",
           "marker": {
            "color": "#19d3f3",
            "pattern": {
             "shape": ""
            }
           },
           "name": "GOOGL",
           "offsetgroup": "GOOGL",
           "orientation": "v",
           "showlegend": true,
           "textposition": "auto",
           "type": "bar",
           "x": [
            "GOOGL"
           ],
           "xaxis": "x",
           "y": [
            90280412740.06982
           ],
           "yaxis": "y"
          },
          {
           "alignmentgroup": "True",
           "hovertemplate": "Ticker=%{x}<br>Date=2022-02-15 17:00:00+00:00<br>MarketCap=%{y}<extra></extra>",
           "legendgroup": "META",
           "marker": {
            "color": "#FF6692",
            "pattern": {
             "shape": ""
            }
           },
           "name": "META",
           "offsetgroup": "META",
           "orientation": "v",
           "showlegend": true,
           "textposition": "auto",
           "type": "bar",
           "x": [
            "META"
           ],
           "xaxis": "x",
           "y": [
            null
           ],
           "yaxis": "y"
          },
          {
           "alignmentgroup": "True",
           "hovertemplate": "Ticker=%{x}<br>Date=2022-02-15 17:00:00+00:00<br>MarketCap=%{y}<extra></extra>",
           "legendgroup": "MSFT",
           "marker": {
            "color": "#B6E880",
            "pattern": {
             "shape": ""
            }
           },
           "name": "MSFT",
           "offsetgroup": "MSFT",
           "orientation": "v",
           "showlegend": true,
           "textposition": "auto",
           "type": "bar",
           "x": [
            "MSFT"
           ],
           "xaxis": "x",
           "y": [
            2203858847865.578
           ],
           "yaxis": "y"
          },
          {
           "alignmentgroup": "True",
           "hovertemplate": "Ticker=%{x}<br>Date=2022-02-15 17:00:00+00:00<br>MarketCap=%{y}<extra></extra>",
           "legendgroup": "TCEHY",
           "marker": {
            "color": "#FF97FF",
            "pattern": {
             "shape": ""
            }
           },
           "name": "TCEHY",
           "offsetgroup": "TCEHY",
           "orientation": "v",
           "showlegend": true,
           "textposition": "auto",
           "type": "bar",
           "x": [
            "TCEHY"
           ],
           "xaxis": "x",
           "y": [
            517343731469.3672
           ],
           "yaxis": "y"
          },
          {
           "alignmentgroup": "True",
           "hovertemplate": "Ticker=%{x}<br>Date=2022-02-15 17:00:00+00:00<br>MarketCap=%{y}<extra></extra>",
           "legendgroup": "TSLA",
           "marker": {
            "color": "#FECB52",
            "pattern": {
             "shape": ""
            }
           },
           "name": "TSLA",
           "offsetgroup": "TSLA",
           "orientation": "v",
           "showlegend": true,
           "textposition": "auto",
           "type": "bar",
           "x": [
            "TSLA"
           ],
           "xaxis": "x",
           "y": [
            308442560502.25
           ],
           "yaxis": "y"
          }
         ],
         "name": "2022-02-15 17:00:00+00:00"
        },
        {
         "data": [
          {
           "alignmentgroup": "True",
           "hovertemplate": "Ticker=%{x}<br>Date=2022-05-17 04:00:00+00:00<br>MarketCap=%{y}<extra></extra>",
           "legendgroup": "AAPL",
           "marker": {
            "color": "#636efa",
            "pattern": {
             "shape": ""
            }
           },
           "name": "AAPL",
           "offsetgroup": "AAPL",
           "orientation": "v",
           "showlegend": true,
           "textposition": "auto",
           "type": "bar",
           "x": [
            "AAPL"
           ],
           "xaxis": "x",
           "y": [
            2660096680680.922
           ],
           "yaxis": "y"
          },
          {
           "alignmentgroup": "True",
           "hovertemplate": "Ticker=%{x}<br>Date=2022-05-17 04:00:00+00:00<br>MarketCap=%{y}<extra></extra>",
           "legendgroup": "AMD",
           "marker": {
            "color": "#EF553B",
            "pattern": {
             "shape": ""
            }
           },
           "name": "AMD",
           "offsetgroup": "AMD",
           "orientation": "v",
           "showlegend": true,
           "textposition": "auto",
           "type": "bar",
           "x": [
            "AMD"
           ],
           "xaxis": "x",
           "y": [
            165129966581.50195
           ],
           "yaxis": "y"
          },
          {
           "alignmentgroup": "True",
           "hovertemplate": "Ticker=%{x}<br>Date=2022-05-17 04:00:00+00:00<br>MarketCap=%{y}<extra></extra>",
           "legendgroup": "AMZN",
           "marker": {
            "color": "#00cc96",
            "pattern": {
             "shape": ""
            }
           },
           "name": "AMZN",
           "offsetgroup": "AMZN",
           "orientation": "v",
           "showlegend": true,
           "textposition": "auto",
           "type": "bar",
           "x": [
            "AMZN"
           ],
           "xaxis": "x",
           "y": [
            79146104790.34424
           ],
           "yaxis": "y"
          },
          {
           "alignmentgroup": "True",
           "hovertemplate": "Ticker=%{x}<br>Date=2022-05-17 04:00:00+00:00<br>MarketCap=%{y}<extra></extra>",
           "legendgroup": "BABA",
           "marker": {
            "color": "#ab63fa",
            "pattern": {
             "shape": ""
            }
           },
           "name": "BABA",
           "offsetgroup": "BABA",
           "orientation": "v",
           "showlegend": true,
           "textposition": "auto",
           "type": "bar",
           "x": [
            "BABA"
           ],
           "xaxis": "x",
           "y": [
            257931849774.0625
           ],
           "yaxis": "y"
          },
          {
           "alignmentgroup": "True",
           "hovertemplate": "Ticker=%{x}<br>Date=2022-05-17 04:00:00+00:00<br>MarketCap=%{y}<extra></extra>",
           "legendgroup": "BIDU",
           "marker": {
            "color": "#FFA15A",
            "pattern": {
             "shape": ""
            }
           },
           "name": "BIDU",
           "offsetgroup": "BIDU",
           "orientation": "v",
           "showlegend": true,
           "textposition": "auto",
           "type": "bar",
           "x": [
            "BIDU"
           ],
           "xaxis": "x",
           "y": [
            46918760176.78418
           ],
           "yaxis": "y"
          },
          {
           "alignmentgroup": "True",
           "hovertemplate": "Ticker=%{x}<br>Date=2022-05-17 04:00:00+00:00<br>MarketCap=%{y}<extra></extra>",
           "legendgroup": "GOOGL",
           "marker": {
            "color": "#19d3f3",
            "pattern": {
             "shape": ""
            }
           },
           "name": "GOOGL",
           "offsetgroup": "GOOGL",
           "orientation": "v",
           "showlegend": true,
           "textposition": "auto",
           "type": "bar",
           "x": [
            "GOOGL"
           ],
           "xaxis": "x",
           "y": [
            75615044400.14648
           ],
           "yaxis": "y"
          },
          {
           "alignmentgroup": "True",
           "hovertemplate": "Ticker=%{x}<br>Date=2022-05-17 04:00:00+00:00<br>MarketCap=%{y}<extra></extra>",
           "legendgroup": "META",
           "marker": {
            "color": "#FF6692",
            "pattern": {
             "shape": ""
            }
           },
           "name": "META",
           "offsetgroup": "META",
           "orientation": "v",
           "showlegend": true,
           "textposition": "auto",
           "type": "bar",
           "x": [
            "META"
           ],
           "xaxis": "x",
           "y": [
            497962856448
           ],
           "yaxis": "y"
          },
          {
           "alignmentgroup": "True",
           "hovertemplate": "Ticker=%{x}<br>Date=2022-05-17 04:00:00+00:00<br>MarketCap=%{y}<extra></extra>",
           "legendgroup": "MSFT",
           "marker": {
            "color": "#B6E880",
            "pattern": {
             "shape": ""
            }
           },
           "name": "MSFT",
           "offsetgroup": "MSFT",
           "orientation": "v",
           "showlegend": true,
           "textposition": "auto",
           "type": "bar",
           "x": [
            "MSFT"
           ],
           "xaxis": "x",
           "y": [
            2042453915816.25
           ],
           "yaxis": "y"
          },
          {
           "alignmentgroup": "True",
           "hovertemplate": "Ticker=%{x}<br>Date=2022-05-17 04:00:00+00:00<br>MarketCap=%{y}<extra></extra>",
           "legendgroup": "TCEHY",
           "marker": {
            "color": "#FF97FF",
            "pattern": {
             "shape": ""
            }
           },
           "name": "TCEHY",
           "offsetgroup": "TCEHY",
           "orientation": "v",
           "showlegend": true,
           "textposition": "auto",
           "type": "bar",
           "x": [
            "TCEHY"
           ],
           "xaxis": "x",
           "y": [
            425728157328.9844
           ],
           "yaxis": "y"
          },
          {
           "alignmentgroup": "True",
           "hovertemplate": "Ticker=%{x}<br>Date=2022-05-17 04:00:00+00:00<br>MarketCap=%{y}<extra></extra>",
           "legendgroup": "TSLA",
           "marker": {
            "color": "#FECB52",
            "pattern": {
             "shape": ""
            }
           },
           "name": "TSLA",
           "offsetgroup": "TSLA",
           "orientation": "v",
           "showlegend": true,
           "textposition": "auto",
           "type": "bar",
           "x": [
            "TSLA"
           ],
           "xaxis": "x",
           "y": [
            379328126403.6816
           ],
           "yaxis": "y"
          }
         ],
         "name": "2022-05-17 04:00:00+00:00"
        },
        {
         "data": [
          {
           "alignmentgroup": "True",
           "hovertemplate": "Ticker=%{x}<br>Date=2022-08-09 04:00:00+00:00<br>MarketCap=%{y}<extra></extra>",
           "legendgroup": "AAPL",
           "marker": {
            "color": "#636efa",
            "pattern": {
             "shape": ""
            }
           },
           "name": "AAPL",
           "offsetgroup": "AAPL",
           "orientation": "v",
           "showlegend": true,
           "textposition": "auto",
           "type": "bar",
           "x": [
            "AAPL"
           ],
           "xaxis": "x",
           "y": [
            2485949482190.4688
           ],
           "yaxis": "y"
          },
          {
           "alignmentgroup": "True",
           "hovertemplate": "Ticker=%{x}<br>Date=2022-08-09 04:00:00+00:00<br>MarketCap=%{y}<extra></extra>",
           "legendgroup": "AMD",
           "marker": {
            "color": "#EF553B",
            "pattern": {
             "shape": ""
            }
           },
           "name": "AMD",
           "offsetgroup": "AMD",
           "orientation": "v",
           "showlegend": true,
           "textposition": "auto",
           "type": "bar",
           "x": [
            "AMD"
           ],
           "xaxis": "x",
           "y": [
            129533033351.44044
           ],
           "yaxis": "y"
          },
          {
           "alignmentgroup": "True",
           "hovertemplate": "Ticker=%{x}<br>Date=2022-08-09 04:00:00+00:00<br>MarketCap=%{y}<extra></extra>",
           "legendgroup": "AMZN",
           "marker": {
            "color": "#00cc96",
            "pattern": {
             "shape": ""
            }
           },
           "name": "AMZN",
           "offsetgroup": "AMZN",
           "orientation": "v",
           "showlegend": true,
           "textposition": "auto",
           "type": "bar",
           "x": [
            "AMZN"
           ],
           "xaxis": "x",
           "y": [
            1366717487254.7344
           ],
           "yaxis": "y"
          },
          {
           "alignmentgroup": "True",
           "hovertemplate": "Ticker=%{x}<br>Date=2022-08-09 04:00:00+00:00<br>MarketCap=%{y}<extra></extra>",
           "legendgroup": "BABA",
           "marker": {
            "color": "#ab63fa",
            "pattern": {
             "shape": ""
            }
           },
           "name": "BABA",
           "offsetgroup": "BABA",
           "orientation": "v",
           "showlegend": true,
           "textposition": "auto",
           "type": "bar",
           "x": [
            "BABA"
           ],
           "xaxis": "x",
           "y": [
            249449231865.2344
           ],
           "yaxis": "y"
          },
          {
           "alignmentgroup": "True",
           "hovertemplate": "Ticker=%{x}<br>Date=2022-08-09 04:00:00+00:00<br>MarketCap=%{y}<extra></extra>",
           "legendgroup": "BIDU",
           "marker": {
            "color": "#FFA15A",
            "pattern": {
             "shape": ""
            }
           },
           "name": "BIDU",
           "offsetgroup": "BIDU",
           "orientation": "v",
           "showlegend": true,
           "textposition": "auto",
           "type": "bar",
           "x": [
            "BIDU"
           ],
           "xaxis": "x",
           "y": [
            47998734851.07422
           ],
           "yaxis": "y"
          },
          {
           "alignmentgroup": "True",
           "hovertemplate": "Ticker=%{x}<br>Date=2022-08-09 04:00:00+00:00<br>MarketCap=%{y}<extra></extra>",
           "legendgroup": "GOOGL",
           "marker": {
            "color": "#19d3f3",
            "pattern": {
             "shape": ""
            }
           },
           "name": "GOOGL",
           "offsetgroup": "GOOGL",
           "orientation": "v",
           "showlegend": true,
           "textposition": "auto",
           "type": "bar",
           "x": [
            "GOOGL"
           ],
           "xaxis": "x",
           "y": [
            1411702572283.0078
           ],
           "yaxis": "y"
          },
          {
           "alignmentgroup": "True",
           "hovertemplate": "Ticker=%{x}<br>Date=2022-08-09 04:00:00+00:00<br>MarketCap=%{y}<extra></extra>",
           "legendgroup": "META",
           "marker": {
            "color": "#FF6692",
            "pattern": {
             "shape": ""
            }
           },
           "name": "META",
           "offsetgroup": "META",
           "orientation": "v",
           "showlegend": true,
           "textposition": "auto",
           "type": "bar",
           "x": [
            "META"
           ],
           "xaxis": "x",
           "y": [
            444517269785.8887
           ],
           "yaxis": "y"
          },
          {
           "alignmentgroup": "True",
           "hovertemplate": "Ticker=%{x}<br>Date=2022-08-09 04:00:00+00:00<br>MarketCap=%{y}<extra></extra>",
           "legendgroup": "MSFT",
           "marker": {
            "color": "#B6E880",
            "pattern": {
             "shape": ""
            }
           },
           "name": "MSFT",
           "offsetgroup": "MSFT",
           "orientation": "v",
           "showlegend": true,
           "textposition": "auto",
           "type": "bar",
           "x": [
            "MSFT"
           ],
           "xaxis": "x",
           "y": [
            1965628499383.172
           ],
           "yaxis": "y"
          },
          {
           "alignmentgroup": "True",
           "hovertemplate": "Ticker=%{x}<br>Date=2022-08-09 04:00:00+00:00<br>MarketCap=%{y}<extra></extra>",
           "legendgroup": "TCEHY",
           "marker": {
            "color": "#FF97FF",
            "pattern": {
             "shape": ""
            }
           },
           "name": "TCEHY",
           "offsetgroup": "TCEHY",
           "orientation": "v",
           "showlegend": true,
           "textposition": "auto",
           "type": "bar",
           "x": [
            "TCEHY"
           ],
           "xaxis": "x",
           "y": [
            366046218081.7383
           ],
           "yaxis": "y"
          },
          {
           "alignmentgroup": "True",
           "hovertemplate": "Ticker=%{x}<br>Date=2022-08-09 04:00:00+00:00<br>MarketCap=%{y}<extra></extra>",
           "legendgroup": "TSLA",
           "marker": {
            "color": "#FECB52",
            "pattern": {
             "shape": ""
            }
           },
           "name": "TSLA",
           "offsetgroup": "TSLA",
           "orientation": "v",
           "showlegend": true,
           "textposition": "auto",
           "type": "bar",
           "x": [
            "TSLA"
           ],
           "xaxis": "x",
           "y": [
            846694888954.6641
           ],
           "yaxis": "y"
          }
         ],
         "name": "2022-08-09 04:00:00+00:00"
        },
        {
         "data": [
          {
           "alignmentgroup": "True",
           "hovertemplate": "Ticker=%{x}<br>Date=2022-11-15 05:00:00+00:00<br>MarketCap=%{y}<extra></extra>",
           "legendgroup": "AAPL",
           "marker": {
            "color": "#636efa",
            "pattern": {
             "shape": ""
            }
           },
           "name": "AAPL",
           "offsetgroup": "AAPL",
           "orientation": "v",
           "showlegend": true,
           "textposition": "auto",
           "type": "bar",
           "x": [
            "AAPL"
           ],
           "xaxis": "x",
           "y": [
            2254302862298.6094
           ],
           "yaxis": "y"
          },
          {
           "alignmentgroup": "True",
           "hovertemplate": "Ticker=%{x}<br>Date=2022-11-15 05:00:00+00:00<br>MarketCap=%{y}<extra></extra>",
           "legendgroup": "AMD",
           "marker": {
            "color": "#EF553B",
            "pattern": {
             "shape": ""
            }
           },
           "name": "AMD",
           "offsetgroup": "AMD",
           "orientation": "v",
           "showlegend": true,
           "textposition": "auto",
           "type": "bar",
           "x": [
            "AMD"
           ],
           "xaxis": "x",
           "y": [
            113090924926.9336
           ],
           "yaxis": "y"
          },
          {
           "alignmentgroup": "True",
           "hovertemplate": "Ticker=%{x}<br>Date=2022-11-15 05:00:00+00:00<br>MarketCap=%{y}<extra></extra>",
           "legendgroup": "AMZN",
           "marker": {
            "color": "#00cc96",
            "pattern": {
             "shape": ""
            }
           },
           "name": "AMZN",
           "offsetgroup": "AMZN",
           "orientation": "v",
           "showlegend": true,
           "textposition": "auto",
           "type": "bar",
           "x": [
            "AMZN"
           ],
           "xaxis": "x",
           "y": [
            1188171892716.3906
           ],
           "yaxis": "y"
          },
          {
           "alignmentgroup": "True",
           "hovertemplate": "Ticker=%{x}<br>Date=2022-11-15 05:00:00+00:00<br>MarketCap=%{y}<extra></extra>",
           "legendgroup": "BABA",
           "marker": {
            "color": "#ab63fa",
            "pattern": {
             "shape": ""
            }
           },
           "name": "BABA",
           "offsetgroup": "BABA",
           "orientation": "v",
           "showlegend": true,
           "textposition": "auto",
           "type": "bar",
           "x": [
            "BABA"
           ],
           "xaxis": "x",
           "y": [
            213382378696.6797
           ],
           "yaxis": "y"
          },
          {
           "alignmentgroup": "True",
           "hovertemplate": "Ticker=%{x}<br>Date=2022-11-15 05:00:00+00:00<br>MarketCap=%{y}<extra></extra>",
           "legendgroup": "BIDU",
           "marker": {
            "color": "#FFA15A",
            "pattern": {
             "shape": ""
            }
           },
           "name": "BIDU",
           "offsetgroup": "BIDU",
           "orientation": "v",
           "showlegend": true,
           "textposition": "auto",
           "type": "bar",
           "x": [
            "BIDU"
           ],
           "xaxis": "x",
           "y": [
            38359321086.62695
           ],
           "yaxis": "y"
          },
          {
           "alignmentgroup": "True",
           "hovertemplate": "Ticker=%{x}<br>Date=2022-11-15 05:00:00+00:00<br>MarketCap=%{y}<extra></extra>",
           "legendgroup": "GOOGL",
           "marker": {
            "color": "#19d3f3",
            "pattern": {
             "shape": ""
            }
           },
           "name": "GOOGL",
           "offsetgroup": "GOOGL",
           "orientation": "v",
           "showlegend": true,
           "textposition": "auto",
           "type": "bar",
           "x": [
            "GOOGL"
           ],
           "xaxis": "x",
           "y": [
            1257203557738.0312
           ],
           "yaxis": "y"
          },
          {
           "alignmentgroup": "True",
           "hovertemplate": "Ticker=%{x}<br>Date=2022-11-15 05:00:00+00:00<br>MarketCap=%{y}<extra></extra>",
           "legendgroup": "META",
           "marker": {
            "color": "#FF6692",
            "pattern": {
             "shape": ""
            }
           },
           "name": "META",
           "offsetgroup": "META",
           "orientation": "v",
           "showlegend": true,
           "textposition": "auto",
           "type": "bar",
           "x": [
            "META"
           ],
           "xaxis": "x",
           "y": [
            317468834454.7383
           ],
           "yaxis": "y"
          },
          {
           "alignmentgroup": "True",
           "hovertemplate": "Ticker=%{x}<br>Date=2022-11-15 05:00:00+00:00<br>MarketCap=%{y}<extra></extra>",
           "legendgroup": "MSFT",
           "marker": {
            "color": "#B6E880",
            "pattern": {
             "shape": ""
            }
           },
           "name": "MSFT",
           "offsetgroup": "MSFT",
           "orientation": "v",
           "showlegend": true,
           "textposition": "auto",
           "type": "bar",
           "x": [
            "MSFT"
           ],
           "xaxis": "x",
           "y": [
            1900264936038.7734
           ],
           "yaxis": "y"
          },
          {
           "alignmentgroup": "True",
           "hovertemplate": "Ticker=%{x}<br>Date=2022-11-15 05:00:00+00:00<br>MarketCap=%{y}<extra></extra>",
           "legendgroup": "TCEHY",
           "marker": {
            "color": "#FF97FF",
            "pattern": {
             "shape": ""
            }
           },
           "name": "TCEHY",
           "offsetgroup": "TCEHY",
           "orientation": "v",
           "showlegend": true,
           "textposition": "auto",
           "type": "bar",
           "x": [
            "TCEHY"
           ],
           "xaxis": "x",
           "y": [
            320458595700.6211
           ],
           "yaxis": "y"
          },
          {
           "alignmentgroup": "True",
           "hovertemplate": "Ticker=%{x}<br>Date=2022-11-15 05:00:00+00:00<br>MarketCap=%{y}<extra></extra>",
           "legendgroup": "TSLA",
           "marker": {
            "color": "#FECB52",
            "pattern": {
             "shape": ""
            }
           },
           "name": "TSLA",
           "offsetgroup": "TSLA",
           "orientation": "v",
           "showlegend": true,
           "textposition": "auto",
           "type": "bar",
           "x": [
            "TSLA"
           ],
           "xaxis": "x",
           "y": [
            635925187719.1445
           ],
           "yaxis": "y"
          }
         ],
         "name": "2022-11-15 05:00:00+00:00"
        },
        {
         "data": [
          {
           "alignmentgroup": "True",
           "hovertemplate": "Ticker=%{x}<br>Date=2023-02-22 17:00:00+00:00<br>MarketCap=%{y}<extra></extra>",
           "legendgroup": "AAPL",
           "marker": {
            "color": "#636efa",
            "pattern": {
             "shape": ""
            }
           },
           "name": "AAPL",
           "offsetgroup": "AAPL",
           "orientation": "v",
           "showlegend": true,
           "textposition": "auto",
           "type": "bar",
           "x": [
            "AAPL"
           ],
           "xaxis": "x",
           "y": [
            2130255719537.2031
           ],
           "yaxis": "y"
          },
          {
           "alignmentgroup": "True",
           "hovertemplate": "Ticker=%{x}<br>Date=2023-02-22 17:00:00+00:00<br>MarketCap=%{y}<extra></extra>",
           "legendgroup": "AMD",
           "marker": {
            "color": "#EF553B",
            "pattern": {
             "shape": ""
            }
           },
           "name": "AMD",
           "offsetgroup": "AMD",
           "orientation": "v",
           "showlegend": true,
           "textposition": "auto",
           "type": "bar",
           "x": [
            "AMD"
           ],
           "xaxis": "x",
           "y": [
            117548422875.2168
           ],
           "yaxis": "y"
          },
          {
           "alignmentgroup": "True",
           "hovertemplate": "Ticker=%{x}<br>Date=2023-02-22 17:00:00+00:00<br>MarketCap=%{y}<extra></extra>",
           "legendgroup": "AMZN",
           "marker": {
            "color": "#00cc96",
            "pattern": {
             "shape": ""
            }
           },
           "name": "AMZN",
           "offsetgroup": "AMZN",
           "orientation": "v",
           "showlegend": true,
           "textposition": "auto",
           "type": "bar",
           "x": [
            "AMZN"
           ],
           "xaxis": "x",
           "y": [
            1030980868913.0156
           ],
           "yaxis": "y"
          },
          {
           "alignmentgroup": "True",
           "hovertemplate": "Ticker=%{x}<br>Date=2023-02-22 17:00:00+00:00<br>MarketCap=%{y}<extra></extra>",
           "legendgroup": "BABA",
           "marker": {
            "color": "#ab63fa",
            "pattern": {
             "shape": ""
            }
           },
           "name": "BABA",
           "offsetgroup": "BABA",
           "orientation": "v",
           "showlegend": true,
           "textposition": "auto",
           "type": "bar",
           "x": [
            "BABA"
           ],
           "xaxis": "x",
           "y": [
            256504047881.03903
           ],
           "yaxis": "y"
          },
          {
           "alignmentgroup": "True",
           "hovertemplate": "Ticker=%{x}<br>Date=2023-02-22 17:00:00+00:00<br>MarketCap=%{y}<extra></extra>",
           "legendgroup": "BIDU",
           "marker": {
            "color": "#FFA15A",
            "pattern": {
             "shape": ""
            }
           },
           "name": "BIDU",
           "offsetgroup": "BIDU",
           "orientation": "v",
           "showlegend": true,
           "textposition": "auto",
           "type": "bar",
           "x": [
            "BIDU"
           ],
           "xaxis": "x",
           "y": [
            49712666534.42163
           ],
           "yaxis": "y"
          },
          {
           "alignmentgroup": "True",
           "hovertemplate": "Ticker=%{x}<br>Date=2023-02-22 17:00:00+00:00<br>MarketCap=%{y}<extra></extra>",
           "legendgroup": "GOOGL",
           "marker": {
            "color": "#19d3f3",
            "pattern": {
             "shape": ""
            }
           },
           "name": "GOOGL",
           "offsetgroup": "GOOGL",
           "orientation": "v",
           "showlegend": true,
           "textposition": "auto",
           "type": "bar",
           "x": [
            "GOOGL"
           ],
           "xaxis": "x",
           "y": [
            1260492309032.5664
           ],
           "yaxis": "y"
          },
          {
           "alignmentgroup": "True",
           "hovertemplate": "Ticker=%{x}<br>Date=2023-02-22 17:00:00+00:00<br>MarketCap=%{y}<extra></extra>",
           "legendgroup": "META",
           "marker": {
            "color": "#FF6692",
            "pattern": {
             "shape": ""
            }
           },
           "name": "META",
           "offsetgroup": "META",
           "orientation": "v",
           "showlegend": true,
           "textposition": "auto",
           "type": "bar",
           "x": [
            "META"
           ],
           "xaxis": "x",
           "y": [
            503257351982.4219
           ],
           "yaxis": "y"
          },
          {
           "alignmentgroup": "True",
           "hovertemplate": "Ticker=%{x}<br>Date=2023-02-22 17:00:00+00:00<br>MarketCap=%{y}<extra></extra>",
           "legendgroup": "MSFT",
           "marker": {
            "color": "#B6E880",
            "pattern": {
             "shape": ""
            }
           },
           "name": "MSFT",
           "offsetgroup": "MSFT",
           "orientation": "v",
           "showlegend": true,
           "textposition": "auto",
           "type": "bar",
           "x": [
            "MSFT"
           ],
           "xaxis": "x",
           "y": [
            1834901372694.375
           ],
           "yaxis": "y"
          },
          {
           "alignmentgroup": "True",
           "hovertemplate": "Ticker=%{x}<br>Date=2023-02-22 17:00:00+00:00<br>MarketCap=%{y}<extra></extra>",
           "legendgroup": "TCEHY",
           "marker": {
            "color": "#FF97FF",
            "pattern": {
             "shape": ""
            }
           },
           "name": "TCEHY",
           "offsetgroup": "TCEHY",
           "orientation": "v",
           "showlegend": true,
           "textposition": "auto",
           "type": "bar",
           "x": [
            "TCEHY"
           ],
           "xaxis": "x",
           "y": [
            453094649335.9688
           ],
           "yaxis": "y"
          },
          {
           "alignmentgroup": "True",
           "hovertemplate": "Ticker=%{x}<br>Date=2023-02-22 17:00:00+00:00<br>MarketCap=%{y}<extra></extra>",
           "legendgroup": "TSLA",
           "marker": {
            "color": "#FECB52",
            "pattern": {
             "shape": ""
            }
           },
           "name": "TSLA",
           "offsetgroup": "TSLA",
           "orientation": "v",
           "showlegend": true,
           "textposition": "auto",
           "type": "bar",
           "x": [
            "TSLA"
           ],
           "xaxis": "x",
           "y": [
            582605766126.1875
           ],
           "yaxis": "y"
          }
         ],
         "name": "2023-02-22 17:00:00+00:00"
        },
        {
         "data": [
          {
           "alignmentgroup": "True",
           "hovertemplate": "Ticker=%{x}<br>Date=2023-05-22 04:00:00+00:00<br>MarketCap=%{y}<extra></extra>",
           "legendgroup": "AAPL",
           "marker": {
            "color": "#636efa",
            "pattern": {
             "shape": ""
            }
           },
           "name": "AAPL",
           "offsetgroup": "AAPL",
           "orientation": "v",
           "showlegend": true,
           "textposition": "auto",
           "type": "bar",
           "x": [
            "AAPL"
           ],
           "xaxis": "x",
           "y": [
            2699231808103.1875
           ],
           "yaxis": "y"
          },
          {
           "alignmentgroup": "True",
           "hovertemplate": "Ticker=%{x}<br>Date=2023-05-22 04:00:00+00:00<br>MarketCap=%{y}<extra></extra>",
           "legendgroup": "AMD",
           "marker": {
            "color": "#EF553B",
            "pattern": {
             "shape": ""
            }
           },
           "name": "AMD",
           "offsetgroup": "AMD",
           "orientation": "v",
           "showlegend": true,
           "textposition": "auto",
           "type": "bar",
           "x": [
            "AMD"
           ],
           "xaxis": "x",
           "y": [
            155473906280.5327
           ],
           "yaxis": "y"
          },
          {
           "alignmentgroup": "True",
           "hovertemplate": "Ticker=%{x}<br>Date=2023-05-22 04:00:00+00:00<br>MarketCap=%{y}<extra></extra>",
           "legendgroup": "AMZN",
           "marker": {
            "color": "#00cc96",
            "pattern": {
             "shape": ""
            }
           },
           "name": "AMZN",
           "offsetgroup": "AMZN",
           "orientation": "v",
           "showlegend": true,
           "textposition": "auto",
           "type": "bar",
           "x": [
            "AMZN"
           ],
           "xaxis": "x",
           "y": [
            1074354360215.9688
           ],
           "yaxis": "y"
          },
          {
           "alignmentgroup": "True",
           "hovertemplate": "Ticker=%{x}<br>Date=2023-05-22 04:00:00+00:00<br>MarketCap=%{y}<extra></extra>",
           "legendgroup": "BABA",
           "marker": {
            "color": "#ab63fa",
            "pattern": {
             "shape": ""
            }
           },
           "name": "BABA",
           "offsetgroup": "BABA",
           "orientation": "v",
           "showlegend": true,
           "textposition": "auto",
           "type": "bar",
           "x": [
            "BABA"
           ],
           "xaxis": "x",
           "y": [
            224680210582.00195
           ],
           "yaxis": "y"
          },
          {
           "alignmentgroup": "True",
           "hovertemplate": "Ticker=%{x}<br>Date=2023-05-22 04:00:00+00:00<br>MarketCap=%{y}<extra></extra>",
           "legendgroup": "BIDU",
           "marker": {
            "color": "#FFA15A",
            "pattern": {
             "shape": ""
            }
           },
           "name": "BIDU",
           "offsetgroup": "BIDU",
           "orientation": "v",
           "showlegend": true,
           "textposition": "auto",
           "type": "bar",
           "x": [
            "BIDU"
           ],
           "xaxis": "x",
           "y": [
            45723788236.53223
           ],
           "yaxis": "y"
          },
          {
           "alignmentgroup": "True",
           "hovertemplate": "Ticker=%{x}<br>Date=2023-05-22 04:00:00+00:00<br>MarketCap=%{y}<extra></extra>",
           "legendgroup": "GOOGL",
           "marker": {
            "color": "#19d3f3",
            "pattern": {
             "shape": ""
            }
           },
           "name": "GOOGL",
           "offsetgroup": "GOOGL",
           "orientation": "v",
           "showlegend": true,
           "textposition": "auto",
           "type": "bar",
           "x": [
            "GOOGL"
           ],
           "xaxis": "x",
           "y": [
            1421750542848
           ],
           "yaxis": "y"
          },
          {
           "alignmentgroup": "True",
           "hovertemplate": "Ticker=%{x}<br>Date=2023-05-22 04:00:00+00:00<br>MarketCap=%{y}<extra></extra>",
           "legendgroup": "META",
           "marker": {
            "color": "#FF6692",
            "pattern": {
             "shape": ""
            }
           },
           "name": "META",
           "offsetgroup": "META",
           "orientation": "v",
           "showlegend": true,
           "textposition": "auto",
           "type": "bar",
           "x": [
            "META"
           ],
           "xaxis": "x",
           "y": [
            605018259572.7539
           ],
           "yaxis": "y"
          },
          {
           "alignmentgroup": "True",
           "hovertemplate": "Ticker=%{x}<br>Date=2023-05-22 04:00:00+00:00<br>MarketCap=%{y}<extra></extra>",
           "legendgroup": "MSFT",
           "marker": {
            "color": "#B6E880",
            "pattern": {
             "shape": ""
            }
           },
           "name": "MSFT",
           "offsetgroup": "MSFT",
           "orientation": "v",
           "showlegend": true,
           "textposition": "auto",
           "type": "bar",
           "x": [
            "MSFT"
           ],
           "xaxis": "x",
           "y": [
            2258153015410.1406
           ],
           "yaxis": "y"
          },
          {
           "alignmentgroup": "True",
           "hovertemplate": "Ticker=%{x}<br>Date=2023-05-22 04:00:00+00:00<br>MarketCap=%{y}<extra></extra>",
           "legendgroup": "TCEHY",
           "marker": {
            "color": "#FF97FF",
            "pattern": {
             "shape": ""
            }
           },
           "name": "TCEHY",
           "offsetgroup": "TCEHY",
           "orientation": "v",
           "showlegend": true,
           "textposition": "auto",
           "type": "bar",
           "x": [
            "TCEHY"
           ],
           "xaxis": "x",
           "y": [
            417969867151.40234
           ],
           "yaxis": "y"
          },
          {
           "alignmentgroup": "True",
           "hovertemplate": "Ticker=%{x}<br>Date=2023-05-22 04:00:00+00:00<br>MarketCap=%{y}<extra></extra>",
           "legendgroup": "TSLA",
           "marker": {
            "color": "#FECB52",
            "pattern": {
             "shape": ""
            }
           },
           "name": "TSLA",
           "offsetgroup": "TSLA",
           "orientation": "v",
           "showlegend": true,
           "textposition": "auto",
           "type": "bar",
           "x": [
            "TSLA"
           ],
           "xaxis": "x",
           "y": [
            557394500442.0293
           ],
           "yaxis": "y"
          }
         ],
         "name": "2023-05-22 04:00:00+00:00"
        },
        {
         "data": [
          {
           "alignmentgroup": "True",
           "hovertemplate": "Ticker=%{x}<br>Date=2023-08-25 04:00:00+00:00<br>MarketCap=%{y}<extra></extra>",
           "legendgroup": "AAPL",
           "marker": {
            "color": "#636efa",
            "pattern": {
             "shape": ""
            }
           },
           "name": "AAPL",
           "offsetgroup": "AAPL",
           "orientation": "v",
           "showlegend": true,
           "textposition": "auto",
           "type": "bar",
           "x": [
            "AAPL"
           ],
           "xaxis": "x",
           "y": [
            3006708878170.6562
           ],
           "yaxis": "y"
          },
          {
           "alignmentgroup": "True",
           "hovertemplate": "Ticker=%{x}<br>Date=2023-08-25 04:00:00+00:00<br>MarketCap=%{y}<extra></extra>",
           "legendgroup": "AMD",
           "marker": {
            "color": "#EF553B",
            "pattern": {
             "shape": ""
            }
           },
           "name": "AMD",
           "offsetgroup": "AMD",
           "orientation": "v",
           "showlegend": true,
           "textposition": "auto",
           "type": "bar",
           "x": [
            "AMD"
           ],
           "xaxis": "x",
           "y": [
            173127117628.03613
           ],
           "yaxis": "y"
          },
          {
           "alignmentgroup": "True",
           "hovertemplate": "Ticker=%{x}<br>Date=2023-08-25 04:00:00+00:00<br>MarketCap=%{y}<extra></extra>",
           "legendgroup": "AMZN",
           "marker": {
            "color": "#00cc96",
            "pattern": {
             "shape": ""
            }
           },
           "name": "AMZN",
           "offsetgroup": "AMZN",
           "orientation": "v",
           "showlegend": true,
           "textposition": "auto",
           "type": "bar",
           "x": [
            "AMZN"
           ],
           "xaxis": "x",
           "y": [
            1381568239323.3281
           ],
           "yaxis": "y"
          },
          {
           "alignmentgroup": "True",
           "hovertemplate": "Ticker=%{x}<br>Date=2023-08-25 04:00:00+00:00<br>MarketCap=%{y}<extra></extra>",
           "legendgroup": "BABA",
           "marker": {
            "color": "#ab63fa",
            "pattern": {
             "shape": ""
            }
           },
           "name": "BABA",
           "offsetgroup": "BABA",
           "orientation": "v",
           "showlegend": true,
           "textposition": "auto",
           "type": "bar",
           "x": [
            "BABA"
           ],
           "xaxis": "x",
           "y": [
            227103742739.68945
           ],
           "yaxis": "y"
          },
          {
           "alignmentgroup": "True",
           "hovertemplate": "Ticker=%{x}<br>Date=2023-08-25 04:00:00+00:00<br>MarketCap=%{y}<extra></extra>",
           "legendgroup": "BIDU",
           "marker": {
            "color": "#FFA15A",
            "pattern": {
             "shape": ""
            }
           },
           "name": "BIDU",
           "offsetgroup": "BIDU",
           "orientation": "v",
           "showlegend": true,
           "textposition": "auto",
           "type": "bar",
           "x": [
            "BIDU"
           ],
           "xaxis": "x",
           "y": [
            47811974679.760254
           ],
           "yaxis": "y"
          },
          {
           "alignmentgroup": "True",
           "hovertemplate": "Ticker=%{x}<br>Date=2023-08-25 04:00:00+00:00<br>MarketCap=%{y}<extra></extra>",
           "legendgroup": "GOOGL",
           "marker": {
            "color": "#19d3f3",
            "pattern": {
             "shape": ""
            }
           },
           "name": "GOOGL",
           "offsetgroup": "GOOGL",
           "orientation": "v",
           "showlegend": true,
           "textposition": "auto",
           "type": "bar",
           "x": [
            "GOOGL"
           ],
           "xaxis": "x",
           "y": [
            1649531264440.5
           ],
           "yaxis": "y"
          },
          {
           "alignmentgroup": "True",
           "hovertemplate": "Ticker=%{x}<br>Date=2023-08-25 04:00:00+00:00<br>MarketCap=%{y}<extra></extra>",
           "legendgroup": "META",
           "marker": {
            "color": "#FF6692",
            "pattern": {
             "shape": ""
            }
           },
           "name": "META",
           "offsetgroup": "META",
           "orientation": "v",
           "showlegend": true,
           "textposition": "auto",
           "type": "bar",
           "x": [
            "META"
           ],
           "xaxis": "x",
           "y": [
            759907991092.625
           ],
           "yaxis": "y"
          },
          {
           "alignmentgroup": "True",
           "hovertemplate": "Ticker=%{x}<br>Date=2023-08-25 04:00:00+00:00<br>MarketCap=%{y}<extra></extra>",
           "legendgroup": "MSFT",
           "marker": {
            "color": "#B6E880",
            "pattern": {
             "shape": ""
            }
           },
           "name": "MSFT",
           "offsetgroup": "MSFT",
           "orientation": "v",
           "showlegend": true,
           "textposition": "auto",
           "type": "bar",
           "x": [
            "MSFT"
           ],
           "xaxis": "x",
           "y": [
            2520614474828.7344
           ],
           "yaxis": "y"
          },
          {
           "alignmentgroup": "True",
           "hovertemplate": "Ticker=%{x}<br>Date=2023-08-25 04:00:00+00:00<br>MarketCap=%{y}<extra></extra>",
           "legendgroup": "TCEHY",
           "marker": {
            "color": "#FF97FF",
            "pattern": {
             "shape": ""
            }
           },
           "name": "TCEHY",
           "offsetgroup": "TCEHY",
           "orientation": "v",
           "showlegend": true,
           "textposition": "auto",
           "type": "bar",
           "x": [
            "TCEHY"
           ],
           "xaxis": "x",
           "y": [
            394481874112.77344
           ],
           "yaxis": "y"
          },
          {
           "alignmentgroup": "True",
           "hovertemplate": "Ticker=%{x}<br>Date=2023-08-25 04:00:00+00:00<br>MarketCap=%{y}<extra></extra>",
           "legendgroup": "TSLA",
           "marker": {
            "color": "#FECB52",
            "pattern": {
             "shape": ""
            }
           },
           "name": "TSLA",
           "offsetgroup": "TSLA",
           "orientation": "v",
           "showlegend": true,
           "textposition": "auto",
           "type": "bar",
           "x": [
            "TSLA"
           ],
           "xaxis": "x",
           "y": [
            833261505416.5078
           ],
           "yaxis": "y"
          }
         ],
         "name": "2023-08-25 04:00:00+00:00"
        },
        {
         "data": [
          {
           "alignmentgroup": "True",
           "hovertemplate": "Ticker=%{x}<br>Date=2023-11-07 17:00:00+00:00<br>MarketCap=%{y}<extra></extra>",
           "legendgroup": "AAPL",
           "marker": {
            "color": "#636efa",
            "pattern": {
             "shape": ""
            }
           },
           "name": "AAPL",
           "offsetgroup": "AAPL",
           "orientation": "v",
           "showlegend": true,
           "textposition": "auto",
           "type": "bar",
           "x": [
            "AAPL"
           ],
           "xaxis": "x",
           "y": [
            2790475131005.8594
           ],
           "yaxis": "y"
          },
          {
           "alignmentgroup": "True",
           "hovertemplate": "Ticker=%{x}<br>Date=2023-11-07 17:00:00+00:00<br>MarketCap=%{y}<extra></extra>",
           "legendgroup": "AMD",
           "marker": {
            "color": "#EF553B",
            "pattern": {
             "shape": ""
            }
           },
           "name": "AMD",
           "offsetgroup": "AMD",
           "orientation": "v",
           "showlegend": true,
           "textposition": "auto",
           "type": "bar",
           "x": [
            "AMD"
           ],
           "xaxis": "x",
           "y": [
            188722713245.2285
           ],
           "yaxis": "y"
          },
          {
           "alignmentgroup": "True",
           "hovertemplate": "Ticker=%{x}<br>Date=2023-11-07 17:00:00+00:00<br>MarketCap=%{y}<extra></extra>",
           "legendgroup": "AMZN",
           "marker": {
            "color": "#00cc96",
            "pattern": {
             "shape": ""
            }
           },
           "name": "AMZN",
           "offsetgroup": "AMZN",
           "orientation": "v",
           "showlegend": true,
           "textposition": "auto",
           "type": "bar",
           "x": [
            "AMZN"
           ],
           "xaxis": "x",
           "y": [
            1367616633006.8438
           ],
           "yaxis": "y"
          },
          {
           "alignmentgroup": "True",
           "hovertemplate": "Ticker=%{x}<br>Date=2023-11-07 17:00:00+00:00<br>MarketCap=%{y}<extra></extra>",
           "legendgroup": "BABA",
           "marker": {
            "color": "#ab63fa",
            "pattern": {
             "shape": ""
            }
           },
           "name": "BABA",
           "offsetgroup": "BABA",
           "orientation": "v",
           "showlegend": true,
           "textposition": "auto",
           "type": "bar",
           "x": [
            "BABA"
           ],
           "xaxis": "x",
           "y": [
            210924310872.06445
           ],
           "yaxis": "y"
          },
          {
           "alignmentgroup": "True",
           "hovertemplate": "Ticker=%{x}<br>Date=2023-11-07 17:00:00+00:00<br>MarketCap=%{y}<extra></extra>",
           "legendgroup": "BIDU",
           "marker": {
            "color": "#FFA15A",
            "pattern": {
             "shape": ""
            }
           },
           "name": "BIDU",
           "offsetgroup": "BIDU",
           "orientation": "v",
           "showlegend": true,
           "textposition": "auto",
           "type": "bar",
           "x": [
            "BIDU"
           ],
           "xaxis": "x",
           "y": [
            39312628474.67041
           ],
           "yaxis": "y"
          },
          {
           "alignmentgroup": "True",
           "hovertemplate": "Ticker=%{x}<br>Date=2023-11-07 17:00:00+00:00<br>MarketCap=%{y}<extra></extra>",
           "legendgroup": "GOOGL",
           "marker": {
            "color": "#19d3f3",
            "pattern": {
             "shape": ""
            }
           },
           "name": "GOOGL",
           "offsetgroup": "GOOGL",
           "orientation": "v",
           "showlegend": true,
           "textposition": "auto",
           "type": "bar",
           "x": [
            "GOOGL"
           ],
           "xaxis": "x",
           "y": [
            1691258011832.6875
           ],
           "yaxis": "y"
          },
          {
           "alignmentgroup": "True",
           "hovertemplate": "Ticker=%{x}<br>Date=2023-11-07 17:00:00+00:00<br>MarketCap=%{y}<extra></extra>",
           "legendgroup": "META",
           "marker": {
            "color": "#FF6692",
            "pattern": {
             "shape": ""
            }
           },
           "name": "META",
           "offsetgroup": "META",
           "orientation": "v",
           "showlegend": true,
           "textposition": "auto",
           "type": "bar",
           "x": [
            "META"
           ],
           "xaxis": "x",
           "y": [
            819322814628.9375
           ],
           "yaxis": "y"
          },
          {
           "alignmentgroup": "True",
           "hovertemplate": "Ticker=%{x}<br>Date=2023-11-07 17:00:00+00:00<br>MarketCap=%{y}<extra></extra>",
           "legendgroup": "MSFT",
           "marker": {
            "color": "#B6E880",
            "pattern": {
             "shape": ""
            }
           },
           "name": "MSFT",
           "offsetgroup": "MSFT",
           "orientation": "v",
           "showlegend": true,
           "textposition": "auto",
           "type": "bar",
           "x": [
            "MSFT"
           ],
           "xaxis": "x",
           "y": [
            2708164701925.0312
           ],
           "yaxis": "y"
          },
          {
           "alignmentgroup": "True",
           "hovertemplate": "Ticker=%{x}<br>Date=2023-11-07 17:00:00+00:00<br>MarketCap=%{y}<extra></extra>",
           "legendgroup": "TCEHY",
           "marker": {
            "color": "#FF97FF",
            "pattern": {
             "shape": ""
            }
           },
           "name": "TCEHY",
           "offsetgroup": "TCEHY",
           "orientation": "v",
           "showlegend": true,
           "textposition": "auto",
           "type": "bar",
           "x": [
            "TCEHY"
           ],
           "xaxis": "x",
           "y": [
            377960451997.1875
           ],
           "yaxis": "y"
          },
          {
           "alignmentgroup": "True",
           "hovertemplate": "Ticker=%{x}<br>Date=2023-11-07 17:00:00+00:00<br>MarketCap=%{y}<extra></extra>",
           "legendgroup": "TSLA",
           "marker": {
            "color": "#FECB52",
            "pattern": {
             "shape": ""
            }
           },
           "name": "TSLA",
           "offsetgroup": "TSLA",
           "orientation": "v",
           "showlegend": true,
           "textposition": "auto",
           "type": "bar",
           "x": [
            "TSLA"
           ],
           "xaxis": "x",
           "y": [
            759221454135.6562
           ],
           "yaxis": "y"
          }
         ],
         "name": "2023-11-07 17:00:00+00:00"
        }
       ],
       "layout": {
        "bargap": 1,
        "barmode": "group",
        "height": 600,
        "legend": {
         "title": {
          "text": "Ticker"
         },
         "tracegroupgap": 0
        },
        "sliders": [
         {
          "active": 0,
          "currentvalue": {
           "prefix": "Date="
          },
          "len": 0.9,
          "pad": {
           "b": 10,
           "t": 60
          },
          "steps": [
           {
            "args": [
             [
              "2015-10-31 16:30:00+00:00"
             ],
             {
              "frame": {
               "duration": 0,
               "redraw": true
              },
              "fromcurrent": true,
              "mode": "immediate",
              "transition": {
               "duration": 0,
               "easing": "linear"
              }
             }
            ],
            "label": "2015-10-31 16:30:00+00:00",
            "method": "animate"
           },
           {
            "args": [
             [
              "2016-02-12 05:00:00+00:00"
             ],
             {
              "frame": {
               "duration": 0,
               "redraw": true
              },
              "fromcurrent": true,
              "mode": "immediate",
              "transition": {
               "duration": 0,
               "easing": "linear"
              }
             }
            ],
            "label": "2016-02-12 05:00:00+00:00",
            "method": "animate"
           },
           {
            "args": [
             [
              "2016-05-03 04:00:00+00:00"
             ],
             {
              "frame": {
               "duration": 0,
               "redraw": true
              },
              "fromcurrent": true,
              "mode": "immediate",
              "transition": {
               "duration": 0,
               "easing": "linear"
              }
             }
            ],
            "label": "2016-05-03 04:00:00+00:00",
            "method": "animate"
           },
           {
            "args": [
             [
              "2016-07-30 16:00:00+00:00"
             ],
             {
              "frame": {
               "duration": 0,
               "redraw": true
              },
              "fromcurrent": true,
              "mode": "immediate",
              "transition": {
               "duration": 0,
               "easing": "linear"
              }
             }
            ],
            "label": "2016-07-30 16:00:00+00:00",
            "method": "animate"
           },
           {
            "args": [
             [
              "2016-10-31 04:00:00+00:00"
             ],
             {
              "frame": {
               "duration": 0,
               "redraw": true
              },
              "fromcurrent": true,
              "mode": "immediate",
              "transition": {
               "duration": 0,
               "easing": "linear"
              }
             }
            ],
            "label": "2016-10-31 04:00:00+00:00",
            "method": "animate"
           },
           {
            "args": [
             [
              "2017-02-09 05:00:00+00:00"
             ],
             {
              "frame": {
               "duration": 0,
               "redraw": true
              },
              "fromcurrent": true,
              "mode": "immediate",
              "transition": {
               "duration": 0,
               "easing": "linear"
              }
             }
            ],
            "label": "2017-02-09 05:00:00+00:00",
            "method": "animate"
           },
           {
            "args": [
             [
              "2017-05-22 16:00:00+00:00"
             ],
             {
              "frame": {
               "duration": 0,
               "redraw": true
              },
              "fromcurrent": true,
              "mode": "immediate",
              "transition": {
               "duration": 0,
               "easing": "linear"
              }
             }
            ],
            "label": "2017-05-22 16:00:00+00:00",
            "method": "animate"
           },
           {
            "args": [
             [
              "2017-08-11 16:00:00+00:00"
             ],
             {
              "frame": {
               "duration": 0,
               "redraw": true
              },
              "fromcurrent": true,
              "mode": "immediate",
              "transition": {
               "duration": 0,
               "easing": "linear"
              }
             }
            ],
            "label": "2017-08-11 16:00:00+00:00",
            "method": "animate"
           },
           {
            "args": [
             [
              "2017-11-12 17:00:00+00:00"
             ],
             {
              "frame": {
               "duration": 0,
               "redraw": true
              },
              "fromcurrent": true,
              "mode": "immediate",
              "transition": {
               "duration": 0,
               "easing": "linear"
              }
             }
            ],
            "label": "2017-11-12 17:00:00+00:00",
            "method": "animate"
           },
           {
            "args": [
             [
              "2018-02-15 05:00:00+00:00"
             ],
             {
              "frame": {
               "duration": 0,
               "redraw": true
              },
              "fromcurrent": true,
              "mode": "immediate",
              "transition": {
               "duration": 0,
               "easing": "linear"
              }
             }
            ],
            "label": "2018-02-15 05:00:00+00:00",
            "method": "animate"
           },
           {
            "args": [
             [
              "2018-05-22 16:00:00+00:00"
             ],
             {
              "frame": {
               "duration": 0,
               "redraw": true
              },
              "fromcurrent": true,
              "mode": "immediate",
              "transition": {
               "duration": 0,
               "easing": "linear"
              }
             }
            ],
            "label": "2018-05-22 16:00:00+00:00",
            "method": "animate"
           },
           {
            "args": [
             [
              "2018-08-18 16:00:00+00:00"
             ],
             {
              "frame": {
               "duration": 0,
               "redraw": true
              },
              "fromcurrent": true,
              "mode": "immediate",
              "transition": {
               "duration": 0,
               "easing": "linear"
              }
             }
            ],
            "label": "2018-08-18 16:00:00+00:00",
            "method": "animate"
           },
           {
            "args": [
             [
              "2018-11-13 17:00:00+00:00"
             ],
             {
              "frame": {
               "duration": 0,
               "redraw": true
              },
              "fromcurrent": true,
              "mode": "immediate",
              "transition": {
               "duration": 0,
               "easing": "linear"
              }
             }
            ],
            "label": "2018-11-13 17:00:00+00:00",
            "method": "animate"
           },
           {
            "args": [
             [
              "2019-02-12 05:00:00+00:00"
             ],
             {
              "frame": {
               "duration": 0,
               "redraw": true
              },
              "fromcurrent": true,
              "mode": "immediate",
              "transition": {
               "duration": 0,
               "easing": "linear"
              }
             }
            ],
            "label": "2019-02-12 05:00:00+00:00",
            "method": "animate"
           },
           {
            "args": [
             [
              "2019-05-20 04:00:00+00:00"
             ],
             {
              "frame": {
               "duration": 0,
               "redraw": true
              },
              "fromcurrent": true,
              "mode": "immediate",
              "transition": {
               "duration": 0,
               "easing": "linear"
              }
             }
            ],
            "label": "2019-05-20 04:00:00+00:00",
            "method": "animate"
           },
           {
            "args": [
             [
              "2019-08-14 16:00:00+00:00"
             ],
             {
              "frame": {
               "duration": 0,
               "redraw": true
              },
              "fromcurrent": true,
              "mode": "immediate",
              "transition": {
               "duration": 0,
               "easing": "linear"
              }
             }
            ],
            "label": "2019-08-14 16:00:00+00:00",
            "method": "animate"
           },
           {
            "args": [
             [
              "2019-11-14 05:00:00+00:00"
             ],
             {
              "frame": {
               "duration": 0,
               "redraw": true
              },
              "fromcurrent": true,
              "mode": "immediate",
              "transition": {
               "duration": 0,
               "easing": "linear"
              }
             }
            ],
            "label": "2019-11-14 05:00:00+00:00",
            "method": "animate"
           },
           {
            "args": [
             [
              "2020-02-19 17:00:00+00:00"
             ],
             {
              "frame": {
               "duration": 0,
               "redraw": true
              },
              "fromcurrent": true,
              "mode": "immediate",
              "transition": {
               "duration": 0,
               "easing": "linear"
              }
             }
            ],
            "label": "2020-02-19 17:00:00+00:00",
            "method": "animate"
           },
           {
            "args": [
             [
              "2020-05-16 16:00:00+00:00"
             ],
             {
              "frame": {
               "duration": 0,
               "redraw": true
              },
              "fromcurrent": true,
              "mode": "immediate",
              "transition": {
               "duration": 0,
               "easing": "linear"
              }
             }
            ],
            "label": "2020-05-16 16:00:00+00:00",
            "method": "animate"
           },
           {
            "args": [
             [
              "2020-08-14 04:00:00+00:00"
             ],
             {
              "frame": {
               "duration": 0,
               "redraw": true
              },
              "fromcurrent": true,
              "mode": "immediate",
              "transition": {
               "duration": 0,
               "easing": "linear"
              }
             }
            ],
            "label": "2020-08-14 04:00:00+00:00",
            "method": "animate"
           },
           {
            "args": [
             [
              "2020-11-12 05:00:00+00:00"
             ],
             {
              "frame": {
               "duration": 0,
               "redraw": true
              },
              "fromcurrent": true,
              "mode": "immediate",
              "transition": {
               "duration": 0,
               "easing": "linear"
              }
             }
            ],
            "label": "2020-11-12 05:00:00+00:00",
            "method": "animate"
           },
           {
            "args": [
             [
              "2021-02-17 05:00:00+00:00"
             ],
             {
              "frame": {
               "duration": 0,
               "redraw": true
              },
              "fromcurrent": true,
              "mode": "immediate",
              "transition": {
               "duration": 0,
               "easing": "linear"
              }
             }
            ],
            "label": "2021-02-17 05:00:00+00:00",
            "method": "animate"
           },
           {
            "args": [
             [
              "2021-05-13 04:00:00+00:00"
             ],
             {
              "frame": {
               "duration": 0,
               "redraw": true
              },
              "fromcurrent": true,
              "mode": "immediate",
              "transition": {
               "duration": 0,
               "easing": "linear"
              }
             }
            ],
            "label": "2021-05-13 04:00:00+00:00",
            "method": "animate"
           },
           {
            "args": [
             [
              "2021-08-25 04:00:00+00:00"
             ],
             {
              "frame": {
               "duration": 0,
               "redraw": true
              },
              "fromcurrent": true,
              "mode": "immediate",
              "transition": {
               "duration": 0,
               "easing": "linear"
              }
             }
            ],
            "label": "2021-08-25 04:00:00+00:00",
            "method": "animate"
           },
           {
            "args": [
             [
              "2021-11-12 05:00:00+00:00"
             ],
             {
              "frame": {
               "duration": 0,
               "redraw": true
              },
              "fromcurrent": true,
              "mode": "immediate",
              "transition": {
               "duration": 0,
               "easing": "linear"
              }
             }
            ],
            "label": "2021-11-12 05:00:00+00:00",
            "method": "animate"
           },
           {
            "args": [
             [
              "2022-02-15 17:00:00+00:00"
             ],
             {
              "frame": {
               "duration": 0,
               "redraw": true
              },
              "fromcurrent": true,
              "mode": "immediate",
              "transition": {
               "duration": 0,
               "easing": "linear"
              }
             }
            ],
            "label": "2022-02-15 17:00:00+00:00",
            "method": "animate"
           },
           {
            "args": [
             [
              "2022-05-17 04:00:00+00:00"
             ],
             {
              "frame": {
               "duration": 0,
               "redraw": true
              },
              "fromcurrent": true,
              "mode": "immediate",
              "transition": {
               "duration": 0,
               "easing": "linear"
              }
             }
            ],
            "label": "2022-05-17 04:00:00+00:00",
            "method": "animate"
           },
           {
            "args": [
             [
              "2022-08-09 04:00:00+00:00"
             ],
             {
              "frame": {
               "duration": 0,
               "redraw": true
              },
              "fromcurrent": true,
              "mode": "immediate",
              "transition": {
               "duration": 0,
               "easing": "linear"
              }
             }
            ],
            "label": "2022-08-09 04:00:00+00:00",
            "method": "animate"
           },
           {
            "args": [
             [
              "2022-11-15 05:00:00+00:00"
             ],
             {
              "frame": {
               "duration": 0,
               "redraw": true
              },
              "fromcurrent": true,
              "mode": "immediate",
              "transition": {
               "duration": 0,
               "easing": "linear"
              }
             }
            ],
            "label": "2022-11-15 05:00:00+00:00",
            "method": "animate"
           },
           {
            "args": [
             [
              "2023-02-22 17:00:00+00:00"
             ],
             {
              "frame": {
               "duration": 0,
               "redraw": true
              },
              "fromcurrent": true,
              "mode": "immediate",
              "transition": {
               "duration": 0,
               "easing": "linear"
              }
             }
            ],
            "label": "2023-02-22 17:00:00+00:00",
            "method": "animate"
           },
           {
            "args": [
             [
              "2023-05-22 04:00:00+00:00"
             ],
             {
              "frame": {
               "duration": 0,
               "redraw": true
              },
              "fromcurrent": true,
              "mode": "immediate",
              "transition": {
               "duration": 0,
               "easing": "linear"
              }
             }
            ],
            "label": "2023-05-22 04:00:00+00:00",
            "method": "animate"
           },
           {
            "args": [
             [
              "2023-08-25 04:00:00+00:00"
             ],
             {
              "frame": {
               "duration": 0,
               "redraw": true
              },
              "fromcurrent": true,
              "mode": "immediate",
              "transition": {
               "duration": 0,
               "easing": "linear"
              }
             }
            ],
            "label": "2023-08-25 04:00:00+00:00",
            "method": "animate"
           },
           {
            "args": [
             [
              "2023-11-07 17:00:00+00:00"
             ],
             {
              "frame": {
               "duration": 0,
               "redraw": true
              },
              "fromcurrent": true,
              "mode": "immediate",
              "transition": {
               "duration": 0,
               "easing": "linear"
              }
             }
            ],
            "label": "2023-11-07 17:00:00+00:00",
            "method": "animate"
           }
          ],
          "x": 0.1,
          "xanchor": "left",
          "y": 0,
          "yanchor": "top"
         }
        ],
        "template": {
         "data": {
          "bar": [
           {
            "error_x": {
             "color": "#2a3f5f"
            },
            "error_y": {
             "color": "#2a3f5f"
            },
            "marker": {
             "line": {
              "color": "#E5ECF6",
              "width": 0.5
             },
             "pattern": {
              "fillmode": "overlay",
              "size": 10,
              "solidity": 0.2
             }
            },
            "type": "bar"
           }
          ],
          "barpolar": [
           {
            "marker": {
             "line": {
              "color": "#E5ECF6",
              "width": 0.5
             },
             "pattern": {
              "fillmode": "overlay",
              "size": 10,
              "solidity": 0.2
             }
            },
            "type": "barpolar"
           }
          ],
          "carpet": [
           {
            "aaxis": {
             "endlinecolor": "#2a3f5f",
             "gridcolor": "white",
             "linecolor": "white",
             "minorgridcolor": "white",
             "startlinecolor": "#2a3f5f"
            },
            "baxis": {
             "endlinecolor": "#2a3f5f",
             "gridcolor": "white",
             "linecolor": "white",
             "minorgridcolor": "white",
             "startlinecolor": "#2a3f5f"
            },
            "type": "carpet"
           }
          ],
          "choropleth": [
           {
            "colorbar": {
             "outlinewidth": 0,
             "ticks": ""
            },
            "type": "choropleth"
           }
          ],
          "contour": [
           {
            "colorbar": {
             "outlinewidth": 0,
             "ticks": ""
            },
            "colorscale": [
             [
              0,
              "#0d0887"
             ],
             [
              0.1111111111111111,
              "#46039f"
             ],
             [
              0.2222222222222222,
              "#7201a8"
             ],
             [
              0.3333333333333333,
              "#9c179e"
             ],
             [
              0.4444444444444444,
              "#bd3786"
             ],
             [
              0.5555555555555556,
              "#d8576b"
             ],
             [
              0.6666666666666666,
              "#ed7953"
             ],
             [
              0.7777777777777778,
              "#fb9f3a"
             ],
             [
              0.8888888888888888,
              "#fdca26"
             ],
             [
              1,
              "#f0f921"
             ]
            ],
            "type": "contour"
           }
          ],
          "contourcarpet": [
           {
            "colorbar": {
             "outlinewidth": 0,
             "ticks": ""
            },
            "type": "contourcarpet"
           }
          ],
          "heatmap": [
           {
            "colorbar": {
             "outlinewidth": 0,
             "ticks": ""
            },
            "colorscale": [
             [
              0,
              "#0d0887"
             ],
             [
              0.1111111111111111,
              "#46039f"
             ],
             [
              0.2222222222222222,
              "#7201a8"
             ],
             [
              0.3333333333333333,
              "#9c179e"
             ],
             [
              0.4444444444444444,
              "#bd3786"
             ],
             [
              0.5555555555555556,
              "#d8576b"
             ],
             [
              0.6666666666666666,
              "#ed7953"
             ],
             [
              0.7777777777777778,
              "#fb9f3a"
             ],
             [
              0.8888888888888888,
              "#fdca26"
             ],
             [
              1,
              "#f0f921"
             ]
            ],
            "type": "heatmap"
           }
          ],
          "heatmapgl": [
           {
            "colorbar": {
             "outlinewidth": 0,
             "ticks": ""
            },
            "colorscale": [
             [
              0,
              "#0d0887"
             ],
             [
              0.1111111111111111,
              "#46039f"
             ],
             [
              0.2222222222222222,
              "#7201a8"
             ],
             [
              0.3333333333333333,
              "#9c179e"
             ],
             [
              0.4444444444444444,
              "#bd3786"
             ],
             [
              0.5555555555555556,
              "#d8576b"
             ],
             [
              0.6666666666666666,
              "#ed7953"
             ],
             [
              0.7777777777777778,
              "#fb9f3a"
             ],
             [
              0.8888888888888888,
              "#fdca26"
             ],
             [
              1,
              "#f0f921"
             ]
            ],
            "type": "heatmapgl"
           }
          ],
          "histogram": [
           {
            "marker": {
             "pattern": {
              "fillmode": "overlay",
              "size": 10,
              "solidity": 0.2
             }
            },
            "type": "histogram"
           }
          ],
          "histogram2d": [
           {
            "colorbar": {
             "outlinewidth": 0,
             "ticks": ""
            },
            "colorscale": [
             [
              0,
              "#0d0887"
             ],
             [
              0.1111111111111111,
              "#46039f"
             ],
             [
              0.2222222222222222,
              "#7201a8"
             ],
             [
              0.3333333333333333,
              "#9c179e"
             ],
             [
              0.4444444444444444,
              "#bd3786"
             ],
             [
              0.5555555555555556,
              "#d8576b"
             ],
             [
              0.6666666666666666,
              "#ed7953"
             ],
             [
              0.7777777777777778,
              "#fb9f3a"
             ],
             [
              0.8888888888888888,
              "#fdca26"
             ],
             [
              1,
              "#f0f921"
             ]
            ],
            "type": "histogram2d"
           }
          ],
          "histogram2dcontour": [
           {
            "colorbar": {
             "outlinewidth": 0,
             "ticks": ""
            },
            "colorscale": [
             [
              0,
              "#0d0887"
             ],
             [
              0.1111111111111111,
              "#46039f"
             ],
             [
              0.2222222222222222,
              "#7201a8"
             ],
             [
              0.3333333333333333,
              "#9c179e"
             ],
             [
              0.4444444444444444,
              "#bd3786"
             ],
             [
              0.5555555555555556,
              "#d8576b"
             ],
             [
              0.6666666666666666,
              "#ed7953"
             ],
             [
              0.7777777777777778,
              "#fb9f3a"
             ],
             [
              0.8888888888888888,
              "#fdca26"
             ],
             [
              1,
              "#f0f921"
             ]
            ],
            "type": "histogram2dcontour"
           }
          ],
          "mesh3d": [
           {
            "colorbar": {
             "outlinewidth": 0,
             "ticks": ""
            },
            "type": "mesh3d"
           }
          ],
          "parcoords": [
           {
            "line": {
             "colorbar": {
              "outlinewidth": 0,
              "ticks": ""
             }
            },
            "type": "parcoords"
           }
          ],
          "pie": [
           {
            "automargin": true,
            "type": "pie"
           }
          ],
          "scatter": [
           {
            "fillpattern": {
             "fillmode": "overlay",
             "size": 10,
             "solidity": 0.2
            },
            "type": "scatter"
           }
          ],
          "scatter3d": [
           {
            "line": {
             "colorbar": {
              "outlinewidth": 0,
              "ticks": ""
             }
            },
            "marker": {
             "colorbar": {
              "outlinewidth": 0,
              "ticks": ""
             }
            },
            "type": "scatter3d"
           }
          ],
          "scattercarpet": [
           {
            "marker": {
             "colorbar": {
              "outlinewidth": 0,
              "ticks": ""
             }
            },
            "type": "scattercarpet"
           }
          ],
          "scattergeo": [
           {
            "marker": {
             "colorbar": {
              "outlinewidth": 0,
              "ticks": ""
             }
            },
            "type": "scattergeo"
           }
          ],
          "scattergl": [
           {
            "marker": {
             "colorbar": {
              "outlinewidth": 0,
              "ticks": ""
             }
            },
            "type": "scattergl"
           }
          ],
          "scattermapbox": [
           {
            "marker": {
             "colorbar": {
              "outlinewidth": 0,
              "ticks": ""
             }
            },
            "type": "scattermapbox"
           }
          ],
          "scatterpolar": [
           {
            "marker": {
             "colorbar": {
              "outlinewidth": 0,
              "ticks": ""
             }
            },
            "type": "scatterpolar"
           }
          ],
          "scatterpolargl": [
           {
            "marker": {
             "colorbar": {
              "outlinewidth": 0,
              "ticks": ""
             }
            },
            "type": "scatterpolargl"
           }
          ],
          "scatterternary": [
           {
            "marker": {
             "colorbar": {
              "outlinewidth": 0,
              "ticks": ""
             }
            },
            "type": "scatterternary"
           }
          ],
          "surface": [
           {
            "colorbar": {
             "outlinewidth": 0,
             "ticks": ""
            },
            "colorscale": [
             [
              0,
              "#0d0887"
             ],
             [
              0.1111111111111111,
              "#46039f"
             ],
             [
              0.2222222222222222,
              "#7201a8"
             ],
             [
              0.3333333333333333,
              "#9c179e"
             ],
             [
              0.4444444444444444,
              "#bd3786"
             ],
             [
              0.5555555555555556,
              "#d8576b"
             ],
             [
              0.6666666666666666,
              "#ed7953"
             ],
             [
              0.7777777777777778,
              "#fb9f3a"
             ],
             [
              0.8888888888888888,
              "#fdca26"
             ],
             [
              1,
              "#f0f921"
             ]
            ],
            "type": "surface"
           }
          ],
          "table": [
           {
            "cells": {
             "fill": {
              "color": "#EBF0F8"
             },
             "line": {
              "color": "white"
             }
            },
            "header": {
             "fill": {
              "color": "#C8D4E3"
             },
             "line": {
              "color": "white"
             }
            },
            "type": "table"
           }
          ]
         },
         "layout": {
          "annotationdefaults": {
           "arrowcolor": "#2a3f5f",
           "arrowhead": 0,
           "arrowwidth": 1
          },
          "autotypenumbers": "strict",
          "coloraxis": {
           "colorbar": {
            "outlinewidth": 0,
            "ticks": ""
           }
          },
          "colorscale": {
           "diverging": [
            [
             0,
             "#8e0152"
            ],
            [
             0.1,
             "#c51b7d"
            ],
            [
             0.2,
             "#de77ae"
            ],
            [
             0.3,
             "#f1b6da"
            ],
            [
             0.4,
             "#fde0ef"
            ],
            [
             0.5,
             "#f7f7f7"
            ],
            [
             0.6,
             "#e6f5d0"
            ],
            [
             0.7,
             "#b8e186"
            ],
            [
             0.8,
             "#7fbc41"
            ],
            [
             0.9,
             "#4d9221"
            ],
            [
             1,
             "#276419"
            ]
           ],
           "sequential": [
            [
             0,
             "#0d0887"
            ],
            [
             0.1111111111111111,
             "#46039f"
            ],
            [
             0.2222222222222222,
             "#7201a8"
            ],
            [
             0.3333333333333333,
             "#9c179e"
            ],
            [
             0.4444444444444444,
             "#bd3786"
            ],
            [
             0.5555555555555556,
             "#d8576b"
            ],
            [
             0.6666666666666666,
             "#ed7953"
            ],
            [
             0.7777777777777778,
             "#fb9f3a"
            ],
            [
             0.8888888888888888,
             "#fdca26"
            ],
            [
             1,
             "#f0f921"
            ]
           ],
           "sequentialminus": [
            [
             0,
             "#0d0887"
            ],
            [
             0.1111111111111111,
             "#46039f"
            ],
            [
             0.2222222222222222,
             "#7201a8"
            ],
            [
             0.3333333333333333,
             "#9c179e"
            ],
            [
             0.4444444444444444,
             "#bd3786"
            ],
            [
             0.5555555555555556,
             "#d8576b"
            ],
            [
             0.6666666666666666,
             "#ed7953"
            ],
            [
             0.7777777777777778,
             "#fb9f3a"
            ],
            [
             0.8888888888888888,
             "#fdca26"
            ],
            [
             1,
             "#f0f921"
            ]
           ]
          },
          "colorway": [
           "#636efa",
           "#EF553B",
           "#00cc96",
           "#ab63fa",
           "#FFA15A",
           "#19d3f3",
           "#FF6692",
           "#B6E880",
           "#FF97FF",
           "#FECB52"
          ],
          "font": {
           "color": "#2a3f5f"
          },
          "geo": {
           "bgcolor": "white",
           "lakecolor": "white",
           "landcolor": "#E5ECF6",
           "showlakes": true,
           "showland": true,
           "subunitcolor": "white"
          },
          "hoverlabel": {
           "align": "left"
          },
          "hovermode": "closest",
          "mapbox": {
           "style": "light"
          },
          "paper_bgcolor": "white",
          "plot_bgcolor": "#E5ECF6",
          "polar": {
           "angularaxis": {
            "gridcolor": "white",
            "linecolor": "white",
            "ticks": ""
           },
           "bgcolor": "#E5ECF6",
           "radialaxis": {
            "gridcolor": "white",
            "linecolor": "white",
            "ticks": ""
           }
          },
          "scene": {
           "xaxis": {
            "backgroundcolor": "#E5ECF6",
            "gridcolor": "white",
            "gridwidth": 2,
            "linecolor": "white",
            "showbackground": true,
            "ticks": "",
            "zerolinecolor": "white"
           },
           "yaxis": {
            "backgroundcolor": "#E5ECF6",
            "gridcolor": "white",
            "gridwidth": 2,
            "linecolor": "white",
            "showbackground": true,
            "ticks": "",
            "zerolinecolor": "white"
           },
           "zaxis": {
            "backgroundcolor": "#E5ECF6",
            "gridcolor": "white",
            "gridwidth": 2,
            "linecolor": "white",
            "showbackground": true,
            "ticks": "",
            "zerolinecolor": "white"
           }
          },
          "shapedefaults": {
           "line": {
            "color": "#2a3f5f"
           }
          },
          "ternary": {
           "aaxis": {
            "gridcolor": "white",
            "linecolor": "white",
            "ticks": ""
           },
           "baxis": {
            "gridcolor": "white",
            "linecolor": "white",
            "ticks": ""
           },
           "bgcolor": "#E5ECF6",
           "caxis": {
            "gridcolor": "white",
            "linecolor": "white",
            "ticks": ""
           }
          },
          "title": {
           "x": 0.05
          },
          "xaxis": {
           "automargin": true,
           "gridcolor": "white",
           "linecolor": "white",
           "ticks": "",
           "title": {
            "standoff": 15
           },
           "zerolinecolor": "white",
           "zerolinewidth": 2
          },
          "yaxis": {
           "automargin": true,
           "gridcolor": "white",
           "linecolor": "white",
           "ticks": "",
           "title": {
            "standoff": 15
           },
           "zerolinecolor": "white",
           "zerolinewidth": 2
          }
         }
        },
        "title": {
         "text": "Yahoo Finance Market Cap"
        },
        "updatemenus": [
         {
          "buttons": [
           {
            "args": [
             null,
             {
              "frame": {
               "duration": 500,
               "redraw": true
              },
              "fromcurrent": true,
              "mode": "immediate",
              "transition": {
               "duration": 500,
               "easing": "linear"
              }
             }
            ],
            "label": "&#9654;",
            "method": "animate"
           },
           {
            "args": [
             [
              null
             ],
             {
              "frame": {
               "duration": 0,
               "redraw": true
              },
              "fromcurrent": true,
              "mode": "immediate",
              "transition": {
               "duration": 0,
               "easing": "linear"
              }
             }
            ],
            "label": "&#9724;",
            "method": "animate"
           }
          ],
          "direction": "left",
          "pad": {
           "r": 10,
           "t": 70
          },
          "showactive": false,
          "type": "buttons",
          "x": 0.1,
          "xanchor": "right",
          "y": 0,
          "yanchor": "top"
         }
        ],
        "xaxis": {
         "anchor": "y",
         "categoryarray": [
          "AAPL",
          "AMD",
          "AMZN",
          "BABA",
          "BIDU",
          "GOOGL",
          "META",
          "MSFT",
          "TCEHY",
          "TSLA"
         ],
         "categoryorder": "array",
         "domain": [
          0,
          1
         ],
         "title": {
          "text": "Ticker"
         }
        },
        "yaxis": {
         "anchor": "x",
         "domain": [
          0,
          1
         ],
         "title": {
          "text": "MarketCap"
         }
        }
       }
      },
      "text/html": [
       "<div>                            <div id=\"2363b2fd-b7fb-4eef-a4dc-f3c2ff1a97dc\" class=\"plotly-graph-div\" style=\"height:600px; width:100%;\"></div>            <script type=\"text/javascript\">                require([\"plotly\"], function(Plotly) {                    window.PLOTLYENV=window.PLOTLYENV || {};                                    if (document.getElementById(\"2363b2fd-b7fb-4eef-a4dc-f3c2ff1a97dc\")) {                    Plotly.newPlot(                        \"2363b2fd-b7fb-4eef-a4dc-f3c2ff1a97dc\",                        [{\"alignmentgroup\":\"True\",\"hovertemplate\":\"Ticker=%{x}\\u003cbr\\u003eDate=2015-10-31 16:30:00+00:00\\u003cbr\\u003eMarketCap=%{y}\\u003cextra\\u003e\\u003c\\u002fextra\\u003e\",\"legendgroup\":\"AAPL\",\"marker\":{\"color\":\"#636efa\",\"pattern\":{\"shape\":\"\"}},\"name\":\"AAPL\",\"offsetgroup\":\"AAPL\",\"orientation\":\"v\",\"showlegend\":true,\"textposition\":\"auto\",\"x\":[\"AAPL\"],\"xaxis\":\"x\",\"y\":[150700833437.1376],\"yaxis\":\"y\",\"type\":\"bar\",\"width\":1},{\"alignmentgroup\":\"True\",\"hovertemplate\":\"Ticker=%{x}\\u003cbr\\u003eDate=2015-10-31 16:30:00+00:00\\u003cbr\\u003eMarketCap=%{y}\\u003cextra\\u003e\\u003c\\u002fextra\\u003e\",\"legendgroup\":\"AMD\",\"marker\":{\"color\":\"#EF553B\",\"pattern\":{\"shape\":\"\"}},\"name\":\"AMD\",\"offsetgroup\":\"AMD\",\"orientation\":\"v\",\"showlegend\":true,\"textposition\":\"auto\",\"x\":[\"AMD\"],\"xaxis\":\"x\",\"y\":[1998286671.13936],\"yaxis\":\"y\",\"type\":\"bar\",\"width\":1},{\"alignmentgroup\":\"True\",\"hovertemplate\":\"Ticker=%{x}\\u003cbr\\u003eDate=2015-10-31 16:30:00+00:00\\u003cbr\\u003eMarketCap=%{y}\\u003cextra\\u003e\\u003c\\u002fextra\\u003e\",\"legendgroup\":\"AMZN\",\"marker\":{\"color\":\"#00cc96\",\"pattern\":{\"shape\":\"\"}},\"name\":\"AMZN\",\"offsetgroup\":\"AMZN\",\"orientation\":\"v\",\"showlegend\":true,\"textposition\":\"auto\",\"x\":[\"AMZN\"],\"xaxis\":\"x\",\"y\":[14040125014.389038],\"yaxis\":\"y\",\"type\":\"bar\",\"width\":1},{\"alignmentgroup\":\"True\",\"hovertemplate\":\"Ticker=%{x}\\u003cbr\\u003eDate=2015-10-31 16:30:00+00:00\\u003cbr\\u003eMarketCap=%{y}\\u003cextra\\u003e\\u003c\\u002fextra\\u003e\",\"legendgroup\":\"BABA\",\"marker\":{\"color\":\"#ab63fa\",\"pattern\":{\"shape\":\"\"}},\"name\":\"BABA\",\"offsetgroup\":\"BABA\",\"orientation\":\"v\",\"showlegend\":true,\"textposition\":\"auto\",\"x\":[\"BABA\"],\"xaxis\":\"x\",\"y\":[null],\"yaxis\":\"y\",\"type\":\"bar\",\"width\":1},{\"alignmentgroup\":\"True\",\"hovertemplate\":\"Ticker=%{x}\\u003cbr\\u003eDate=2015-10-31 16:30:00+00:00\\u003cbr\\u003eMarketCap=%{y}\\u003cextra\\u003e\\u003c\\u002fextra\\u003e\",\"legendgroup\":\"BIDU\",\"marker\":{\"color\":\"#FFA15A\",\"pattern\":{\"shape\":\"\"}},\"name\":\"BIDU\",\"offsetgroup\":\"BIDU\",\"orientation\":\"v\",\"showlegend\":true,\"textposition\":\"auto\",\"x\":[\"BIDU\"],\"xaxis\":\"x\",\"y\":[null],\"yaxis\":\"y\",\"type\":\"bar\",\"width\":1},{\"alignmentgroup\":\"True\",\"hovertemplate\":\"Ticker=%{x}\\u003cbr\\u003eDate=2015-10-31 16:30:00+00:00\\u003cbr\\u003eMarketCap=%{y}\\u003cextra\\u003e\\u003c\\u002fextra\\u003e\",\"legendgroup\":\"GOOGL\",\"marker\":{\"color\":\"#19d3f3\",\"pattern\":{\"shape\":\"\"}},\"name\":\"GOOGL\",\"offsetgroup\":\"GOOGL\",\"orientation\":\"v\",\"showlegend\":true,\"textposition\":\"auto\",\"x\":[\"GOOGL\"],\"xaxis\":\"x\",\"y\":[25612598522.37701],\"yaxis\":\"y\",\"type\":\"bar\",\"width\":1},{\"alignmentgroup\":\"True\",\"hovertemplate\":\"Ticker=%{x}\\u003cbr\\u003eDate=2015-10-31 16:30:00+00:00\\u003cbr\\u003eMarketCap=%{y}\\u003cextra\\u003e\\u003c\\u002fextra\\u003e\",\"legendgroup\":\"META\",\"marker\":{\"color\":\"#FF6692\",\"pattern\":{\"shape\":\"\"}},\"name\":\"META\",\"offsetgroup\":\"META\",\"orientation\":\"v\",\"showlegend\":true,\"textposition\":\"auto\",\"x\":[\"META\"],\"xaxis\":\"x\",\"y\":[null],\"yaxis\":\"y\",\"type\":\"bar\",\"width\":1},{\"alignmentgroup\":\"True\",\"hovertemplate\":\"Ticker=%{x}\\u003cbr\\u003eDate=2015-10-31 16:30:00+00:00\\u003cbr\\u003eMarketCap=%{y}\\u003cextra\\u003e\\u003c\\u002fextra\\u003e\",\"legendgroup\":\"MSFT\",\"marker\":{\"color\":\"#B6E880\",\"pattern\":{\"shape\":\"\"}},\"name\":\"MSFT\",\"offsetgroup\":\"MSFT\",\"orientation\":\"v\",\"showlegend\":true,\"textposition\":\"auto\",\"x\":[\"MSFT\"],\"xaxis\":\"x\",\"y\":[372789376538.887],\"yaxis\":\"y\",\"type\":\"bar\",\"width\":1},{\"alignmentgroup\":\"True\",\"hovertemplate\":\"Ticker=%{x}\\u003cbr\\u003eDate=2015-10-31 16:30:00+00:00\\u003cbr\\u003eMarketCap=%{y}\\u003cextra\\u003e\\u003c\\u002fextra\\u003e\",\"legendgroup\":\"TCEHY\",\"marker\":{\"color\":\"#FF97FF\",\"pattern\":{\"shape\":\"\"}},\"name\":\"TCEHY\",\"offsetgroup\":\"TCEHY\",\"orientation\":\"v\",\"showlegend\":true,\"textposition\":\"auto\",\"x\":[\"TCEHY\"],\"xaxis\":\"x\",\"y\":[null],\"yaxis\":\"y\",\"type\":\"bar\",\"width\":1},{\"alignmentgroup\":\"True\",\"hovertemplate\":\"Ticker=%{x}\\u003cbr\\u003eDate=2015-10-31 16:30:00+00:00\\u003cbr\\u003eMarketCap=%{y}\\u003cextra\\u003e\\u003c\\u002fextra\\u003e\",\"legendgroup\":\"TSLA\",\"marker\":{\"color\":\"#FECB52\",\"pattern\":{\"shape\":\"\"}},\"name\":\"TSLA\",\"offsetgroup\":\"TSLA\",\"orientation\":\"v\",\"showlegend\":true,\"textposition\":\"auto\",\"x\":[\"TSLA\"],\"xaxis\":\"x\",\"y\":[2028518379.25148],\"yaxis\":\"y\",\"type\":\"bar\",\"width\":1}],                        {\"template\":{\"data\":{\"histogram2dcontour\":[{\"type\":\"histogram2dcontour\",\"colorbar\":{\"outlinewidth\":0,\"ticks\":\"\"},\"colorscale\":[[0.0,\"#0d0887\"],[0.1111111111111111,\"#46039f\"],[0.2222222222222222,\"#7201a8\"],[0.3333333333333333,\"#9c179e\"],[0.4444444444444444,\"#bd3786\"],[0.5555555555555556,\"#d8576b\"],[0.6666666666666666,\"#ed7953\"],[0.7777777777777778,\"#fb9f3a\"],[0.8888888888888888,\"#fdca26\"],[1.0,\"#f0f921\"]]}],\"choropleth\":[{\"type\":\"choropleth\",\"colorbar\":{\"outlinewidth\":0,\"ticks\":\"\"}}],\"histogram2d\":[{\"type\":\"histogram2d\",\"colorbar\":{\"outlinewidth\":0,\"ticks\":\"\"},\"colorscale\":[[0.0,\"#0d0887\"],[0.1111111111111111,\"#46039f\"],[0.2222222222222222,\"#7201a8\"],[0.3333333333333333,\"#9c179e\"],[0.4444444444444444,\"#bd3786\"],[0.5555555555555556,\"#d8576b\"],[0.6666666666666666,\"#ed7953\"],[0.7777777777777778,\"#fb9f3a\"],[0.8888888888888888,\"#fdca26\"],[1.0,\"#f0f921\"]]}],\"heatmap\":[{\"type\":\"heatmap\",\"colorbar\":{\"outlinewidth\":0,\"ticks\":\"\"},\"colorscale\":[[0.0,\"#0d0887\"],[0.1111111111111111,\"#46039f\"],[0.2222222222222222,\"#7201a8\"],[0.3333333333333333,\"#9c179e\"],[0.4444444444444444,\"#bd3786\"],[0.5555555555555556,\"#d8576b\"],[0.6666666666666666,\"#ed7953\"],[0.7777777777777778,\"#fb9f3a\"],[0.8888888888888888,\"#fdca26\"],[1.0,\"#f0f921\"]]}],\"heatmapgl\":[{\"type\":\"heatmapgl\",\"colorbar\":{\"outlinewidth\":0,\"ticks\":\"\"},\"colorscale\":[[0.0,\"#0d0887\"],[0.1111111111111111,\"#46039f\"],[0.2222222222222222,\"#7201a8\"],[0.3333333333333333,\"#9c179e\"],[0.4444444444444444,\"#bd3786\"],[0.5555555555555556,\"#d8576b\"],[0.6666666666666666,\"#ed7953\"],[0.7777777777777778,\"#fb9f3a\"],[0.8888888888888888,\"#fdca26\"],[1.0,\"#f0f921\"]]}],\"contourcarpet\":[{\"type\":\"contourcarpet\",\"colorbar\":{\"outlinewidth\":0,\"ticks\":\"\"}}],\"contour\":[{\"type\":\"contour\",\"colorbar\":{\"outlinewidth\":0,\"ticks\":\"\"},\"colorscale\":[[0.0,\"#0d0887\"],[0.1111111111111111,\"#46039f\"],[0.2222222222222222,\"#7201a8\"],[0.3333333333333333,\"#9c179e\"],[0.4444444444444444,\"#bd3786\"],[0.5555555555555556,\"#d8576b\"],[0.6666666666666666,\"#ed7953\"],[0.7777777777777778,\"#fb9f3a\"],[0.8888888888888888,\"#fdca26\"],[1.0,\"#f0f921\"]]}],\"surface\":[{\"type\":\"surface\",\"colorbar\":{\"outlinewidth\":0,\"ticks\":\"\"},\"colorscale\":[[0.0,\"#0d0887\"],[0.1111111111111111,\"#46039f\"],[0.2222222222222222,\"#7201a8\"],[0.3333333333333333,\"#9c179e\"],[0.4444444444444444,\"#bd3786\"],[0.5555555555555556,\"#d8576b\"],[0.6666666666666666,\"#ed7953\"],[0.7777777777777778,\"#fb9f3a\"],[0.8888888888888888,\"#fdca26\"],[1.0,\"#f0f921\"]]}],\"mesh3d\":[{\"type\":\"mesh3d\",\"colorbar\":{\"outlinewidth\":0,\"ticks\":\"\"}}],\"scatter\":[{\"fillpattern\":{\"fillmode\":\"overlay\",\"size\":10,\"solidity\":0.2},\"type\":\"scatter\"}],\"parcoords\":[{\"type\":\"parcoords\",\"line\":{\"colorbar\":{\"outlinewidth\":0,\"ticks\":\"\"}}}],\"scatterpolargl\":[{\"type\":\"scatterpolargl\",\"marker\":{\"colorbar\":{\"outlinewidth\":0,\"ticks\":\"\"}}}],\"bar\":[{\"error_x\":{\"color\":\"#2a3f5f\"},\"error_y\":{\"color\":\"#2a3f5f\"},\"marker\":{\"line\":{\"color\":\"#E5ECF6\",\"width\":0.5},\"pattern\":{\"fillmode\":\"overlay\",\"size\":10,\"solidity\":0.2}},\"type\":\"bar\"}],\"scattergeo\":[{\"type\":\"scattergeo\",\"marker\":{\"colorbar\":{\"outlinewidth\":0,\"ticks\":\"\"}}}],\"scatterpolar\":[{\"type\":\"scatterpolar\",\"marker\":{\"colorbar\":{\"outlinewidth\":0,\"ticks\":\"\"}}}],\"histogram\":[{\"marker\":{\"pattern\":{\"fillmode\":\"overlay\",\"size\":10,\"solidity\":0.2}},\"type\":\"histogram\"}],\"scattergl\":[{\"type\":\"scattergl\",\"marker\":{\"colorbar\":{\"outlinewidth\":0,\"ticks\":\"\"}}}],\"scatter3d\":[{\"type\":\"scatter3d\",\"line\":{\"colorbar\":{\"outlinewidth\":0,\"ticks\":\"\"}},\"marker\":{\"colorbar\":{\"outlinewidth\":0,\"ticks\":\"\"}}}],\"scattermapbox\":[{\"type\":\"scattermapbox\",\"marker\":{\"colorbar\":{\"outlinewidth\":0,\"ticks\":\"\"}}}],\"scatterternary\":[{\"type\":\"scatterternary\",\"marker\":{\"colorbar\":{\"outlinewidth\":0,\"ticks\":\"\"}}}],\"scattercarpet\":[{\"type\":\"scattercarpet\",\"marker\":{\"colorbar\":{\"outlinewidth\":0,\"ticks\":\"\"}}}],\"carpet\":[{\"aaxis\":{\"endlinecolor\":\"#2a3f5f\",\"gridcolor\":\"white\",\"linecolor\":\"white\",\"minorgridcolor\":\"white\",\"startlinecolor\":\"#2a3f5f\"},\"baxis\":{\"endlinecolor\":\"#2a3f5f\",\"gridcolor\":\"white\",\"linecolor\":\"white\",\"minorgridcolor\":\"white\",\"startlinecolor\":\"#2a3f5f\"},\"type\":\"carpet\"}],\"table\":[{\"cells\":{\"fill\":{\"color\":\"#EBF0F8\"},\"line\":{\"color\":\"white\"}},\"header\":{\"fill\":{\"color\":\"#C8D4E3\"},\"line\":{\"color\":\"white\"}},\"type\":\"table\"}],\"barpolar\":[{\"marker\":{\"line\":{\"color\":\"#E5ECF6\",\"width\":0.5},\"pattern\":{\"fillmode\":\"overlay\",\"size\":10,\"solidity\":0.2}},\"type\":\"barpolar\"}],\"pie\":[{\"automargin\":true,\"type\":\"pie\"}]},\"layout\":{\"autotypenumbers\":\"strict\",\"colorway\":[\"#636efa\",\"#EF553B\",\"#00cc96\",\"#ab63fa\",\"#FFA15A\",\"#19d3f3\",\"#FF6692\",\"#B6E880\",\"#FF97FF\",\"#FECB52\"],\"font\":{\"color\":\"#2a3f5f\"},\"hovermode\":\"closest\",\"hoverlabel\":{\"align\":\"left\"},\"paper_bgcolor\":\"white\",\"plot_bgcolor\":\"#E5ECF6\",\"polar\":{\"bgcolor\":\"#E5ECF6\",\"angularaxis\":{\"gridcolor\":\"white\",\"linecolor\":\"white\",\"ticks\":\"\"},\"radialaxis\":{\"gridcolor\":\"white\",\"linecolor\":\"white\",\"ticks\":\"\"}},\"ternary\":{\"bgcolor\":\"#E5ECF6\",\"aaxis\":{\"gridcolor\":\"white\",\"linecolor\":\"white\",\"ticks\":\"\"},\"baxis\":{\"gridcolor\":\"white\",\"linecolor\":\"white\",\"ticks\":\"\"},\"caxis\":{\"gridcolor\":\"white\",\"linecolor\":\"white\",\"ticks\":\"\"}},\"coloraxis\":{\"colorbar\":{\"outlinewidth\":0,\"ticks\":\"\"}},\"colorscale\":{\"sequential\":[[0.0,\"#0d0887\"],[0.1111111111111111,\"#46039f\"],[0.2222222222222222,\"#7201a8\"],[0.3333333333333333,\"#9c179e\"],[0.4444444444444444,\"#bd3786\"],[0.5555555555555556,\"#d8576b\"],[0.6666666666666666,\"#ed7953\"],[0.7777777777777778,\"#fb9f3a\"],[0.8888888888888888,\"#fdca26\"],[1.0,\"#f0f921\"]],\"sequentialminus\":[[0.0,\"#0d0887\"],[0.1111111111111111,\"#46039f\"],[0.2222222222222222,\"#7201a8\"],[0.3333333333333333,\"#9c179e\"],[0.4444444444444444,\"#bd3786\"],[0.5555555555555556,\"#d8576b\"],[0.6666666666666666,\"#ed7953\"],[0.7777777777777778,\"#fb9f3a\"],[0.8888888888888888,\"#fdca26\"],[1.0,\"#f0f921\"]],\"diverging\":[[0,\"#8e0152\"],[0.1,\"#c51b7d\"],[0.2,\"#de77ae\"],[0.3,\"#f1b6da\"],[0.4,\"#fde0ef\"],[0.5,\"#f7f7f7\"],[0.6,\"#e6f5d0\"],[0.7,\"#b8e186\"],[0.8,\"#7fbc41\"],[0.9,\"#4d9221\"],[1,\"#276419\"]]},\"xaxis\":{\"gridcolor\":\"white\",\"linecolor\":\"white\",\"ticks\":\"\",\"title\":{\"standoff\":15},\"zerolinecolor\":\"white\",\"automargin\":true,\"zerolinewidth\":2},\"yaxis\":{\"gridcolor\":\"white\",\"linecolor\":\"white\",\"ticks\":\"\",\"title\":{\"standoff\":15},\"zerolinecolor\":\"white\",\"automargin\":true,\"zerolinewidth\":2},\"scene\":{\"xaxis\":{\"backgroundcolor\":\"#E5ECF6\",\"gridcolor\":\"white\",\"linecolor\":\"white\",\"showbackground\":true,\"ticks\":\"\",\"zerolinecolor\":\"white\",\"gridwidth\":2},\"yaxis\":{\"backgroundcolor\":\"#E5ECF6\",\"gridcolor\":\"white\",\"linecolor\":\"white\",\"showbackground\":true,\"ticks\":\"\",\"zerolinecolor\":\"white\",\"gridwidth\":2},\"zaxis\":{\"backgroundcolor\":\"#E5ECF6\",\"gridcolor\":\"white\",\"linecolor\":\"white\",\"showbackground\":true,\"ticks\":\"\",\"zerolinecolor\":\"white\",\"gridwidth\":2}},\"shapedefaults\":{\"line\":{\"color\":\"#2a3f5f\"}},\"annotationdefaults\":{\"arrowcolor\":\"#2a3f5f\",\"arrowhead\":0,\"arrowwidth\":1},\"geo\":{\"bgcolor\":\"white\",\"landcolor\":\"#E5ECF6\",\"subunitcolor\":\"white\",\"showland\":true,\"showlakes\":true,\"lakecolor\":\"white\"},\"title\":{\"x\":0.05},\"mapbox\":{\"style\":\"light\"}}},\"xaxis\":{\"anchor\":\"y\",\"domain\":[0.0,1.0],\"title\":{\"text\":\"Ticker\"},\"categoryorder\":\"array\",\"categoryarray\":[\"AAPL\",\"AMD\",\"AMZN\",\"BABA\",\"BIDU\",\"GOOGL\",\"META\",\"MSFT\",\"TCEHY\",\"TSLA\"]},\"yaxis\":{\"anchor\":\"x\",\"domain\":[0.0,1.0],\"title\":{\"text\":\"MarketCap\"}},\"legend\":{\"title\":{\"text\":\"Ticker\"},\"tracegroupgap\":0},\"title\":{\"text\":\"Yahoo Finance Market Cap\"},\"barmode\":\"group\",\"height\":600,\"updatemenus\":[{\"buttons\":[{\"args\":[null,{\"frame\":{\"duration\":500,\"redraw\":true},\"mode\":\"immediate\",\"fromcurrent\":true,\"transition\":{\"duration\":500,\"easing\":\"linear\"}}],\"label\":\"&#9654;\",\"method\":\"animate\"},{\"args\":[[null],{\"frame\":{\"duration\":0,\"redraw\":true},\"mode\":\"immediate\",\"fromcurrent\":true,\"transition\":{\"duration\":0,\"easing\":\"linear\"}}],\"label\":\"&#9724;\",\"method\":\"animate\"}],\"direction\":\"left\",\"pad\":{\"r\":10,\"t\":70},\"showactive\":false,\"type\":\"buttons\",\"x\":0.1,\"xanchor\":\"right\",\"y\":0,\"yanchor\":\"top\"}],\"sliders\":[{\"active\":0,\"currentvalue\":{\"prefix\":\"Date=\"},\"len\":0.9,\"pad\":{\"b\":10,\"t\":60},\"steps\":[{\"args\":[[\"2015-10-31 16:30:00+00:00\"],{\"frame\":{\"duration\":0,\"redraw\":true},\"mode\":\"immediate\",\"fromcurrent\":true,\"transition\":{\"duration\":0,\"easing\":\"linear\"}}],\"label\":\"2015-10-31 16:30:00+00:00\",\"method\":\"animate\"},{\"args\":[[\"2016-02-12 05:00:00+00:00\"],{\"frame\":{\"duration\":0,\"redraw\":true},\"mode\":\"immediate\",\"fromcurrent\":true,\"transition\":{\"duration\":0,\"easing\":\"linear\"}}],\"label\":\"2016-02-12 05:00:00+00:00\",\"method\":\"animate\"},{\"args\":[[\"2016-05-03 04:00:00+00:00\"],{\"frame\":{\"duration\":0,\"redraw\":true},\"mode\":\"immediate\",\"fromcurrent\":true,\"transition\":{\"duration\":0,\"easing\":\"linear\"}}],\"label\":\"2016-05-03 04:00:00+00:00\",\"method\":\"animate\"},{\"args\":[[\"2016-07-30 16:00:00+00:00\"],{\"frame\":{\"duration\":0,\"redraw\":true},\"mode\":\"immediate\",\"fromcurrent\":true,\"transition\":{\"duration\":0,\"easing\":\"linear\"}}],\"label\":\"2016-07-30 16:00:00+00:00\",\"method\":\"animate\"},{\"args\":[[\"2016-10-31 04:00:00+00:00\"],{\"frame\":{\"duration\":0,\"redraw\":true},\"mode\":\"immediate\",\"fromcurrent\":true,\"transition\":{\"duration\":0,\"easing\":\"linear\"}}],\"label\":\"2016-10-31 04:00:00+00:00\",\"method\":\"animate\"},{\"args\":[[\"2017-02-09 05:00:00+00:00\"],{\"frame\":{\"duration\":0,\"redraw\":true},\"mode\":\"immediate\",\"fromcurrent\":true,\"transition\":{\"duration\":0,\"easing\":\"linear\"}}],\"label\":\"2017-02-09 05:00:00+00:00\",\"method\":\"animate\"},{\"args\":[[\"2017-05-22 16:00:00+00:00\"],{\"frame\":{\"duration\":0,\"redraw\":true},\"mode\":\"immediate\",\"fromcurrent\":true,\"transition\":{\"duration\":0,\"easing\":\"linear\"}}],\"label\":\"2017-05-22 16:00:00+00:00\",\"method\":\"animate\"},{\"args\":[[\"2017-08-11 16:00:00+00:00\"],{\"frame\":{\"duration\":0,\"redraw\":true},\"mode\":\"immediate\",\"fromcurrent\":true,\"transition\":{\"duration\":0,\"easing\":\"linear\"}}],\"label\":\"2017-08-11 16:00:00+00:00\",\"method\":\"animate\"},{\"args\":[[\"2017-11-12 17:00:00+00:00\"],{\"frame\":{\"duration\":0,\"redraw\":true},\"mode\":\"immediate\",\"fromcurrent\":true,\"transition\":{\"duration\":0,\"easing\":\"linear\"}}],\"label\":\"2017-11-12 17:00:00+00:00\",\"method\":\"animate\"},{\"args\":[[\"2018-02-15 05:00:00+00:00\"],{\"frame\":{\"duration\":0,\"redraw\":true},\"mode\":\"immediate\",\"fromcurrent\":true,\"transition\":{\"duration\":0,\"easing\":\"linear\"}}],\"label\":\"2018-02-15 05:00:00+00:00\",\"method\":\"animate\"},{\"args\":[[\"2018-05-22 16:00:00+00:00\"],{\"frame\":{\"duration\":0,\"redraw\":true},\"mode\":\"immediate\",\"fromcurrent\":true,\"transition\":{\"duration\":0,\"easing\":\"linear\"}}],\"label\":\"2018-05-22 16:00:00+00:00\",\"method\":\"animate\"},{\"args\":[[\"2018-08-18 16:00:00+00:00\"],{\"frame\":{\"duration\":0,\"redraw\":true},\"mode\":\"immediate\",\"fromcurrent\":true,\"transition\":{\"duration\":0,\"easing\":\"linear\"}}],\"label\":\"2018-08-18 16:00:00+00:00\",\"method\":\"animate\"},{\"args\":[[\"2018-11-13 17:00:00+00:00\"],{\"frame\":{\"duration\":0,\"redraw\":true},\"mode\":\"immediate\",\"fromcurrent\":true,\"transition\":{\"duration\":0,\"easing\":\"linear\"}}],\"label\":\"2018-11-13 17:00:00+00:00\",\"method\":\"animate\"},{\"args\":[[\"2019-02-12 05:00:00+00:00\"],{\"frame\":{\"duration\":0,\"redraw\":true},\"mode\":\"immediate\",\"fromcurrent\":true,\"transition\":{\"duration\":0,\"easing\":\"linear\"}}],\"label\":\"2019-02-12 05:00:00+00:00\",\"method\":\"animate\"},{\"args\":[[\"2019-05-20 04:00:00+00:00\"],{\"frame\":{\"duration\":0,\"redraw\":true},\"mode\":\"immediate\",\"fromcurrent\":true,\"transition\":{\"duration\":0,\"easing\":\"linear\"}}],\"label\":\"2019-05-20 04:00:00+00:00\",\"method\":\"animate\"},{\"args\":[[\"2019-08-14 16:00:00+00:00\"],{\"frame\":{\"duration\":0,\"redraw\":true},\"mode\":\"immediate\",\"fromcurrent\":true,\"transition\":{\"duration\":0,\"easing\":\"linear\"}}],\"label\":\"2019-08-14 16:00:00+00:00\",\"method\":\"animate\"},{\"args\":[[\"2019-11-14 05:00:00+00:00\"],{\"frame\":{\"duration\":0,\"redraw\":true},\"mode\":\"immediate\",\"fromcurrent\":true,\"transition\":{\"duration\":0,\"easing\":\"linear\"}}],\"label\":\"2019-11-14 05:00:00+00:00\",\"method\":\"animate\"},{\"args\":[[\"2020-02-19 17:00:00+00:00\"],{\"frame\":{\"duration\":0,\"redraw\":true},\"mode\":\"immediate\",\"fromcurrent\":true,\"transition\":{\"duration\":0,\"easing\":\"linear\"}}],\"label\":\"2020-02-19 17:00:00+00:00\",\"method\":\"animate\"},{\"args\":[[\"2020-05-16 16:00:00+00:00\"],{\"frame\":{\"duration\":0,\"redraw\":true},\"mode\":\"immediate\",\"fromcurrent\":true,\"transition\":{\"duration\":0,\"easing\":\"linear\"}}],\"label\":\"2020-05-16 16:00:00+00:00\",\"method\":\"animate\"},{\"args\":[[\"2020-08-14 04:00:00+00:00\"],{\"frame\":{\"duration\":0,\"redraw\":true},\"mode\":\"immediate\",\"fromcurrent\":true,\"transition\":{\"duration\":0,\"easing\":\"linear\"}}],\"label\":\"2020-08-14 04:00:00+00:00\",\"method\":\"animate\"},{\"args\":[[\"2020-11-12 05:00:00+00:00\"],{\"frame\":{\"duration\":0,\"redraw\":true},\"mode\":\"immediate\",\"fromcurrent\":true,\"transition\":{\"duration\":0,\"easing\":\"linear\"}}],\"label\":\"2020-11-12 05:00:00+00:00\",\"method\":\"animate\"},{\"args\":[[\"2021-02-17 05:00:00+00:00\"],{\"frame\":{\"duration\":0,\"redraw\":true},\"mode\":\"immediate\",\"fromcurrent\":true,\"transition\":{\"duration\":0,\"easing\":\"linear\"}}],\"label\":\"2021-02-17 05:00:00+00:00\",\"method\":\"animate\"},{\"args\":[[\"2021-05-13 04:00:00+00:00\"],{\"frame\":{\"duration\":0,\"redraw\":true},\"mode\":\"immediate\",\"fromcurrent\":true,\"transition\":{\"duration\":0,\"easing\":\"linear\"}}],\"label\":\"2021-05-13 04:00:00+00:00\",\"method\":\"animate\"},{\"args\":[[\"2021-08-25 04:00:00+00:00\"],{\"frame\":{\"duration\":0,\"redraw\":true},\"mode\":\"immediate\",\"fromcurrent\":true,\"transition\":{\"duration\":0,\"easing\":\"linear\"}}],\"label\":\"2021-08-25 04:00:00+00:00\",\"method\":\"animate\"},{\"args\":[[\"2021-11-12 05:00:00+00:00\"],{\"frame\":{\"duration\":0,\"redraw\":true},\"mode\":\"immediate\",\"fromcurrent\":true,\"transition\":{\"duration\":0,\"easing\":\"linear\"}}],\"label\":\"2021-11-12 05:00:00+00:00\",\"method\":\"animate\"},{\"args\":[[\"2022-02-15 17:00:00+00:00\"],{\"frame\":{\"duration\":0,\"redraw\":true},\"mode\":\"immediate\",\"fromcurrent\":true,\"transition\":{\"duration\":0,\"easing\":\"linear\"}}],\"label\":\"2022-02-15 17:00:00+00:00\",\"method\":\"animate\"},{\"args\":[[\"2022-05-17 04:00:00+00:00\"],{\"frame\":{\"duration\":0,\"redraw\":true},\"mode\":\"immediate\",\"fromcurrent\":true,\"transition\":{\"duration\":0,\"easing\":\"linear\"}}],\"label\":\"2022-05-17 04:00:00+00:00\",\"method\":\"animate\"},{\"args\":[[\"2022-08-09 04:00:00+00:00\"],{\"frame\":{\"duration\":0,\"redraw\":true},\"mode\":\"immediate\",\"fromcurrent\":true,\"transition\":{\"duration\":0,\"easing\":\"linear\"}}],\"label\":\"2022-08-09 04:00:00+00:00\",\"method\":\"animate\"},{\"args\":[[\"2022-11-15 05:00:00+00:00\"],{\"frame\":{\"duration\":0,\"redraw\":true},\"mode\":\"immediate\",\"fromcurrent\":true,\"transition\":{\"duration\":0,\"easing\":\"linear\"}}],\"label\":\"2022-11-15 05:00:00+00:00\",\"method\":\"animate\"},{\"args\":[[\"2023-02-22 17:00:00+00:00\"],{\"frame\":{\"duration\":0,\"redraw\":true},\"mode\":\"immediate\",\"fromcurrent\":true,\"transition\":{\"duration\":0,\"easing\":\"linear\"}}],\"label\":\"2023-02-22 17:00:00+00:00\",\"method\":\"animate\"},{\"args\":[[\"2023-05-22 04:00:00+00:00\"],{\"frame\":{\"duration\":0,\"redraw\":true},\"mode\":\"immediate\",\"fromcurrent\":true,\"transition\":{\"duration\":0,\"easing\":\"linear\"}}],\"label\":\"2023-05-22 04:00:00+00:00\",\"method\":\"animate\"},{\"args\":[[\"2023-08-25 04:00:00+00:00\"],{\"frame\":{\"duration\":0,\"redraw\":true},\"mode\":\"immediate\",\"fromcurrent\":true,\"transition\":{\"duration\":0,\"easing\":\"linear\"}}],\"label\":\"2023-08-25 04:00:00+00:00\",\"method\":\"animate\"},{\"args\":[[\"2023-11-07 17:00:00+00:00\"],{\"frame\":{\"duration\":0,\"redraw\":true},\"mode\":\"immediate\",\"fromcurrent\":true,\"transition\":{\"duration\":0,\"easing\":\"linear\"}}],\"label\":\"2023-11-07 17:00:00+00:00\",\"method\":\"animate\"}],\"x\":0.1,\"xanchor\":\"left\",\"y\":0,\"yanchor\":\"top\"}],\"bargap\":1},                        {\"responsive\": true}                    ).then(function(){\n",
       "                            Plotly.addFrames('2363b2fd-b7fb-4eef-a4dc-f3c2ff1a97dc', [{\"data\":[{\"alignmentgroup\":\"True\",\"hovertemplate\":\"Ticker=%{x}\\u003cbr\\u003eDate=2015-10-31 16:30:00+00:00\\u003cbr\\u003eMarketCap=%{y}\\u003cextra\\u003e\\u003c\\u002fextra\\u003e\",\"legendgroup\":\"AAPL\",\"marker\":{\"color\":\"#636efa\",\"pattern\":{\"shape\":\"\"}},\"name\":\"AAPL\",\"offsetgroup\":\"AAPL\",\"orientation\":\"v\",\"showlegend\":true,\"textposition\":\"auto\",\"x\":[\"AAPL\"],\"xaxis\":\"x\",\"y\":[150700833437.1376],\"yaxis\":\"y\",\"type\":\"bar\"},{\"alignmentgroup\":\"True\",\"hovertemplate\":\"Ticker=%{x}\\u003cbr\\u003eDate=2015-10-31 16:30:00+00:00\\u003cbr\\u003eMarketCap=%{y}\\u003cextra\\u003e\\u003c\\u002fextra\\u003e\",\"legendgroup\":\"AMD\",\"marker\":{\"color\":\"#EF553B\",\"pattern\":{\"shape\":\"\"}},\"name\":\"AMD\",\"offsetgroup\":\"AMD\",\"orientation\":\"v\",\"showlegend\":true,\"textposition\":\"auto\",\"x\":[\"AMD\"],\"xaxis\":\"x\",\"y\":[1998286671.13936],\"yaxis\":\"y\",\"type\":\"bar\"},{\"alignmentgroup\":\"True\",\"hovertemplate\":\"Ticker=%{x}\\u003cbr\\u003eDate=2015-10-31 16:30:00+00:00\\u003cbr\\u003eMarketCap=%{y}\\u003cextra\\u003e\\u003c\\u002fextra\\u003e\",\"legendgroup\":\"AMZN\",\"marker\":{\"color\":\"#00cc96\",\"pattern\":{\"shape\":\"\"}},\"name\":\"AMZN\",\"offsetgroup\":\"AMZN\",\"orientation\":\"v\",\"showlegend\":true,\"textposition\":\"auto\",\"x\":[\"AMZN\"],\"xaxis\":\"x\",\"y\":[14040125014.389038],\"yaxis\":\"y\",\"type\":\"bar\"},{\"alignmentgroup\":\"True\",\"hovertemplate\":\"Ticker=%{x}\\u003cbr\\u003eDate=2015-10-31 16:30:00+00:00\\u003cbr\\u003eMarketCap=%{y}\\u003cextra\\u003e\\u003c\\u002fextra\\u003e\",\"legendgroup\":\"BABA\",\"marker\":{\"color\":\"#ab63fa\",\"pattern\":{\"shape\":\"\"}},\"name\":\"BABA\",\"offsetgroup\":\"BABA\",\"orientation\":\"v\",\"showlegend\":true,\"textposition\":\"auto\",\"x\":[\"BABA\"],\"xaxis\":\"x\",\"y\":[null],\"yaxis\":\"y\",\"type\":\"bar\"},{\"alignmentgroup\":\"True\",\"hovertemplate\":\"Ticker=%{x}\\u003cbr\\u003eDate=2015-10-31 16:30:00+00:00\\u003cbr\\u003eMarketCap=%{y}\\u003cextra\\u003e\\u003c\\u002fextra\\u003e\",\"legendgroup\":\"BIDU\",\"marker\":{\"color\":\"#FFA15A\",\"pattern\":{\"shape\":\"\"}},\"name\":\"BIDU\",\"offsetgroup\":\"BIDU\",\"orientation\":\"v\",\"showlegend\":true,\"textposition\":\"auto\",\"x\":[\"BIDU\"],\"xaxis\":\"x\",\"y\":[null],\"yaxis\":\"y\",\"type\":\"bar\"},{\"alignmentgroup\":\"True\",\"hovertemplate\":\"Ticker=%{x}\\u003cbr\\u003eDate=2015-10-31 16:30:00+00:00\\u003cbr\\u003eMarketCap=%{y}\\u003cextra\\u003e\\u003c\\u002fextra\\u003e\",\"legendgroup\":\"GOOGL\",\"marker\":{\"color\":\"#19d3f3\",\"pattern\":{\"shape\":\"\"}},\"name\":\"GOOGL\",\"offsetgroup\":\"GOOGL\",\"orientation\":\"v\",\"showlegend\":true,\"textposition\":\"auto\",\"x\":[\"GOOGL\"],\"xaxis\":\"x\",\"y\":[25612598522.37701],\"yaxis\":\"y\",\"type\":\"bar\"},{\"alignmentgroup\":\"True\",\"hovertemplate\":\"Ticker=%{x}\\u003cbr\\u003eDate=2015-10-31 16:30:00+00:00\\u003cbr\\u003eMarketCap=%{y}\\u003cextra\\u003e\\u003c\\u002fextra\\u003e\",\"legendgroup\":\"META\",\"marker\":{\"color\":\"#FF6692\",\"pattern\":{\"shape\":\"\"}},\"name\":\"META\",\"offsetgroup\":\"META\",\"orientation\":\"v\",\"showlegend\":true,\"textposition\":\"auto\",\"x\":[\"META\"],\"xaxis\":\"x\",\"y\":[null],\"yaxis\":\"y\",\"type\":\"bar\"},{\"alignmentgroup\":\"True\",\"hovertemplate\":\"Ticker=%{x}\\u003cbr\\u003eDate=2015-10-31 16:30:00+00:00\\u003cbr\\u003eMarketCap=%{y}\\u003cextra\\u003e\\u003c\\u002fextra\\u003e\",\"legendgroup\":\"MSFT\",\"marker\":{\"color\":\"#B6E880\",\"pattern\":{\"shape\":\"\"}},\"name\":\"MSFT\",\"offsetgroup\":\"MSFT\",\"orientation\":\"v\",\"showlegend\":true,\"textposition\":\"auto\",\"x\":[\"MSFT\"],\"xaxis\":\"x\",\"y\":[372789376538.887],\"yaxis\":\"y\",\"type\":\"bar\"},{\"alignmentgroup\":\"True\",\"hovertemplate\":\"Ticker=%{x}\\u003cbr\\u003eDate=2015-10-31 16:30:00+00:00\\u003cbr\\u003eMarketCap=%{y}\\u003cextra\\u003e\\u003c\\u002fextra\\u003e\",\"legendgroup\":\"TCEHY\",\"marker\":{\"color\":\"#FF97FF\",\"pattern\":{\"shape\":\"\"}},\"name\":\"TCEHY\",\"offsetgroup\":\"TCEHY\",\"orientation\":\"v\",\"showlegend\":true,\"textposition\":\"auto\",\"x\":[\"TCEHY\"],\"xaxis\":\"x\",\"y\":[null],\"yaxis\":\"y\",\"type\":\"bar\"},{\"alignmentgroup\":\"True\",\"hovertemplate\":\"Ticker=%{x}\\u003cbr\\u003eDate=2015-10-31 16:30:00+00:00\\u003cbr\\u003eMarketCap=%{y}\\u003cextra\\u003e\\u003c\\u002fextra\\u003e\",\"legendgroup\":\"TSLA\",\"marker\":{\"color\":\"#FECB52\",\"pattern\":{\"shape\":\"\"}},\"name\":\"TSLA\",\"offsetgroup\":\"TSLA\",\"orientation\":\"v\",\"showlegend\":true,\"textposition\":\"auto\",\"x\":[\"TSLA\"],\"xaxis\":\"x\",\"y\":[2028518379.25148],\"yaxis\":\"y\",\"type\":\"bar\"}],\"name\":\"2015-10-31 16:30:00+00:00\"},{\"data\":[{\"alignmentgroup\":\"True\",\"hovertemplate\":\"Ticker=%{x}\\u003cbr\\u003eDate=2016-02-12 05:00:00+00:00\\u003cbr\\u003eMarketCap=%{y}\\u003cextra\\u003e\\u003c\\u002fextra\\u003e\",\"legendgroup\":\"AAPL\",\"marker\":{\"color\":\"#636efa\",\"pattern\":{\"shape\":\"\"}},\"name\":\"AAPL\",\"offsetgroup\":\"AAPL\",\"orientation\":\"v\",\"showlegend\":true,\"textposition\":\"auto\",\"x\":[\"AAPL\"],\"xaxis\":\"x\",\"y\":[118735662911.83472],\"yaxis\":\"y\",\"type\":\"bar\"},{\"alignmentgroup\":\"True\",\"hovertemplate\":\"Ticker=%{x}\\u003cbr\\u003eDate=2016-02-12 05:00:00+00:00\\u003cbr\\u003eMarketCap=%{y}\\u003cextra\\u003e\\u003c\\u002fextra\\u003e\",\"legendgroup\":\"AMD\",\"marker\":{\"color\":\"#EF553B\",\"pattern\":{\"shape\":\"\"}},\"name\":\"AMD\",\"offsetgroup\":\"AMD\",\"orientation\":\"v\",\"showlegend\":true,\"textposition\":\"auto\",\"x\":[\"AMD\"],\"xaxis\":\"x\",\"y\":[1860508475.410223],\"yaxis\":\"y\",\"type\":\"bar\"},{\"alignmentgroup\":\"True\",\"hovertemplate\":\"Ticker=%{x}\\u003cbr\\u003eDate=2016-02-12 05:00:00+00:00\\u003cbr\\u003eMarketCap=%{y}\\u003cextra\\u003e\\u003c\\u002fextra\\u003e\",\"legendgroup\":\"AMZN\",\"marker\":{\"color\":\"#00cc96\",\"pattern\":{\"shape\":\"\"}},\"name\":\"AMZN\",\"offsetgroup\":\"AMZN\",\"orientation\":\"v\",\"showlegend\":true,\"textposition\":\"auto\",\"x\":[\"AMZN\"],\"xaxis\":\"x\",\"y\":[13819212879.611967],\"yaxis\":\"y\",\"type\":\"bar\"},{\"alignmentgroup\":\"True\",\"hovertemplate\":\"Ticker=%{x}\\u003cbr\\u003eDate=2016-02-12 05:00:00+00:00\\u003cbr\\u003eMarketCap=%{y}\\u003cextra\\u003e\\u003c\\u002fextra\\u003e\",\"legendgroup\":\"BABA\",\"marker\":{\"color\":\"#ab63fa\",\"pattern\":{\"shape\":\"\"}},\"name\":\"BABA\",\"offsetgroup\":\"BABA\",\"orientation\":\"v\",\"showlegend\":true,\"textposition\":\"auto\",\"x\":[\"BABA\"],\"xaxis\":\"x\",\"y\":[null],\"yaxis\":\"y\",\"type\":\"bar\"},{\"alignmentgroup\":\"True\",\"hovertemplate\":\"Ticker=%{x}\\u003cbr\\u003eDate=2016-02-12 05:00:00+00:00\\u003cbr\\u003eMarketCap=%{y}\\u003cextra\\u003e\\u003c\\u002fextra\\u003e\",\"legendgroup\":\"BIDU\",\"marker\":{\"color\":\"#FFA15A\",\"pattern\":{\"shape\":\"\"}},\"name\":\"BIDU\",\"offsetgroup\":\"BIDU\",\"orientation\":\"v\",\"showlegend\":true,\"textposition\":\"auto\",\"x\":[\"BIDU\"],\"xaxis\":\"x\",\"y\":[null],\"yaxis\":\"y\",\"type\":\"bar\"},{\"alignmentgroup\":\"True\",\"hovertemplate\":\"Ticker=%{x}\\u003cbr\\u003eDate=2016-02-12 05:00:00+00:00\\u003cbr\\u003eMarketCap=%{y}\\u003cextra\\u003e\\u003c\\u002fextra\\u003e\",\"legendgroup\":\"GOOGL\",\"marker\":{\"color\":\"#19d3f3\",\"pattern\":{\"shape\":\"\"}},\"name\":\"GOOGL\",\"offsetgroup\":\"GOOGL\",\"orientation\":\"v\",\"showlegend\":true,\"textposition\":\"auto\",\"x\":[\"GOOGL\"],\"xaxis\":\"x\",\"y\":[24637731247.65396],\"yaxis\":\"y\",\"type\":\"bar\"},{\"alignmentgroup\":\"True\",\"hovertemplate\":\"Ticker=%{x}\\u003cbr\\u003eDate=2016-02-12 05:00:00+00:00\\u003cbr\\u003eMarketCap=%{y}\\u003cextra\\u003e\\u003c\\u002fextra\\u003e\",\"legendgroup\":\"META\",\"marker\":{\"color\":\"#FF6692\",\"pattern\":{\"shape\":\"\"}},\"name\":\"META\",\"offsetgroup\":\"META\",\"orientation\":\"v\",\"showlegend\":true,\"textposition\":\"auto\",\"x\":[\"META\"],\"xaxis\":\"x\",\"y\":[null],\"yaxis\":\"y\",\"type\":\"bar\"},{\"alignmentgroup\":\"True\",\"hovertemplate\":\"Ticker=%{x}\\u003cbr\\u003eDate=2016-02-12 05:00:00+00:00\\u003cbr\\u003eMarketCap=%{y}\\u003cextra\\u003e\\u003c\\u002fextra\\u003e\",\"legendgroup\":\"MSFT\",\"marker\":{\"color\":\"#B6E880\",\"pattern\":{\"shape\":\"\"}},\"name\":\"MSFT\",\"offsetgroup\":\"MSFT\",\"orientation\":\"v\",\"showlegend\":true,\"textposition\":\"auto\",\"x\":[\"MSFT\"],\"xaxis\":\"x\",\"y\":[365915432315.0635],\"yaxis\":\"y\",\"type\":\"bar\"},{\"alignmentgroup\":\"True\",\"hovertemplate\":\"Ticker=%{x}\\u003cbr\\u003eDate=2016-02-12 05:00:00+00:00\\u003cbr\\u003eMarketCap=%{y}\\u003cextra\\u003e\\u003c\\u002fextra\\u003e\",\"legendgroup\":\"TCEHY\",\"marker\":{\"color\":\"#FF97FF\",\"pattern\":{\"shape\":\"\"}},\"name\":\"TCEHY\",\"offsetgroup\":\"TCEHY\",\"orientation\":\"v\",\"showlegend\":true,\"textposition\":\"auto\",\"x\":[\"TCEHY\"],\"xaxis\":\"x\",\"y\":[null],\"yaxis\":\"y\",\"type\":\"bar\"},{\"alignmentgroup\":\"True\",\"hovertemplate\":\"Ticker=%{x}\\u003cbr\\u003eDate=2016-02-12 05:00:00+00:00\\u003cbr\\u003eMarketCap=%{y}\\u003cextra\\u003e\\u003c\\u002fextra\\u003e\",\"legendgroup\":\"TSLA\",\"marker\":{\"color\":\"#FECB52\",\"pattern\":{\"shape\":\"\"}},\"name\":\"TSLA\",\"offsetgroup\":\"TSLA\",\"orientation\":\"v\",\"showlegend\":true,\"textposition\":\"auto\",\"x\":[\"TSLA\"],\"xaxis\":\"x\",\"y\":[1575868275.062561],\"yaxis\":\"y\",\"type\":\"bar\"}],\"name\":\"2016-02-12 05:00:00+00:00\"},{\"data\":[{\"alignmentgroup\":\"True\",\"hovertemplate\":\"Ticker=%{x}\\u003cbr\\u003eDate=2016-05-03 04:00:00+00:00\\u003cbr\\u003eMarketCap=%{y}\\u003cextra\\u003e\\u003c\\u002fextra\\u003e\",\"legendgroup\":\"AAPL\",\"marker\":{\"color\":\"#636efa\",\"pattern\":{\"shape\":\"\"}},\"name\":\"AAPL\",\"offsetgroup\":\"AAPL\",\"orientation\":\"v\",\"showlegend\":true,\"textposition\":\"auto\",\"x\":[\"AAPL\"],\"xaxis\":\"x\",\"y\":[124087925214.57672],\"yaxis\":\"y\",\"type\":\"bar\"},{\"alignmentgroup\":\"True\",\"hovertemplate\":\"Ticker=%{x}\\u003cbr\\u003eDate=2016-05-03 04:00:00+00:00\\u003cbr\\u003eMarketCap=%{y}\\u003cextra\\u003e\\u003c\\u002fextra\\u003e\",\"legendgroup\":\"AMD\",\"marker\":{\"color\":\"#EF553B\",\"pattern\":{\"shape\":\"\"}},\"name\":\"AMD\",\"offsetgroup\":\"AMD\",\"orientation\":\"v\",\"showlegend\":true,\"textposition\":\"auto\",\"x\":[\"AMD\"],\"xaxis\":\"x\",\"y\":[2864607116.756439],\"yaxis\":\"y\",\"type\":\"bar\"},{\"alignmentgroup\":\"True\",\"hovertemplate\":\"Ticker=%{x}\\u003cbr\\u003eDate=2016-05-03 04:00:00+00:00\\u003cbr\\u003eMarketCap=%{y}\\u003cextra\\u003e\\u003c\\u002fextra\\u003e\",\"legendgroup\":\"AMZN\",\"marker\":{\"color\":\"#00cc96\",\"pattern\":{\"shape\":\"\"}},\"name\":\"AMZN\",\"offsetgroup\":\"AMZN\",\"orientation\":\"v\",\"showlegend\":true,\"textposition\":\"auto\",\"x\":[\"AMZN\"],\"xaxis\":\"x\",\"y\":[14878713473.39058],\"yaxis\":\"y\",\"type\":\"bar\"},{\"alignmentgroup\":\"True\",\"hovertemplate\":\"Ticker=%{x}\\u003cbr\\u003eDate=2016-05-03 04:00:00+00:00\\u003cbr\\u003eMarketCap=%{y}\\u003cextra\\u003e\\u003c\\u002fextra\\u003e\",\"legendgroup\":\"BABA\",\"marker\":{\"color\":\"#ab63fa\",\"pattern\":{\"shape\":\"\"}},\"name\":\"BABA\",\"offsetgroup\":\"BABA\",\"orientation\":\"v\",\"showlegend\":true,\"textposition\":\"auto\",\"x\":[\"BABA\"],\"xaxis\":\"x\",\"y\":[null],\"yaxis\":\"y\",\"type\":\"bar\"},{\"alignmentgroup\":\"True\",\"hovertemplate\":\"Ticker=%{x}\\u003cbr\\u003eDate=2016-05-03 04:00:00+00:00\\u003cbr\\u003eMarketCap=%{y}\\u003cextra\\u003e\\u003c\\u002fextra\\u003e\",\"legendgroup\":\"BIDU\",\"marker\":{\"color\":\"#FFA15A\",\"pattern\":{\"shape\":\"\"}},\"name\":\"BIDU\",\"offsetgroup\":\"BIDU\",\"orientation\":\"v\",\"showlegend\":true,\"textposition\":\"auto\",\"x\":[\"BIDU\"],\"xaxis\":\"x\",\"y\":[null],\"yaxis\":\"y\",\"type\":\"bar\"},{\"alignmentgroup\":\"True\",\"hovertemplate\":\"Ticker=%{x}\\u003cbr\\u003eDate=2016-05-03 04:00:00+00:00\\u003cbr\\u003eMarketCap=%{y}\\u003cextra\\u003e\\u003c\\u002fextra\\u003e\",\"legendgroup\":\"GOOGL\",\"marker\":{\"color\":\"#19d3f3\",\"pattern\":{\"shape\":\"\"}},\"name\":\"GOOGL\",\"offsetgroup\":\"GOOGL\",\"orientation\":\"v\",\"showlegend\":true,\"textposition\":\"auto\",\"x\":[\"GOOGL\"],\"xaxis\":\"x\",\"y\":[24674363574.51439],\"yaxis\":\"y\",\"type\":\"bar\"},{\"alignmentgroup\":\"True\",\"hovertemplate\":\"Ticker=%{x}\\u003cbr\\u003eDate=2016-05-03 04:00:00+00:00\\u003cbr\\u003eMarketCap=%{y}\\u003cextra\\u003e\\u003c\\u002fextra\\u003e\",\"legendgroup\":\"META\",\"marker\":{\"color\":\"#FF6692\",\"pattern\":{\"shape\":\"\"}},\"name\":\"META\",\"offsetgroup\":\"META\",\"orientation\":\"v\",\"showlegend\":true,\"textposition\":\"auto\",\"x\":[\"META\"],\"xaxis\":\"x\",\"y\":[null],\"yaxis\":\"y\",\"type\":\"bar\"},{\"alignmentgroup\":\"True\",\"hovertemplate\":\"Ticker=%{x}\\u003cbr\\u003eDate=2016-05-03 04:00:00+00:00\\u003cbr\\u003eMarketCap=%{y}\\u003cextra\\u003e\\u003c\\u002fextra\\u003e\",\"legendgroup\":\"MSFT\",\"marker\":{\"color\":\"#B6E880\",\"pattern\":{\"shape\":\"\"}},\"name\":\"MSFT\",\"offsetgroup\":\"MSFT\",\"orientation\":\"v\",\"showlegend\":true,\"textposition\":\"auto\",\"x\":[\"MSFT\"],\"xaxis\":\"x\",\"y\":[392439296138.7253],\"yaxis\":\"y\",\"type\":\"bar\"},{\"alignmentgroup\":\"True\",\"hovertemplate\":\"Ticker=%{x}\\u003cbr\\u003eDate=2016-05-03 04:00:00+00:00\\u003cbr\\u003eMarketCap=%{y}\\u003cextra\\u003e\\u003c\\u002fextra\\u003e\",\"legendgroup\":\"TCEHY\",\"marker\":{\"color\":\"#FF97FF\",\"pattern\":{\"shape\":\"\"}},\"name\":\"TCEHY\",\"offsetgroup\":\"TCEHY\",\"orientation\":\"v\",\"showlegend\":true,\"textposition\":\"auto\",\"x\":[\"TCEHY\"],\"xaxis\":\"x\",\"y\":[null],\"yaxis\":\"y\",\"type\":\"bar\"},{\"alignmentgroup\":\"True\",\"hovertemplate\":\"Ticker=%{x}\\u003cbr\\u003eDate=2016-05-03 04:00:00+00:00\\u003cbr\\u003eMarketCap=%{y}\\u003cextra\\u003e\\u003c\\u002fextra\\u003e\",\"legendgroup\":\"TSLA\",\"marker\":{\"color\":\"#FECB52\",\"pattern\":{\"shape\":\"\"}},\"name\":\"TSLA\",\"offsetgroup\":\"TSLA\",\"orientation\":\"v\",\"showlegend\":true,\"textposition\":\"auto\",\"x\":[\"TSLA\"],\"xaxis\":\"x\",\"y\":[2139738556.0264587],\"yaxis\":\"y\",\"type\":\"bar\"}],\"name\":\"2016-05-03 04:00:00+00:00\"},{\"data\":[{\"alignmentgroup\":\"True\",\"hovertemplate\":\"Ticker=%{x}\\u003cbr\\u003eDate=2016-07-30 16:00:00+00:00\\u003cbr\\u003eMarketCap=%{y}\\u003cextra\\u003e\\u003c\\u002fextra\\u003e\",\"legendgroup\":\"AAPL\",\"marker\":{\"color\":\"#636efa\",\"pattern\":{\"shape\":\"\"}},\"name\":\"AAPL\",\"offsetgroup\":\"AAPL\",\"orientation\":\"v\",\"showlegend\":true,\"textposition\":\"auto\",\"x\":[\"AAPL\"],\"xaxis\":\"x\",\"y\":[129440187517.31873],\"yaxis\":\"y\",\"type\":\"bar\"},{\"alignmentgroup\":\"True\",\"hovertemplate\":\"Ticker=%{x}\\u003cbr\\u003eDate=2016-07-30 16:00:00+00:00\\u003cbr\\u003eMarketCap=%{y}\\u003cextra\\u003e\\u003c\\u002fextra\\u003e\",\"legendgroup\":\"AMD\",\"marker\":{\"color\":\"#EF553B\",\"pattern\":{\"shape\":\"\"}},\"name\":\"AMD\",\"offsetgroup\":\"AMD\",\"orientation\":\"v\",\"showlegend\":true,\"textposition\":\"auto\",\"x\":[\"AMD\"],\"xaxis\":\"x\",\"y\":[5345147325.162411],\"yaxis\":\"y\",\"type\":\"bar\"},{\"alignmentgroup\":\"True\",\"hovertemplate\":\"Ticker=%{x}\\u003cbr\\u003eDate=2016-07-30 16:00:00+00:00\\u003cbr\\u003eMarketCap=%{y}\\u003cextra\\u003e\\u003c\\u002fextra\\u003e\",\"legendgroup\":\"AMZN\",\"marker\":{\"color\":\"#00cc96\",\"pattern\":{\"shape\":\"\"}},\"name\":\"AMZN\",\"offsetgroup\":\"AMZN\",\"orientation\":\"v\",\"showlegend\":true,\"textposition\":\"auto\",\"x\":[\"AMZN\"],\"xaxis\":\"x\",\"y\":[17986603815.750122],\"yaxis\":\"y\",\"type\":\"bar\"},{\"alignmentgroup\":\"True\",\"hovertemplate\":\"Ticker=%{x}\\u003cbr\\u003eDate=2016-07-30 16:00:00+00:00\\u003cbr\\u003eMarketCap=%{y}\\u003cextra\\u003e\\u003c\\u002fextra\\u003e\",\"legendgroup\":\"BABA\",\"marker\":{\"color\":\"#ab63fa\",\"pattern\":{\"shape\":\"\"}},\"name\":\"BABA\",\"offsetgroup\":\"BABA\",\"orientation\":\"v\",\"showlegend\":true,\"textposition\":\"auto\",\"x\":[\"BABA\"],\"xaxis\":\"x\",\"y\":[null],\"yaxis\":\"y\",\"type\":\"bar\"},{\"alignmentgroup\":\"True\",\"hovertemplate\":\"Ticker=%{x}\\u003cbr\\u003eDate=2016-07-30 16:00:00+00:00\\u003cbr\\u003eMarketCap=%{y}\\u003cextra\\u003e\\u003c\\u002fextra\\u003e\",\"legendgroup\":\"BIDU\",\"marker\":{\"color\":\"#FFA15A\",\"pattern\":{\"shape\":\"\"}},\"name\":\"BIDU\",\"offsetgroup\":\"BIDU\",\"orientation\":\"v\",\"showlegend\":true,\"textposition\":\"auto\",\"x\":[\"BIDU\"],\"xaxis\":\"x\",\"y\":[null],\"yaxis\":\"y\",\"type\":\"bar\"},{\"alignmentgroup\":\"True\",\"hovertemplate\":\"Ticker=%{x}\\u003cbr\\u003eDate=2016-07-30 16:00:00+00:00\\u003cbr\\u003eMarketCap=%{y}\\u003cextra\\u003e\\u003c\\u002fextra\\u003e\",\"legendgroup\":\"GOOGL\",\"marker\":{\"color\":\"#19d3f3\",\"pattern\":{\"shape\":\"\"}},\"name\":\"GOOGL\",\"offsetgroup\":\"GOOGL\",\"orientation\":\"v\",\"showlegend\":true,\"textposition\":\"auto\",\"x\":[\"GOOGL\"],\"xaxis\":\"x\",\"y\":[27126370607.852936],\"yaxis\":\"y\",\"type\":\"bar\"},{\"alignmentgroup\":\"True\",\"hovertemplate\":\"Ticker=%{x}\\u003cbr\\u003eDate=2016-07-30 16:00:00+00:00\\u003cbr\\u003eMarketCap=%{y}\\u003cextra\\u003e\\u003c\\u002fextra\\u003e\",\"legendgroup\":\"META\",\"marker\":{\"color\":\"#FF6692\",\"pattern\":{\"shape\":\"\"}},\"name\":\"META\",\"offsetgroup\":\"META\",\"orientation\":\"v\",\"showlegend\":true,\"textposition\":\"auto\",\"x\":[\"META\"],\"xaxis\":\"x\",\"y\":[null],\"yaxis\":\"y\",\"type\":\"bar\"},{\"alignmentgroup\":\"True\",\"hovertemplate\":\"Ticker=%{x}\\u003cbr\\u003eDate=2016-07-30 16:00:00+00:00\\u003cbr\\u003eMarketCap=%{y}\\u003cextra\\u003e\\u003c\\u002fextra\\u003e\",\"legendgroup\":\"MSFT\",\"marker\":{\"color\":\"#B6E880\",\"pattern\":{\"shape\":\"\"}},\"name\":\"MSFT\",\"offsetgroup\":\"MSFT\",\"orientation\":\"v\",\"showlegend\":true,\"textposition\":\"auto\",\"x\":[\"MSFT\"],\"xaxis\":\"x\",\"y\":[394124687557.52563],\"yaxis\":\"y\",\"type\":\"bar\"},{\"alignmentgroup\":\"True\",\"hovertemplate\":\"Ticker=%{x}\\u003cbr\\u003eDate=2016-07-30 16:00:00+00:00\\u003cbr\\u003eMarketCap=%{y}\\u003cextra\\u003e\\u003c\\u002fextra\\u003e\",\"legendgroup\":\"TCEHY\",\"marker\":{\"color\":\"#FF97FF\",\"pattern\":{\"shape\":\"\"}},\"name\":\"TCEHY\",\"offsetgroup\":\"TCEHY\",\"orientation\":\"v\",\"showlegend\":true,\"textposition\":\"auto\",\"x\":[\"TCEHY\"],\"xaxis\":\"x\",\"y\":[null],\"yaxis\":\"y\",\"type\":\"bar\"},{\"alignmentgroup\":\"True\",\"hovertemplate\":\"Ticker=%{x}\\u003cbr\\u003eDate=2016-07-30 16:00:00+00:00\\u003cbr\\u003eMarketCap=%{y}\\u003cextra\\u003e\\u003c\\u002fextra\\u003e\",\"legendgroup\":\"TSLA\",\"marker\":{\"color\":\"#FECB52\",\"pattern\":{\"shape\":\"\"}},\"name\":\"TSLA\",\"offsetgroup\":\"TSLA\",\"orientation\":\"v\",\"showlegend\":true,\"textposition\":\"auto\",\"x\":[\"TSLA\"],\"xaxis\":\"x\",\"y\":[2270152643.7835693],\"yaxis\":\"y\",\"type\":\"bar\"}],\"name\":\"2016-07-30 16:00:00+00:00\"},{\"data\":[{\"alignmentgroup\":\"True\",\"hovertemplate\":\"Ticker=%{x}\\u003cbr\\u003eDate=2016-10-31 04:00:00+00:00\\u003cbr\\u003eMarketCap=%{y}\\u003cextra\\u003e\\u003c\\u002fextra\\u003e\",\"legendgroup\":\"AAPL\",\"marker\":{\"color\":\"#636efa\",\"pattern\":{\"shape\":\"\"}},\"name\":\"AAPL\",\"offsetgroup\":\"AAPL\",\"orientation\":\"v\",\"showlegend\":true,\"textposition\":\"auto\",\"x\":[\"AAPL\"],\"xaxis\":\"x\",\"y\":[142671512879.02832],\"yaxis\":\"y\",\"type\":\"bar\"},{\"alignmentgroup\":\"True\",\"hovertemplate\":\"Ticker=%{x}\\u003cbr\\u003eDate=2016-10-31 04:00:00+00:00\\u003cbr\\u003eMarketCap=%{y}\\u003cextra\\u003e\\u003c\\u002fextra\\u003e\",\"legendgroup\":\"AMD\",\"marker\":{\"color\":\"#EF553B\",\"pattern\":{\"shape\":\"\"}},\"name\":\"AMD\",\"offsetgroup\":\"AMD\",\"orientation\":\"v\",\"showlegend\":true,\"textposition\":\"auto\",\"x\":[\"AMD\"],\"xaxis\":\"x\",\"y\":[6756874974.642754],\"yaxis\":\"y\",\"type\":\"bar\"},{\"alignmentgroup\":\"True\",\"hovertemplate\":\"Ticker=%{x}\\u003cbr\\u003eDate=2016-10-31 04:00:00+00:00\\u003cbr\\u003eMarketCap=%{y}\\u003cextra\\u003e\\u003c\\u002fextra\\u003e\",\"legendgroup\":\"AMZN\",\"marker\":{\"color\":\"#00cc96\",\"pattern\":{\"shape\":\"\"}},\"name\":\"AMZN\",\"offsetgroup\":\"AMZN\",\"orientation\":\"v\",\"showlegend\":true,\"textposition\":\"auto\",\"x\":[\"AMZN\"],\"xaxis\":\"x\",\"y\":[18444083171.05865],\"yaxis\":\"y\",\"type\":\"bar\"},{\"alignmentgroup\":\"True\",\"hovertemplate\":\"Ticker=%{x}\\u003cbr\\u003eDate=2016-10-31 04:00:00+00:00\\u003cbr\\u003eMarketCap=%{y}\\u003cextra\\u003e\\u003c\\u002fextra\\u003e\",\"legendgroup\":\"BABA\",\"marker\":{\"color\":\"#ab63fa\",\"pattern\":{\"shape\":\"\"}},\"name\":\"BABA\",\"offsetgroup\":\"BABA\",\"orientation\":\"v\",\"showlegend\":true,\"textposition\":\"auto\",\"x\":[\"BABA\"],\"xaxis\":\"x\",\"y\":[null],\"yaxis\":\"y\",\"type\":\"bar\"},{\"alignmentgroup\":\"True\",\"hovertemplate\":\"Ticker=%{x}\\u003cbr\\u003eDate=2016-10-31 04:00:00+00:00\\u003cbr\\u003eMarketCap=%{y}\\u003cextra\\u003e\\u003c\\u002fextra\\u003e\",\"legendgroup\":\"BIDU\",\"marker\":{\"color\":\"#FFA15A\",\"pattern\":{\"shape\":\"\"}},\"name\":\"BIDU\",\"offsetgroup\":\"BIDU\",\"orientation\":\"v\",\"showlegend\":true,\"textposition\":\"auto\",\"x\":[\"BIDU\"],\"xaxis\":\"x\",\"y\":[62301745219.573975],\"yaxis\":\"y\",\"type\":\"bar\"},{\"alignmentgroup\":\"True\",\"hovertemplate\":\"Ticker=%{x}\\u003cbr\\u003eDate=2016-10-31 04:00:00+00:00\\u003cbr\\u003eMarketCap=%{y}\\u003cextra\\u003e\\u003c\\u002fextra\\u003e\",\"legendgroup\":\"GOOGL\",\"marker\":{\"color\":\"#19d3f3\",\"pattern\":{\"shape\":\"\"}},\"name\":\"GOOGL\",\"offsetgroup\":\"GOOGL\",\"orientation\":\"v\",\"showlegend\":true,\"textposition\":\"auto\",\"x\":[\"GOOGL\"],\"xaxis\":\"x\",\"y\":[26580651380.58853],\"yaxis\":\"y\",\"type\":\"bar\"},{\"alignmentgroup\":\"True\",\"hovertemplate\":\"Ticker=%{x}\\u003cbr\\u003eDate=2016-10-31 04:00:00+00:00\\u003cbr\\u003eMarketCap=%{y}\\u003cextra\\u003e\\u003c\\u002fextra\\u003e\",\"legendgroup\":\"META\",\"marker\":{\"color\":\"#FF6692\",\"pattern\":{\"shape\":\"\"}},\"name\":\"META\",\"offsetgroup\":\"META\",\"orientation\":\"v\",\"showlegend\":true,\"textposition\":\"auto\",\"x\":[\"META\"],\"xaxis\":\"x\",\"y\":[null],\"yaxis\":\"y\",\"type\":\"bar\"},{\"alignmentgroup\":\"True\",\"hovertemplate\":\"Ticker=%{x}\\u003cbr\\u003eDate=2016-10-31 04:00:00+00:00\\u003cbr\\u003eMarketCap=%{y}\\u003cextra\\u003e\\u003c\\u002fextra\\u003e\",\"legendgroup\":\"MSFT\",\"marker\":{\"color\":\"#B6E880\",\"pattern\":{\"shape\":\"\"}},\"name\":\"MSFT\",\"offsetgroup\":\"MSFT\",\"orientation\":\"v\",\"showlegend\":true,\"textposition\":\"auto\",\"x\":[\"MSFT\"],\"xaxis\":\"x\",\"y\":[404124106238.9756],\"yaxis\":\"y\",\"type\":\"bar\"},{\"alignmentgroup\":\"True\",\"hovertemplate\":\"Ticker=%{x}\\u003cbr\\u003eDate=2016-10-31 04:00:00+00:00\\u003cbr\\u003eMarketCap=%{y}\\u003cextra\\u003e\\u003c\\u002fextra\\u003e\",\"legendgroup\":\"TCEHY\",\"marker\":{\"color\":\"#FF97FF\",\"pattern\":{\"shape\":\"\"}},\"name\":\"TCEHY\",\"offsetgroup\":\"TCEHY\",\"orientation\":\"v\",\"showlegend\":true,\"textposition\":\"auto\",\"x\":[\"TCEHY\"],\"xaxis\":\"x\",\"y\":[null],\"yaxis\":\"y\",\"type\":\"bar\"},{\"alignmentgroup\":\"True\",\"hovertemplate\":\"Ticker=%{x}\\u003cbr\\u003eDate=2016-10-31 04:00:00+00:00\\u003cbr\\u003eMarketCap=%{y}\\u003cextra\\u003e\\u003c\\u002fextra\\u003e\",\"legendgroup\":\"TSLA\",\"marker\":{\"color\":\"#FECB52\",\"pattern\":{\"shape\":\"\"}},\"name\":\"TSLA\",\"offsetgroup\":\"TSLA\",\"orientation\":\"v\",\"showlegend\":true,\"textposition\":\"auto\",\"x\":[\"TSLA\"],\"xaxis\":\"x\",\"y\":[2162593188.5967255],\"yaxis\":\"y\",\"type\":\"bar\"}],\"name\":\"2016-10-31 04:00:00+00:00\"},{\"data\":[{\"alignmentgroup\":\"True\",\"hovertemplate\":\"Ticker=%{x}\\u003cbr\\u003eDate=2017-02-09 05:00:00+00:00\\u003cbr\\u003eMarketCap=%{y}\\u003cextra\\u003e\\u003c\\u002fextra\\u003e\",\"legendgroup\":\"AAPL\",\"marker\":{\"color\":\"#636efa\",\"pattern\":{\"shape\":\"\"}},\"name\":\"AAPL\",\"offsetgroup\":\"AAPL\",\"orientation\":\"v\",\"showlegend\":true,\"textposition\":\"auto\",\"x\":[\"AAPL\"],\"xaxis\":\"x\",\"y\":[157427408808.403],\"yaxis\":\"y\",\"type\":\"bar\"},{\"alignmentgroup\":\"True\",\"hovertemplate\":\"Ticker=%{x}\\u003cbr\\u003eDate=2017-02-09 05:00:00+00:00\\u003cbr\\u003eMarketCap=%{y}\\u003cextra\\u003e\\u003c\\u002fextra\\u003e\",\"legendgroup\":\"AMD\",\"marker\":{\"color\":\"#EF553B\",\"pattern\":{\"shape\":\"\"}},\"name\":\"AMD\",\"offsetgroup\":\"AMD\",\"orientation\":\"v\",\"showlegend\":true,\"textposition\":\"auto\",\"x\":[\"AMD\"],\"xaxis\":\"x\",\"y\":[12888324603.9505],\"yaxis\":\"y\",\"type\":\"bar\"},{\"alignmentgroup\":\"True\",\"hovertemplate\":\"Ticker=%{x}\\u003cbr\\u003eDate=2017-02-09 05:00:00+00:00\\u003cbr\\u003eMarketCap=%{y}\\u003cextra\\u003e\\u003c\\u002fextra\\u003e\",\"legendgroup\":\"AMZN\",\"marker\":{\"color\":\"#00cc96\",\"pattern\":{\"shape\":\"\"}},\"name\":\"AMZN\",\"offsetgroup\":\"AMZN\",\"orientation\":\"v\",\"showlegend\":true,\"textposition\":\"auto\",\"x\":[\"AMZN\"],\"xaxis\":\"x\",\"y\":[19532632753.303528],\"yaxis\":\"y\",\"type\":\"bar\"},{\"alignmentgroup\":\"True\",\"hovertemplate\":\"Ticker=%{x}\\u003cbr\\u003eDate=2017-02-09 05:00:00+00:00\\u003cbr\\u003eMarketCap=%{y}\\u003cextra\\u003e\\u003c\\u002fextra\\u003e\",\"legendgroup\":\"BABA\",\"marker\":{\"color\":\"#ab63fa\",\"pattern\":{\"shape\":\"\"}},\"name\":\"BABA\",\"offsetgroup\":\"BABA\",\"orientation\":\"v\",\"showlegend\":true,\"textposition\":\"auto\",\"x\":[\"BABA\"],\"xaxis\":\"x\",\"y\":[null],\"yaxis\":\"y\",\"type\":\"bar\"},{\"alignmentgroup\":\"True\",\"hovertemplate\":\"Ticker=%{x}\\u003cbr\\u003eDate=2017-02-09 05:00:00+00:00\\u003cbr\\u003eMarketCap=%{y}\\u003cextra\\u003e\\u003c\\u002fextra\\u003e\",\"legendgroup\":\"BIDU\",\"marker\":{\"color\":\"#FFA15A\",\"pattern\":{\"shape\":\"\"}},\"name\":\"BIDU\",\"offsetgroup\":\"BIDU\",\"orientation\":\"v\",\"showlegend\":true,\"textposition\":\"auto\",\"x\":[\"BIDU\"],\"xaxis\":\"x\",\"y\":[61981132254.86499],\"yaxis\":\"y\",\"type\":\"bar\"},{\"alignmentgroup\":\"True\",\"hovertemplate\":\"Ticker=%{x}\\u003cbr\\u003eDate=2017-02-09 05:00:00+00:00\\u003cbr\\u003eMarketCap=%{y}\\u003cextra\\u003e\\u003c\\u002fextra\\u003e\",\"legendgroup\":\"GOOGL\",\"marker\":{\"color\":\"#19d3f3\",\"pattern\":{\"shape\":\"\"}},\"name\":\"GOOGL\",\"offsetgroup\":\"GOOGL\",\"orientation\":\"v\",\"showlegend\":true,\"textposition\":\"auto\",\"x\":[\"GOOGL\"],\"xaxis\":\"x\",\"y\":[28380581661.195312],\"yaxis\":\"y\",\"type\":\"bar\"},{\"alignmentgroup\":\"True\",\"hovertemplate\":\"Ticker=%{x}\\u003cbr\\u003eDate=2017-02-09 05:00:00+00:00\\u003cbr\\u003eMarketCap=%{y}\\u003cextra\\u003e\\u003c\\u002fextra\\u003e\",\"legendgroup\":\"META\",\"marker\":{\"color\":\"#FF6692\",\"pattern\":{\"shape\":\"\"}},\"name\":\"META\",\"offsetgroup\":\"META\",\"orientation\":\"v\",\"showlegend\":true,\"textposition\":\"auto\",\"x\":[\"META\"],\"xaxis\":\"x\",\"y\":[null],\"yaxis\":\"y\",\"type\":\"bar\"},{\"alignmentgroup\":\"True\",\"hovertemplate\":\"Ticker=%{x}\\u003cbr\\u003eDate=2017-02-09 05:00:00+00:00\\u003cbr\\u003eMarketCap=%{y}\\u003cextra\\u003e\\u003c\\u002fextra\\u003e\",\"legendgroup\":\"MSFT\",\"marker\":{\"color\":\"#B6E880\",\"pattern\":{\"shape\":\"\"}},\"name\":\"MSFT\",\"offsetgroup\":\"MSFT\",\"orientation\":\"v\",\"showlegend\":true,\"textposition\":\"auto\",\"x\":[\"MSFT\"],\"xaxis\":\"x\",\"y\":[460132840887.67145],\"yaxis\":\"y\",\"type\":\"bar\"},{\"alignmentgroup\":\"True\",\"hovertemplate\":\"Ticker=%{x}\\u003cbr\\u003eDate=2017-02-09 05:00:00+00:00\\u003cbr\\u003eMarketCap=%{y}\\u003cextra\\u003e\\u003c\\u002fextra\\u003e\",\"legendgroup\":\"TCEHY\",\"marker\":{\"color\":\"#FF97FF\",\"pattern\":{\"shape\":\"\"}},\"name\":\"TCEHY\",\"offsetgroup\":\"TCEHY\",\"orientation\":\"v\",\"showlegend\":true,\"textposition\":\"auto\",\"x\":[\"TCEHY\"],\"xaxis\":\"x\",\"y\":[null],\"yaxis\":\"y\",\"type\":\"bar\"},{\"alignmentgroup\":\"True\",\"hovertemplate\":\"Ticker=%{x}\\u003cbr\\u003eDate=2017-02-09 05:00:00+00:00\\u003cbr\\u003eMarketCap=%{y}\\u003cextra\\u003e\\u003c\\u002fextra\\u003e\",\"legendgroup\":\"TSLA\",\"marker\":{\"color\":\"#FECB52\",\"pattern\":{\"shape\":\"\"}},\"name\":\"TSLA\",\"offsetgroup\":\"TSLA\",\"orientation\":\"v\",\"showlegend\":true,\"textposition\":\"auto\",\"x\":[\"TSLA\"],\"xaxis\":\"x\",\"y\":[2755086779.3340683],\"yaxis\":\"y\",\"type\":\"bar\"}],\"name\":\"2017-02-09 05:00:00+00:00\"},{\"data\":[{\"alignmentgroup\":\"True\",\"hovertemplate\":\"Ticker=%{x}\\u003cbr\\u003eDate=2017-05-22 16:00:00+00:00\\u003cbr\\u003eMarketCap=%{y}\\u003cextra\\u003e\\u003c\\u002fextra\\u003e\",\"legendgroup\":\"AAPL\",\"marker\":{\"color\":\"#636efa\",\"pattern\":{\"shape\":\"\"}},\"name\":\"AAPL\",\"offsetgroup\":\"AAPL\",\"orientation\":\"v\",\"showlegend\":true,\"textposition\":\"auto\",\"x\":[\"AAPL\"],\"xaxis\":\"x\",\"y\":[179166495611.5254],\"yaxis\":\"y\",\"type\":\"bar\"},{\"alignmentgroup\":\"True\",\"hovertemplate\":\"Ticker=%{x}\\u003cbr\\u003eDate=2017-05-22 16:00:00+00:00\\u003cbr\\u003eMarketCap=%{y}\\u003cextra\\u003e\\u003c\\u002fextra\\u003e\",\"legendgroup\":\"AMD\",\"marker\":{\"color\":\"#EF553B\",\"pattern\":{\"shape\":\"\"}},\"name\":\"AMD\",\"offsetgroup\":\"AMD\",\"orientation\":\"v\",\"showlegend\":true,\"textposition\":\"auto\",\"x\":[\"AMD\"],\"xaxis\":\"x\",\"y\":[9487960603.9505],\"yaxis\":\"y\",\"type\":\"bar\"},{\"alignmentgroup\":\"True\",\"hovertemplate\":\"Ticker=%{x}\\u003cbr\\u003eDate=2017-05-22 16:00:00+00:00\\u003cbr\\u003eMarketCap=%{y}\\u003cextra\\u003e\\u003c\\u002fextra\\u003e\",\"legendgroup\":\"AMZN\",\"marker\":{\"color\":\"#00cc96\",\"pattern\":{\"shape\":\"\"}},\"name\":\"AMZN\",\"offsetgroup\":\"AMZN\",\"orientation\":\"v\",\"showlegend\":true,\"textposition\":\"auto\",\"x\":[\"AMZN\"],\"xaxis\":\"x\",\"y\":[21679921571.940186],\"yaxis\":\"y\",\"type\":\"bar\"},{\"alignmentgroup\":\"True\",\"hovertemplate\":\"Ticker=%{x}\\u003cbr\\u003eDate=2017-05-22 16:00:00+00:00\\u003cbr\\u003eMarketCap=%{y}\\u003cextra\\u003e\\u003c\\u002fextra\\u003e\",\"legendgroup\":\"BABA\",\"marker\":{\"color\":\"#ab63fa\",\"pattern\":{\"shape\":\"\"}},\"name\":\"BABA\",\"offsetgroup\":\"BABA\",\"orientation\":\"v\",\"showlegend\":true,\"textposition\":\"auto\",\"x\":[\"BABA\"],\"xaxis\":\"x\",\"y\":[331188170244.1992],\"yaxis\":\"y\",\"type\":\"bar\"},{\"alignmentgroup\":\"True\",\"hovertemplate\":\"Ticker=%{x}\\u003cbr\\u003eDate=2017-05-22 16:00:00+00:00\\u003cbr\\u003eMarketCap=%{y}\\u003cextra\\u003e\\u003c\\u002fextra\\u003e\",\"legendgroup\":\"BIDU\",\"marker\":{\"color\":\"#FFA15A\",\"pattern\":{\"shape\":\"\"}},\"name\":\"BIDU\",\"offsetgroup\":\"BIDU\",\"orientation\":\"v\",\"showlegend\":true,\"textposition\":\"auto\",\"x\":[\"BIDU\"],\"xaxis\":\"x\",\"y\":[65163746845.95508],\"yaxis\":\"y\",\"type\":\"bar\"},{\"alignmentgroup\":\"True\",\"hovertemplate\":\"Ticker=%{x}\\u003cbr\\u003eDate=2017-05-22 16:00:00+00:00\\u003cbr\\u003eMarketCap=%{y}\\u003cextra\\u003e\\u003c\\u002fextra\\u003e\",\"legendgroup\":\"GOOGL\",\"marker\":{\"color\":\"#19d3f3\",\"pattern\":{\"shape\":\"\"}},\"name\":\"GOOGL\",\"offsetgroup\":\"GOOGL\",\"orientation\":\"v\",\"showlegend\":true,\"textposition\":\"auto\",\"x\":[\"GOOGL\"],\"xaxis\":\"x\",\"y\":[32406260637.08496],\"yaxis\":\"y\",\"type\":\"bar\"},{\"alignmentgroup\":\"True\",\"hovertemplate\":\"Ticker=%{x}\\u003cbr\\u003eDate=2017-05-22 16:00:00+00:00\\u003cbr\\u003eMarketCap=%{y}\\u003cextra\\u003e\\u003c\\u002fextra\\u003e\",\"legendgroup\":\"META\",\"marker\":{\"color\":\"#FF6692\",\"pattern\":{\"shape\":\"\"}},\"name\":\"META\",\"offsetgroup\":\"META\",\"orientation\":\"v\",\"showlegend\":true,\"textposition\":\"auto\",\"x\":[\"META\"],\"xaxis\":\"x\",\"y\":[null],\"yaxis\":\"y\",\"type\":\"bar\"},{\"alignmentgroup\":\"True\",\"hovertemplate\":\"Ticker=%{x}\\u003cbr\\u003eDate=2017-05-22 16:00:00+00:00\\u003cbr\\u003eMarketCap=%{y}\\u003cextra\\u003e\\u003c\\u002fextra\\u003e\",\"legendgroup\":\"MSFT\",\"marker\":{\"color\":\"#B6E880\",\"pattern\":{\"shape\":\"\"}},\"name\":\"MSFT\",\"offsetgroup\":\"MSFT\",\"orientation\":\"v\",\"showlegend\":true,\"textposition\":\"auto\",\"x\":[\"MSFT\"],\"xaxis\":\"x\",\"y\":[484167868274.2754],\"yaxis\":\"y\",\"type\":\"bar\"},{\"alignmentgroup\":\"True\",\"hovertemplate\":\"Ticker=%{x}\\u003cbr\\u003eDate=2017-05-22 16:00:00+00:00\\u003cbr\\u003eMarketCap=%{y}\\u003cextra\\u003e\\u003c\\u002fextra\\u003e\",\"legendgroup\":\"TCEHY\",\"marker\":{\"color\":\"#FF97FF\",\"pattern\":{\"shape\":\"\"}},\"name\":\"TCEHY\",\"offsetgroup\":\"TCEHY\",\"orientation\":\"v\",\"showlegend\":true,\"textposition\":\"auto\",\"x\":[\"TCEHY\"],\"xaxis\":\"x\",\"y\":[306670822201.1914],\"yaxis\":\"y\",\"type\":\"bar\"},{\"alignmentgroup\":\"True\",\"hovertemplate\":\"Ticker=%{x}\\u003cbr\\u003eDate=2017-05-22 16:00:00+00:00\\u003cbr\\u003eMarketCap=%{y}\\u003cextra\\u003e\\u003c\\u002fextra\\u003e\",\"legendgroup\":\"TSLA\",\"marker\":{\"color\":\"#FECB52\",\"pattern\":{\"shape\":\"\"}},\"name\":\"TSLA\",\"offsetgroup\":\"TSLA\",\"orientation\":\"v\",\"showlegend\":true,\"textposition\":\"auto\",\"x\":[\"TSLA\"],\"xaxis\":\"x\",\"y\":[3561375847.587585],\"yaxis\":\"y\",\"type\":\"bar\"}],\"name\":\"2017-05-22 16:00:00+00:00\"},{\"data\":[{\"alignmentgroup\":\"True\",\"hovertemplate\":\"Ticker=%{x}\\u003cbr\\u003eDate=2017-08-11 16:00:00+00:00\\u003cbr\\u003eMarketCap=%{y}\\u003cextra\\u003e\\u003c\\u002fextra\\u003e\",\"legendgroup\":\"AAPL\",\"marker\":{\"color\":\"#636efa\",\"pattern\":{\"shape\":\"\"}},\"name\":\"AAPL\",\"offsetgroup\":\"AAPL\",\"orientation\":\"v\",\"showlegend\":true,\"textposition\":\"auto\",\"x\":[\"AAPL\"],\"xaxis\":\"x\",\"y\":[187081786272.375],\"yaxis\":\"y\",\"type\":\"bar\"},{\"alignmentgroup\":\"True\",\"hovertemplate\":\"Ticker=%{x}\\u003cbr\\u003eDate=2017-08-11 16:00:00+00:00\\u003cbr\\u003eMarketCap=%{y}\\u003cextra\\u003e\\u003c\\u002fextra\\u003e\",\"legendgroup\":\"AMD\",\"marker\":{\"color\":\"#EF553B\",\"pattern\":{\"shape\":\"\"}},\"name\":\"AMD\",\"offsetgroup\":\"AMD\",\"orientation\":\"v\",\"showlegend\":true,\"textposition\":\"auto\",\"x\":[\"AMD\"],\"xaxis\":\"x\",\"y\":[12834114338.134766],\"yaxis\":\"y\",\"type\":\"bar\"},{\"alignmentgroup\":\"True\",\"hovertemplate\":\"Ticker=%{x}\\u003cbr\\u003eDate=2017-08-11 16:00:00+00:00\\u003cbr\\u003eMarketCap=%{y}\\u003cextra\\u003e\\u003c\\u002fextra\\u003e\",\"legendgroup\":\"AMZN\",\"marker\":{\"color\":\"#00cc96\",\"pattern\":{\"shape\":\"\"}},\"name\":\"AMZN\",\"offsetgroup\":\"AMZN\",\"orientation\":\"v\",\"showlegend\":true,\"textposition\":\"auto\",\"x\":[\"AMZN\"],\"xaxis\":\"x\",\"y\":[24576435214.59961],\"yaxis\":\"y\",\"type\":\"bar\"},{\"alignmentgroup\":\"True\",\"hovertemplate\":\"Ticker=%{x}\\u003cbr\\u003eDate=2017-08-11 16:00:00+00:00\\u003cbr\\u003eMarketCap=%{y}\\u003cextra\\u003e\\u003c\\u002fextra\\u003e\",\"legendgroup\":\"BABA\",\"marker\":{\"color\":\"#ab63fa\",\"pattern\":{\"shape\":\"\"}},\"name\":\"BABA\",\"offsetgroup\":\"BABA\",\"orientation\":\"v\",\"showlegend\":true,\"textposition\":\"auto\",\"x\":[\"BABA\"],\"xaxis\":\"x\",\"y\":[341072834139.2168],\"yaxis\":\"y\",\"type\":\"bar\"},{\"alignmentgroup\":\"True\",\"hovertemplate\":\"Ticker=%{x}\\u003cbr\\u003eDate=2017-08-11 16:00:00+00:00\\u003cbr\\u003eMarketCap=%{y}\\u003cextra\\u003e\\u003c\\u002fextra\\u003e\",\"legendgroup\":\"BIDU\",\"marker\":{\"color\":\"#FFA15A\",\"pattern\":{\"shape\":\"\"}},\"name\":\"BIDU\",\"offsetgroup\":\"BIDU\",\"orientation\":\"v\",\"showlegend\":true,\"textposition\":\"auto\",\"x\":[\"BIDU\"],\"xaxis\":\"x\",\"y\":[69699364608.0],\"yaxis\":\"y\",\"type\":\"bar\"},{\"alignmentgroup\":\"True\",\"hovertemplate\":\"Ticker=%{x}\\u003cbr\\u003eDate=2017-08-11 16:00:00+00:00\\u003cbr\\u003eMarketCap=%{y}\\u003cextra\\u003e\\u003c\\u002fextra\\u003e\",\"legendgroup\":\"GOOGL\",\"marker\":{\"color\":\"#19d3f3\",\"pattern\":{\"shape\":\"\"}},\"name\":\"GOOGL\",\"offsetgroup\":\"GOOGL\",\"orientation\":\"v\",\"showlegend\":true,\"textposition\":\"auto\",\"x\":[\"GOOGL\"],\"xaxis\":\"x\",\"y\":[33625874311.75293],\"yaxis\":\"y\",\"type\":\"bar\"},{\"alignmentgroup\":\"True\",\"hovertemplate\":\"Ticker=%{x}\\u003cbr\\u003eDate=2017-08-11 16:00:00+00:00\\u003cbr\\u003eMarketCap=%{y}\\u003cextra\\u003e\\u003c\\u002fextra\\u003e\",\"legendgroup\":\"META\",\"marker\":{\"color\":\"#FF6692\",\"pattern\":{\"shape\":\"\"}},\"name\":\"META\",\"offsetgroup\":\"META\",\"orientation\":\"v\",\"showlegend\":true,\"textposition\":\"auto\",\"x\":[\"META\"],\"xaxis\":\"x\",\"y\":[null],\"yaxis\":\"y\",\"type\":\"bar\"},{\"alignmentgroup\":\"True\",\"hovertemplate\":\"Ticker=%{x}\\u003cbr\\u003eDate=2017-08-11 16:00:00+00:00\\u003cbr\\u003eMarketCap=%{y}\\u003cextra\\u003e\\u003c\\u002fextra\\u003e\",\"legendgroup\":\"MSFT\",\"marker\":{\"color\":\"#B6E880\",\"pattern\":{\"shape\":\"\"}},\"name\":\"MSFT\",\"offsetgroup\":\"MSFT\",\"orientation\":\"v\",\"showlegend\":true,\"textposition\":\"auto\",\"x\":[\"MSFT\"],\"xaxis\":\"x\",\"y\":[519822331296.1211],\"yaxis\":\"y\",\"type\":\"bar\"},{\"alignmentgroup\":\"True\",\"hovertemplate\":\"Ticker=%{x}\\u003cbr\\u003eDate=2017-08-11 16:00:00+00:00\\u003cbr\\u003eMarketCap=%{y}\\u003cextra\\u003e\\u003c\\u002fextra\\u003e\",\"legendgroup\":\"TCEHY\",\"marker\":{\"color\":\"#FF97FF\",\"pattern\":{\"shape\":\"\"}},\"name\":\"TCEHY\",\"offsetgroup\":\"TCEHY\",\"orientation\":\"v\",\"showlegend\":true,\"textposition\":\"auto\",\"x\":[\"TCEHY\"],\"xaxis\":\"x\",\"y\":[359695473435.03125],\"yaxis\":\"y\",\"type\":\"bar\"},{\"alignmentgroup\":\"True\",\"hovertemplate\":\"Ticker=%{x}\\u003cbr\\u003eDate=2017-08-11 16:00:00+00:00\\u003cbr\\u003eMarketCap=%{y}\\u003cextra\\u003e\\u003c\\u002fextra\\u003e\",\"legendgroup\":\"TSLA\",\"marker\":{\"color\":\"#FECB52\",\"pattern\":{\"shape\":\"\"}},\"name\":\"TSLA\",\"offsetgroup\":\"TSLA\",\"orientation\":\"v\",\"showlegend\":true,\"textposition\":\"auto\",\"x\":[\"TSLA\"],\"xaxis\":\"x\",\"y\":[4018330825.653076],\"yaxis\":\"y\",\"type\":\"bar\"}],\"name\":\"2017-08-11 16:00:00+00:00\"},{\"data\":[{\"alignmentgroup\":\"True\",\"hovertemplate\":\"Ticker=%{x}\\u003cbr\\u003eDate=2017-11-12 17:00:00+00:00\\u003cbr\\u003eMarketCap=%{y}\\u003cextra\\u003e\\u003c\\u002fextra\\u003e\",\"legendgroup\":\"AAPL\",\"marker\":{\"color\":\"#636efa\",\"pattern\":{\"shape\":\"\"}},\"name\":\"AAPL\",\"offsetgroup\":\"AAPL\",\"orientation\":\"v\",\"showlegend\":true,\"textposition\":\"auto\",\"x\":[\"AAPL\"],\"xaxis\":\"x\",\"y\":[188872164295.06583],\"yaxis\":\"y\",\"type\":\"bar\"},{\"alignmentgroup\":\"True\",\"hovertemplate\":\"Ticker=%{x}\\u003cbr\\u003eDate=2017-11-12 17:00:00+00:00\\u003cbr\\u003eMarketCap=%{y}\\u003cextra\\u003e\\u003c\\u002fextra\\u003e\",\"legendgroup\":\"AMD\",\"marker\":{\"color\":\"#EF553B\",\"pattern\":{\"shape\":\"\"}},\"name\":\"AMD\",\"offsetgroup\":\"AMD\",\"orientation\":\"v\",\"showlegend\":true,\"textposition\":\"auto\",\"x\":[\"AMD\"],\"xaxis\":\"x\",\"y\":[14271915192.840332],\"yaxis\":\"y\",\"type\":\"bar\"},{\"alignmentgroup\":\"True\",\"hovertemplate\":\"Ticker=%{x}\\u003cbr\\u003eDate=2017-11-12 17:00:00+00:00\\u003cbr\\u003eMarketCap=%{y}\\u003cextra\\u003e\\u003c\\u002fextra\\u003e\",\"legendgroup\":\"AMZN\",\"marker\":{\"color\":\"#00cc96\",\"pattern\":{\"shape\":\"\"}},\"name\":\"AMZN\",\"offsetgroup\":\"AMZN\",\"orientation\":\"v\",\"showlegend\":true,\"textposition\":\"auto\",\"x\":[\"AMZN\"],\"xaxis\":\"x\",\"y\":[27603398032.07197],\"yaxis\":\"y\",\"type\":\"bar\"},{\"alignmentgroup\":\"True\",\"hovertemplate\":\"Ticker=%{x}\\u003cbr\\u003eDate=2017-11-12 17:00:00+00:00\\u003cbr\\u003eMarketCap=%{y}\\u003cextra\\u003e\\u003c\\u002fextra\\u003e\",\"legendgroup\":\"BABA\",\"marker\":{\"color\":\"#ab63fa\",\"pattern\":{\"shape\":\"\"}},\"name\":\"BABA\",\"offsetgroup\":\"BABA\",\"orientation\":\"v\",\"showlegend\":true,\"textposition\":\"auto\",\"x\":[\"BABA\"],\"xaxis\":\"x\",\"y\":[350957498034.2344],\"yaxis\":\"y\",\"type\":\"bar\"},{\"alignmentgroup\":\"True\",\"hovertemplate\":\"Ticker=%{x}\\u003cbr\\u003eDate=2017-11-12 17:00:00+00:00\\u003cbr\\u003eMarketCap=%{y}\\u003cextra\\u003e\\u003c\\u002fextra\\u003e\",\"legendgroup\":\"BIDU\",\"marker\":{\"color\":\"#FFA15A\",\"pattern\":{\"shape\":\"\"}},\"name\":\"BIDU\",\"offsetgroup\":\"BIDU\",\"orientation\":\"v\",\"showlegend\":true,\"textposition\":\"auto\",\"x\":[\"BIDU\"],\"xaxis\":\"x\",\"y\":[68424803912.98647],\"yaxis\":\"y\",\"type\":\"bar\"},{\"alignmentgroup\":\"True\",\"hovertemplate\":\"Ticker=%{x}\\u003cbr\\u003eDate=2017-11-12 17:00:00+00:00\\u003cbr\\u003eMarketCap=%{y}\\u003cextra\\u003e\\u003c\\u002fextra\\u003e\",\"legendgroup\":\"GOOGL\",\"marker\":{\"color\":\"#19d3f3\",\"pattern\":{\"shape\":\"\"}},\"name\":\"GOOGL\",\"offsetgroup\":\"GOOGL\",\"orientation\":\"v\",\"showlegend\":true,\"textposition\":\"auto\",\"x\":[\"GOOGL\"],\"xaxis\":\"x\",\"y\":[34189027273.228127],\"yaxis\":\"y\",\"type\":\"bar\"},{\"alignmentgroup\":\"True\",\"hovertemplate\":\"Ticker=%{x}\\u003cbr\\u003eDate=2017-11-12 17:00:00+00:00\\u003cbr\\u003eMarketCap=%{y}\\u003cextra\\u003e\\u003c\\u002fextra\\u003e\",\"legendgroup\":\"META\",\"marker\":{\"color\":\"#FF6692\",\"pattern\":{\"shape\":\"\"}},\"name\":\"META\",\"offsetgroup\":\"META\",\"orientation\":\"v\",\"showlegend\":true,\"textposition\":\"auto\",\"x\":[\"META\"],\"xaxis\":\"x\",\"y\":[null],\"yaxis\":\"y\",\"type\":\"bar\"},{\"alignmentgroup\":\"True\",\"hovertemplate\":\"Ticker=%{x}\\u003cbr\\u003eDate=2017-11-12 17:00:00+00:00\\u003cbr\\u003eMarketCap=%{y}\\u003cextra\\u003e\\u003c\\u002fextra\\u003e\",\"legendgroup\":\"MSFT\",\"marker\":{\"color\":\"#B6E880\",\"pattern\":{\"shape\":\"\"}},\"name\":\"MSFT\",\"offsetgroup\":\"MSFT\",\"orientation\":\"v\",\"showlegend\":true,\"textposition\":\"auto\",\"x\":[\"MSFT\"],\"xaxis\":\"x\",\"y\":[552599170366.75],\"yaxis\":\"y\",\"type\":\"bar\"},{\"alignmentgroup\":\"True\",\"hovertemplate\":\"Ticker=%{x}\\u003cbr\\u003eDate=2017-11-12 17:00:00+00:00\\u003cbr\\u003eMarketCap=%{y}\\u003cextra\\u003e\\u003c\\u002fextra\\u003e\",\"legendgroup\":\"TCEHY\",\"marker\":{\"color\":\"#FF97FF\",\"pattern\":{\"shape\":\"\"}},\"name\":\"TCEHY\",\"offsetgroup\":\"TCEHY\",\"orientation\":\"v\",\"showlegend\":true,\"textposition\":\"auto\",\"x\":[\"TCEHY\"],\"xaxis\":\"x\",\"y\":[425772699747.09766],\"yaxis\":\"y\",\"type\":\"bar\"},{\"alignmentgroup\":\"True\",\"hovertemplate\":\"Ticker=%{x}\\u003cbr\\u003eDate=2017-11-12 17:00:00+00:00\\u003cbr\\u003eMarketCap=%{y}\\u003cextra\\u003e\\u003c\\u002fextra\\u003e\",\"legendgroup\":\"TSLA\",\"marker\":{\"color\":\"#FECB52\",\"pattern\":{\"shape\":\"\"}},\"name\":\"TSLA\",\"offsetgroup\":\"TSLA\",\"orientation\":\"v\",\"showlegend\":true,\"textposition\":\"auto\",\"x\":[\"TSLA\"],\"xaxis\":\"x\",\"y\":[4018272034.0310545],\"yaxis\":\"y\",\"type\":\"bar\"}],\"name\":\"2017-11-12 17:00:00+00:00\"},{\"data\":[{\"alignmentgroup\":\"True\",\"hovertemplate\":\"Ticker=%{x}\\u003cbr\\u003eDate=2018-02-15 05:00:00+00:00\\u003cbr\\u003eMarketCap=%{y}\\u003cextra\\u003e\\u003c\\u002fextra\\u003e\",\"legendgroup\":\"AAPL\",\"marker\":{\"color\":\"#636efa\",\"pattern\":{\"shape\":\"\"}},\"name\":\"AAPL\",\"offsetgroup\":\"AAPL\",\"orientation\":\"v\",\"showlegend\":true,\"textposition\":\"auto\",\"x\":[\"AAPL\"],\"xaxis\":\"x\",\"y\":[190662542317.75665],\"yaxis\":\"y\",\"type\":\"bar\"},{\"alignmentgroup\":\"True\",\"hovertemplate\":\"Ticker=%{x}\\u003cbr\\u003eDate=2018-02-15 05:00:00+00:00\\u003cbr\\u003eMarketCap=%{y}\\u003cextra\\u003e\\u003c\\u002fextra\\u003e\",\"legendgroup\":\"AMD\",\"marker\":{\"color\":\"#EF553B\",\"pattern\":{\"shape\":\"\"}},\"name\":\"AMD\",\"offsetgroup\":\"AMD\",\"orientation\":\"v\",\"showlegend\":true,\"textposition\":\"auto\",\"x\":[\"AMD\"],\"xaxis\":\"x\",\"y\":[15709716047.545898],\"yaxis\":\"y\",\"type\":\"bar\"},{\"alignmentgroup\":\"True\",\"hovertemplate\":\"Ticker=%{x}\\u003cbr\\u003eDate=2018-02-15 05:00:00+00:00\\u003cbr\\u003eMarketCap=%{y}\\u003cextra\\u003e\\u003c\\u002fextra\\u003e\",\"legendgroup\":\"AMZN\",\"marker\":{\"color\":\"#00cc96\",\"pattern\":{\"shape\":\"\"}},\"name\":\"AMZN\",\"offsetgroup\":\"AMZN\",\"orientation\":\"v\",\"showlegend\":true,\"textposition\":\"auto\",\"x\":[\"AMZN\"],\"xaxis\":\"x\",\"y\":[30630360849.544334],\"yaxis\":\"y\",\"type\":\"bar\"},{\"alignmentgroup\":\"True\",\"hovertemplate\":\"Ticker=%{x}\\u003cbr\\u003eDate=2018-02-15 05:00:00+00:00\\u003cbr\\u003eMarketCap=%{y}\\u003cextra\\u003e\\u003c\\u002fextra\\u003e\",\"legendgroup\":\"BABA\",\"marker\":{\"color\":\"#ab63fa\",\"pattern\":{\"shape\":\"\"}},\"name\":\"BABA\",\"offsetgroup\":\"BABA\",\"orientation\":\"v\",\"showlegend\":true,\"textposition\":\"auto\",\"x\":[\"BABA\"],\"xaxis\":\"x\",\"y\":[360842161929.25195],\"yaxis\":\"y\",\"type\":\"bar\"},{\"alignmentgroup\":\"True\",\"hovertemplate\":\"Ticker=%{x}\\u003cbr\\u003eDate=2018-02-15 05:00:00+00:00\\u003cbr\\u003eMarketCap=%{y}\\u003cextra\\u003e\\u003c\\u002fextra\\u003e\",\"legendgroup\":\"BIDU\",\"marker\":{\"color\":\"#FFA15A\",\"pattern\":{\"shape\":\"\"}},\"name\":\"BIDU\",\"offsetgroup\":\"BIDU\",\"orientation\":\"v\",\"showlegend\":true,\"textposition\":\"auto\",\"x\":[\"BIDU\"],\"xaxis\":\"x\",\"y\":[67150243217.972946],\"yaxis\":\"y\",\"type\":\"bar\"},{\"alignmentgroup\":\"True\",\"hovertemplate\":\"Ticker=%{x}\\u003cbr\\u003eDate=2018-02-15 05:00:00+00:00\\u003cbr\\u003eMarketCap=%{y}\\u003cextra\\u003e\\u003c\\u002fextra\\u003e\",\"legendgroup\":\"GOOGL\",\"marker\":{\"color\":\"#19d3f3\",\"pattern\":{\"shape\":\"\"}},\"name\":\"GOOGL\",\"offsetgroup\":\"GOOGL\",\"orientation\":\"v\",\"showlegend\":true,\"textposition\":\"auto\",\"x\":[\"GOOGL\"],\"xaxis\":\"x\",\"y\":[34752180234.70332],\"yaxis\":\"y\",\"type\":\"bar\"},{\"alignmentgroup\":\"True\",\"hovertemplate\":\"Ticker=%{x}\\u003cbr\\u003eDate=2018-02-15 05:00:00+00:00\\u003cbr\\u003eMarketCap=%{y}\\u003cextra\\u003e\\u003c\\u002fextra\\u003e\",\"legendgroup\":\"META\",\"marker\":{\"color\":\"#FF6692\",\"pattern\":{\"shape\":\"\"}},\"name\":\"META\",\"offsetgroup\":\"META\",\"orientation\":\"v\",\"showlegend\":true,\"textposition\":\"auto\",\"x\":[\"META\"],\"xaxis\":\"x\",\"y\":[null],\"yaxis\":\"y\",\"type\":\"bar\"},{\"alignmentgroup\":\"True\",\"hovertemplate\":\"Ticker=%{x}\\u003cbr\\u003eDate=2018-02-15 05:00:00+00:00\\u003cbr\\u003eMarketCap=%{y}\\u003cextra\\u003e\\u003c\\u002fextra\\u003e\",\"legendgroup\":\"MSFT\",\"marker\":{\"color\":\"#B6E880\",\"pattern\":{\"shape\":\"\"}},\"name\":\"MSFT\",\"offsetgroup\":\"MSFT\",\"orientation\":\"v\",\"showlegend\":true,\"textposition\":\"auto\",\"x\":[\"MSFT\"],\"xaxis\":\"x\",\"y\":[608472772862.2705],\"yaxis\":\"y\",\"type\":\"bar\"},{\"alignmentgroup\":\"True\",\"hovertemplate\":\"Ticker=%{x}\\u003cbr\\u003eDate=2018-02-15 05:00:00+00:00\\u003cbr\\u003eMarketCap=%{y}\\u003cextra\\u003e\\u003c\\u002fextra\\u003e\",\"legendgroup\":\"TCEHY\",\"marker\":{\"color\":\"#FF97FF\",\"pattern\":{\"shape\":\"\"}},\"name\":\"TCEHY\",\"offsetgroup\":\"TCEHY\",\"orientation\":\"v\",\"showlegend\":true,\"textposition\":\"auto\",\"x\":[\"TCEHY\"],\"xaxis\":\"x\",\"y\":[498924550985.7149],\"yaxis\":\"y\",\"type\":\"bar\"},{\"alignmentgroup\":\"True\",\"hovertemplate\":\"Ticker=%{x}\\u003cbr\\u003eDate=2018-02-15 05:00:00+00:00\\u003cbr\\u003eMarketCap=%{y}\\u003cextra\\u003e\\u003c\\u002fextra\\u003e\",\"legendgroup\":\"TSLA\",\"marker\":{\"color\":\"#FECB52\",\"pattern\":{\"shape\":\"\"}},\"name\":\"TSLA\",\"offsetgroup\":\"TSLA\",\"orientation\":\"v\",\"showlegend\":true,\"textposition\":\"auto\",\"x\":[\"TSLA\"],\"xaxis\":\"x\",\"y\":[4018213242.4090333],\"yaxis\":\"y\",\"type\":\"bar\"}],\"name\":\"2018-02-15 05:00:00+00:00\"},{\"data\":[{\"alignmentgroup\":\"True\",\"hovertemplate\":\"Ticker=%{x}\\u003cbr\\u003eDate=2018-05-22 16:00:00+00:00\\u003cbr\\u003eMarketCap=%{y}\\u003cextra\\u003e\\u003c\\u002fextra\\u003e\",\"legendgroup\":\"AAPL\",\"marker\":{\"color\":\"#636efa\",\"pattern\":{\"shape\":\"\"}},\"name\":\"AAPL\",\"offsetgroup\":\"AAPL\",\"orientation\":\"v\",\"showlegend\":true,\"textposition\":\"auto\",\"x\":[\"AAPL\"],\"xaxis\":\"x\",\"y\":[192452920340.44745],\"yaxis\":\"y\",\"type\":\"bar\"},{\"alignmentgroup\":\"True\",\"hovertemplate\":\"Ticker=%{x}\\u003cbr\\u003eDate=2018-05-22 16:00:00+00:00\\u003cbr\\u003eMarketCap=%{y}\\u003cextra\\u003e\\u003c\\u002fextra\\u003e\",\"legendgroup\":\"AMD\",\"marker\":{\"color\":\"#EF553B\",\"pattern\":{\"shape\":\"\"}},\"name\":\"AMD\",\"offsetgroup\":\"AMD\",\"orientation\":\"v\",\"showlegend\":true,\"textposition\":\"auto\",\"x\":[\"AMD\"],\"xaxis\":\"x\",\"y\":[17147516902.251465],\"yaxis\":\"y\",\"type\":\"bar\"},{\"alignmentgroup\":\"True\",\"hovertemplate\":\"Ticker=%{x}\\u003cbr\\u003eDate=2018-05-22 16:00:00+00:00\\u003cbr\\u003eMarketCap=%{y}\\u003cextra\\u003e\\u003c\\u002fextra\\u003e\",\"legendgroup\":\"AMZN\",\"marker\":{\"color\":\"#00cc96\",\"pattern\":{\"shape\":\"\"}},\"name\":\"AMZN\",\"offsetgroup\":\"AMZN\",\"orientation\":\"v\",\"showlegend\":true,\"textposition\":\"auto\",\"x\":[\"AMZN\"],\"xaxis\":\"x\",\"y\":[33657323667.0167],\"yaxis\":\"y\",\"type\":\"bar\"},{\"alignmentgroup\":\"True\",\"hovertemplate\":\"Ticker=%{x}\\u003cbr\\u003eDate=2018-05-22 16:00:00+00:00\\u003cbr\\u003eMarketCap=%{y}\\u003cextra\\u003e\\u003c\\u002fextra\\u003e\",\"legendgroup\":\"BABA\",\"marker\":{\"color\":\"#ab63fa\",\"pattern\":{\"shape\":\"\"}},\"name\":\"BABA\",\"offsetgroup\":\"BABA\",\"orientation\":\"v\",\"showlegend\":true,\"textposition\":\"auto\",\"x\":[\"BABA\"],\"xaxis\":\"x\",\"y\":[370726825824.26953],\"yaxis\":\"y\",\"type\":\"bar\"},{\"alignmentgroup\":\"True\",\"hovertemplate\":\"Ticker=%{x}\\u003cbr\\u003eDate=2018-05-22 16:00:00+00:00\\u003cbr\\u003eMarketCap=%{y}\\u003cextra\\u003e\\u003c\\u002fextra\\u003e\",\"legendgroup\":\"BIDU\",\"marker\":{\"color\":\"#FFA15A\",\"pattern\":{\"shape\":\"\"}},\"name\":\"BIDU\",\"offsetgroup\":\"BIDU\",\"orientation\":\"v\",\"showlegend\":true,\"textposition\":\"auto\",\"x\":[\"BIDU\"],\"xaxis\":\"x\",\"y\":[65875682522.95943],\"yaxis\":\"y\",\"type\":\"bar\"},{\"alignmentgroup\":\"True\",\"hovertemplate\":\"Ticker=%{x}\\u003cbr\\u003eDate=2018-05-22 16:00:00+00:00\\u003cbr\\u003eMarketCap=%{y}\\u003cextra\\u003e\\u003c\\u002fextra\\u003e\",\"legendgroup\":\"GOOGL\",\"marker\":{\"color\":\"#19d3f3\",\"pattern\":{\"shape\":\"\"}},\"name\":\"GOOGL\",\"offsetgroup\":\"GOOGL\",\"orientation\":\"v\",\"showlegend\":true,\"textposition\":\"auto\",\"x\":[\"GOOGL\"],\"xaxis\":\"x\",\"y\":[35315333196.17851],\"yaxis\":\"y\",\"type\":\"bar\"},{\"alignmentgroup\":\"True\",\"hovertemplate\":\"Ticker=%{x}\\u003cbr\\u003eDate=2018-05-22 16:00:00+00:00\\u003cbr\\u003eMarketCap=%{y}\\u003cextra\\u003e\\u003c\\u002fextra\\u003e\",\"legendgroup\":\"META\",\"marker\":{\"color\":\"#FF6692\",\"pattern\":{\"shape\":\"\"}},\"name\":\"META\",\"offsetgroup\":\"META\",\"orientation\":\"v\",\"showlegend\":true,\"textposition\":\"auto\",\"x\":[\"META\"],\"xaxis\":\"x\",\"y\":[null],\"yaxis\":\"y\",\"type\":\"bar\"},{\"alignmentgroup\":\"True\",\"hovertemplate\":\"Ticker=%{x}\\u003cbr\\u003eDate=2018-05-22 16:00:00+00:00\\u003cbr\\u003eMarketCap=%{y}\\u003cextra\\u003e\\u003c\\u002fextra\\u003e\",\"legendgroup\":\"MSFT\",\"marker\":{\"color\":\"#B6E880\",\"pattern\":{\"shape\":\"\"}},\"name\":\"MSFT\",\"offsetgroup\":\"MSFT\",\"orientation\":\"v\",\"showlegend\":true,\"textposition\":\"auto\",\"x\":[\"MSFT\"],\"xaxis\":\"x\",\"y\":[664346375357.791],\"yaxis\":\"y\",\"type\":\"bar\"},{\"alignmentgroup\":\"True\",\"hovertemplate\":\"Ticker=%{x}\\u003cbr\\u003eDate=2018-05-22 16:00:00+00:00\\u003cbr\\u003eMarketCap=%{y}\\u003cextra\\u003e\\u003c\\u002fextra\\u003e\",\"legendgroup\":\"TCEHY\",\"marker\":{\"color\":\"#FF97FF\",\"pattern\":{\"shape\":\"\"}},\"name\":\"TCEHY\",\"offsetgroup\":\"TCEHY\",\"orientation\":\"v\",\"showlegend\":true,\"textposition\":\"auto\",\"x\":[\"TCEHY\"],\"xaxis\":\"x\",\"y\":[450537519290.15234],\"yaxis\":\"y\",\"type\":\"bar\"},{\"alignmentgroup\":\"True\",\"hovertemplate\":\"Ticker=%{x}\\u003cbr\\u003eDate=2018-05-22 16:00:00+00:00\\u003cbr\\u003eMarketCap=%{y}\\u003cextra\\u003e\\u003c\\u002fextra\\u003e\",\"legendgroup\":\"TSLA\",\"marker\":{\"color\":\"#FECB52\",\"pattern\":{\"shape\":\"\"}},\"name\":\"TSLA\",\"offsetgroup\":\"TSLA\",\"orientation\":\"v\",\"showlegend\":true,\"textposition\":\"auto\",\"x\":[\"TSLA\"],\"xaxis\":\"x\",\"y\":[4018154450.7870116],\"yaxis\":\"y\",\"type\":\"bar\"}],\"name\":\"2018-05-22 16:00:00+00:00\"},{\"data\":[{\"alignmentgroup\":\"True\",\"hovertemplate\":\"Ticker=%{x}\\u003cbr\\u003eDate=2018-08-18 16:00:00+00:00\\u003cbr\\u003eMarketCap=%{y}\\u003cextra\\u003e\\u003c\\u002fextra\\u003e\",\"legendgroup\":\"AAPL\",\"marker\":{\"color\":\"#636efa\",\"pattern\":{\"shape\":\"\"}},\"name\":\"AAPL\",\"offsetgroup\":\"AAPL\",\"orientation\":\"v\",\"showlegend\":true,\"textposition\":\"auto\",\"x\":[\"AAPL\"],\"xaxis\":\"x\",\"y\":[194243298363.13828],\"yaxis\":\"y\",\"type\":\"bar\"},{\"alignmentgroup\":\"True\",\"hovertemplate\":\"Ticker=%{x}\\u003cbr\\u003eDate=2018-08-18 16:00:00+00:00\\u003cbr\\u003eMarketCap=%{y}\\u003cextra\\u003e\\u003c\\u002fextra\\u003e\",\"legendgroup\":\"AMD\",\"marker\":{\"color\":\"#EF553B\",\"pattern\":{\"shape\":\"\"}},\"name\":\"AMD\",\"offsetgroup\":\"AMD\",\"orientation\":\"v\",\"showlegend\":true,\"textposition\":\"auto\",\"x\":[\"AMD\"],\"xaxis\":\"x\",\"y\":[18585317756.95703],\"yaxis\":\"y\",\"type\":\"bar\"},{\"alignmentgroup\":\"True\",\"hovertemplate\":\"Ticker=%{x}\\u003cbr\\u003eDate=2018-08-18 16:00:00+00:00\\u003cbr\\u003eMarketCap=%{y}\\u003cextra\\u003e\\u003c\\u002fextra\\u003e\",\"legendgroup\":\"AMZN\",\"marker\":{\"color\":\"#00cc96\",\"pattern\":{\"shape\":\"\"}},\"name\":\"AMZN\",\"offsetgroup\":\"AMZN\",\"orientation\":\"v\",\"showlegend\":true,\"textposition\":\"auto\",\"x\":[\"AMZN\"],\"xaxis\":\"x\",\"y\":[36684286484.48906],\"yaxis\":\"y\",\"type\":\"bar\"},{\"alignmentgroup\":\"True\",\"hovertemplate\":\"Ticker=%{x}\\u003cbr\\u003eDate=2018-08-18 16:00:00+00:00\\u003cbr\\u003eMarketCap=%{y}\\u003cextra\\u003e\\u003c\\u002fextra\\u003e\",\"legendgroup\":\"BABA\",\"marker\":{\"color\":\"#ab63fa\",\"pattern\":{\"shape\":\"\"}},\"name\":\"BABA\",\"offsetgroup\":\"BABA\",\"orientation\":\"v\",\"showlegend\":true,\"textposition\":\"auto\",\"x\":[\"BABA\"],\"xaxis\":\"x\",\"y\":[380611489719.2871],\"yaxis\":\"y\",\"type\":\"bar\"},{\"alignmentgroup\":\"True\",\"hovertemplate\":\"Ticker=%{x}\\u003cbr\\u003eDate=2018-08-18 16:00:00+00:00\\u003cbr\\u003eMarketCap=%{y}\\u003cextra\\u003e\\u003c\\u002fextra\\u003e\",\"legendgroup\":\"BIDU\",\"marker\":{\"color\":\"#FFA15A\",\"pattern\":{\"shape\":\"\"}},\"name\":\"BIDU\",\"offsetgroup\":\"BIDU\",\"orientation\":\"v\",\"showlegend\":true,\"textposition\":\"auto\",\"x\":[\"BIDU\"],\"xaxis\":\"x\",\"y\":[64601121827.9459],\"yaxis\":\"y\",\"type\":\"bar\"},{\"alignmentgroup\":\"True\",\"hovertemplate\":\"Ticker=%{x}\\u003cbr\\u003eDate=2018-08-18 16:00:00+00:00\\u003cbr\\u003eMarketCap=%{y}\\u003cextra\\u003e\\u003c\\u002fextra\\u003e\",\"legendgroup\":\"GOOGL\",\"marker\":{\"color\":\"#19d3f3\",\"pattern\":{\"shape\":\"\"}},\"name\":\"GOOGL\",\"offsetgroup\":\"GOOGL\",\"orientation\":\"v\",\"showlegend\":true,\"textposition\":\"auto\",\"x\":[\"GOOGL\"],\"xaxis\":\"x\",\"y\":[35878486157.65371],\"yaxis\":\"y\",\"type\":\"bar\"},{\"alignmentgroup\":\"True\",\"hovertemplate\":\"Ticker=%{x}\\u003cbr\\u003eDate=2018-08-18 16:00:00+00:00\\u003cbr\\u003eMarketCap=%{y}\\u003cextra\\u003e\\u003c\\u002fextra\\u003e\",\"legendgroup\":\"META\",\"marker\":{\"color\":\"#FF6692\",\"pattern\":{\"shape\":\"\"}},\"name\":\"META\",\"offsetgroup\":\"META\",\"orientation\":\"v\",\"showlegend\":true,\"textposition\":\"auto\",\"x\":[\"META\"],\"xaxis\":\"x\",\"y\":[null],\"yaxis\":\"y\",\"type\":\"bar\"},{\"alignmentgroup\":\"True\",\"hovertemplate\":\"Ticker=%{x}\\u003cbr\\u003eDate=2018-08-18 16:00:00+00:00\\u003cbr\\u003eMarketCap=%{y}\\u003cextra\\u003e\\u003c\\u002fextra\\u003e\",\"legendgroup\":\"MSFT\",\"marker\":{\"color\":\"#B6E880\",\"pattern\":{\"shape\":\"\"}},\"name\":\"MSFT\",\"offsetgroup\":\"MSFT\",\"orientation\":\"v\",\"showlegend\":true,\"textposition\":\"auto\",\"x\":[\"MSFT\"],\"xaxis\":\"x\",\"y\":[720219977853.3115],\"yaxis\":\"y\",\"type\":\"bar\"},{\"alignmentgroup\":\"True\",\"hovertemplate\":\"Ticker=%{x}\\u003cbr\\u003eDate=2018-08-18 16:00:00+00:00\\u003cbr\\u003eMarketCap=%{y}\\u003cextra\\u003e\\u003c\\u002fextra\\u003e\",\"legendgroup\":\"TCEHY\",\"marker\":{\"color\":\"#FF97FF\",\"pattern\":{\"shape\":\"\"}},\"name\":\"TCEHY\",\"offsetgroup\":\"TCEHY\",\"orientation\":\"v\",\"showlegend\":true,\"textposition\":\"auto\",\"x\":[\"TCEHY\"],\"xaxis\":\"x\",\"y\":[390561391813.96484],\"yaxis\":\"y\",\"type\":\"bar\"},{\"alignmentgroup\":\"True\",\"hovertemplate\":\"Ticker=%{x}\\u003cbr\\u003eDate=2018-08-18 16:00:00+00:00\\u003cbr\\u003eMarketCap=%{y}\\u003cextra\\u003e\\u003c\\u002fextra\\u003e\",\"legendgroup\":\"TSLA\",\"marker\":{\"color\":\"#FECB52\",\"pattern\":{\"shape\":\"\"}},\"name\":\"TSLA\",\"offsetgroup\":\"TSLA\",\"orientation\":\"v\",\"showlegend\":true,\"textposition\":\"auto\",\"x\":[\"TSLA\"],\"xaxis\":\"x\",\"y\":[4018095659.1649904],\"yaxis\":\"y\",\"type\":\"bar\"}],\"name\":\"2018-08-18 16:00:00+00:00\"},{\"data\":[{\"alignmentgroup\":\"True\",\"hovertemplate\":\"Ticker=%{x}\\u003cbr\\u003eDate=2018-11-13 17:00:00+00:00\\u003cbr\\u003eMarketCap=%{y}\\u003cextra\\u003e\\u003c\\u002fextra\\u003e\",\"legendgroup\":\"AAPL\",\"marker\":{\"color\":\"#636efa\",\"pattern\":{\"shape\":\"\"}},\"name\":\"AAPL\",\"offsetgroup\":\"AAPL\",\"orientation\":\"v\",\"showlegend\":true,\"textposition\":\"auto\",\"x\":[\"AAPL\"],\"xaxis\":\"x\",\"y\":[196033676385.8291],\"yaxis\":\"y\",\"type\":\"bar\"},{\"alignmentgroup\":\"True\",\"hovertemplate\":\"Ticker=%{x}\\u003cbr\\u003eDate=2018-11-13 17:00:00+00:00\\u003cbr\\u003eMarketCap=%{y}\\u003cextra\\u003e\\u003c\\u002fextra\\u003e\",\"legendgroup\":\"AMD\",\"marker\":{\"color\":\"#EF553B\",\"pattern\":{\"shape\":\"\"}},\"name\":\"AMD\",\"offsetgroup\":\"AMD\",\"orientation\":\"v\",\"showlegend\":true,\"textposition\":\"auto\",\"x\":[\"AMD\"],\"xaxis\":\"x\",\"y\":[20023118611.662598],\"yaxis\":\"y\",\"type\":\"bar\"},{\"alignmentgroup\":\"True\",\"hovertemplate\":\"Ticker=%{x}\\u003cbr\\u003eDate=2018-11-13 17:00:00+00:00\\u003cbr\\u003eMarketCap=%{y}\\u003cextra\\u003e\\u003c\\u002fextra\\u003e\",\"legendgroup\":\"AMZN\",\"marker\":{\"color\":\"#00cc96\",\"pattern\":{\"shape\":\"\"}},\"name\":\"AMZN\",\"offsetgroup\":\"AMZN\",\"orientation\":\"v\",\"showlegend\":true,\"textposition\":\"auto\",\"x\":[\"AMZN\"],\"xaxis\":\"x\",\"y\":[39711249301.961426],\"yaxis\":\"y\",\"type\":\"bar\"},{\"alignmentgroup\":\"True\",\"hovertemplate\":\"Ticker=%{x}\\u003cbr\\u003eDate=2018-11-13 17:00:00+00:00\\u003cbr\\u003eMarketCap=%{y}\\u003cextra\\u003e\\u003c\\u002fextra\\u003e\",\"legendgroup\":\"BABA\",\"marker\":{\"color\":\"#ab63fa\",\"pattern\":{\"shape\":\"\"}},\"name\":\"BABA\",\"offsetgroup\":\"BABA\",\"orientation\":\"v\",\"showlegend\":true,\"textposition\":\"auto\",\"x\":[\"BABA\"],\"xaxis\":\"x\",\"y\":[390496153614.3047],\"yaxis\":\"y\",\"type\":\"bar\"},{\"alignmentgroup\":\"True\",\"hovertemplate\":\"Ticker=%{x}\\u003cbr\\u003eDate=2018-11-13 17:00:00+00:00\\u003cbr\\u003eMarketCap=%{y}\\u003cextra\\u003e\\u003c\\u002fextra\\u003e\",\"legendgroup\":\"BIDU\",\"marker\":{\"color\":\"#FFA15A\",\"pattern\":{\"shape\":\"\"}},\"name\":\"BIDU\",\"offsetgroup\":\"BIDU\",\"orientation\":\"v\",\"showlegend\":true,\"textposition\":\"auto\",\"x\":[\"BIDU\"],\"xaxis\":\"x\",\"y\":[63326561132.93237],\"yaxis\":\"y\",\"type\":\"bar\"},{\"alignmentgroup\":\"True\",\"hovertemplate\":\"Ticker=%{x}\\u003cbr\\u003eDate=2018-11-13 17:00:00+00:00\\u003cbr\\u003eMarketCap=%{y}\\u003cextra\\u003e\\u003c\\u002fextra\\u003e\",\"legendgroup\":\"GOOGL\",\"marker\":{\"color\":\"#19d3f3\",\"pattern\":{\"shape\":\"\"}},\"name\":\"GOOGL\",\"offsetgroup\":\"GOOGL\",\"orientation\":\"v\",\"showlegend\":true,\"textposition\":\"auto\",\"x\":[\"GOOGL\"],\"xaxis\":\"x\",\"y\":[36441639119.12891],\"yaxis\":\"y\",\"type\":\"bar\"},{\"alignmentgroup\":\"True\",\"hovertemplate\":\"Ticker=%{x}\\u003cbr\\u003eDate=2018-11-13 17:00:00+00:00\\u003cbr\\u003eMarketCap=%{y}\\u003cextra\\u003e\\u003c\\u002fextra\\u003e\",\"legendgroup\":\"META\",\"marker\":{\"color\":\"#FF6692\",\"pattern\":{\"shape\":\"\"}},\"name\":\"META\",\"offsetgroup\":\"META\",\"orientation\":\"v\",\"showlegend\":true,\"textposition\":\"auto\",\"x\":[\"META\"],\"xaxis\":\"x\",\"y\":[null],\"yaxis\":\"y\",\"type\":\"bar\"},{\"alignmentgroup\":\"True\",\"hovertemplate\":\"Ticker=%{x}\\u003cbr\\u003eDate=2018-11-13 17:00:00+00:00\\u003cbr\\u003eMarketCap=%{y}\\u003cextra\\u003e\\u003c\\u002fextra\\u003e\",\"legendgroup\":\"MSFT\",\"marker\":{\"color\":\"#B6E880\",\"pattern\":{\"shape\":\"\"}},\"name\":\"MSFT\",\"offsetgroup\":\"MSFT\",\"orientation\":\"v\",\"showlegend\":true,\"textposition\":\"auto\",\"x\":[\"MSFT\"],\"xaxis\":\"x\",\"y\":[776093580348.832],\"yaxis\":\"y\",\"type\":\"bar\"},{\"alignmentgroup\":\"True\",\"hovertemplate\":\"Ticker=%{x}\\u003cbr\\u003eDate=2018-11-13 17:00:00+00:00\\u003cbr\\u003eMarketCap=%{y}\\u003cextra\\u003e\\u003c\\u002fextra\\u003e\",\"legendgroup\":\"TCEHY\",\"marker\":{\"color\":\"#FF97FF\",\"pattern\":{\"shape\":\"\"}},\"name\":\"TCEHY\",\"offsetgroup\":\"TCEHY\",\"orientation\":\"v\",\"showlegend\":true,\"textposition\":\"auto\",\"x\":[\"TCEHY\"],\"xaxis\":\"x\",\"y\":[336954292910.15625],\"yaxis\":\"y\",\"type\":\"bar\"},{\"alignmentgroup\":\"True\",\"hovertemplate\":\"Ticker=%{x}\\u003cbr\\u003eDate=2018-11-13 17:00:00+00:00\\u003cbr\\u003eMarketCap=%{y}\\u003cextra\\u003e\\u003c\\u002fextra\\u003e\",\"legendgroup\":\"TSLA\",\"marker\":{\"color\":\"#FECB52\",\"pattern\":{\"shape\":\"\"}},\"name\":\"TSLA\",\"offsetgroup\":\"TSLA\",\"orientation\":\"v\",\"showlegend\":true,\"textposition\":\"auto\",\"x\":[\"TSLA\"],\"xaxis\":\"x\",\"y\":[4018036867.5429688],\"yaxis\":\"y\",\"type\":\"bar\"}],\"name\":\"2018-11-13 17:00:00+00:00\"},{\"data\":[{\"alignmentgroup\":\"True\",\"hovertemplate\":\"Ticker=%{x}\\u003cbr\\u003eDate=2019-02-12 05:00:00+00:00\\u003cbr\\u003eMarketCap=%{y}\\u003cextra\\u003e\\u003c\\u002fextra\\u003e\",\"legendgroup\":\"AAPL\",\"marker\":{\"color\":\"#636efa\",\"pattern\":{\"shape\":\"\"}},\"name\":\"AAPL\",\"offsetgroup\":\"AAPL\",\"orientation\":\"v\",\"showlegend\":true,\"textposition\":\"auto\",\"x\":[\"AAPL\"],\"xaxis\":\"x\",\"y\":[183296618395.3506],\"yaxis\":\"y\",\"type\":\"bar\"},{\"alignmentgroup\":\"True\",\"hovertemplate\":\"Ticker=%{x}\\u003cbr\\u003eDate=2019-02-12 05:00:00+00:00\\u003cbr\\u003eMarketCap=%{y}\\u003cextra\\u003e\\u003c\\u002fextra\\u003e\",\"legendgroup\":\"AMD\",\"marker\":{\"color\":\"#EF553B\",\"pattern\":{\"shape\":\"\"}},\"name\":\"AMD\",\"offsetgroup\":\"AMD\",\"orientation\":\"v\",\"showlegend\":true,\"textposition\":\"auto\",\"x\":[\"AMD\"],\"xaxis\":\"x\",\"y\":[22958743953.133545],\"yaxis\":\"y\",\"type\":\"bar\"},{\"alignmentgroup\":\"True\",\"hovertemplate\":\"Ticker=%{x}\\u003cbr\\u003eDate=2019-02-12 05:00:00+00:00\\u003cbr\\u003eMarketCap=%{y}\\u003cextra\\u003e\\u003c\\u002fextra\\u003e\",\"legendgroup\":\"AMZN\",\"marker\":{\"color\":\"#00cc96\",\"pattern\":{\"shape\":\"\"}},\"name\":\"AMZN\",\"offsetgroup\":\"AMZN\",\"orientation\":\"v\",\"showlegend\":true,\"textposition\":\"auto\",\"x\":[\"AMZN\"],\"xaxis\":\"x\",\"y\":[40274471850.16113],\"yaxis\":\"y\",\"type\":\"bar\"},{\"alignmentgroup\":\"True\",\"hovertemplate\":\"Ticker=%{x}\\u003cbr\\u003eDate=2019-02-12 05:00:00+00:00\\u003cbr\\u003eMarketCap=%{y}\\u003cextra\\u003e\\u003c\\u002fextra\\u003e\",\"legendgroup\":\"BABA\",\"marker\":{\"color\":\"#ab63fa\",\"pattern\":{\"shape\":\"\"}},\"name\":\"BABA\",\"offsetgroup\":\"BABA\",\"orientation\":\"v\",\"showlegend\":true,\"textposition\":\"auto\",\"x\":[\"BABA\"],\"xaxis\":\"x\",\"y\":[412700990108.832],\"yaxis\":\"y\",\"type\":\"bar\"},{\"alignmentgroup\":\"True\",\"hovertemplate\":\"Ticker=%{x}\\u003cbr\\u003eDate=2019-02-12 05:00:00+00:00\\u003cbr\\u003eMarketCap=%{y}\\u003cextra\\u003e\\u003c\\u002fextra\\u003e\",\"legendgroup\":\"BIDU\",\"marker\":{\"color\":\"#FFA15A\",\"pattern\":{\"shape\":\"\"}},\"name\":\"BIDU\",\"offsetgroup\":\"BIDU\",\"orientation\":\"v\",\"showlegend\":true,\"textposition\":\"auto\",\"x\":[\"BIDU\"],\"xaxis\":\"x\",\"y\":[58355638104.90137],\"yaxis\":\"y\",\"type\":\"bar\"},{\"alignmentgroup\":\"True\",\"hovertemplate\":\"Ticker=%{x}\\u003cbr\\u003eDate=2019-02-12 05:00:00+00:00\\u003cbr\\u003eMarketCap=%{y}\\u003cextra\\u003e\\u003c\\u002fextra\\u003e\",\"legendgroup\":\"GOOGL\",\"marker\":{\"color\":\"#19d3f3\",\"pattern\":{\"shape\":\"\"}},\"name\":\"GOOGL\",\"offsetgroup\":\"GOOGL\",\"orientation\":\"v\",\"showlegend\":true,\"textposition\":\"auto\",\"x\":[\"GOOGL\"],\"xaxis\":\"x\",\"y\":[38526577144.53833],\"yaxis\":\"y\",\"type\":\"bar\"},{\"alignmentgroup\":\"True\",\"hovertemplate\":\"Ticker=%{x}\\u003cbr\\u003eDate=2019-02-12 05:00:00+00:00\\u003cbr\\u003eMarketCap=%{y}\\u003cextra\\u003e\\u003c\\u002fextra\\u003e\",\"legendgroup\":\"META\",\"marker\":{\"color\":\"#FF6692\",\"pattern\":{\"shape\":\"\"}},\"name\":\"META\",\"offsetgroup\":\"META\",\"orientation\":\"v\",\"showlegend\":true,\"textposition\":\"auto\",\"x\":[\"META\"],\"xaxis\":\"x\",\"y\":[null],\"yaxis\":\"y\",\"type\":\"bar\"},{\"alignmentgroup\":\"True\",\"hovertemplate\":\"Ticker=%{x}\\u003cbr\\u003eDate=2019-02-12 05:00:00+00:00\\u003cbr\\u003eMarketCap=%{y}\\u003cextra\\u003e\\u003c\\u002fextra\\u003e\",\"legendgroup\":\"MSFT\",\"marker\":{\"color\":\"#B6E880\",\"pattern\":{\"shape\":\"\"}},\"name\":\"MSFT\",\"offsetgroup\":\"MSFT\",\"orientation\":\"v\",\"showlegend\":true,\"textposition\":\"auto\",\"x\":[\"MSFT\"],\"xaxis\":\"x\",\"y\":[780074191932.3457],\"yaxis\":\"y\",\"type\":\"bar\"},{\"alignmentgroup\":\"True\",\"hovertemplate\":\"Ticker=%{x}\\u003cbr\\u003eDate=2019-02-12 05:00:00+00:00\\u003cbr\\u003eMarketCap=%{y}\\u003cextra\\u003e\\u003c\\u002fextra\\u003e\",\"legendgroup\":\"TCEHY\",\"marker\":{\"color\":\"#FF97FF\",\"pattern\":{\"shape\":\"\"}},\"name\":\"TCEHY\",\"offsetgroup\":\"TCEHY\",\"orientation\":\"v\",\"showlegend\":true,\"textposition\":\"auto\",\"x\":[\"TCEHY\"],\"xaxis\":\"x\",\"y\":[382675209302.72656],\"yaxis\":\"y\",\"type\":\"bar\"},{\"alignmentgroup\":\"True\",\"hovertemplate\":\"Ticker=%{x}\\u003cbr\\u003eDate=2019-02-12 05:00:00+00:00\\u003cbr\\u003eMarketCap=%{y}\\u003cextra\\u003e\\u003c\\u002fextra\\u003e\",\"legendgroup\":\"TSLA\",\"marker\":{\"color\":\"#FECB52\",\"pattern\":{\"shape\":\"\"}},\"name\":\"TSLA\",\"offsetgroup\":\"TSLA\",\"orientation\":\"v\",\"showlegend\":true,\"textposition\":\"auto\",\"x\":[\"TSLA\"],\"xaxis\":\"x\",\"y\":[3480859887.1229553],\"yaxis\":\"y\",\"type\":\"bar\"}],\"name\":\"2019-02-12 05:00:00+00:00\"},{\"data\":[{\"alignmentgroup\":\"True\",\"hovertemplate\":\"Ticker=%{x}\\u003cbr\\u003eDate=2019-05-20 04:00:00+00:00\\u003cbr\\u003eMarketCap=%{y}\\u003cextra\\u003e\\u003c\\u002fextra\\u003e\",\"legendgroup\":\"AAPL\",\"marker\":{\"color\":\"#636efa\",\"pattern\":{\"shape\":\"\"}},\"name\":\"AAPL\",\"offsetgroup\":\"AAPL\",\"orientation\":\"v\",\"showlegend\":true,\"textposition\":\"auto\",\"x\":[\"AAPL\"],\"xaxis\":\"x\",\"y\":[217069010593.10742],\"yaxis\":\"y\",\"type\":\"bar\"},{\"alignmentgroup\":\"True\",\"hovertemplate\":\"Ticker=%{x}\\u003cbr\\u003eDate=2019-05-20 04:00:00+00:00\\u003cbr\\u003eMarketCap=%{y}\\u003cextra\\u003e\\u003c\\u002fextra\\u003e\",\"legendgroup\":\"AMD\",\"marker\":{\"color\":\"#EF553B\",\"pattern\":{\"shape\":\"\"}},\"name\":\"AMD\",\"offsetgroup\":\"AMD\",\"orientation\":\"v\",\"showlegend\":true,\"textposition\":\"auto\",\"x\":[\"AMD\"],\"xaxis\":\"x\",\"y\":[30251234247.43164],\"yaxis\":\"y\",\"type\":\"bar\"},{\"alignmentgroup\":\"True\",\"hovertemplate\":\"Ticker=%{x}\\u003cbr\\u003eDate=2019-05-20 04:00:00+00:00\\u003cbr\\u003eMarketCap=%{y}\\u003cextra\\u003e\\u003c\\u002fextra\\u003e\",\"legendgroup\":\"AMZN\",\"marker\":{\"color\":\"#00cc96\",\"pattern\":{\"shape\":\"\"}},\"name\":\"AMZN\",\"offsetgroup\":\"AMZN\",\"orientation\":\"v\",\"showlegend\":true,\"textposition\":\"auto\",\"x\":[\"AMZN\"],\"xaxis\":\"x\",\"y\":[45802385329.437256],\"yaxis\":\"y\",\"type\":\"bar\"},{\"alignmentgroup\":\"True\",\"hovertemplate\":\"Ticker=%{x}\\u003cbr\\u003eDate=2019-05-20 04:00:00+00:00\\u003cbr\\u003eMarketCap=%{y}\\u003cextra\\u003e\\u003c\\u002fextra\\u003e\",\"legendgroup\":\"BABA\",\"marker\":{\"color\":\"#ab63fa\",\"pattern\":{\"shape\":\"\"}},\"name\":\"BABA\",\"offsetgroup\":\"BABA\",\"orientation\":\"v\",\"showlegend\":true,\"textposition\":\"auto\",\"x\":[\"BABA\"],\"xaxis\":\"x\",\"y\":[430786696443.22266],\"yaxis\":\"y\",\"type\":\"bar\"},{\"alignmentgroup\":\"True\",\"hovertemplate\":\"Ticker=%{x}\\u003cbr\\u003eDate=2019-05-20 04:00:00+00:00\\u003cbr\\u003eMarketCap=%{y}\\u003cextra\\u003e\\u003c\\u002fextra\\u003e\",\"legendgroup\":\"BIDU\",\"marker\":{\"color\":\"#FFA15A\",\"pattern\":{\"shape\":\"\"}},\"name\":\"BIDU\",\"offsetgroup\":\"BIDU\",\"orientation\":\"v\",\"showlegend\":true,\"textposition\":\"auto\",\"x\":[\"BIDU\"],\"xaxis\":\"x\",\"y\":[41231769010.56104],\"yaxis\":\"y\",\"type\":\"bar\"},{\"alignmentgroup\":\"True\",\"hovertemplate\":\"Ticker=%{x}\\u003cbr\\u003eDate=2019-05-20 04:00:00+00:00\\u003cbr\\u003eMarketCap=%{y}\\u003cextra\\u003e\\u003c\\u002fextra\\u003e\",\"legendgroup\":\"GOOGL\",\"marker\":{\"color\":\"#19d3f3\",\"pattern\":{\"shape\":\"\"}},\"name\":\"GOOGL\",\"offsetgroup\":\"GOOGL\",\"orientation\":\"v\",\"showlegend\":true,\"textposition\":\"auto\",\"x\":[\"GOOGL\"],\"xaxis\":\"x\",\"y\":[39559082783.188354],\"yaxis\":\"y\",\"type\":\"bar\"},{\"alignmentgroup\":\"True\",\"hovertemplate\":\"Ticker=%{x}\\u003cbr\\u003eDate=2019-05-20 04:00:00+00:00\\u003cbr\\u003eMarketCap=%{y}\\u003cextra\\u003e\\u003c\\u002fextra\\u003e\",\"legendgroup\":\"META\",\"marker\":{\"color\":\"#FF6692\",\"pattern\":{\"shape\":\"\"}},\"name\":\"META\",\"offsetgroup\":\"META\",\"orientation\":\"v\",\"showlegend\":true,\"textposition\":\"auto\",\"x\":[\"META\"],\"xaxis\":\"x\",\"y\":[null],\"yaxis\":\"y\",\"type\":\"bar\"},{\"alignmentgroup\":\"True\",\"hovertemplate\":\"Ticker=%{x}\\u003cbr\\u003eDate=2019-05-20 04:00:00+00:00\\u003cbr\\u003eMarketCap=%{y}\\u003cextra\\u003e\\u003c\\u002fextra\\u003e\",\"legendgroup\":\"MSFT\",\"marker\":{\"color\":\"#B6E880\",\"pattern\":{\"shape\":\"\"}},\"name\":\"MSFT\",\"offsetgroup\":\"MSFT\",\"orientation\":\"v\",\"showlegend\":true,\"textposition\":\"auto\",\"x\":[\"MSFT\"],\"xaxis\":\"x\",\"y\":[925421421401.1914],\"yaxis\":\"y\",\"type\":\"bar\"},{\"alignmentgroup\":\"True\",\"hovertemplate\":\"Ticker=%{x}\\u003cbr\\u003eDate=2019-05-20 04:00:00+00:00\\u003cbr\\u003eMarketCap=%{y}\\u003cextra\\u003e\\u003c\\u002fextra\\u003e\",\"legendgroup\":\"TCEHY\",\"marker\":{\"color\":\"#FF97FF\",\"pattern\":{\"shape\":\"\"}},\"name\":\"TCEHY\",\"offsetgroup\":\"TCEHY\",\"orientation\":\"v\",\"showlegend\":true,\"textposition\":\"auto\",\"x\":[\"TCEHY\"],\"xaxis\":\"x\",\"y\":[400538950327.7988],\"yaxis\":\"y\",\"type\":\"bar\"},{\"alignmentgroup\":\"True\",\"hovertemplate\":\"Ticker=%{x}\\u003cbr\\u003eDate=2019-05-20 04:00:00+00:00\\u003cbr\\u003eMarketCap=%{y}\\u003cextra\\u003e\\u003c\\u002fextra\\u003e\",\"legendgroup\":\"TSLA\",\"marker\":{\"color\":\"#FECB52\",\"pattern\":{\"shape\":\"\"}},\"name\":\"TSLA\",\"offsetgroup\":\"TSLA\",\"orientation\":\"v\",\"showlegend\":true,\"textposition\":\"auto\",\"x\":[\"TSLA\"],\"xaxis\":\"x\",\"y\":[2689837404.975891],\"yaxis\":\"y\",\"type\":\"bar\"}],\"name\":\"2019-05-20 04:00:00+00:00\"},{\"data\":[{\"alignmentgroup\":\"True\",\"hovertemplate\":\"Ticker=%{x}\\u003cbr\\u003eDate=2019-08-14 16:00:00+00:00\\u003cbr\\u003eMarketCap=%{y}\\u003cextra\\u003e\\u003c\\u002fextra\\u003e\",\"legendgroup\":\"AAPL\",\"marker\":{\"color\":\"#636efa\",\"pattern\":{\"shape\":\"\"}},\"name\":\"AAPL\",\"offsetgroup\":\"AAPL\",\"orientation\":\"v\",\"showlegend\":true,\"textposition\":\"auto\",\"x\":[\"AAPL\"],\"xaxis\":\"x\",\"y\":[228478945594.7324],\"yaxis\":\"y\",\"type\":\"bar\"},{\"alignmentgroup\":\"True\",\"hovertemplate\":\"Ticker=%{x}\\u003cbr\\u003eDate=2019-08-14 16:00:00+00:00\\u003cbr\\u003eMarketCap=%{y}\\u003cextra\\u003e\\u003c\\u002fextra\\u003e\",\"legendgroup\":\"AMD\",\"marker\":{\"color\":\"#EF553B\",\"pattern\":{\"shape\":\"\"}},\"name\":\"AMD\",\"offsetgroup\":\"AMD\",\"orientation\":\"v\",\"showlegend\":true,\"textposition\":\"auto\",\"x\":[\"AMD\"],\"xaxis\":\"x\",\"y\":[33597771842.608887],\"yaxis\":\"y\",\"type\":\"bar\"},{\"alignmentgroup\":\"True\",\"hovertemplate\":\"Ticker=%{x}\\u003cbr\\u003eDate=2019-08-14 16:00:00+00:00\\u003cbr\\u003eMarketCap=%{y}\\u003cextra\\u003e\\u003c\\u002fextra\\u003e\",\"legendgroup\":\"AMZN\",\"marker\":{\"color\":\"#00cc96\",\"pattern\":{\"shape\":\"\"}},\"name\":\"AMZN\",\"offsetgroup\":\"AMZN\",\"orientation\":\"v\",\"showlegend\":true,\"textposition\":\"auto\",\"x\":[\"AMZN\"],\"xaxis\":\"x\",\"y\":[45874715001.98193],\"yaxis\":\"y\",\"type\":\"bar\"},{\"alignmentgroup\":\"True\",\"hovertemplate\":\"Ticker=%{x}\\u003cbr\\u003eDate=2019-08-14 16:00:00+00:00\\u003cbr\\u003eMarketCap=%{y}\\u003cextra\\u003e\\u003c\\u002fextra\\u003e\",\"legendgroup\":\"BABA\",\"marker\":{\"color\":\"#ab63fa\",\"pattern\":{\"shape\":\"\"}},\"name\":\"BABA\",\"offsetgroup\":\"BABA\",\"orientation\":\"v\",\"showlegend\":true,\"textposition\":\"auto\",\"x\":[\"BABA\"],\"xaxis\":\"x\",\"y\":[450361886650.05273],\"yaxis\":\"y\",\"type\":\"bar\"},{\"alignmentgroup\":\"True\",\"hovertemplate\":\"Ticker=%{x}\\u003cbr\\u003eDate=2019-08-14 16:00:00+00:00\\u003cbr\\u003eMarketCap=%{y}\\u003cextra\\u003e\\u003c\\u002fextra\\u003e\",\"legendgroup\":\"BIDU\",\"marker\":{\"color\":\"#FFA15A\",\"pattern\":{\"shape\":\"\"}},\"name\":\"BIDU\",\"offsetgroup\":\"BIDU\",\"orientation\":\"v\",\"showlegend\":true,\"textposition\":\"auto\",\"x\":[\"BIDU\"],\"xaxis\":\"x\",\"y\":[36870467206.27832],\"yaxis\":\"y\",\"type\":\"bar\"},{\"alignmentgroup\":\"True\",\"hovertemplate\":\"Ticker=%{x}\\u003cbr\\u003eDate=2019-08-14 16:00:00+00:00\\u003cbr\\u003eMarketCap=%{y}\\u003cextra\\u003e\\u003c\\u002fextra\\u003e\",\"legendgroup\":\"GOOGL\",\"marker\":{\"color\":\"#19d3f3\",\"pattern\":{\"shape\":\"\"}},\"name\":\"GOOGL\",\"offsetgroup\":\"GOOGL\",\"orientation\":\"v\",\"showlegend\":true,\"textposition\":\"auto\",\"x\":[\"GOOGL\"],\"xaxis\":\"x\",\"y\":[41247407687.003784],\"yaxis\":\"y\",\"type\":\"bar\"},{\"alignmentgroup\":\"True\",\"hovertemplate\":\"Ticker=%{x}\\u003cbr\\u003eDate=2019-08-14 16:00:00+00:00\\u003cbr\\u003eMarketCap=%{y}\\u003cextra\\u003e\\u003c\\u002fextra\\u003e\",\"legendgroup\":\"META\",\"marker\":{\"color\":\"#FF6692\",\"pattern\":{\"shape\":\"\"}},\"name\":\"META\",\"offsetgroup\":\"META\",\"orientation\":\"v\",\"showlegend\":true,\"textposition\":\"auto\",\"x\":[\"META\"],\"xaxis\":\"x\",\"y\":[null],\"yaxis\":\"y\",\"type\":\"bar\"},{\"alignmentgroup\":\"True\",\"hovertemplate\":\"Ticker=%{x}\\u003cbr\\u003eDate=2019-08-14 16:00:00+00:00\\u003cbr\\u003eMarketCap=%{y}\\u003cextra\\u003e\\u003c\\u002fextra\\u003e\",\"legendgroup\":\"MSFT\",\"marker\":{\"color\":\"#B6E880\",\"pattern\":{\"shape\":\"\"}},\"name\":\"MSFT\",\"offsetgroup\":\"MSFT\",\"orientation\":\"v\",\"showlegend\":true,\"textposition\":\"auto\",\"x\":[\"MSFT\"],\"xaxis\":\"x\",\"y\":[1011253663272.8124],\"yaxis\":\"y\",\"type\":\"bar\"},{\"alignmentgroup\":\"True\",\"hovertemplate\":\"Ticker=%{x}\\u003cbr\\u003eDate=2019-08-14 16:00:00+00:00\\u003cbr\\u003eMarketCap=%{y}\\u003cextra\\u003e\\u003c\\u002fextra\\u003e\",\"legendgroup\":\"TCEHY\",\"marker\":{\"color\":\"#FF97FF\",\"pattern\":{\"shape\":\"\"}},\"name\":\"TCEHY\",\"offsetgroup\":\"TCEHY\",\"orientation\":\"v\",\"showlegend\":true,\"textposition\":\"auto\",\"x\":[\"TCEHY\"],\"xaxis\":\"x\",\"y\":[391933775750.0078],\"yaxis\":\"y\",\"type\":\"bar\"},{\"alignmentgroup\":\"True\",\"hovertemplate\":\"Ticker=%{x}\\u003cbr\\u003eDate=2019-08-14 16:00:00+00:00\\u003cbr\\u003eMarketCap=%{y}\\u003cextra\\u003e\\u003c\\u002fextra\\u003e\",\"legendgroup\":\"TSLA\",\"marker\":{\"color\":\"#FECB52\",\"pattern\":{\"shape\":\"\"}},\"name\":\"TSLA\",\"offsetgroup\":\"TSLA\",\"orientation\":\"v\",\"showlegend\":true,\"textposition\":\"auto\",\"x\":[\"TSLA\"],\"xaxis\":\"x\",\"y\":[2826428644.363404],\"yaxis\":\"y\",\"type\":\"bar\"}],\"name\":\"2019-08-14 16:00:00+00:00\"},{\"data\":[{\"alignmentgroup\":\"True\",\"hovertemplate\":\"Ticker=%{x}\\u003cbr\\u003eDate=2019-11-14 05:00:00+00:00\\u003cbr\\u003eMarketCap=%{y}\\u003cextra\\u003e\\u003c\\u002fextra\\u003e\",\"legendgroup\":\"AAPL\",\"marker\":{\"color\":\"#636efa\",\"pattern\":{\"shape\":\"\"}},\"name\":\"AAPL\",\"offsetgroup\":\"AAPL\",\"orientation\":\"v\",\"showlegend\":true,\"textposition\":\"auto\",\"x\":[\"AAPL\"],\"xaxis\":\"x\",\"y\":[277181267619.2617],\"yaxis\":\"y\",\"type\":\"bar\"},{\"alignmentgroup\":\"True\",\"hovertemplate\":\"Ticker=%{x}\\u003cbr\\u003eDate=2019-11-14 05:00:00+00:00\\u003cbr\\u003eMarketCap=%{y}\\u003cextra\\u003e\\u003c\\u002fextra\\u003e\",\"legendgroup\":\"AMD\",\"marker\":{\"color\":\"#EF553B\",\"pattern\":{\"shape\":\"\"}},\"name\":\"AMD\",\"offsetgroup\":\"AMD\",\"orientation\":\"v\",\"showlegend\":true,\"textposition\":\"auto\",\"x\":[\"AMD\"],\"xaxis\":\"x\",\"y\":[39776234957.01318],\"yaxis\":\"y\",\"type\":\"bar\"},{\"alignmentgroup\":\"True\",\"hovertemplate\":\"Ticker=%{x}\\u003cbr\\u003eDate=2019-11-14 05:00:00+00:00\\u003cbr\\u003eMarketCap=%{y}\\u003cextra\\u003e\\u003c\\u002fextra\\u003e\",\"legendgroup\":\"AMZN\",\"marker\":{\"color\":\"#00cc96\",\"pattern\":{\"shape\":\"\"}},\"name\":\"AMZN\",\"offsetgroup\":\"AMZN\",\"orientation\":\"v\",\"showlegend\":true,\"textposition\":\"auto\",\"x\":[\"AMZN\"],\"xaxis\":\"x\",\"y\":[43671446460.9375],\"yaxis\":\"y\",\"type\":\"bar\"},{\"alignmentgroup\":\"True\",\"hovertemplate\":\"Ticker=%{x}\\u003cbr\\u003eDate=2019-11-14 05:00:00+00:00\\u003cbr\\u003eMarketCap=%{y}\\u003cextra\\u003e\\u003c\\u002fextra\\u003e\",\"legendgroup\":\"BABA\",\"marker\":{\"color\":\"#ab63fa\",\"pattern\":{\"shape\":\"\"}},\"name\":\"BABA\",\"offsetgroup\":\"BABA\",\"orientation\":\"v\",\"showlegend\":true,\"textposition\":\"auto\",\"x\":[\"BABA\"],\"xaxis\":\"x\",\"y\":[532072737505.7656],\"yaxis\":\"y\",\"type\":\"bar\"},{\"alignmentgroup\":\"True\",\"hovertemplate\":\"Ticker=%{x}\\u003cbr\\u003eDate=2019-11-14 05:00:00+00:00\\u003cbr\\u003eMarketCap=%{y}\\u003cextra\\u003e\\u003c\\u002fextra\\u003e\",\"legendgroup\":\"BIDU\",\"marker\":{\"color\":\"#FFA15A\",\"pattern\":{\"shape\":\"\"}},\"name\":\"BIDU\",\"offsetgroup\":\"BIDU\",\"orientation\":\"v\",\"showlegend\":true,\"textposition\":\"auto\",\"x\":[\"BIDU\"],\"xaxis\":\"x\",\"y\":[36655747435.302734],\"yaxis\":\"y\",\"type\":\"bar\"},{\"alignmentgroup\":\"True\",\"hovertemplate\":\"Ticker=%{x}\\u003cbr\\u003eDate=2019-11-14 05:00:00+00:00\\u003cbr\\u003eMarketCap=%{y}\\u003cextra\\u003e\\u003c\\u002fextra\\u003e\",\"legendgroup\":\"GOOGL\",\"marker\":{\"color\":\"#19d3f3\",\"pattern\":{\"shape\":\"\"}},\"name\":\"GOOGL\",\"offsetgroup\":\"GOOGL\",\"orientation\":\"v\",\"showlegend\":true,\"textposition\":\"auto\",\"x\":[\"GOOGL\"],\"xaxis\":\"x\",\"y\":[44749072643.73779],\"yaxis\":\"y\",\"type\":\"bar\"},{\"alignmentgroup\":\"True\",\"hovertemplate\":\"Ticker=%{x}\\u003cbr\\u003eDate=2019-11-14 05:00:00+00:00\\u003cbr\\u003eMarketCap=%{y}\\u003cextra\\u003e\\u003c\\u002fextra\\u003e\",\"legendgroup\":\"META\",\"marker\":{\"color\":\"#FF6692\",\"pattern\":{\"shape\":\"\"}},\"name\":\"META\",\"offsetgroup\":\"META\",\"orientation\":\"v\",\"showlegend\":true,\"textposition\":\"auto\",\"x\":[\"META\"],\"xaxis\":\"x\",\"y\":[null],\"yaxis\":\"y\",\"type\":\"bar\"},{\"alignmentgroup\":\"True\",\"hovertemplate\":\"Ticker=%{x}\\u003cbr\\u003eDate=2019-11-14 05:00:00+00:00\\u003cbr\\u003eMarketCap=%{y}\\u003cextra\\u003e\\u003c\\u002fextra\\u003e\",\"legendgroup\":\"MSFT\",\"marker\":{\"color\":\"#B6E880\",\"pattern\":{\"shape\":\"\"}},\"name\":\"MSFT\",\"offsetgroup\":\"MSFT\",\"orientation\":\"v\",\"showlegend\":true,\"textposition\":\"auto\",\"x\":[\"MSFT\"],\"xaxis\":\"x\",\"y\":[1068707390000.7812],\"yaxis\":\"y\",\"type\":\"bar\"},{\"alignmentgroup\":\"True\",\"hovertemplate\":\"Ticker=%{x}\\u003cbr\\u003eDate=2019-11-14 05:00:00+00:00\\u003cbr\\u003eMarketCap=%{y}\\u003cextra\\u003e\\u003c\\u002fextra\\u003e\",\"legendgroup\":\"TCEHY\",\"marker\":{\"color\":\"#FF97FF\",\"pattern\":{\"shape\":\"\"}},\"name\":\"TCEHY\",\"offsetgroup\":\"TCEHY\",\"orientation\":\"v\",\"showlegend\":true,\"textposition\":\"auto\",\"x\":[\"TCEHY\"],\"xaxis\":\"x\",\"y\":[375937786353.2285],\"yaxis\":\"y\",\"type\":\"bar\"},{\"alignmentgroup\":\"True\",\"hovertemplate\":\"Ticker=%{x}\\u003cbr\\u003eDate=2019-11-14 05:00:00+00:00\\u003cbr\\u003eMarketCap=%{y}\\u003cextra\\u003e\\u003c\\u002fextra\\u003e\",\"legendgroup\":\"TSLA\",\"marker\":{\"color\":\"#FECB52\",\"pattern\":{\"shape\":\"\"}},\"name\":\"TSLA\",\"offsetgroup\":\"TSLA\",\"orientation\":\"v\",\"showlegend\":true,\"textposition\":\"auto\",\"x\":[\"TSLA\"],\"xaxis\":\"x\",\"y\":[3962364145.516235],\"yaxis\":\"y\",\"type\":\"bar\"}],\"name\":\"2019-11-14 05:00:00+00:00\"},{\"data\":[{\"alignmentgroup\":\"True\",\"hovertemplate\":\"Ticker=%{x}\\u003cbr\\u003eDate=2020-02-19 17:00:00+00:00\\u003cbr\\u003eMarketCap=%{y}\\u003cextra\\u003e\\u003c\\u002fextra\\u003e\",\"legendgroup\":\"AAPL\",\"marker\":{\"color\":\"#636efa\",\"pattern\":{\"shape\":\"\"}},\"name\":\"AAPL\",\"offsetgroup\":\"AAPL\",\"orientation\":\"v\",\"showlegend\":true,\"textposition\":\"auto\",\"x\":[\"AAPL\"],\"xaxis\":\"x\",\"y\":[329839612630.52734],\"yaxis\":\"y\",\"type\":\"bar\"},{\"alignmentgroup\":\"True\",\"hovertemplate\":\"Ticker=%{x}\\u003cbr\\u003eDate=2020-02-19 17:00:00+00:00\\u003cbr\\u003eMarketCap=%{y}\\u003cextra\\u003e\\u003c\\u002fextra\\u003e\",\"legendgroup\":\"AMD\",\"marker\":{\"color\":\"#EF553B\",\"pattern\":{\"shape\":\"\"}},\"name\":\"AMD\",\"offsetgroup\":\"AMD\",\"orientation\":\"v\",\"showlegend\":true,\"textposition\":\"auto\",\"x\":[\"AMD\"],\"xaxis\":\"x\",\"y\":[56890606912.0],\"yaxis\":\"y\",\"type\":\"bar\"},{\"alignmentgroup\":\"True\",\"hovertemplate\":\"Ticker=%{x}\\u003cbr\\u003eDate=2020-02-19 17:00:00+00:00\\u003cbr\\u003eMarketCap=%{y}\\u003cextra\\u003e\\u003c\\u002fextra\\u003e\",\"legendgroup\":\"AMZN\",\"marker\":{\"color\":\"#00cc96\",\"pattern\":{\"shape\":\"\"}},\"name\":\"AMZN\",\"offsetgroup\":\"AMZN\",\"orientation\":\"v\",\"showlegend\":true,\"textposition\":\"auto\",\"x\":[\"AMZN\"],\"xaxis\":\"x\",\"y\":[48878138726.31543],\"yaxis\":\"y\",\"type\":\"bar\"},{\"alignmentgroup\":\"True\",\"hovertemplate\":\"Ticker=%{x}\\u003cbr\\u003eDate=2020-02-19 17:00:00+00:00\\u003cbr\\u003eMarketCap=%{y}\\u003cextra\\u003e\\u003c\\u002fextra\\u003e\",\"legendgroup\":\"BABA\",\"marker\":{\"color\":\"#ab63fa\",\"pattern\":{\"shape\":\"\"}},\"name\":\"BABA\",\"offsetgroup\":\"BABA\",\"orientation\":\"v\",\"showlegend\":true,\"textposition\":\"auto\",\"x\":[\"BABA\"],\"xaxis\":\"x\",\"y\":[573106967007.4102],\"yaxis\":\"y\",\"type\":\"bar\"},{\"alignmentgroup\":\"True\",\"hovertemplate\":\"Ticker=%{x}\\u003cbr\\u003eDate=2020-02-19 17:00:00+00:00\\u003cbr\\u003eMarketCap=%{y}\\u003cextra\\u003e\\u003c\\u002fextra\\u003e\",\"legendgroup\":\"BIDU\",\"marker\":{\"color\":\"#FFA15A\",\"pattern\":{\"shape\":\"\"}},\"name\":\"BIDU\",\"offsetgroup\":\"BIDU\",\"orientation\":\"v\",\"showlegend\":true,\"textposition\":\"auto\",\"x\":[\"BIDU\"],\"xaxis\":\"x\",\"y\":[48523718753.97168],\"yaxis\":\"y\",\"type\":\"bar\"},{\"alignmentgroup\":\"True\",\"hovertemplate\":\"Ticker=%{x}\\u003cbr\\u003eDate=2020-02-19 17:00:00+00:00\\u003cbr\\u003eMarketCap=%{y}\\u003cextra\\u003e\\u003c\\u002fextra\\u003e\",\"legendgroup\":\"GOOGL\",\"marker\":{\"color\":\"#19d3f3\",\"pattern\":{\"shape\":\"\"}},\"name\":\"GOOGL\",\"offsetgroup\":\"GOOGL\",\"orientation\":\"v\",\"showlegend\":true,\"textposition\":\"auto\",\"x\":[\"GOOGL\"],\"xaxis\":\"x\",\"y\":[48827249315.08887],\"yaxis\":\"y\",\"type\":\"bar\"},{\"alignmentgroup\":\"True\",\"hovertemplate\":\"Ticker=%{x}\\u003cbr\\u003eDate=2020-02-19 17:00:00+00:00\\u003cbr\\u003eMarketCap=%{y}\\u003cextra\\u003e\\u003c\\u002fextra\\u003e\",\"legendgroup\":\"META\",\"marker\":{\"color\":\"#FF6692\",\"pattern\":{\"shape\":\"\"}},\"name\":\"META\",\"offsetgroup\":\"META\",\"orientation\":\"v\",\"showlegend\":true,\"textposition\":\"auto\",\"x\":[\"META\"],\"xaxis\":\"x\",\"y\":[null],\"yaxis\":\"y\",\"type\":\"bar\"},{\"alignmentgroup\":\"True\",\"hovertemplate\":\"Ticker=%{x}\\u003cbr\\u003eDate=2020-02-19 17:00:00+00:00\\u003cbr\\u003eMarketCap=%{y}\\u003cextra\\u003e\\u003c\\u002fextra\\u003e\",\"legendgroup\":\"MSFT\",\"marker\":{\"color\":\"#B6E880\",\"pattern\":{\"shape\":\"\"}},\"name\":\"MSFT\",\"offsetgroup\":\"MSFT\",\"orientation\":\"v\",\"showlegend\":true,\"textposition\":\"auto\",\"x\":[\"MSFT\"],\"xaxis\":\"x\",\"y\":[1250669554183.6719],\"yaxis\":\"y\",\"type\":\"bar\"},{\"alignmentgroup\":\"True\",\"hovertemplate\":\"Ticker=%{x}\\u003cbr\\u003eDate=2020-02-19 17:00:00+00:00\\u003cbr\\u003eMarketCap=%{y}\\u003cextra\\u003e\\u003c\\u002fextra\\u003e\",\"legendgroup\":\"TCEHY\",\"marker\":{\"color\":\"#FF97FF\",\"pattern\":{\"shape\":\"\"}},\"name\":\"TCEHY\",\"offsetgroup\":\"TCEHY\",\"orientation\":\"v\",\"showlegend\":true,\"textposition\":\"auto\",\"x\":[\"TCEHY\"],\"xaxis\":\"x\",\"y\":[449698275098.64453],\"yaxis\":\"y\",\"type\":\"bar\"},{\"alignmentgroup\":\"True\",\"hovertemplate\":\"Ticker=%{x}\\u003cbr\\u003eDate=2020-02-19 17:00:00+00:00\\u003cbr\\u003eMarketCap=%{y}\\u003cextra\\u003e\\u003c\\u002fextra\\u003e\",\"legendgroup\":\"TSLA\",\"marker\":{\"color\":\"#FECB52\",\"pattern\":{\"shape\":\"\"}},\"name\":\"TSLA\",\"offsetgroup\":\"TSLA\",\"orientation\":\"v\",\"showlegend\":true,\"textposition\":\"auto\",\"x\":[\"TSLA\"],\"xaxis\":\"x\",\"y\":[7932783095.654785],\"yaxis\":\"y\",\"type\":\"bar\"}],\"name\":\"2020-02-19 17:00:00+00:00\"},{\"data\":[{\"alignmentgroup\":\"True\",\"hovertemplate\":\"Ticker=%{x}\\u003cbr\\u003eDate=2020-05-16 16:00:00+00:00\\u003cbr\\u003eMarketCap=%{y}\\u003cextra\\u003e\\u003c\\u002fextra\\u003e\",\"legendgroup\":\"AAPL\",\"marker\":{\"color\":\"#636efa\",\"pattern\":{\"shape\":\"\"}},\"name\":\"AAPL\",\"offsetgroup\":\"AAPL\",\"orientation\":\"v\",\"showlegend\":true,\"textposition\":\"auto\",\"x\":[\"AAPL\"],\"xaxis\":\"x\",\"y\":[314867906932.0625],\"yaxis\":\"y\",\"type\":\"bar\"},{\"alignmentgroup\":\"True\",\"hovertemplate\":\"Ticker=%{x}\\u003cbr\\u003eDate=2020-05-16 16:00:00+00:00\\u003cbr\\u003eMarketCap=%{y}\\u003cextra\\u003e\\u003c\\u002fextra\\u003e\",\"legendgroup\":\"AMD\",\"marker\":{\"color\":\"#EF553B\",\"pattern\":{\"shape\":\"\"}},\"name\":\"AMD\",\"offsetgroup\":\"AMD\",\"orientation\":\"v\",\"showlegend\":true,\"textposition\":\"auto\",\"x\":[\"AMD\"],\"xaxis\":\"x\",\"y\":[62961173757.93457],\"yaxis\":\"y\",\"type\":\"bar\"},{\"alignmentgroup\":\"True\",\"hovertemplate\":\"Ticker=%{x}\\u003cbr\\u003eDate=2020-05-16 16:00:00+00:00\\u003cbr\\u003eMarketCap=%{y}\\u003cextra\\u003e\\u003c\\u002fextra\\u003e\",\"legendgroup\":\"AMZN\",\"marker\":{\"color\":\"#00cc96\",\"pattern\":{\"shape\":\"\"}},\"name\":\"AMZN\",\"offsetgroup\":\"AMZN\",\"orientation\":\"v\",\"showlegend\":true,\"textposition\":\"auto\",\"x\":[\"AMZN\"],\"xaxis\":\"x\",\"y\":[57948068116.370605],\"yaxis\":\"y\",\"type\":\"bar\"},{\"alignmentgroup\":\"True\",\"hovertemplate\":\"Ticker=%{x}\\u003cbr\\u003eDate=2020-05-16 16:00:00+00:00\\u003cbr\\u003eMarketCap=%{y}\\u003cextra\\u003e\\u003c\\u002fextra\\u003e\",\"legendgroup\":\"BABA\",\"marker\":{\"color\":\"#ab63fa\",\"pattern\":{\"shape\":\"\"}},\"name\":\"BABA\",\"offsetgroup\":\"BABA\",\"orientation\":\"v\",\"showlegend\":true,\"textposition\":\"auto\",\"x\":[\"BABA\"],\"xaxis\":\"x\",\"y\":[561654603451.6758],\"yaxis\":\"y\",\"type\":\"bar\"},{\"alignmentgroup\":\"True\",\"hovertemplate\":\"Ticker=%{x}\\u003cbr\\u003eDate=2020-05-16 16:00:00+00:00\\u003cbr\\u003eMarketCap=%{y}\\u003cextra\\u003e\\u003c\\u002fextra\\u003e\",\"legendgroup\":\"BIDU\",\"marker\":{\"color\":\"#FFA15A\",\"pattern\":{\"shape\":\"\"}},\"name\":\"BIDU\",\"offsetgroup\":\"BIDU\",\"orientation\":\"v\",\"showlegend\":true,\"textposition\":\"auto\",\"x\":[\"BIDU\"],\"xaxis\":\"x\",\"y\":[37047930987.3667],\"yaxis\":\"y\",\"type\":\"bar\"},{\"alignmentgroup\":\"True\",\"hovertemplate\":\"Ticker=%{x}\\u003cbr\\u003eDate=2020-05-16 16:00:00+00:00\\u003cbr\\u003eMarketCap=%{y}\\u003cextra\\u003e\\u003c\\u002fextra\\u003e\",\"legendgroup\":\"GOOGL\",\"marker\":{\"color\":\"#19d3f3\",\"pattern\":{\"shape\":\"\"}},\"name\":\"GOOGL\",\"offsetgroup\":\"GOOGL\",\"orientation\":\"v\",\"showlegend\":true,\"textposition\":\"auto\",\"x\":[\"GOOGL\"],\"xaxis\":\"x\",\"y\":[46851482936.02246],\"yaxis\":\"y\",\"type\":\"bar\"},{\"alignmentgroup\":\"True\",\"hovertemplate\":\"Ticker=%{x}\\u003cbr\\u003eDate=2020-05-16 16:00:00+00:00\\u003cbr\\u003eMarketCap=%{y}\\u003cextra\\u003e\\u003c\\u002fextra\\u003e\",\"legendgroup\":\"META\",\"marker\":{\"color\":\"#FF6692\",\"pattern\":{\"shape\":\"\"}},\"name\":\"META\",\"offsetgroup\":\"META\",\"orientation\":\"v\",\"showlegend\":true,\"textposition\":\"auto\",\"x\":[\"META\"],\"xaxis\":\"x\",\"y\":[null],\"yaxis\":\"y\",\"type\":\"bar\"},{\"alignmentgroup\":\"True\",\"hovertemplate\":\"Ticker=%{x}\\u003cbr\\u003eDate=2020-05-16 16:00:00+00:00\\u003cbr\\u003eMarketCap=%{y}\\u003cextra\\u003e\\u003c\\u002fextra\\u003e\",\"legendgroup\":\"MSFT\",\"marker\":{\"color\":\"#B6E880\",\"pattern\":{\"shape\":\"\"}},\"name\":\"MSFT\",\"offsetgroup\":\"MSFT\",\"orientation\":\"v\",\"showlegend\":true,\"textposition\":\"auto\",\"x\":[\"MSFT\"],\"xaxis\":\"x\",\"y\":[1333116245839.2188],\"yaxis\":\"y\",\"type\":\"bar\"},{\"alignmentgroup\":\"True\",\"hovertemplate\":\"Ticker=%{x}\\u003cbr\\u003eDate=2020-05-16 16:00:00+00:00\\u003cbr\\u003eMarketCap=%{y}\\u003cextra\\u003e\\u003c\\u002fextra\\u003e\",\"legendgroup\":\"TCEHY\",\"marker\":{\"color\":\"#FF97FF\",\"pattern\":{\"shape\":\"\"}},\"name\":\"TCEHY\",\"offsetgroup\":\"TCEHY\",\"orientation\":\"v\",\"showlegend\":true,\"textposition\":\"auto\",\"x\":[\"TCEHY\"],\"xaxis\":\"x\",\"y\":[484418398450.8926],\"yaxis\":\"y\",\"type\":\"bar\"},{\"alignmentgroup\":\"True\",\"hovertemplate\":\"Ticker=%{x}\\u003cbr\\u003eDate=2020-05-16 16:00:00+00:00\\u003cbr\\u003eMarketCap=%{y}\\u003cextra\\u003e\\u003c\\u002fextra\\u003e\",\"legendgroup\":\"TSLA\",\"marker\":{\"color\":\"#FECB52\",\"pattern\":{\"shape\":\"\"}},\"name\":\"TSLA\",\"offsetgroup\":\"TSLA\",\"orientation\":\"v\",\"showlegend\":true,\"textposition\":\"auto\",\"x\":[\"TSLA\"],\"xaxis\":\"x\",\"y\":[10153663497.566406],\"yaxis\":\"y\",\"type\":\"bar\"}],\"name\":\"2020-05-16 16:00:00+00:00\"},{\"data\":[{\"alignmentgroup\":\"True\",\"hovertemplate\":\"Ticker=%{x}\\u003cbr\\u003eDate=2020-08-14 04:00:00+00:00\\u003cbr\\u003eMarketCap=%{y}\\u003cextra\\u003e\\u003c\\u002fextra\\u003e\",\"legendgroup\":\"AAPL\",\"marker\":{\"color\":\"#636efa\",\"pattern\":{\"shape\":\"\"}},\"name\":\"AAPL\",\"offsetgroup\":\"AAPL\",\"orientation\":\"v\",\"showlegend\":true,\"textposition\":\"auto\",\"x\":[\"AAPL\"],\"xaxis\":\"x\",\"y\":[497082225956.9922],\"yaxis\":\"y\",\"type\":\"bar\"},{\"alignmentgroup\":\"True\",\"hovertemplate\":\"Ticker=%{x}\\u003cbr\\u003eDate=2020-08-14 04:00:00+00:00\\u003cbr\\u003eMarketCap=%{y}\\u003cextra\\u003e\\u003c\\u002fextra\\u003e\",\"legendgroup\":\"AMD\",\"marker\":{\"color\":\"#EF553B\",\"pattern\":{\"shape\":\"\"}},\"name\":\"AMD\",\"offsetgroup\":\"AMD\",\"orientation\":\"v\",\"showlegend\":true,\"textposition\":\"auto\",\"x\":[\"AMD\"],\"xaxis\":\"x\",\"y\":[92354408715.88672],\"yaxis\":\"y\",\"type\":\"bar\"},{\"alignmentgroup\":\"True\",\"hovertemplate\":\"Ticker=%{x}\\u003cbr\\u003eDate=2020-08-14 04:00:00+00:00\\u003cbr\\u003eMarketCap=%{y}\\u003cextra\\u003e\\u003c\\u002fextra\\u003e\",\"legendgroup\":\"AMZN\",\"marker\":{\"color\":\"#00cc96\",\"pattern\":{\"shape\":\"\"}},\"name\":\"AMZN\",\"offsetgroup\":\"AMZN\",\"orientation\":\"v\",\"showlegend\":true,\"textposition\":\"auto\",\"x\":[\"AMZN\"],\"xaxis\":\"x\",\"y\":[78363984250.04297],\"yaxis\":\"y\",\"type\":\"bar\"},{\"alignmentgroup\":\"True\",\"hovertemplate\":\"Ticker=%{x}\\u003cbr\\u003eDate=2020-08-14 04:00:00+00:00\\u003cbr\\u003eMarketCap=%{y}\\u003cextra\\u003e\\u003c\\u002fextra\\u003e\",\"legendgroup\":\"BABA\",\"marker\":{\"color\":\"#ab63fa\",\"pattern\":{\"shape\":\"\"}},\"name\":\"BABA\",\"offsetgroup\":\"BABA\",\"orientation\":\"v\",\"showlegend\":true,\"textposition\":\"auto\",\"x\":[\"BABA\"],\"xaxis\":\"x\",\"y\":[705829169532.5938],\"yaxis\":\"y\",\"type\":\"bar\"},{\"alignmentgroup\":\"True\",\"hovertemplate\":\"Ticker=%{x}\\u003cbr\\u003eDate=2020-08-14 04:00:00+00:00\\u003cbr\\u003eMarketCap=%{y}\\u003cextra\\u003e\\u003c\\u002fextra\\u003e\",\"legendgroup\":\"BIDU\",\"marker\":{\"color\":\"#FFA15A\",\"pattern\":{\"shape\":\"\"}},\"name\":\"BIDU\",\"offsetgroup\":\"BIDU\",\"orientation\":\"v\",\"showlegend\":true,\"textposition\":\"auto\",\"x\":[\"BIDU\"],\"xaxis\":\"x\",\"y\":[43696776340.36133],\"yaxis\":\"y\",\"type\":\"bar\"},{\"alignmentgroup\":\"True\",\"hovertemplate\":\"Ticker=%{x}\\u003cbr\\u003eDate=2020-08-14 04:00:00+00:00\\u003cbr\\u003eMarketCap=%{y}\\u003cextra\\u003e\\u003c\\u002fextra\\u003e\",\"legendgroup\":\"GOOGL\",\"marker\":{\"color\":\"#19d3f3\",\"pattern\":{\"shape\":\"\"}},\"name\":\"GOOGL\",\"offsetgroup\":\"GOOGL\",\"orientation\":\"v\",\"showlegend\":true,\"textposition\":\"auto\",\"x\":[\"GOOGL\"],\"xaxis\":\"x\",\"y\":[51647173338.28369],\"yaxis\":\"y\",\"type\":\"bar\"},{\"alignmentgroup\":\"True\",\"hovertemplate\":\"Ticker=%{x}\\u003cbr\\u003eDate=2020-08-14 04:00:00+00:00\\u003cbr\\u003eMarketCap=%{y}\\u003cextra\\u003e\\u003c\\u002fextra\\u003e\",\"legendgroup\":\"META\",\"marker\":{\"color\":\"#FF6692\",\"pattern\":{\"shape\":\"\"}},\"name\":\"META\",\"offsetgroup\":\"META\",\"orientation\":\"v\",\"showlegend\":true,\"textposition\":\"auto\",\"x\":[\"META\"],\"xaxis\":\"x\",\"y\":[null],\"yaxis\":\"y\",\"type\":\"bar\"},{\"alignmentgroup\":\"True\",\"hovertemplate\":\"Ticker=%{x}\\u003cbr\\u003eDate=2020-08-14 04:00:00+00:00\\u003cbr\\u003eMarketCap=%{y}\\u003cextra\\u003e\\u003c\\u002fextra\\u003e\",\"legendgroup\":\"MSFT\",\"marker\":{\"color\":\"#B6E880\",\"pattern\":{\"shape\":\"\"}},\"name\":\"MSFT\",\"offsetgroup\":\"MSFT\",\"orientation\":\"v\",\"showlegend\":true,\"textposition\":\"auto\",\"x\":[\"MSFT\"],\"xaxis\":\"x\",\"y\":[1524637553749.0],\"yaxis\":\"y\",\"type\":\"bar\"},{\"alignmentgroup\":\"True\",\"hovertemplate\":\"Ticker=%{x}\\u003cbr\\u003eDate=2020-08-14 04:00:00+00:00\\u003cbr\\u003eMarketCap=%{y}\\u003cextra\\u003e\\u003c\\u002fextra\\u003e\",\"legendgroup\":\"TCEHY\",\"marker\":{\"color\":\"#FF97FF\",\"pattern\":{\"shape\":\"\"}},\"name\":\"TCEHY\",\"offsetgroup\":\"TCEHY\",\"orientation\":\"v\",\"showlegend\":true,\"textposition\":\"auto\",\"x\":[\"TCEHY\"],\"xaxis\":\"x\",\"y\":[606702746016.5625],\"yaxis\":\"y\",\"type\":\"bar\"},{\"alignmentgroup\":\"True\",\"hovertemplate\":\"Ticker=%{x}\\u003cbr\\u003eDate=2020-08-14 04:00:00+00:00\\u003cbr\\u003eMarketCap=%{y}\\u003cextra\\u003e\\u003c\\u002fextra\\u003e\",\"legendgroup\":\"TSLA\",\"marker\":{\"color\":\"#FECB52\",\"pattern\":{\"shape\":\"\"}},\"name\":\"TSLA\",\"offsetgroup\":\"TSLA\",\"orientation\":\"v\",\"showlegend\":true,\"textposition\":\"auto\",\"x\":[\"TSLA\"],\"xaxis\":\"x\",\"y\":[22990175212.631226],\"yaxis\":\"y\",\"type\":\"bar\"}],\"name\":\"2020-08-14 04:00:00+00:00\"},{\"data\":[{\"alignmentgroup\":\"True\",\"hovertemplate\":\"Ticker=%{x}\\u003cbr\\u003eDate=2020-11-12 05:00:00+00:00\\u003cbr\\u003eMarketCap=%{y}\\u003cextra\\u003e\\u003c\\u002fextra\\u003e\",\"legendgroup\":\"AAPL\",\"marker\":{\"color\":\"#636efa\",\"pattern\":{\"shape\":\"\"}},\"name\":\"AAPL\",\"offsetgroup\":\"AAPL\",\"orientation\":\"v\",\"showlegend\":true,\"textposition\":\"auto\",\"x\":[\"AAPL\"],\"xaxis\":\"x\",\"y\":[1891911955980.0],\"yaxis\":\"y\",\"type\":\"bar\"},{\"alignmentgroup\":\"True\",\"hovertemplate\":\"Ticker=%{x}\\u003cbr\\u003eDate=2020-11-12 05:00:00+00:00\\u003cbr\\u003eMarketCap=%{y}\\u003cextra\\u003e\\u003c\\u002fextra\\u003e\",\"legendgroup\":\"AMD\",\"marker\":{\"color\":\"#EF553B\",\"pattern\":{\"shape\":\"\"}},\"name\":\"AMD\",\"offsetgroup\":\"AMD\",\"orientation\":\"v\",\"showlegend\":true,\"textposition\":\"auto\",\"x\":[\"AMD\"],\"xaxis\":\"x\",\"y\":[93763648020.71094],\"yaxis\":\"y\",\"type\":\"bar\"},{\"alignmentgroup\":\"True\",\"hovertemplate\":\"Ticker=%{x}\\u003cbr\\u003eDate=2020-11-12 05:00:00+00:00\\u003cbr\\u003eMarketCap=%{y}\\u003cextra\\u003e\\u003c\\u002fextra\\u003e\",\"legendgroup\":\"AMZN\",\"marker\":{\"color\":\"#00cc96\",\"pattern\":{\"shape\":\"\"}},\"name\":\"AMZN\",\"offsetgroup\":\"AMZN\",\"orientation\":\"v\",\"showlegend\":true,\"textposition\":\"auto\",\"x\":[\"AMZN\"],\"xaxis\":\"x\",\"y\":[77150682911.3086],\"yaxis\":\"y\",\"type\":\"bar\"},{\"alignmentgroup\":\"True\",\"hovertemplate\":\"Ticker=%{x}\\u003cbr\\u003eDate=2020-11-12 05:00:00+00:00\\u003cbr\\u003eMarketCap=%{y}\\u003cextra\\u003e\\u003c\\u002fextra\\u003e\",\"legendgroup\":\"BABA\",\"marker\":{\"color\":\"#ab63fa\",\"pattern\":{\"shape\":\"\"}},\"name\":\"BABA\",\"offsetgroup\":\"BABA\",\"orientation\":\"v\",\"showlegend\":true,\"textposition\":\"auto\",\"x\":[\"BABA\"],\"xaxis\":\"x\",\"y\":[747791665817.4375],\"yaxis\":\"y\",\"type\":\"bar\"},{\"alignmentgroup\":\"True\",\"hovertemplate\":\"Ticker=%{x}\\u003cbr\\u003eDate=2020-11-12 05:00:00+00:00\\u003cbr\\u003eMarketCap=%{y}\\u003cextra\\u003e\\u003c\\u002fextra\\u003e\",\"legendgroup\":\"BIDU\",\"marker\":{\"color\":\"#FFA15A\",\"pattern\":{\"shape\":\"\"}},\"name\":\"BIDU\",\"offsetgroup\":\"BIDU\",\"orientation\":\"v\",\"showlegend\":true,\"textposition\":\"auto\",\"x\":[\"BIDU\"],\"xaxis\":\"x\",\"y\":[43231383000.0],\"yaxis\":\"y\",\"type\":\"bar\"},{\"alignmentgroup\":\"True\",\"hovertemplate\":\"Ticker=%{x}\\u003cbr\\u003eDate=2020-11-12 05:00:00+00:00\\u003cbr\\u003eMarketCap=%{y}\\u003cextra\\u003e\\u003c\\u002fextra\\u003e\",\"legendgroup\":\"GOOGL\",\"marker\":{\"color\":\"#19d3f3\",\"pattern\":{\"shape\":\"\"}},\"name\":\"GOOGL\",\"offsetgroup\":\"GOOGL\",\"orientation\":\"v\",\"showlegend\":true,\"textposition\":\"auto\",\"x\":[\"GOOGL\"],\"xaxis\":\"x\",\"y\":[58797667375.72363],\"yaxis\":\"y\",\"type\":\"bar\"},{\"alignmentgroup\":\"True\",\"hovertemplate\":\"Ticker=%{x}\\u003cbr\\u003eDate=2020-11-12 05:00:00+00:00\\u003cbr\\u003eMarketCap=%{y}\\u003cextra\\u003e\\u003c\\u002fextra\\u003e\",\"legendgroup\":\"META\",\"marker\":{\"color\":\"#FF6692\",\"pattern\":{\"shape\":\"\"}},\"name\":\"META\",\"offsetgroup\":\"META\",\"orientation\":\"v\",\"showlegend\":true,\"textposition\":\"auto\",\"x\":[\"META\"],\"xaxis\":\"x\",\"y\":[null],\"yaxis\":\"y\",\"type\":\"bar\"},{\"alignmentgroup\":\"True\",\"hovertemplate\":\"Ticker=%{x}\\u003cbr\\u003eDate=2020-11-12 05:00:00+00:00\\u003cbr\\u003eMarketCap=%{y}\\u003cextra\\u003e\\u003c\\u002fextra\\u003e\",\"legendgroup\":\"MSFT\",\"marker\":{\"color\":\"#B6E880\",\"pattern\":{\"shape\":\"\"}},\"name\":\"MSFT\",\"offsetgroup\":\"MSFT\",\"orientation\":\"v\",\"showlegend\":true,\"textposition\":\"auto\",\"x\":[\"MSFT\"],\"xaxis\":\"x\",\"y\":[1540623760165.125],\"yaxis\":\"y\",\"type\":\"bar\"},{\"alignmentgroup\":\"True\",\"hovertemplate\":\"Ticker=%{x}\\u003cbr\\u003eDate=2020-11-12 05:00:00+00:00\\u003cbr\\u003eMarketCap=%{y}\\u003cextra\\u003e\\u003c\\u002fextra\\u003e\",\"legendgroup\":\"TCEHY\",\"marker\":{\"color\":\"#FF97FF\",\"pattern\":{\"shape\":\"\"}},\"name\":\"TCEHY\",\"offsetgroup\":\"TCEHY\",\"orientation\":\"v\",\"showlegend\":true,\"textposition\":\"auto\",\"x\":[\"TCEHY\"],\"xaxis\":\"x\",\"y\":[665571345823.8281],\"yaxis\":\"y\",\"type\":\"bar\"},{\"alignmentgroup\":\"True\",\"hovertemplate\":\"Ticker=%{x}\\u003cbr\\u003eDate=2020-11-12 05:00:00+00:00\\u003cbr\\u003eMarketCap=%{y}\\u003cextra\\u003e\\u003c\\u002fextra\\u003e\",\"legendgroup\":\"TSLA\",\"marker\":{\"color\":\"#FECB52\",\"pattern\":{\"shape\":\"\"}},\"name\":\"TSLA\",\"offsetgroup\":\"TSLA\",\"orientation\":\"v\",\"showlegend\":true,\"textposition\":\"auto\",\"x\":[\"TSLA\"],\"xaxis\":\"x\",\"y\":[133341091467.04883],\"yaxis\":\"y\",\"type\":\"bar\"}],\"name\":\"2020-11-12 05:00:00+00:00\"},{\"data\":[{\"alignmentgroup\":\"True\",\"hovertemplate\":\"Ticker=%{x}\\u003cbr\\u003eDate=2021-02-17 05:00:00+00:00\\u003cbr\\u003eMarketCap=%{y}\\u003cextra\\u003e\\u003c\\u002fextra\\u003e\",\"legendgroup\":\"AAPL\",\"marker\":{\"color\":\"#636efa\",\"pattern\":{\"shape\":\"\"}},\"name\":\"AAPL\",\"offsetgroup\":\"AAPL\",\"orientation\":\"v\",\"showlegend\":true,\"textposition\":\"auto\",\"x\":[\"AAPL\"],\"xaxis\":\"x\",\"y\":[2164283313145.1875],\"yaxis\":\"y\",\"type\":\"bar\"},{\"alignmentgroup\":\"True\",\"hovertemplate\":\"Ticker=%{x}\\u003cbr\\u003eDate=2021-02-17 05:00:00+00:00\\u003cbr\\u003eMarketCap=%{y}\\u003cextra\\u003e\\u003c\\u002fextra\\u003e\",\"legendgroup\":\"AMD\",\"marker\":{\"color\":\"#EF553B\",\"pattern\":{\"shape\":\"\"}},\"name\":\"AMD\",\"offsetgroup\":\"AMD\",\"orientation\":\"v\",\"showlegend\":true,\"textposition\":\"auto\",\"x\":[\"AMD\"],\"xaxis\":\"x\",\"y\":[103801675430.45116],\"yaxis\":\"y\",\"type\":\"bar\"},{\"alignmentgroup\":\"True\",\"hovertemplate\":\"Ticker=%{x}\\u003cbr\\u003eDate=2021-02-17 05:00:00+00:00\\u003cbr\\u003eMarketCap=%{y}\\u003cextra\\u003e\\u003c\\u002fextra\\u003e\",\"legendgroup\":\"AMZN\",\"marker\":{\"color\":\"#00cc96\",\"pattern\":{\"shape\":\"\"}},\"name\":\"AMZN\",\"offsetgroup\":\"AMZN\",\"orientation\":\"v\",\"showlegend\":true,\"textposition\":\"auto\",\"x\":[\"AMZN\"],\"xaxis\":\"x\",\"y\":[80359232981.3164],\"yaxis\":\"y\",\"type\":\"bar\"},{\"alignmentgroup\":\"True\",\"hovertemplate\":\"Ticker=%{x}\\u003cbr\\u003eDate=2021-02-17 05:00:00+00:00\\u003cbr\\u003eMarketCap=%{y}\\u003cextra\\u003e\\u003c\\u002fextra\\u003e\",\"legendgroup\":\"BABA\",\"marker\":{\"color\":\"#ab63fa\",\"pattern\":{\"shape\":\"\"}},\"name\":\"BABA\",\"offsetgroup\":\"BABA\",\"orientation\":\"v\",\"showlegend\":true,\"textposition\":\"auto\",\"x\":[\"BABA\"],\"xaxis\":\"x\",\"y\":[657300633821.6602],\"yaxis\":\"y\",\"type\":\"bar\"},{\"alignmentgroup\":\"True\",\"hovertemplate\":\"Ticker=%{x}\\u003cbr\\u003eDate=2021-02-17 05:00:00+00:00\\u003cbr\\u003eMarketCap=%{y}\\u003cextra\\u003e\\u003c\\u002fextra\\u003e\",\"legendgroup\":\"BIDU\",\"marker\":{\"color\":\"#FFA15A\",\"pattern\":{\"shape\":\"\"}},\"name\":\"BIDU\",\"offsetgroup\":\"BIDU\",\"orientation\":\"v\",\"showlegend\":true,\"textposition\":\"auto\",\"x\":[\"BIDU\"],\"xaxis\":\"x\",\"y\":[43496420145.46051],\"yaxis\":\"y\",\"type\":\"bar\"},{\"alignmentgroup\":\"True\",\"hovertemplate\":\"Ticker=%{x}\\u003cbr\\u003eDate=2021-02-17 05:00:00+00:00\\u003cbr\\u003eMarketCap=%{y}\\u003cextra\\u003e\\u003c\\u002fextra\\u003e\",\"legendgroup\":\"GOOGL\",\"marker\":{\"color\":\"#19d3f3\",\"pattern\":{\"shape\":\"\"}},\"name\":\"GOOGL\",\"offsetgroup\":\"GOOGL\",\"orientation\":\"v\",\"showlegend\":true,\"textposition\":\"auto\",\"x\":[\"GOOGL\"],\"xaxis\":\"x\",\"y\":[68713005182.7832],\"yaxis\":\"y\",\"type\":\"bar\"},{\"alignmentgroup\":\"True\",\"hovertemplate\":\"Ticker=%{x}\\u003cbr\\u003eDate=2021-02-17 05:00:00+00:00\\u003cbr\\u003eMarketCap=%{y}\\u003cextra\\u003e\\u003c\\u002fextra\\u003e\",\"legendgroup\":\"META\",\"marker\":{\"color\":\"#FF6692\",\"pattern\":{\"shape\":\"\"}},\"name\":\"META\",\"offsetgroup\":\"META\",\"orientation\":\"v\",\"showlegend\":true,\"textposition\":\"auto\",\"x\":[\"META\"],\"xaxis\":\"x\",\"y\":[null],\"yaxis\":\"y\",\"type\":\"bar\"},{\"alignmentgroup\":\"True\",\"hovertemplate\":\"Ticker=%{x}\\u003cbr\\u003eDate=2021-02-17 05:00:00+00:00\\u003cbr\\u003eMarketCap=%{y}\\u003cextra\\u003e\\u003c\\u002fextra\\u003e\",\"legendgroup\":\"MSFT\",\"marker\":{\"color\":\"#B6E880\",\"pattern\":{\"shape\":\"\"}},\"name\":\"MSFT\",\"offsetgroup\":\"MSFT\",\"orientation\":\"v\",\"showlegend\":true,\"textposition\":\"auto\",\"x\":[\"MSFT\"],\"xaxis\":\"x\",\"y\":[1754932158539.2188],\"yaxis\":\"y\",\"type\":\"bar\"},{\"alignmentgroup\":\"True\",\"hovertemplate\":\"Ticker=%{x}\\u003cbr\\u003eDate=2021-02-17 05:00:00+00:00\\u003cbr\\u003eMarketCap=%{y}\\u003cextra\\u003e\\u003c\\u002fextra\\u003e\",\"legendgroup\":\"TCEHY\",\"marker\":{\"color\":\"#FF97FF\",\"pattern\":{\"shape\":\"\"}},\"name\":\"TCEHY\",\"offsetgroup\":\"TCEHY\",\"orientation\":\"v\",\"showlegend\":true,\"textposition\":\"auto\",\"x\":[\"TCEHY\"],\"xaxis\":\"x\",\"y\":[789433927808.1797],\"yaxis\":\"y\",\"type\":\"bar\"},{\"alignmentgroup\":\"True\",\"hovertemplate\":\"Ticker=%{x}\\u003cbr\\u003eDate=2021-02-17 05:00:00+00:00\\u003cbr\\u003eMarketCap=%{y}\\u003cextra\\u003e\\u003c\\u002fextra\\u003e\",\"legendgroup\":\"TSLA\",\"marker\":{\"color\":\"#FECB52\",\"pattern\":{\"shape\":\"\"}},\"name\":\"TSLA\",\"offsetgroup\":\"TSLA\",\"orientation\":\"v\",\"showlegend\":true,\"textposition\":\"auto\",\"x\":[\"TSLA\"],\"xaxis\":\"x\",\"y\":[250960283157.76855],\"yaxis\":\"y\",\"type\":\"bar\"}],\"name\":\"2021-02-17 05:00:00+00:00\"},{\"data\":[{\"alignmentgroup\":\"True\",\"hovertemplate\":\"Ticker=%{x}\\u003cbr\\u003eDate=2021-05-13 04:00:00+00:00\\u003cbr\\u003eMarketCap=%{y}\\u003cextra\\u003e\\u003c\\u002fextra\\u003e\",\"legendgroup\":\"AAPL\",\"marker\":{\"color\":\"#636efa\",\"pattern\":{\"shape\":\"\"}},\"name\":\"AAPL\",\"offsetgroup\":\"AAPL\",\"orientation\":\"v\",\"showlegend\":true,\"textposition\":\"auto\",\"x\":[\"AAPL\"],\"xaxis\":\"x\",\"y\":[2200816149707.3516],\"yaxis\":\"y\",\"type\":\"bar\"},{\"alignmentgroup\":\"True\",\"hovertemplate\":\"Ticker=%{x}\\u003cbr\\u003eDate=2021-05-13 04:00:00+00:00\\u003cbr\\u003eMarketCap=%{y}\\u003cextra\\u003e\\u003c\\u002fextra\\u003e\",\"legendgroup\":\"AMD\",\"marker\":{\"color\":\"#EF553B\",\"pattern\":{\"shape\":\"\"}},\"name\":\"AMD\",\"offsetgroup\":\"AMD\",\"orientation\":\"v\",\"showlegend\":true,\"textposition\":\"auto\",\"x\":[\"AMD\"],\"xaxis\":\"x\",\"y\":[102774226616.83301],\"yaxis\":\"y\",\"type\":\"bar\"},{\"alignmentgroup\":\"True\",\"hovertemplate\":\"Ticker=%{x}\\u003cbr\\u003eDate=2021-05-13 04:00:00+00:00\\u003cbr\\u003eMarketCap=%{y}\\u003cextra\\u003e\\u003c\\u002fextra\\u003e\",\"legendgroup\":\"AMZN\",\"marker\":{\"color\":\"#00cc96\",\"pattern\":{\"shape\":\"\"}},\"name\":\"AMZN\",\"offsetgroup\":\"AMZN\",\"orientation\":\"v\",\"showlegend\":true,\"textposition\":\"auto\",\"x\":[\"AMZN\"],\"xaxis\":\"x\",\"y\":[85557935523.19336],\"yaxis\":\"y\",\"type\":\"bar\"},{\"alignmentgroup\":\"True\",\"hovertemplate\":\"Ticker=%{x}\\u003cbr\\u003eDate=2021-05-13 04:00:00+00:00\\u003cbr\\u003eMarketCap=%{y}\\u003cextra\\u003e\\u003c\\u002fextra\\u003e\",\"legendgroup\":\"BABA\",\"marker\":{\"color\":\"#ab63fa\",\"pattern\":{\"shape\":\"\"}},\"name\":\"BABA\",\"offsetgroup\":\"BABA\",\"orientation\":\"v\",\"showlegend\":true,\"textposition\":\"auto\",\"x\":[\"BABA\"],\"xaxis\":\"x\",\"y\":[606377529606.0938],\"yaxis\":\"y\",\"type\":\"bar\"},{\"alignmentgroup\":\"True\",\"hovertemplate\":\"Ticker=%{x}\\u003cbr\\u003eDate=2021-05-13 04:00:00+00:00\\u003cbr\\u003eMarketCap=%{y}\\u003cextra\\u003e\\u003c\\u002fextra\\u003e\",\"legendgroup\":\"BIDU\",\"marker\":{\"color\":\"#FFA15A\",\"pattern\":{\"shape\":\"\"}},\"name\":\"BIDU\",\"offsetgroup\":\"BIDU\",\"orientation\":\"v\",\"showlegend\":true,\"textposition\":\"auto\",\"x\":[\"BIDU\"],\"xaxis\":\"x\",\"y\":[66098549484.76904],\"yaxis\":\"y\",\"type\":\"bar\"},{\"alignmentgroup\":\"True\",\"hovertemplate\":\"Ticker=%{x}\\u003cbr\\u003eDate=2021-05-13 04:00:00+00:00\\u003cbr\\u003eMarketCap=%{y}\\u003cextra\\u003e\\u003c\\u002fextra\\u003e\",\"legendgroup\":\"GOOGL\",\"marker\":{\"color\":\"#19d3f3\",\"pattern\":{\"shape\":\"\"}},\"name\":\"GOOGL\",\"offsetgroup\":\"GOOGL\",\"orientation\":\"v\",\"showlegend\":true,\"textposition\":\"auto\",\"x\":[\"GOOGL\"],\"xaxis\":\"x\",\"y\":[78662204565.73486],\"yaxis\":\"y\",\"type\":\"bar\"},{\"alignmentgroup\":\"True\",\"hovertemplate\":\"Ticker=%{x}\\u003cbr\\u003eDate=2021-05-13 04:00:00+00:00\\u003cbr\\u003eMarketCap=%{y}\\u003cextra\\u003e\\u003c\\u002fextra\\u003e\",\"legendgroup\":\"META\",\"marker\":{\"color\":\"#FF6692\",\"pattern\":{\"shape\":\"\"}},\"name\":\"META\",\"offsetgroup\":\"META\",\"orientation\":\"v\",\"showlegend\":true,\"textposition\":\"auto\",\"x\":[\"META\"],\"xaxis\":\"x\",\"y\":[null],\"yaxis\":\"y\",\"type\":\"bar\"},{\"alignmentgroup\":\"True\",\"hovertemplate\":\"Ticker=%{x}\\u003cbr\\u003eDate=2021-05-13 04:00:00+00:00\\u003cbr\\u003eMarketCap=%{y}\\u003cextra\\u003e\\u003c\\u002fextra\\u003e\",\"legendgroup\":\"MSFT\",\"marker\":{\"color\":\"#B6E880\",\"pattern\":{\"shape\":\"\"}},\"name\":\"MSFT\",\"offsetgroup\":\"MSFT\",\"orientation\":\"v\",\"showlegend\":true,\"textposition\":\"auto\",\"x\":[\"MSFT\"],\"xaxis\":\"x\",\"y\":[1901316026636.3047],\"yaxis\":\"y\",\"type\":\"bar\"},{\"alignmentgroup\":\"True\",\"hovertemplate\":\"Ticker=%{x}\\u003cbr\\u003eDate=2021-05-13 04:00:00+00:00\\u003cbr\\u003eMarketCap=%{y}\\u003cextra\\u003e\\u003c\\u002fextra\\u003e\",\"legendgroup\":\"TCEHY\",\"marker\":{\"color\":\"#FF97FF\",\"pattern\":{\"shape\":\"\"}},\"name\":\"TCEHY\",\"offsetgroup\":\"TCEHY\",\"orientation\":\"v\",\"showlegend\":true,\"textposition\":\"auto\",\"x\":[\"TCEHY\"],\"xaxis\":\"x\",\"y\":[703773835020.2812],\"yaxis\":\"y\",\"type\":\"bar\"},{\"alignmentgroup\":\"True\",\"hovertemplate\":\"Ticker=%{x}\\u003cbr\\u003eDate=2021-05-13 04:00:00+00:00\\u003cbr\\u003eMarketCap=%{y}\\u003cextra\\u003e\\u003c\\u002fextra\\u003e\",\"legendgroup\":\"TSLA\",\"marker\":{\"color\":\"#FECB52\",\"pattern\":{\"shape\":\"\"}},\"name\":\"TSLA\",\"offsetgroup\":\"TSLA\",\"orientation\":\"v\",\"showlegend\":true,\"textposition\":\"auto\",\"x\":[\"TSLA\"],\"xaxis\":\"x\",\"y\":[224065515209.7749],\"yaxis\":\"y\",\"type\":\"bar\"}],\"name\":\"2021-05-13 04:00:00+00:00\"},{\"data\":[{\"alignmentgroup\":\"True\",\"hovertemplate\":\"Ticker=%{x}\\u003cbr\\u003eDate=2021-08-25 04:00:00+00:00\\u003cbr\\u003eMarketCap=%{y}\\u003cextra\\u003e\\u003c\\u002fextra\\u003e\",\"legendgroup\":\"AAPL\",\"marker\":{\"color\":\"#636efa\",\"pattern\":{\"shape\":\"\"}},\"name\":\"AAPL\",\"offsetgroup\":\"AAPL\",\"orientation\":\"v\",\"showlegend\":true,\"textposition\":\"auto\",\"x\":[\"AAPL\"],\"xaxis\":\"x\",\"y\":[2376822296279.9844],\"yaxis\":\"y\",\"type\":\"bar\"},{\"alignmentgroup\":\"True\",\"hovertemplate\":\"Ticker=%{x}\\u003cbr\\u003eDate=2021-08-25 04:00:00+00:00\\u003cbr\\u003eMarketCap=%{y}\\u003cextra\\u003e\\u003c\\u002fextra\\u003e\",\"legendgroup\":\"AMD\",\"marker\":{\"color\":\"#EF553B\",\"pattern\":{\"shape\":\"\"}},\"name\":\"AMD\",\"offsetgroup\":\"AMD\",\"orientation\":\"v\",\"showlegend\":true,\"textposition\":\"auto\",\"x\":[\"AMD\"],\"xaxis\":\"x\",\"y\":[128805285562.3125],\"yaxis\":\"y\",\"type\":\"bar\"},{\"alignmentgroup\":\"True\",\"hovertemplate\":\"Ticker=%{x}\\u003cbr\\u003eDate=2021-08-25 04:00:00+00:00\\u003cbr\\u003eMarketCap=%{y}\\u003cextra\\u003e\\u003c\\u002fextra\\u003e\",\"legendgroup\":\"AMZN\",\"marker\":{\"color\":\"#00cc96\",\"pattern\":{\"shape\":\"\"}},\"name\":\"AMZN\",\"offsetgroup\":\"AMZN\",\"orientation\":\"v\",\"showlegend\":true,\"textposition\":\"auto\",\"x\":[\"AMZN\"],\"xaxis\":\"x\",\"y\":[84747127271.73193],\"yaxis\":\"y\",\"type\":\"bar\"},{\"alignmentgroup\":\"True\",\"hovertemplate\":\"Ticker=%{x}\\u003cbr\\u003eDate=2021-08-25 04:00:00+00:00\\u003cbr\\u003eMarketCap=%{y}\\u003cextra\\u003e\\u003c\\u002fextra\\u003e\",\"legendgroup\":\"BABA\",\"marker\":{\"color\":\"#ab63fa\",\"pattern\":{\"shape\":\"\"}},\"name\":\"BABA\",\"offsetgroup\":\"BABA\",\"orientation\":\"v\",\"showlegend\":true,\"textposition\":\"auto\",\"x\":[\"BABA\"],\"xaxis\":\"x\",\"y\":[466276511744.0],\"yaxis\":\"y\",\"type\":\"bar\"},{\"alignmentgroup\":\"True\",\"hovertemplate\":\"Ticker=%{x}\\u003cbr\\u003eDate=2021-08-25 04:00:00+00:00\\u003cbr\\u003eMarketCap=%{y}\\u003cextra\\u003e\\u003c\\u002fextra\\u003e\",\"legendgroup\":\"BIDU\",\"marker\":{\"color\":\"#FFA15A\",\"pattern\":{\"shape\":\"\"}},\"name\":\"BIDU\",\"offsetgroup\":\"BIDU\",\"orientation\":\"v\",\"showlegend\":true,\"textposition\":\"auto\",\"x\":[\"BIDU\"],\"xaxis\":\"x\",\"y\":[54705774557.006836],\"yaxis\":\"y\",\"type\":\"bar\"},{\"alignmentgroup\":\"True\",\"hovertemplate\":\"Ticker=%{x}\\u003cbr\\u003eDate=2021-08-25 04:00:00+00:00\\u003cbr\\u003eMarketCap=%{y}\\u003cextra\\u003e\\u003c\\u002fextra\\u003e\",\"legendgroup\":\"GOOGL\",\"marker\":{\"color\":\"#19d3f3\",\"pattern\":{\"shape\":\"\"}},\"name\":\"GOOGL\",\"offsetgroup\":\"GOOGL\",\"orientation\":\"v\",\"showlegend\":true,\"textposition\":\"auto\",\"x\":[\"GOOGL\"],\"xaxis\":\"x\",\"y\":[91929445452.03906],\"yaxis\":\"y\",\"type\":\"bar\"},{\"alignmentgroup\":\"True\",\"hovertemplate\":\"Ticker=%{x}\\u003cbr\\u003eDate=2021-08-25 04:00:00+00:00\\u003cbr\\u003eMarketCap=%{y}\\u003cextra\\u003e\\u003c\\u002fextra\\u003e\",\"legendgroup\":\"META\",\"marker\":{\"color\":\"#FF6692\",\"pattern\":{\"shape\":\"\"}},\"name\":\"META\",\"offsetgroup\":\"META\",\"orientation\":\"v\",\"showlegend\":true,\"textposition\":\"auto\",\"x\":[\"META\"],\"xaxis\":\"x\",\"y\":[null],\"yaxis\":\"y\",\"type\":\"bar\"},{\"alignmentgroup\":\"True\",\"hovertemplate\":\"Ticker=%{x}\\u003cbr\\u003eDate=2021-08-25 04:00:00+00:00\\u003cbr\\u003eMarketCap=%{y}\\u003cextra\\u003e\\u003c\\u002fextra\\u003e\",\"legendgroup\":\"MSFT\",\"marker\":{\"color\":\"#B6E880\",\"pattern\":{\"shape\":\"\"}},\"name\":\"MSFT\",\"offsetgroup\":\"MSFT\",\"orientation\":\"v\",\"showlegend\":true,\"textposition\":\"auto\",\"x\":[\"MSFT\"],\"xaxis\":\"x\",\"y\":[2094940794927.461],\"yaxis\":\"y\",\"type\":\"bar\"},{\"alignmentgroup\":\"True\",\"hovertemplate\":\"Ticker=%{x}\\u003cbr\\u003eDate=2021-08-25 04:00:00+00:00\\u003cbr\\u003eMarketCap=%{y}\\u003cextra\\u003e\\u003c\\u002fextra\\u003e\",\"legendgroup\":\"TCEHY\",\"marker\":{\"color\":\"#FF97FF\",\"pattern\":{\"shape\":\"\"}},\"name\":\"TCEHY\",\"offsetgroup\":\"TCEHY\",\"orientation\":\"v\",\"showlegend\":true,\"textposition\":\"auto\",\"x\":[\"TCEHY\"],\"xaxis\":\"x\",\"y\":[553505012471.668],\"yaxis\":\"y\",\"type\":\"bar\"},{\"alignmentgroup\":\"True\",\"hovertemplate\":\"Ticker=%{x}\\u003cbr\\u003eDate=2021-08-25 04:00:00+00:00\\u003cbr\\u003eMarketCap=%{y}\\u003cextra\\u003e\\u003c\\u002fextra\\u003e\",\"legendgroup\":\"TSLA\",\"marker\":{\"color\":\"#FECB52\",\"pattern\":{\"shape\":\"\"}},\"name\":\"TSLA\",\"offsetgroup\":\"TSLA\",\"orientation\":\"v\",\"showlegend\":true,\"textposition\":\"auto\",\"x\":[\"TSLA\"],\"xaxis\":\"x\",\"y\":[233798397183.73828],\"yaxis\":\"y\",\"type\":\"bar\"}],\"name\":\"2021-08-25 04:00:00+00:00\"},{\"data\":[{\"alignmentgroup\":\"True\",\"hovertemplate\":\"Ticker=%{x}\\u003cbr\\u003eDate=2021-11-12 05:00:00+00:00\\u003cbr\\u003eMarketCap=%{y}\\u003cextra\\u003e\\u003c\\u002fextra\\u003e\",\"legendgroup\":\"AAPL\",\"marker\":{\"color\":\"#636efa\",\"pattern\":{\"shape\":\"\"}},\"name\":\"AAPL\",\"offsetgroup\":\"AAPL\",\"orientation\":\"v\",\"showlegend\":true,\"textposition\":\"auto\",\"x\":[\"AAPL\"],\"xaxis\":\"x\",\"y\":[2446237664501.953],\"yaxis\":\"y\",\"type\":\"bar\"},{\"alignmentgroup\":\"True\",\"hovertemplate\":\"Ticker=%{x}\\u003cbr\\u003eDate=2021-11-12 05:00:00+00:00\\u003cbr\\u003eMarketCap=%{y}\\u003cextra\\u003e\\u003c\\u002fextra\\u003e\",\"legendgroup\":\"AMD\",\"marker\":{\"color\":\"#EF553B\",\"pattern\":{\"shape\":\"\"}},\"name\":\"AMD\",\"offsetgroup\":\"AMD\",\"orientation\":\"v\",\"showlegend\":true,\"textposition\":\"auto\",\"x\":[\"AMD\"],\"xaxis\":\"x\",\"y\":[145190952430.18652],\"yaxis\":\"y\",\"type\":\"bar\"},{\"alignmentgroup\":\"True\",\"hovertemplate\":\"Ticker=%{x}\\u003cbr\\u003eDate=2021-11-12 05:00:00+00:00\\u003cbr\\u003eMarketCap=%{y}\\u003cextra\\u003e\\u003c\\u002fextra\\u003e\",\"legendgroup\":\"AMZN\",\"marker\":{\"color\":\"#00cc96\",\"pattern\":{\"shape\":\"\"}},\"name\":\"AMZN\",\"offsetgroup\":\"AMZN\",\"orientation\":\"v\",\"showlegend\":true,\"textposition\":\"auto\",\"x\":[\"AMZN\"],\"xaxis\":\"x\",\"y\":[85492110345.81201],\"yaxis\":\"y\",\"type\":\"bar\"},{\"alignmentgroup\":\"True\",\"hovertemplate\":\"Ticker=%{x}\\u003cbr\\u003eDate=2021-11-12 05:00:00+00:00\\u003cbr\\u003eMarketCap=%{y}\\u003cextra\\u003e\\u003c\\u002fextra\\u003e\",\"legendgroup\":\"BABA\",\"marker\":{\"color\":\"#ab63fa\",\"pattern\":{\"shape\":\"\"}},\"name\":\"BABA\",\"offsetgroup\":\"BABA\",\"orientation\":\"v\",\"showlegend\":true,\"textposition\":\"auto\",\"x\":[\"BABA\"],\"xaxis\":\"x\",\"y\":[424476565368.91406],\"yaxis\":\"y\",\"type\":\"bar\"},{\"alignmentgroup\":\"True\",\"hovertemplate\":\"Ticker=%{x}\\u003cbr\\u003eDate=2021-11-12 05:00:00+00:00\\u003cbr\\u003eMarketCap=%{y}\\u003cextra\\u003e\\u003c\\u002fextra\\u003e\",\"legendgroup\":\"BIDU\",\"marker\":{\"color\":\"#FFA15A\",\"pattern\":{\"shape\":\"\"}},\"name\":\"BIDU\",\"offsetgroup\":\"BIDU\",\"orientation\":\"v\",\"showlegend\":true,\"textposition\":\"auto\",\"x\":[\"BIDU\"],\"xaxis\":\"x\",\"y\":[55665077255.65918],\"yaxis\":\"y\",\"type\":\"bar\"},{\"alignmentgroup\":\"True\",\"hovertemplate\":\"Ticker=%{x}\\u003cbr\\u003eDate=2021-11-12 05:00:00+00:00\\u003cbr\\u003eMarketCap=%{y}\\u003cextra\\u003e\\u003c\\u002fextra\\u003e\",\"legendgroup\":\"GOOGL\",\"marker\":{\"color\":\"#19d3f3\",\"pattern\":{\"shape\":\"\"}},\"name\":\"GOOGL\",\"offsetgroup\":\"GOOGL\",\"orientation\":\"v\",\"showlegend\":true,\"textposition\":\"auto\",\"x\":[\"GOOGL\"],\"xaxis\":\"x\",\"y\":[96987045682.61914],\"yaxis\":\"y\",\"type\":\"bar\"},{\"alignmentgroup\":\"True\",\"hovertemplate\":\"Ticker=%{x}\\u003cbr\\u003eDate=2021-11-12 05:00:00+00:00\\u003cbr\\u003eMarketCap=%{y}\\u003cextra\\u003e\\u003c\\u002fextra\\u003e\",\"legendgroup\":\"META\",\"marker\":{\"color\":\"#FF6692\",\"pattern\":{\"shape\":\"\"}},\"name\":\"META\",\"offsetgroup\":\"META\",\"orientation\":\"v\",\"showlegend\":true,\"textposition\":\"auto\",\"x\":[\"META\"],\"xaxis\":\"x\",\"y\":[null],\"yaxis\":\"y\",\"type\":\"bar\"},{\"alignmentgroup\":\"True\",\"hovertemplate\":\"Ticker=%{x}\\u003cbr\\u003eDate=2021-11-12 05:00:00+00:00\\u003cbr\\u003eMarketCap=%{y}\\u003cextra\\u003e\\u003c\\u002fextra\\u003e\",\"legendgroup\":\"MSFT\",\"marker\":{\"color\":\"#B6E880\",\"pattern\":{\"shape\":\"\"}},\"name\":\"MSFT\",\"offsetgroup\":\"MSFT\",\"orientation\":\"v\",\"showlegend\":true,\"textposition\":\"auto\",\"x\":[\"MSFT\"],\"xaxis\":\"x\",\"y\":[2385785951947.328],\"yaxis\":\"y\",\"type\":\"bar\"},{\"alignmentgroup\":\"True\",\"hovertemplate\":\"Ticker=%{x}\\u003cbr\\u003eDate=2021-11-12 05:00:00+00:00\\u003cbr\\u003eMarketCap=%{y}\\u003cextra\\u003e\\u003c\\u002fextra\\u003e\",\"legendgroup\":\"TCEHY\",\"marker\":{\"color\":\"#FF97FF\",\"pattern\":{\"shape\":\"\"}},\"name\":\"TCEHY\",\"offsetgroup\":\"TCEHY\",\"orientation\":\"v\",\"showlegend\":true,\"textposition\":\"auto\",\"x\":[\"TCEHY\"],\"xaxis\":\"x\",\"y\":[540393821766.84375],\"yaxis\":\"y\",\"type\":\"bar\"},{\"alignmentgroup\":\"True\",\"hovertemplate\":\"Ticker=%{x}\\u003cbr\\u003eDate=2021-11-12 05:00:00+00:00\\u003cbr\\u003eMarketCap=%{y}\\u003cextra\\u003e\\u003c\\u002fextra\\u003e\",\"legendgroup\":\"TSLA\",\"marker\":{\"color\":\"#FECB52\",\"pattern\":{\"shape\":\"\"}},\"name\":\"TSLA\",\"offsetgroup\":\"TSLA\",\"orientation\":\"v\",\"showlegend\":true,\"textposition\":\"auto\",\"x\":[\"TSLA\"],\"xaxis\":\"x\",\"y\":[340922813735.7461],\"yaxis\":\"y\",\"type\":\"bar\"}],\"name\":\"2021-11-12 05:00:00+00:00\"},{\"data\":[{\"alignmentgroup\":\"True\",\"hovertemplate\":\"Ticker=%{x}\\u003cbr\\u003eDate=2022-02-15 17:00:00+00:00\\u003cbr\\u003eMarketCap=%{y}\\u003cextra\\u003e\\u003c\\u002fextra\\u003e\",\"legendgroup\":\"AAPL\",\"marker\":{\"color\":\"#636efa\",\"pattern\":{\"shape\":\"\"}},\"name\":\"AAPL\",\"offsetgroup\":\"AAPL\",\"orientation\":\"v\",\"showlegend\":true,\"textposition\":\"auto\",\"x\":[\"AAPL\"],\"xaxis\":\"x\",\"y\":[2724480690041.6875],\"yaxis\":\"y\",\"type\":\"bar\"},{\"alignmentgroup\":\"True\",\"hovertemplate\":\"Ticker=%{x}\\u003cbr\\u003eDate=2022-02-15 17:00:00+00:00\\u003cbr\\u003eMarketCap=%{y}\\u003cextra\\u003e\\u003c\\u002fextra\\u003e\",\"legendgroup\":\"AMD\",\"marker\":{\"color\":\"#EF553B\",\"pattern\":{\"shape\":\"\"}},\"name\":\"AMD\",\"offsetgroup\":\"AMD\",\"orientation\":\"v\",\"showlegend\":true,\"textposition\":\"auto\",\"x\":[\"AMD\"],\"xaxis\":\"x\",\"y\":[181469218688.51956],\"yaxis\":\"y\",\"type\":\"bar\"},{\"alignmentgroup\":\"True\",\"hovertemplate\":\"Ticker=%{x}\\u003cbr\\u003eDate=2022-02-15 17:00:00+00:00\\u003cbr\\u003eMarketCap=%{y}\\u003cextra\\u003e\\u003c\\u002fextra\\u003e\",\"legendgroup\":\"AMZN\",\"marker\":{\"color\":\"#00cc96\",\"pattern\":{\"shape\":\"\"}},\"name\":\"AMZN\",\"offsetgroup\":\"AMZN\",\"orientation\":\"v\",\"showlegend\":true,\"textposition\":\"auto\",\"x\":[\"AMZN\"],\"xaxis\":\"x\",\"y\":[77954266453.15552],\"yaxis\":\"y\",\"type\":\"bar\"},{\"alignmentgroup\":\"True\",\"hovertemplate\":\"Ticker=%{x}\\u003cbr\\u003eDate=2022-02-15 17:00:00+00:00\\u003cbr\\u003eMarketCap=%{y}\\u003cextra\\u003e\\u003c\\u002fextra\\u003e\",\"legendgroup\":\"BABA\",\"marker\":{\"color\":\"#ab63fa\",\"pattern\":{\"shape\":\"\"}},\"name\":\"BABA\",\"offsetgroup\":\"BABA\",\"orientation\":\"v\",\"showlegend\":true,\"textposition\":\"auto\",\"x\":[\"BABA\"],\"xaxis\":\"x\",\"y\":[318533430122.97656],\"yaxis\":\"y\",\"type\":\"bar\"},{\"alignmentgroup\":\"True\",\"hovertemplate\":\"Ticker=%{x}\\u003cbr\\u003eDate=2022-02-15 17:00:00+00:00\\u003cbr\\u003eMarketCap=%{y}\\u003cextra\\u003e\\u003c\\u002fextra\\u003e\",\"legendgroup\":\"BIDU\",\"marker\":{\"color\":\"#FFA15A\",\"pattern\":{\"shape\":\"\"}},\"name\":\"BIDU\",\"offsetgroup\":\"BIDU\",\"orientation\":\"v\",\"showlegend\":true,\"textposition\":\"auto\",\"x\":[\"BIDU\"],\"xaxis\":\"x\",\"y\":[53199818700.71387],\"yaxis\":\"y\",\"type\":\"bar\"},{\"alignmentgroup\":\"True\",\"hovertemplate\":\"Ticker=%{x}\\u003cbr\\u003eDate=2022-02-15 17:00:00+00:00\\u003cbr\\u003eMarketCap=%{y}\\u003cextra\\u003e\\u003c\\u002fextra\\u003e\",\"legendgroup\":\"GOOGL\",\"marker\":{\"color\":\"#19d3f3\",\"pattern\":{\"shape\":\"\"}},\"name\":\"GOOGL\",\"offsetgroup\":\"GOOGL\",\"orientation\":\"v\",\"showlegend\":true,\"textposition\":\"auto\",\"x\":[\"GOOGL\"],\"xaxis\":\"x\",\"y\":[90280412740.06982],\"yaxis\":\"y\",\"type\":\"bar\"},{\"alignmentgroup\":\"True\",\"hovertemplate\":\"Ticker=%{x}\\u003cbr\\u003eDate=2022-02-15 17:00:00+00:00\\u003cbr\\u003eMarketCap=%{y}\\u003cextra\\u003e\\u003c\\u002fextra\\u003e\",\"legendgroup\":\"META\",\"marker\":{\"color\":\"#FF6692\",\"pattern\":{\"shape\":\"\"}},\"name\":\"META\",\"offsetgroup\":\"META\",\"orientation\":\"v\",\"showlegend\":true,\"textposition\":\"auto\",\"x\":[\"META\"],\"xaxis\":\"x\",\"y\":[null],\"yaxis\":\"y\",\"type\":\"bar\"},{\"alignmentgroup\":\"True\",\"hovertemplate\":\"Ticker=%{x}\\u003cbr\\u003eDate=2022-02-15 17:00:00+00:00\\u003cbr\\u003eMarketCap=%{y}\\u003cextra\\u003e\\u003c\\u002fextra\\u003e\",\"legendgroup\":\"MSFT\",\"marker\":{\"color\":\"#B6E880\",\"pattern\":{\"shape\":\"\"}},\"name\":\"MSFT\",\"offsetgroup\":\"MSFT\",\"orientation\":\"v\",\"showlegend\":true,\"textposition\":\"auto\",\"x\":[\"MSFT\"],\"xaxis\":\"x\",\"y\":[2203858847865.578],\"yaxis\":\"y\",\"type\":\"bar\"},{\"alignmentgroup\":\"True\",\"hovertemplate\":\"Ticker=%{x}\\u003cbr\\u003eDate=2022-02-15 17:00:00+00:00\\u003cbr\\u003eMarketCap=%{y}\\u003cextra\\u003e\\u003c\\u002fextra\\u003e\",\"legendgroup\":\"TCEHY\",\"marker\":{\"color\":\"#FF97FF\",\"pattern\":{\"shape\":\"\"}},\"name\":\"TCEHY\",\"offsetgroup\":\"TCEHY\",\"orientation\":\"v\",\"showlegend\":true,\"textposition\":\"auto\",\"x\":[\"TCEHY\"],\"xaxis\":\"x\",\"y\":[517343731469.3672],\"yaxis\":\"y\",\"type\":\"bar\"},{\"alignmentgroup\":\"True\",\"hovertemplate\":\"Ticker=%{x}\\u003cbr\\u003eDate=2022-02-15 17:00:00+00:00\\u003cbr\\u003eMarketCap=%{y}\\u003cextra\\u003e\\u003c\\u002fextra\\u003e\",\"legendgroup\":\"TSLA\",\"marker\":{\"color\":\"#FECB52\",\"pattern\":{\"shape\":\"\"}},\"name\":\"TSLA\",\"offsetgroup\":\"TSLA\",\"orientation\":\"v\",\"showlegend\":true,\"textposition\":\"auto\",\"x\":[\"TSLA\"],\"xaxis\":\"x\",\"y\":[308442560502.25],\"yaxis\":\"y\",\"type\":\"bar\"}],\"name\":\"2022-02-15 17:00:00+00:00\"},{\"data\":[{\"alignmentgroup\":\"True\",\"hovertemplate\":\"Ticker=%{x}\\u003cbr\\u003eDate=2022-05-17 04:00:00+00:00\\u003cbr\\u003eMarketCap=%{y}\\u003cextra\\u003e\\u003c\\u002fextra\\u003e\",\"legendgroup\":\"AAPL\",\"marker\":{\"color\":\"#636efa\",\"pattern\":{\"shape\":\"\"}},\"name\":\"AAPL\",\"offsetgroup\":\"AAPL\",\"orientation\":\"v\",\"showlegend\":true,\"textposition\":\"auto\",\"x\":[\"AAPL\"],\"xaxis\":\"x\",\"y\":[2660096680680.922],\"yaxis\":\"y\",\"type\":\"bar\"},{\"alignmentgroup\":\"True\",\"hovertemplate\":\"Ticker=%{x}\\u003cbr\\u003eDate=2022-05-17 04:00:00+00:00\\u003cbr\\u003eMarketCap=%{y}\\u003cextra\\u003e\\u003c\\u002fextra\\u003e\",\"legendgroup\":\"AMD\",\"marker\":{\"color\":\"#EF553B\",\"pattern\":{\"shape\":\"\"}},\"name\":\"AMD\",\"offsetgroup\":\"AMD\",\"orientation\":\"v\",\"showlegend\":true,\"textposition\":\"auto\",\"x\":[\"AMD\"],\"xaxis\":\"x\",\"y\":[165129966581.50195],\"yaxis\":\"y\",\"type\":\"bar\"},{\"alignmentgroup\":\"True\",\"hovertemplate\":\"Ticker=%{x}\\u003cbr\\u003eDate=2022-05-17 04:00:00+00:00\\u003cbr\\u003eMarketCap=%{y}\\u003cextra\\u003e\\u003c\\u002fextra\\u003e\",\"legendgroup\":\"AMZN\",\"marker\":{\"color\":\"#00cc96\",\"pattern\":{\"shape\":\"\"}},\"name\":\"AMZN\",\"offsetgroup\":\"AMZN\",\"orientation\":\"v\",\"showlegend\":true,\"textposition\":\"auto\",\"x\":[\"AMZN\"],\"xaxis\":\"x\",\"y\":[79146104790.34424],\"yaxis\":\"y\",\"type\":\"bar\"},{\"alignmentgroup\":\"True\",\"hovertemplate\":\"Ticker=%{x}\\u003cbr\\u003eDate=2022-05-17 04:00:00+00:00\\u003cbr\\u003eMarketCap=%{y}\\u003cextra\\u003e\\u003c\\u002fextra\\u003e\",\"legendgroup\":\"BABA\",\"marker\":{\"color\":\"#ab63fa\",\"pattern\":{\"shape\":\"\"}},\"name\":\"BABA\",\"offsetgroup\":\"BABA\",\"orientation\":\"v\",\"showlegend\":true,\"textposition\":\"auto\",\"x\":[\"BABA\"],\"xaxis\":\"x\",\"y\":[257931849774.0625],\"yaxis\":\"y\",\"type\":\"bar\"},{\"alignmentgroup\":\"True\",\"hovertemplate\":\"Ticker=%{x}\\u003cbr\\u003eDate=2022-05-17 04:00:00+00:00\\u003cbr\\u003eMarketCap=%{y}\\u003cextra\\u003e\\u003c\\u002fextra\\u003e\",\"legendgroup\":\"BIDU\",\"marker\":{\"color\":\"#FFA15A\",\"pattern\":{\"shape\":\"\"}},\"name\":\"BIDU\",\"offsetgroup\":\"BIDU\",\"orientation\":\"v\",\"showlegend\":true,\"textposition\":\"auto\",\"x\":[\"BIDU\"],\"xaxis\":\"x\",\"y\":[46918760176.78418],\"yaxis\":\"y\",\"type\":\"bar\"},{\"alignmentgroup\":\"True\",\"hovertemplate\":\"Ticker=%{x}\\u003cbr\\u003eDate=2022-05-17 04:00:00+00:00\\u003cbr\\u003eMarketCap=%{y}\\u003cextra\\u003e\\u003c\\u002fextra\\u003e\",\"legendgroup\":\"GOOGL\",\"marker\":{\"color\":\"#19d3f3\",\"pattern\":{\"shape\":\"\"}},\"name\":\"GOOGL\",\"offsetgroup\":\"GOOGL\",\"orientation\":\"v\",\"showlegend\":true,\"textposition\":\"auto\",\"x\":[\"GOOGL\"],\"xaxis\":\"x\",\"y\":[75615044400.14648],\"yaxis\":\"y\",\"type\":\"bar\"},{\"alignmentgroup\":\"True\",\"hovertemplate\":\"Ticker=%{x}\\u003cbr\\u003eDate=2022-05-17 04:00:00+00:00\\u003cbr\\u003eMarketCap=%{y}\\u003cextra\\u003e\\u003c\\u002fextra\\u003e\",\"legendgroup\":\"META\",\"marker\":{\"color\":\"#FF6692\",\"pattern\":{\"shape\":\"\"}},\"name\":\"META\",\"offsetgroup\":\"META\",\"orientation\":\"v\",\"showlegend\":true,\"textposition\":\"auto\",\"x\":[\"META\"],\"xaxis\":\"x\",\"y\":[497962856448.0],\"yaxis\":\"y\",\"type\":\"bar\"},{\"alignmentgroup\":\"True\",\"hovertemplate\":\"Ticker=%{x}\\u003cbr\\u003eDate=2022-05-17 04:00:00+00:00\\u003cbr\\u003eMarketCap=%{y}\\u003cextra\\u003e\\u003c\\u002fextra\\u003e\",\"legendgroup\":\"MSFT\",\"marker\":{\"color\":\"#B6E880\",\"pattern\":{\"shape\":\"\"}},\"name\":\"MSFT\",\"offsetgroup\":\"MSFT\",\"orientation\":\"v\",\"showlegend\":true,\"textposition\":\"auto\",\"x\":[\"MSFT\"],\"xaxis\":\"x\",\"y\":[2042453915816.25],\"yaxis\":\"y\",\"type\":\"bar\"},{\"alignmentgroup\":\"True\",\"hovertemplate\":\"Ticker=%{x}\\u003cbr\\u003eDate=2022-05-17 04:00:00+00:00\\u003cbr\\u003eMarketCap=%{y}\\u003cextra\\u003e\\u003c\\u002fextra\\u003e\",\"legendgroup\":\"TCEHY\",\"marker\":{\"color\":\"#FF97FF\",\"pattern\":{\"shape\":\"\"}},\"name\":\"TCEHY\",\"offsetgroup\":\"TCEHY\",\"orientation\":\"v\",\"showlegend\":true,\"textposition\":\"auto\",\"x\":[\"TCEHY\"],\"xaxis\":\"x\",\"y\":[425728157328.9844],\"yaxis\":\"y\",\"type\":\"bar\"},{\"alignmentgroup\":\"True\",\"hovertemplate\":\"Ticker=%{x}\\u003cbr\\u003eDate=2022-05-17 04:00:00+00:00\\u003cbr\\u003eMarketCap=%{y}\\u003cextra\\u003e\\u003c\\u002fextra\\u003e\",\"legendgroup\":\"TSLA\",\"marker\":{\"color\":\"#FECB52\",\"pattern\":{\"shape\":\"\"}},\"name\":\"TSLA\",\"offsetgroup\":\"TSLA\",\"orientation\":\"v\",\"showlegend\":true,\"textposition\":\"auto\",\"x\":[\"TSLA\"],\"xaxis\":\"x\",\"y\":[379328126403.6816],\"yaxis\":\"y\",\"type\":\"bar\"}],\"name\":\"2022-05-17 04:00:00+00:00\"},{\"data\":[{\"alignmentgroup\":\"True\",\"hovertemplate\":\"Ticker=%{x}\\u003cbr\\u003eDate=2022-08-09 04:00:00+00:00\\u003cbr\\u003eMarketCap=%{y}\\u003cextra\\u003e\\u003c\\u002fextra\\u003e\",\"legendgroup\":\"AAPL\",\"marker\":{\"color\":\"#636efa\",\"pattern\":{\"shape\":\"\"}},\"name\":\"AAPL\",\"offsetgroup\":\"AAPL\",\"orientation\":\"v\",\"showlegend\":true,\"textposition\":\"auto\",\"x\":[\"AAPL\"],\"xaxis\":\"x\",\"y\":[2485949482190.4688],\"yaxis\":\"y\",\"type\":\"bar\"},{\"alignmentgroup\":\"True\",\"hovertemplate\":\"Ticker=%{x}\\u003cbr\\u003eDate=2022-08-09 04:00:00+00:00\\u003cbr\\u003eMarketCap=%{y}\\u003cextra\\u003e\\u003c\\u002fextra\\u003e\",\"legendgroup\":\"AMD\",\"marker\":{\"color\":\"#EF553B\",\"pattern\":{\"shape\":\"\"}},\"name\":\"AMD\",\"offsetgroup\":\"AMD\",\"orientation\":\"v\",\"showlegend\":true,\"textposition\":\"auto\",\"x\":[\"AMD\"],\"xaxis\":\"x\",\"y\":[129533033351.44044],\"yaxis\":\"y\",\"type\":\"bar\"},{\"alignmentgroup\":\"True\",\"hovertemplate\":\"Ticker=%{x}\\u003cbr\\u003eDate=2022-08-09 04:00:00+00:00\\u003cbr\\u003eMarketCap=%{y}\\u003cextra\\u003e\\u003c\\u002fextra\\u003e\",\"legendgroup\":\"AMZN\",\"marker\":{\"color\":\"#00cc96\",\"pattern\":{\"shape\":\"\"}},\"name\":\"AMZN\",\"offsetgroup\":\"AMZN\",\"orientation\":\"v\",\"showlegend\":true,\"textposition\":\"auto\",\"x\":[\"AMZN\"],\"xaxis\":\"x\",\"y\":[1366717487254.7344],\"yaxis\":\"y\",\"type\":\"bar\"},{\"alignmentgroup\":\"True\",\"hovertemplate\":\"Ticker=%{x}\\u003cbr\\u003eDate=2022-08-09 04:00:00+00:00\\u003cbr\\u003eMarketCap=%{y}\\u003cextra\\u003e\\u003c\\u002fextra\\u003e\",\"legendgroup\":\"BABA\",\"marker\":{\"color\":\"#ab63fa\",\"pattern\":{\"shape\":\"\"}},\"name\":\"BABA\",\"offsetgroup\":\"BABA\",\"orientation\":\"v\",\"showlegend\":true,\"textposition\":\"auto\",\"x\":[\"BABA\"],\"xaxis\":\"x\",\"y\":[249449231865.2344],\"yaxis\":\"y\",\"type\":\"bar\"},{\"alignmentgroup\":\"True\",\"hovertemplate\":\"Ticker=%{x}\\u003cbr\\u003eDate=2022-08-09 04:00:00+00:00\\u003cbr\\u003eMarketCap=%{y}\\u003cextra\\u003e\\u003c\\u002fextra\\u003e\",\"legendgroup\":\"BIDU\",\"marker\":{\"color\":\"#FFA15A\",\"pattern\":{\"shape\":\"\"}},\"name\":\"BIDU\",\"offsetgroup\":\"BIDU\",\"orientation\":\"v\",\"showlegend\":true,\"textposition\":\"auto\",\"x\":[\"BIDU\"],\"xaxis\":\"x\",\"y\":[47998734851.07422],\"yaxis\":\"y\",\"type\":\"bar\"},{\"alignmentgroup\":\"True\",\"hovertemplate\":\"Ticker=%{x}\\u003cbr\\u003eDate=2022-08-09 04:00:00+00:00\\u003cbr\\u003eMarketCap=%{y}\\u003cextra\\u003e\\u003c\\u002fextra\\u003e\",\"legendgroup\":\"GOOGL\",\"marker\":{\"color\":\"#19d3f3\",\"pattern\":{\"shape\":\"\"}},\"name\":\"GOOGL\",\"offsetgroup\":\"GOOGL\",\"orientation\":\"v\",\"showlegend\":true,\"textposition\":\"auto\",\"x\":[\"GOOGL\"],\"xaxis\":\"x\",\"y\":[1411702572283.0078],\"yaxis\":\"y\",\"type\":\"bar\"},{\"alignmentgroup\":\"True\",\"hovertemplate\":\"Ticker=%{x}\\u003cbr\\u003eDate=2022-08-09 04:00:00+00:00\\u003cbr\\u003eMarketCap=%{y}\\u003cextra\\u003e\\u003c\\u002fextra\\u003e\",\"legendgroup\":\"META\",\"marker\":{\"color\":\"#FF6692\",\"pattern\":{\"shape\":\"\"}},\"name\":\"META\",\"offsetgroup\":\"META\",\"orientation\":\"v\",\"showlegend\":true,\"textposition\":\"auto\",\"x\":[\"META\"],\"xaxis\":\"x\",\"y\":[444517269785.8887],\"yaxis\":\"y\",\"type\":\"bar\"},{\"alignmentgroup\":\"True\",\"hovertemplate\":\"Ticker=%{x}\\u003cbr\\u003eDate=2022-08-09 04:00:00+00:00\\u003cbr\\u003eMarketCap=%{y}\\u003cextra\\u003e\\u003c\\u002fextra\\u003e\",\"legendgroup\":\"MSFT\",\"marker\":{\"color\":\"#B6E880\",\"pattern\":{\"shape\":\"\"}},\"name\":\"MSFT\",\"offsetgroup\":\"MSFT\",\"orientation\":\"v\",\"showlegend\":true,\"textposition\":\"auto\",\"x\":[\"MSFT\"],\"xaxis\":\"x\",\"y\":[1965628499383.172],\"yaxis\":\"y\",\"type\":\"bar\"},{\"alignmentgroup\":\"True\",\"hovertemplate\":\"Ticker=%{x}\\u003cbr\\u003eDate=2022-08-09 04:00:00+00:00\\u003cbr\\u003eMarketCap=%{y}\\u003cextra\\u003e\\u003c\\u002fextra\\u003e\",\"legendgroup\":\"TCEHY\",\"marker\":{\"color\":\"#FF97FF\",\"pattern\":{\"shape\":\"\"}},\"name\":\"TCEHY\",\"offsetgroup\":\"TCEHY\",\"orientation\":\"v\",\"showlegend\":true,\"textposition\":\"auto\",\"x\":[\"TCEHY\"],\"xaxis\":\"x\",\"y\":[366046218081.7383],\"yaxis\":\"y\",\"type\":\"bar\"},{\"alignmentgroup\":\"True\",\"hovertemplate\":\"Ticker=%{x}\\u003cbr\\u003eDate=2022-08-09 04:00:00+00:00\\u003cbr\\u003eMarketCap=%{y}\\u003cextra\\u003e\\u003c\\u002fextra\\u003e\",\"legendgroup\":\"TSLA\",\"marker\":{\"color\":\"#FECB52\",\"pattern\":{\"shape\":\"\"}},\"name\":\"TSLA\",\"offsetgroup\":\"TSLA\",\"orientation\":\"v\",\"showlegend\":true,\"textposition\":\"auto\",\"x\":[\"TSLA\"],\"xaxis\":\"x\",\"y\":[846694888954.6641],\"yaxis\":\"y\",\"type\":\"bar\"}],\"name\":\"2022-08-09 04:00:00+00:00\"},{\"data\":[{\"alignmentgroup\":\"True\",\"hovertemplate\":\"Ticker=%{x}\\u003cbr\\u003eDate=2022-11-15 05:00:00+00:00\\u003cbr\\u003eMarketCap=%{y}\\u003cextra\\u003e\\u003c\\u002fextra\\u003e\",\"legendgroup\":\"AAPL\",\"marker\":{\"color\":\"#636efa\",\"pattern\":{\"shape\":\"\"}},\"name\":\"AAPL\",\"offsetgroup\":\"AAPL\",\"orientation\":\"v\",\"showlegend\":true,\"textposition\":\"auto\",\"x\":[\"AAPL\"],\"xaxis\":\"x\",\"y\":[2254302862298.6094],\"yaxis\":\"y\",\"type\":\"bar\"},{\"alignmentgroup\":\"True\",\"hovertemplate\":\"Ticker=%{x}\\u003cbr\\u003eDate=2022-11-15 05:00:00+00:00\\u003cbr\\u003eMarketCap=%{y}\\u003cextra\\u003e\\u003c\\u002fextra\\u003e\",\"legendgroup\":\"AMD\",\"marker\":{\"color\":\"#EF553B\",\"pattern\":{\"shape\":\"\"}},\"name\":\"AMD\",\"offsetgroup\":\"AMD\",\"orientation\":\"v\",\"showlegend\":true,\"textposition\":\"auto\",\"x\":[\"AMD\"],\"xaxis\":\"x\",\"y\":[113090924926.9336],\"yaxis\":\"y\",\"type\":\"bar\"},{\"alignmentgroup\":\"True\",\"hovertemplate\":\"Ticker=%{x}\\u003cbr\\u003eDate=2022-11-15 05:00:00+00:00\\u003cbr\\u003eMarketCap=%{y}\\u003cextra\\u003e\\u003c\\u002fextra\\u003e\",\"legendgroup\":\"AMZN\",\"marker\":{\"color\":\"#00cc96\",\"pattern\":{\"shape\":\"\"}},\"name\":\"AMZN\",\"offsetgroup\":\"AMZN\",\"orientation\":\"v\",\"showlegend\":true,\"textposition\":\"auto\",\"x\":[\"AMZN\"],\"xaxis\":\"x\",\"y\":[1188171892716.3906],\"yaxis\":\"y\",\"type\":\"bar\"},{\"alignmentgroup\":\"True\",\"hovertemplate\":\"Ticker=%{x}\\u003cbr\\u003eDate=2022-11-15 05:00:00+00:00\\u003cbr\\u003eMarketCap=%{y}\\u003cextra\\u003e\\u003c\\u002fextra\\u003e\",\"legendgroup\":\"BABA\",\"marker\":{\"color\":\"#ab63fa\",\"pattern\":{\"shape\":\"\"}},\"name\":\"BABA\",\"offsetgroup\":\"BABA\",\"orientation\":\"v\",\"showlegend\":true,\"textposition\":\"auto\",\"x\":[\"BABA\"],\"xaxis\":\"x\",\"y\":[213382378696.6797],\"yaxis\":\"y\",\"type\":\"bar\"},{\"alignmentgroup\":\"True\",\"hovertemplate\":\"Ticker=%{x}\\u003cbr\\u003eDate=2022-11-15 05:00:00+00:00\\u003cbr\\u003eMarketCap=%{y}\\u003cextra\\u003e\\u003c\\u002fextra\\u003e\",\"legendgroup\":\"BIDU\",\"marker\":{\"color\":\"#FFA15A\",\"pattern\":{\"shape\":\"\"}},\"name\":\"BIDU\",\"offsetgroup\":\"BIDU\",\"orientation\":\"v\",\"showlegend\":true,\"textposition\":\"auto\",\"x\":[\"BIDU\"],\"xaxis\":\"x\",\"y\":[38359321086.62695],\"yaxis\":\"y\",\"type\":\"bar\"},{\"alignmentgroup\":\"True\",\"hovertemplate\":\"Ticker=%{x}\\u003cbr\\u003eDate=2022-11-15 05:00:00+00:00\\u003cbr\\u003eMarketCap=%{y}\\u003cextra\\u003e\\u003c\\u002fextra\\u003e\",\"legendgroup\":\"GOOGL\",\"marker\":{\"color\":\"#19d3f3\",\"pattern\":{\"shape\":\"\"}},\"name\":\"GOOGL\",\"offsetgroup\":\"GOOGL\",\"orientation\":\"v\",\"showlegend\":true,\"textposition\":\"auto\",\"x\":[\"GOOGL\"],\"xaxis\":\"x\",\"y\":[1257203557738.0312],\"yaxis\":\"y\",\"type\":\"bar\"},{\"alignmentgroup\":\"True\",\"hovertemplate\":\"Ticker=%{x}\\u003cbr\\u003eDate=2022-11-15 05:00:00+00:00\\u003cbr\\u003eMarketCap=%{y}\\u003cextra\\u003e\\u003c\\u002fextra\\u003e\",\"legendgroup\":\"META\",\"marker\":{\"color\":\"#FF6692\",\"pattern\":{\"shape\":\"\"}},\"name\":\"META\",\"offsetgroup\":\"META\",\"orientation\":\"v\",\"showlegend\":true,\"textposition\":\"auto\",\"x\":[\"META\"],\"xaxis\":\"x\",\"y\":[317468834454.7383],\"yaxis\":\"y\",\"type\":\"bar\"},{\"alignmentgroup\":\"True\",\"hovertemplate\":\"Ticker=%{x}\\u003cbr\\u003eDate=2022-11-15 05:00:00+00:00\\u003cbr\\u003eMarketCap=%{y}\\u003cextra\\u003e\\u003c\\u002fextra\\u003e\",\"legendgroup\":\"MSFT\",\"marker\":{\"color\":\"#B6E880\",\"pattern\":{\"shape\":\"\"}},\"name\":\"MSFT\",\"offsetgroup\":\"MSFT\",\"orientation\":\"v\",\"showlegend\":true,\"textposition\":\"auto\",\"x\":[\"MSFT\"],\"xaxis\":\"x\",\"y\":[1900264936038.7734],\"yaxis\":\"y\",\"type\":\"bar\"},{\"alignmentgroup\":\"True\",\"hovertemplate\":\"Ticker=%{x}\\u003cbr\\u003eDate=2022-11-15 05:00:00+00:00\\u003cbr\\u003eMarketCap=%{y}\\u003cextra\\u003e\\u003c\\u002fextra\\u003e\",\"legendgroup\":\"TCEHY\",\"marker\":{\"color\":\"#FF97FF\",\"pattern\":{\"shape\":\"\"}},\"name\":\"TCEHY\",\"offsetgroup\":\"TCEHY\",\"orientation\":\"v\",\"showlegend\":true,\"textposition\":\"auto\",\"x\":[\"TCEHY\"],\"xaxis\":\"x\",\"y\":[320458595700.6211],\"yaxis\":\"y\",\"type\":\"bar\"},{\"alignmentgroup\":\"True\",\"hovertemplate\":\"Ticker=%{x}\\u003cbr\\u003eDate=2022-11-15 05:00:00+00:00\\u003cbr\\u003eMarketCap=%{y}\\u003cextra\\u003e\\u003c\\u002fextra\\u003e\",\"legendgroup\":\"TSLA\",\"marker\":{\"color\":\"#FECB52\",\"pattern\":{\"shape\":\"\"}},\"name\":\"TSLA\",\"offsetgroup\":\"TSLA\",\"orientation\":\"v\",\"showlegend\":true,\"textposition\":\"auto\",\"x\":[\"TSLA\"],\"xaxis\":\"x\",\"y\":[635925187719.1445],\"yaxis\":\"y\",\"type\":\"bar\"}],\"name\":\"2022-11-15 05:00:00+00:00\"},{\"data\":[{\"alignmentgroup\":\"True\",\"hovertemplate\":\"Ticker=%{x}\\u003cbr\\u003eDate=2023-02-22 17:00:00+00:00\\u003cbr\\u003eMarketCap=%{y}\\u003cextra\\u003e\\u003c\\u002fextra\\u003e\",\"legendgroup\":\"AAPL\",\"marker\":{\"color\":\"#636efa\",\"pattern\":{\"shape\":\"\"}},\"name\":\"AAPL\",\"offsetgroup\":\"AAPL\",\"orientation\":\"v\",\"showlegend\":true,\"textposition\":\"auto\",\"x\":[\"AAPL\"],\"xaxis\":\"x\",\"y\":[2130255719537.2031],\"yaxis\":\"y\",\"type\":\"bar\"},{\"alignmentgroup\":\"True\",\"hovertemplate\":\"Ticker=%{x}\\u003cbr\\u003eDate=2023-02-22 17:00:00+00:00\\u003cbr\\u003eMarketCap=%{y}\\u003cextra\\u003e\\u003c\\u002fextra\\u003e\",\"legendgroup\":\"AMD\",\"marker\":{\"color\":\"#EF553B\",\"pattern\":{\"shape\":\"\"}},\"name\":\"AMD\",\"offsetgroup\":\"AMD\",\"orientation\":\"v\",\"showlegend\":true,\"textposition\":\"auto\",\"x\":[\"AMD\"],\"xaxis\":\"x\",\"y\":[117548422875.2168],\"yaxis\":\"y\",\"type\":\"bar\"},{\"alignmentgroup\":\"True\",\"hovertemplate\":\"Ticker=%{x}\\u003cbr\\u003eDate=2023-02-22 17:00:00+00:00\\u003cbr\\u003eMarketCap=%{y}\\u003cextra\\u003e\\u003c\\u002fextra\\u003e\",\"legendgroup\":\"AMZN\",\"marker\":{\"color\":\"#00cc96\",\"pattern\":{\"shape\":\"\"}},\"name\":\"AMZN\",\"offsetgroup\":\"AMZN\",\"orientation\":\"v\",\"showlegend\":true,\"textposition\":\"auto\",\"x\":[\"AMZN\"],\"xaxis\":\"x\",\"y\":[1030980868913.0156],\"yaxis\":\"y\",\"type\":\"bar\"},{\"alignmentgroup\":\"True\",\"hovertemplate\":\"Ticker=%{x}\\u003cbr\\u003eDate=2023-02-22 17:00:00+00:00\\u003cbr\\u003eMarketCap=%{y}\\u003cextra\\u003e\\u003c\\u002fextra\\u003e\",\"legendgroup\":\"BABA\",\"marker\":{\"color\":\"#ab63fa\",\"pattern\":{\"shape\":\"\"}},\"name\":\"BABA\",\"offsetgroup\":\"BABA\",\"orientation\":\"v\",\"showlegend\":true,\"textposition\":\"auto\",\"x\":[\"BABA\"],\"xaxis\":\"x\",\"y\":[256504047881.03903],\"yaxis\":\"y\",\"type\":\"bar\"},{\"alignmentgroup\":\"True\",\"hovertemplate\":\"Ticker=%{x}\\u003cbr\\u003eDate=2023-02-22 17:00:00+00:00\\u003cbr\\u003eMarketCap=%{y}\\u003cextra\\u003e\\u003c\\u002fextra\\u003e\",\"legendgroup\":\"BIDU\",\"marker\":{\"color\":\"#FFA15A\",\"pattern\":{\"shape\":\"\"}},\"name\":\"BIDU\",\"offsetgroup\":\"BIDU\",\"orientation\":\"v\",\"showlegend\":true,\"textposition\":\"auto\",\"x\":[\"BIDU\"],\"xaxis\":\"x\",\"y\":[49712666534.42163],\"yaxis\":\"y\",\"type\":\"bar\"},{\"alignmentgroup\":\"True\",\"hovertemplate\":\"Ticker=%{x}\\u003cbr\\u003eDate=2023-02-22 17:00:00+00:00\\u003cbr\\u003eMarketCap=%{y}\\u003cextra\\u003e\\u003c\\u002fextra\\u003e\",\"legendgroup\":\"GOOGL\",\"marker\":{\"color\":\"#19d3f3\",\"pattern\":{\"shape\":\"\"}},\"name\":\"GOOGL\",\"offsetgroup\":\"GOOGL\",\"orientation\":\"v\",\"showlegend\":true,\"textposition\":\"auto\",\"x\":[\"GOOGL\"],\"xaxis\":\"x\",\"y\":[1260492309032.5664],\"yaxis\":\"y\",\"type\":\"bar\"},{\"alignmentgroup\":\"True\",\"hovertemplate\":\"Ticker=%{x}\\u003cbr\\u003eDate=2023-02-22 17:00:00+00:00\\u003cbr\\u003eMarketCap=%{y}\\u003cextra\\u003e\\u003c\\u002fextra\\u003e\",\"legendgroup\":\"META\",\"marker\":{\"color\":\"#FF6692\",\"pattern\":{\"shape\":\"\"}},\"name\":\"META\",\"offsetgroup\":\"META\",\"orientation\":\"v\",\"showlegend\":true,\"textposition\":\"auto\",\"x\":[\"META\"],\"xaxis\":\"x\",\"y\":[503257351982.4219],\"yaxis\":\"y\",\"type\":\"bar\"},{\"alignmentgroup\":\"True\",\"hovertemplate\":\"Ticker=%{x}\\u003cbr\\u003eDate=2023-02-22 17:00:00+00:00\\u003cbr\\u003eMarketCap=%{y}\\u003cextra\\u003e\\u003c\\u002fextra\\u003e\",\"legendgroup\":\"MSFT\",\"marker\":{\"color\":\"#B6E880\",\"pattern\":{\"shape\":\"\"}},\"name\":\"MSFT\",\"offsetgroup\":\"MSFT\",\"orientation\":\"v\",\"showlegend\":true,\"textposition\":\"auto\",\"x\":[\"MSFT\"],\"xaxis\":\"x\",\"y\":[1834901372694.375],\"yaxis\":\"y\",\"type\":\"bar\"},{\"alignmentgroup\":\"True\",\"hovertemplate\":\"Ticker=%{x}\\u003cbr\\u003eDate=2023-02-22 17:00:00+00:00\\u003cbr\\u003eMarketCap=%{y}\\u003cextra\\u003e\\u003c\\u002fextra\\u003e\",\"legendgroup\":\"TCEHY\",\"marker\":{\"color\":\"#FF97FF\",\"pattern\":{\"shape\":\"\"}},\"name\":\"TCEHY\",\"offsetgroup\":\"TCEHY\",\"orientation\":\"v\",\"showlegend\":true,\"textposition\":\"auto\",\"x\":[\"TCEHY\"],\"xaxis\":\"x\",\"y\":[453094649335.9688],\"yaxis\":\"y\",\"type\":\"bar\"},{\"alignmentgroup\":\"True\",\"hovertemplate\":\"Ticker=%{x}\\u003cbr\\u003eDate=2023-02-22 17:00:00+00:00\\u003cbr\\u003eMarketCap=%{y}\\u003cextra\\u003e\\u003c\\u002fextra\\u003e\",\"legendgroup\":\"TSLA\",\"marker\":{\"color\":\"#FECB52\",\"pattern\":{\"shape\":\"\"}},\"name\":\"TSLA\",\"offsetgroup\":\"TSLA\",\"orientation\":\"v\",\"showlegend\":true,\"textposition\":\"auto\",\"x\":[\"TSLA\"],\"xaxis\":\"x\",\"y\":[582605766126.1875],\"yaxis\":\"y\",\"type\":\"bar\"}],\"name\":\"2023-02-22 17:00:00+00:00\"},{\"data\":[{\"alignmentgroup\":\"True\",\"hovertemplate\":\"Ticker=%{x}\\u003cbr\\u003eDate=2023-05-22 04:00:00+00:00\\u003cbr\\u003eMarketCap=%{y}\\u003cextra\\u003e\\u003c\\u002fextra\\u003e\",\"legendgroup\":\"AAPL\",\"marker\":{\"color\":\"#636efa\",\"pattern\":{\"shape\":\"\"}},\"name\":\"AAPL\",\"offsetgroup\":\"AAPL\",\"orientation\":\"v\",\"showlegend\":true,\"textposition\":\"auto\",\"x\":[\"AAPL\"],\"xaxis\":\"x\",\"y\":[2699231808103.1875],\"yaxis\":\"y\",\"type\":\"bar\"},{\"alignmentgroup\":\"True\",\"hovertemplate\":\"Ticker=%{x}\\u003cbr\\u003eDate=2023-05-22 04:00:00+00:00\\u003cbr\\u003eMarketCap=%{y}\\u003cextra\\u003e\\u003c\\u002fextra\\u003e\",\"legendgroup\":\"AMD\",\"marker\":{\"color\":\"#EF553B\",\"pattern\":{\"shape\":\"\"}},\"name\":\"AMD\",\"offsetgroup\":\"AMD\",\"orientation\":\"v\",\"showlegend\":true,\"textposition\":\"auto\",\"x\":[\"AMD\"],\"xaxis\":\"x\",\"y\":[155473906280.5327],\"yaxis\":\"y\",\"type\":\"bar\"},{\"alignmentgroup\":\"True\",\"hovertemplate\":\"Ticker=%{x}\\u003cbr\\u003eDate=2023-05-22 04:00:00+00:00\\u003cbr\\u003eMarketCap=%{y}\\u003cextra\\u003e\\u003c\\u002fextra\\u003e\",\"legendgroup\":\"AMZN\",\"marker\":{\"color\":\"#00cc96\",\"pattern\":{\"shape\":\"\"}},\"name\":\"AMZN\",\"offsetgroup\":\"AMZN\",\"orientation\":\"v\",\"showlegend\":true,\"textposition\":\"auto\",\"x\":[\"AMZN\"],\"xaxis\":\"x\",\"y\":[1074354360215.9688],\"yaxis\":\"y\",\"type\":\"bar\"},{\"alignmentgroup\":\"True\",\"hovertemplate\":\"Ticker=%{x}\\u003cbr\\u003eDate=2023-05-22 04:00:00+00:00\\u003cbr\\u003eMarketCap=%{y}\\u003cextra\\u003e\\u003c\\u002fextra\\u003e\",\"legendgroup\":\"BABA\",\"marker\":{\"color\":\"#ab63fa\",\"pattern\":{\"shape\":\"\"}},\"name\":\"BABA\",\"offsetgroup\":\"BABA\",\"orientation\":\"v\",\"showlegend\":true,\"textposition\":\"auto\",\"x\":[\"BABA\"],\"xaxis\":\"x\",\"y\":[224680210582.00195],\"yaxis\":\"y\",\"type\":\"bar\"},{\"alignmentgroup\":\"True\",\"hovertemplate\":\"Ticker=%{x}\\u003cbr\\u003eDate=2023-05-22 04:00:00+00:00\\u003cbr\\u003eMarketCap=%{y}\\u003cextra\\u003e\\u003c\\u002fextra\\u003e\",\"legendgroup\":\"BIDU\",\"marker\":{\"color\":\"#FFA15A\",\"pattern\":{\"shape\":\"\"}},\"name\":\"BIDU\",\"offsetgroup\":\"BIDU\",\"orientation\":\"v\",\"showlegend\":true,\"textposition\":\"auto\",\"x\":[\"BIDU\"],\"xaxis\":\"x\",\"y\":[45723788236.53223],\"yaxis\":\"y\",\"type\":\"bar\"},{\"alignmentgroup\":\"True\",\"hovertemplate\":\"Ticker=%{x}\\u003cbr\\u003eDate=2023-05-22 04:00:00+00:00\\u003cbr\\u003eMarketCap=%{y}\\u003cextra\\u003e\\u003c\\u002fextra\\u003e\",\"legendgroup\":\"GOOGL\",\"marker\":{\"color\":\"#19d3f3\",\"pattern\":{\"shape\":\"\"}},\"name\":\"GOOGL\",\"offsetgroup\":\"GOOGL\",\"orientation\":\"v\",\"showlegend\":true,\"textposition\":\"auto\",\"x\":[\"GOOGL\"],\"xaxis\":\"x\",\"y\":[1421750542848.0],\"yaxis\":\"y\",\"type\":\"bar\"},{\"alignmentgroup\":\"True\",\"hovertemplate\":\"Ticker=%{x}\\u003cbr\\u003eDate=2023-05-22 04:00:00+00:00\\u003cbr\\u003eMarketCap=%{y}\\u003cextra\\u003e\\u003c\\u002fextra\\u003e\",\"legendgroup\":\"META\",\"marker\":{\"color\":\"#FF6692\",\"pattern\":{\"shape\":\"\"}},\"name\":\"META\",\"offsetgroup\":\"META\",\"orientation\":\"v\",\"showlegend\":true,\"textposition\":\"auto\",\"x\":[\"META\"],\"xaxis\":\"x\",\"y\":[605018259572.7539],\"yaxis\":\"y\",\"type\":\"bar\"},{\"alignmentgroup\":\"True\",\"hovertemplate\":\"Ticker=%{x}\\u003cbr\\u003eDate=2023-05-22 04:00:00+00:00\\u003cbr\\u003eMarketCap=%{y}\\u003cextra\\u003e\\u003c\\u002fextra\\u003e\",\"legendgroup\":\"MSFT\",\"marker\":{\"color\":\"#B6E880\",\"pattern\":{\"shape\":\"\"}},\"name\":\"MSFT\",\"offsetgroup\":\"MSFT\",\"orientation\":\"v\",\"showlegend\":true,\"textposition\":\"auto\",\"x\":[\"MSFT\"],\"xaxis\":\"x\",\"y\":[2258153015410.1406],\"yaxis\":\"y\",\"type\":\"bar\"},{\"alignmentgroup\":\"True\",\"hovertemplate\":\"Ticker=%{x}\\u003cbr\\u003eDate=2023-05-22 04:00:00+00:00\\u003cbr\\u003eMarketCap=%{y}\\u003cextra\\u003e\\u003c\\u002fextra\\u003e\",\"legendgroup\":\"TCEHY\",\"marker\":{\"color\":\"#FF97FF\",\"pattern\":{\"shape\":\"\"}},\"name\":\"TCEHY\",\"offsetgroup\":\"TCEHY\",\"orientation\":\"v\",\"showlegend\":true,\"textposition\":\"auto\",\"x\":[\"TCEHY\"],\"xaxis\":\"x\",\"y\":[417969867151.40234],\"yaxis\":\"y\",\"type\":\"bar\"},{\"alignmentgroup\":\"True\",\"hovertemplate\":\"Ticker=%{x}\\u003cbr\\u003eDate=2023-05-22 04:00:00+00:00\\u003cbr\\u003eMarketCap=%{y}\\u003cextra\\u003e\\u003c\\u002fextra\\u003e\",\"legendgroup\":\"TSLA\",\"marker\":{\"color\":\"#FECB52\",\"pattern\":{\"shape\":\"\"}},\"name\":\"TSLA\",\"offsetgroup\":\"TSLA\",\"orientation\":\"v\",\"showlegend\":true,\"textposition\":\"auto\",\"x\":[\"TSLA\"],\"xaxis\":\"x\",\"y\":[557394500442.0293],\"yaxis\":\"y\",\"type\":\"bar\"}],\"name\":\"2023-05-22 04:00:00+00:00\"},{\"data\":[{\"alignmentgroup\":\"True\",\"hovertemplate\":\"Ticker=%{x}\\u003cbr\\u003eDate=2023-08-25 04:00:00+00:00\\u003cbr\\u003eMarketCap=%{y}\\u003cextra\\u003e\\u003c\\u002fextra\\u003e\",\"legendgroup\":\"AAPL\",\"marker\":{\"color\":\"#636efa\",\"pattern\":{\"shape\":\"\"}},\"name\":\"AAPL\",\"offsetgroup\":\"AAPL\",\"orientation\":\"v\",\"showlegend\":true,\"textposition\":\"auto\",\"x\":[\"AAPL\"],\"xaxis\":\"x\",\"y\":[3006708878170.6562],\"yaxis\":\"y\",\"type\":\"bar\"},{\"alignmentgroup\":\"True\",\"hovertemplate\":\"Ticker=%{x}\\u003cbr\\u003eDate=2023-08-25 04:00:00+00:00\\u003cbr\\u003eMarketCap=%{y}\\u003cextra\\u003e\\u003c\\u002fextra\\u003e\",\"legendgroup\":\"AMD\",\"marker\":{\"color\":\"#EF553B\",\"pattern\":{\"shape\":\"\"}},\"name\":\"AMD\",\"offsetgroup\":\"AMD\",\"orientation\":\"v\",\"showlegend\":true,\"textposition\":\"auto\",\"x\":[\"AMD\"],\"xaxis\":\"x\",\"y\":[173127117628.03613],\"yaxis\":\"y\",\"type\":\"bar\"},{\"alignmentgroup\":\"True\",\"hovertemplate\":\"Ticker=%{x}\\u003cbr\\u003eDate=2023-08-25 04:00:00+00:00\\u003cbr\\u003eMarketCap=%{y}\\u003cextra\\u003e\\u003c\\u002fextra\\u003e\",\"legendgroup\":\"AMZN\",\"marker\":{\"color\":\"#00cc96\",\"pattern\":{\"shape\":\"\"}},\"name\":\"AMZN\",\"offsetgroup\":\"AMZN\",\"orientation\":\"v\",\"showlegend\":true,\"textposition\":\"auto\",\"x\":[\"AMZN\"],\"xaxis\":\"x\",\"y\":[1381568239323.3281],\"yaxis\":\"y\",\"type\":\"bar\"},{\"alignmentgroup\":\"True\",\"hovertemplate\":\"Ticker=%{x}\\u003cbr\\u003eDate=2023-08-25 04:00:00+00:00\\u003cbr\\u003eMarketCap=%{y}\\u003cextra\\u003e\\u003c\\u002fextra\\u003e\",\"legendgroup\":\"BABA\",\"marker\":{\"color\":\"#ab63fa\",\"pattern\":{\"shape\":\"\"}},\"name\":\"BABA\",\"offsetgroup\":\"BABA\",\"orientation\":\"v\",\"showlegend\":true,\"textposition\":\"auto\",\"x\":[\"BABA\"],\"xaxis\":\"x\",\"y\":[227103742739.68945],\"yaxis\":\"y\",\"type\":\"bar\"},{\"alignmentgroup\":\"True\",\"hovertemplate\":\"Ticker=%{x}\\u003cbr\\u003eDate=2023-08-25 04:00:00+00:00\\u003cbr\\u003eMarketCap=%{y}\\u003cextra\\u003e\\u003c\\u002fextra\\u003e\",\"legendgroup\":\"BIDU\",\"marker\":{\"color\":\"#FFA15A\",\"pattern\":{\"shape\":\"\"}},\"name\":\"BIDU\",\"offsetgroup\":\"BIDU\",\"orientation\":\"v\",\"showlegend\":true,\"textposition\":\"auto\",\"x\":[\"BIDU\"],\"xaxis\":\"x\",\"y\":[47811974679.760254],\"yaxis\":\"y\",\"type\":\"bar\"},{\"alignmentgroup\":\"True\",\"hovertemplate\":\"Ticker=%{x}\\u003cbr\\u003eDate=2023-08-25 04:00:00+00:00\\u003cbr\\u003eMarketCap=%{y}\\u003cextra\\u003e\\u003c\\u002fextra\\u003e\",\"legendgroup\":\"GOOGL\",\"marker\":{\"color\":\"#19d3f3\",\"pattern\":{\"shape\":\"\"}},\"name\":\"GOOGL\",\"offsetgroup\":\"GOOGL\",\"orientation\":\"v\",\"showlegend\":true,\"textposition\":\"auto\",\"x\":[\"GOOGL\"],\"xaxis\":\"x\",\"y\":[1649531264440.5],\"yaxis\":\"y\",\"type\":\"bar\"},{\"alignmentgroup\":\"True\",\"hovertemplate\":\"Ticker=%{x}\\u003cbr\\u003eDate=2023-08-25 04:00:00+00:00\\u003cbr\\u003eMarketCap=%{y}\\u003cextra\\u003e\\u003c\\u002fextra\\u003e\",\"legendgroup\":\"META\",\"marker\":{\"color\":\"#FF6692\",\"pattern\":{\"shape\":\"\"}},\"name\":\"META\",\"offsetgroup\":\"META\",\"orientation\":\"v\",\"showlegend\":true,\"textposition\":\"auto\",\"x\":[\"META\"],\"xaxis\":\"x\",\"y\":[759907991092.625],\"yaxis\":\"y\",\"type\":\"bar\"},{\"alignmentgroup\":\"True\",\"hovertemplate\":\"Ticker=%{x}\\u003cbr\\u003eDate=2023-08-25 04:00:00+00:00\\u003cbr\\u003eMarketCap=%{y}\\u003cextra\\u003e\\u003c\\u002fextra\\u003e\",\"legendgroup\":\"MSFT\",\"marker\":{\"color\":\"#B6E880\",\"pattern\":{\"shape\":\"\"}},\"name\":\"MSFT\",\"offsetgroup\":\"MSFT\",\"orientation\":\"v\",\"showlegend\":true,\"textposition\":\"auto\",\"x\":[\"MSFT\"],\"xaxis\":\"x\",\"y\":[2520614474828.7344],\"yaxis\":\"y\",\"type\":\"bar\"},{\"alignmentgroup\":\"True\",\"hovertemplate\":\"Ticker=%{x}\\u003cbr\\u003eDate=2023-08-25 04:00:00+00:00\\u003cbr\\u003eMarketCap=%{y}\\u003cextra\\u003e\\u003c\\u002fextra\\u003e\",\"legendgroup\":\"TCEHY\",\"marker\":{\"color\":\"#FF97FF\",\"pattern\":{\"shape\":\"\"}},\"name\":\"TCEHY\",\"offsetgroup\":\"TCEHY\",\"orientation\":\"v\",\"showlegend\":true,\"textposition\":\"auto\",\"x\":[\"TCEHY\"],\"xaxis\":\"x\",\"y\":[394481874112.77344],\"yaxis\":\"y\",\"type\":\"bar\"},{\"alignmentgroup\":\"True\",\"hovertemplate\":\"Ticker=%{x}\\u003cbr\\u003eDate=2023-08-25 04:00:00+00:00\\u003cbr\\u003eMarketCap=%{y}\\u003cextra\\u003e\\u003c\\u002fextra\\u003e\",\"legendgroup\":\"TSLA\",\"marker\":{\"color\":\"#FECB52\",\"pattern\":{\"shape\":\"\"}},\"name\":\"TSLA\",\"offsetgroup\":\"TSLA\",\"orientation\":\"v\",\"showlegend\":true,\"textposition\":\"auto\",\"x\":[\"TSLA\"],\"xaxis\":\"x\",\"y\":[833261505416.5078],\"yaxis\":\"y\",\"type\":\"bar\"}],\"name\":\"2023-08-25 04:00:00+00:00\"},{\"data\":[{\"alignmentgroup\":\"True\",\"hovertemplate\":\"Ticker=%{x}\\u003cbr\\u003eDate=2023-11-07 17:00:00+00:00\\u003cbr\\u003eMarketCap=%{y}\\u003cextra\\u003e\\u003c\\u002fextra\\u003e\",\"legendgroup\":\"AAPL\",\"marker\":{\"color\":\"#636efa\",\"pattern\":{\"shape\":\"\"}},\"name\":\"AAPL\",\"offsetgroup\":\"AAPL\",\"orientation\":\"v\",\"showlegend\":true,\"textposition\":\"auto\",\"x\":[\"AAPL\"],\"xaxis\":\"x\",\"y\":[2790475131005.8594],\"yaxis\":\"y\",\"type\":\"bar\"},{\"alignmentgroup\":\"True\",\"hovertemplate\":\"Ticker=%{x}\\u003cbr\\u003eDate=2023-11-07 17:00:00+00:00\\u003cbr\\u003eMarketCap=%{y}\\u003cextra\\u003e\\u003c\\u002fextra\\u003e\",\"legendgroup\":\"AMD\",\"marker\":{\"color\":\"#EF553B\",\"pattern\":{\"shape\":\"\"}},\"name\":\"AMD\",\"offsetgroup\":\"AMD\",\"orientation\":\"v\",\"showlegend\":true,\"textposition\":\"auto\",\"x\":[\"AMD\"],\"xaxis\":\"x\",\"y\":[188722713245.2285],\"yaxis\":\"y\",\"type\":\"bar\"},{\"alignmentgroup\":\"True\",\"hovertemplate\":\"Ticker=%{x}\\u003cbr\\u003eDate=2023-11-07 17:00:00+00:00\\u003cbr\\u003eMarketCap=%{y}\\u003cextra\\u003e\\u003c\\u002fextra\\u003e\",\"legendgroup\":\"AMZN\",\"marker\":{\"color\":\"#00cc96\",\"pattern\":{\"shape\":\"\"}},\"name\":\"AMZN\",\"offsetgroup\":\"AMZN\",\"orientation\":\"v\",\"showlegend\":true,\"textposition\":\"auto\",\"x\":[\"AMZN\"],\"xaxis\":\"x\",\"y\":[1367616633006.8438],\"yaxis\":\"y\",\"type\":\"bar\"},{\"alignmentgroup\":\"True\",\"hovertemplate\":\"Ticker=%{x}\\u003cbr\\u003eDate=2023-11-07 17:00:00+00:00\\u003cbr\\u003eMarketCap=%{y}\\u003cextra\\u003e\\u003c\\u002fextra\\u003e\",\"legendgroup\":\"BABA\",\"marker\":{\"color\":\"#ab63fa\",\"pattern\":{\"shape\":\"\"}},\"name\":\"BABA\",\"offsetgroup\":\"BABA\",\"orientation\":\"v\",\"showlegend\":true,\"textposition\":\"auto\",\"x\":[\"BABA\"],\"xaxis\":\"x\",\"y\":[210924310872.06445],\"yaxis\":\"y\",\"type\":\"bar\"},{\"alignmentgroup\":\"True\",\"hovertemplate\":\"Ticker=%{x}\\u003cbr\\u003eDate=2023-11-07 17:00:00+00:00\\u003cbr\\u003eMarketCap=%{y}\\u003cextra\\u003e\\u003c\\u002fextra\\u003e\",\"legendgroup\":\"BIDU\",\"marker\":{\"color\":\"#FFA15A\",\"pattern\":{\"shape\":\"\"}},\"name\":\"BIDU\",\"offsetgroup\":\"BIDU\",\"orientation\":\"v\",\"showlegend\":true,\"textposition\":\"auto\",\"x\":[\"BIDU\"],\"xaxis\":\"x\",\"y\":[39312628474.67041],\"yaxis\":\"y\",\"type\":\"bar\"},{\"alignmentgroup\":\"True\",\"hovertemplate\":\"Ticker=%{x}\\u003cbr\\u003eDate=2023-11-07 17:00:00+00:00\\u003cbr\\u003eMarketCap=%{y}\\u003cextra\\u003e\\u003c\\u002fextra\\u003e\",\"legendgroup\":\"GOOGL\",\"marker\":{\"color\":\"#19d3f3\",\"pattern\":{\"shape\":\"\"}},\"name\":\"GOOGL\",\"offsetgroup\":\"GOOGL\",\"orientation\":\"v\",\"showlegend\":true,\"textposition\":\"auto\",\"x\":[\"GOOGL\"],\"xaxis\":\"x\",\"y\":[1691258011832.6875],\"yaxis\":\"y\",\"type\":\"bar\"},{\"alignmentgroup\":\"True\",\"hovertemplate\":\"Ticker=%{x}\\u003cbr\\u003eDate=2023-11-07 17:00:00+00:00\\u003cbr\\u003eMarketCap=%{y}\\u003cextra\\u003e\\u003c\\u002fextra\\u003e\",\"legendgroup\":\"META\",\"marker\":{\"color\":\"#FF6692\",\"pattern\":{\"shape\":\"\"}},\"name\":\"META\",\"offsetgroup\":\"META\",\"orientation\":\"v\",\"showlegend\":true,\"textposition\":\"auto\",\"x\":[\"META\"],\"xaxis\":\"x\",\"y\":[819322814628.9375],\"yaxis\":\"y\",\"type\":\"bar\"},{\"alignmentgroup\":\"True\",\"hovertemplate\":\"Ticker=%{x}\\u003cbr\\u003eDate=2023-11-07 17:00:00+00:00\\u003cbr\\u003eMarketCap=%{y}\\u003cextra\\u003e\\u003c\\u002fextra\\u003e\",\"legendgroup\":\"MSFT\",\"marker\":{\"color\":\"#B6E880\",\"pattern\":{\"shape\":\"\"}},\"name\":\"MSFT\",\"offsetgroup\":\"MSFT\",\"orientation\":\"v\",\"showlegend\":true,\"textposition\":\"auto\",\"x\":[\"MSFT\"],\"xaxis\":\"x\",\"y\":[2708164701925.0312],\"yaxis\":\"y\",\"type\":\"bar\"},{\"alignmentgroup\":\"True\",\"hovertemplate\":\"Ticker=%{x}\\u003cbr\\u003eDate=2023-11-07 17:00:00+00:00\\u003cbr\\u003eMarketCap=%{y}\\u003cextra\\u003e\\u003c\\u002fextra\\u003e\",\"legendgroup\":\"TCEHY\",\"marker\":{\"color\":\"#FF97FF\",\"pattern\":{\"shape\":\"\"}},\"name\":\"TCEHY\",\"offsetgroup\":\"TCEHY\",\"orientation\":\"v\",\"showlegend\":true,\"textposition\":\"auto\",\"x\":[\"TCEHY\"],\"xaxis\":\"x\",\"y\":[377960451997.1875],\"yaxis\":\"y\",\"type\":\"bar\"},{\"alignmentgroup\":\"True\",\"hovertemplate\":\"Ticker=%{x}\\u003cbr\\u003eDate=2023-11-07 17:00:00+00:00\\u003cbr\\u003eMarketCap=%{y}\\u003cextra\\u003e\\u003c\\u002fextra\\u003e\",\"legendgroup\":\"TSLA\",\"marker\":{\"color\":\"#FECB52\",\"pattern\":{\"shape\":\"\"}},\"name\":\"TSLA\",\"offsetgroup\":\"TSLA\",\"orientation\":\"v\",\"showlegend\":true,\"textposition\":\"auto\",\"x\":[\"TSLA\"],\"xaxis\":\"x\",\"y\":[759221454135.6562],\"yaxis\":\"y\",\"type\":\"bar\"}],\"name\":\"2023-11-07 17:00:00+00:00\"}]);\n",
       "                        }).then(function(){\n",
       "                            \n",
       "var gd = document.getElementById('2363b2fd-b7fb-4eef-a4dc-f3c2ff1a97dc');\n",
       "var x = new MutationObserver(function (mutations, observer) {{\n",
       "        var display = window.getComputedStyle(gd).display;\n",
       "        if (!display || display === 'none') {{\n",
       "            console.log([gd, 'removed!']);\n",
       "            Plotly.purge(gd);\n",
       "            observer.disconnect();\n",
       "        }}\n",
       "}});\n",
       "\n",
       "// Listen for the removal of the full notebook cells\n",
       "var notebookContainer = gd.closest('#notebook-container');\n",
       "if (notebookContainer) {{\n",
       "    x.observe(notebookContainer, {childList: true});\n",
       "}}\n",
       "\n",
       "// Listen for the clearing of the current output cell\n",
       "var outputEl = gd.closest('.output');\n",
       "if (outputEl) {{\n",
       "    x.observe(outputEl, {childList: true});\n",
       "}}\n",
       "\n",
       "                        })                };                });            </script>        </div>"
      ]
     },
     "metadata": {},
     "output_type": "display_data"
    }
   ],
   "source": [
    "fig = px.bar(\n",
    "    periodic,\n",
    "    x=\"Ticker\",\n",
    "    y=\"MarketCap\",\n",
    "    color=\"Ticker\",\n",
    "    barmode=\"group\",  # 將所有的 bar 並肩\n",
    "    animation_frame=\"Date\",  # 每個影格會根據 Date 來變化\n",
    "    # range_y=[0, periodic[\"MarketCap\"].max()],\n",
    "    title=\"Yahoo Finance Market Cap\",\n",
    "    category_orders={\"Ticker\": sorted(periodic[\"Ticker\"].unique())},  # 按照字母順序排列\n",
    "    height=600,\n",
    ")\n",
    "fig.update_traces(width=1)  # 設定 bar 的寬度\n",
    "fig.update_layout(\n",
    "    bargap=1,\n",
    ") # 設定 bar 之間的間隔\n",
    "fig.show()"
   ]
  },
  {
   "cell_type": "code",
   "execution_count": null,
   "metadata": {},
   "outputs": [],
   "source": []
  }
 ],
 "metadata": {
  "kernelspec": {
   "display_name": "scrape",
   "language": "python",
   "name": "python3"
  },
  "language_info": {
   "codemirror_mode": {
    "name": "ipython",
    "version": 3
   },
   "file_extension": ".py",
   "mimetype": "text/x-python",
   "name": "python",
   "nbconvert_exporter": "python",
   "pygments_lexer": "ipython3",
   "version": "3.10.13"
  }
 },
 "nbformat": 4,
 "nbformat_minor": 2
}
